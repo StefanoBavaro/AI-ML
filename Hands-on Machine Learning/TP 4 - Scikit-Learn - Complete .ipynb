{
 "cells": [
  {
   "cell_type": "markdown",
   "id": "radio-rating",
   "metadata": {},
   "source": [
    "# Scikit-Learn"
   ]
  },
  {
   "cell_type": "markdown",
   "id": "middle-impossible",
   "metadata": {},
   "source": [
    "## Exploratory analysis"
   ]
  },
  {
   "cell_type": "markdown",
   "id": "decreased-auction",
   "metadata": {},
   "source": [
    "https://scikit-learn.org/stable/datasets/toy_dataset.html#iris-plants-dataset"
   ]
  },
  {
   "cell_type": "code",
   "execution_count": 1,
   "id": "other-colon",
   "metadata": {},
   "outputs": [],
   "source": [
    "import platform\n",
    "\n",
    "import matplotlib.pyplot as plt\n",
    "import numpy as np\n",
    "import pandas as pd\n",
    "import sklearn\n",
    "from matplotlib.colors import ListedColormap\n",
    "from sklearn import (\n",
    "    datasets,\n",
    "    decomposition,\n",
    "    linear_model,\n",
    "    metrics,\n",
    "    model_selection,\n",
    "    naive_bayes,\n",
    "    pipeline,\n",
    ")"
   ]
  },
  {
   "cell_type": "code",
   "execution_count": 2,
   "id": "44bf3f49",
   "metadata": {},
   "outputs": [
    {
     "name": "stdout",
     "output_type": "stream",
     "text": [
      "1.1.3\n"
     ]
    }
   ],
   "source": [
    "\n",
    "if platform.system() == \"Darwin\":\n",
    "    %config InlineBackend.figure_format=\"retina\"  # For high DPI display\n",
    "\n",
    "print(sklearn.__version__)  # Version tested on sklearn.__version__ == 1.1.3"
   ]
  },
  {
   "cell_type": "markdown",
   "id": "heard-joint",
   "metadata": {},
   "source": [
    "---"
   ]
  },
  {
   "cell_type": "markdown",
   "id": "promising-radical",
   "metadata": {},
   "source": [
    "### Exploration with pandas"
   ]
  },
  {
   "cell_type": "markdown",
   "id": "reliable-binary",
   "metadata": {},
   "source": [
    "#### Create the `DataFrame`"
   ]
  },
  {
   "cell_type": "markdown",
   "id": "fourth-paradise",
   "metadata": {},
   "source": [
    "https://scikit-learn.org/stable/datasets/toy_dataset.html#diabetes-dataset\n",
    "\n",
    "Features:\n",
    "\n",
    "* `age`: age in years\n",
    "* `sex`\n",
    "* `bmi`: body mass index\n",
    "* `bp`: average blood pressure\n",
    "* `s1`: tc, total serum cholesterol\n",
    "* `s2`: ldl, low-density lipoproteins\n",
    "* `s3`: hdl, high-density lipoproteins\n",
    "* `s4`: tch, total cholesterol / HDL\n",
    "* `s5`: ltg, possibly log of serum triglycerides level\n",
    "* `s6`: glu, blood sugar level\n",
    "\n",
    "Target:\n",
    "\n",
    "* Quantitative measure of disease progression one year after baseline"
   ]
  },
  {
   "cell_type": "code",
   "execution_count": 3,
   "id": "infinite-vehicle",
   "metadata": {},
   "outputs": [
    {
     "data": {
      "text/html": [
       "<div>\n",
       "<style scoped>\n",
       "    .dataframe tbody tr th:only-of-type {\n",
       "        vertical-align: middle;\n",
       "    }\n",
       "\n",
       "    .dataframe tbody tr th {\n",
       "        vertical-align: top;\n",
       "    }\n",
       "\n",
       "    .dataframe thead th {\n",
       "        text-align: right;\n",
       "    }\n",
       "</style>\n",
       "<table border=\"1\" class=\"dataframe\">\n",
       "  <thead>\n",
       "    <tr style=\"text-align: right;\">\n",
       "      <th></th>\n",
       "      <th>age</th>\n",
       "      <th>sex</th>\n",
       "      <th>bmi</th>\n",
       "      <th>bp</th>\n",
       "      <th>s1</th>\n",
       "      <th>s2</th>\n",
       "      <th>s3</th>\n",
       "      <th>s4</th>\n",
       "      <th>s5</th>\n",
       "      <th>s6</th>\n",
       "      <th>target</th>\n",
       "    </tr>\n",
       "  </thead>\n",
       "  <tbody>\n",
       "    <tr>\n",
       "      <th>0</th>\n",
       "      <td>0.038076</td>\n",
       "      <td>0.050680</td>\n",
       "      <td>0.061696</td>\n",
       "      <td>0.021872</td>\n",
       "      <td>-0.044223</td>\n",
       "      <td>-0.034821</td>\n",
       "      <td>-0.043401</td>\n",
       "      <td>-0.002592</td>\n",
       "      <td>0.019907</td>\n",
       "      <td>-0.017646</td>\n",
       "      <td>151.0</td>\n",
       "    </tr>\n",
       "    <tr>\n",
       "      <th>1</th>\n",
       "      <td>-0.001882</td>\n",
       "      <td>-0.044642</td>\n",
       "      <td>-0.051474</td>\n",
       "      <td>-0.026328</td>\n",
       "      <td>-0.008449</td>\n",
       "      <td>-0.019163</td>\n",
       "      <td>0.074412</td>\n",
       "      <td>-0.039493</td>\n",
       "      <td>-0.068332</td>\n",
       "      <td>-0.092204</td>\n",
       "      <td>75.0</td>\n",
       "    </tr>\n",
       "    <tr>\n",
       "      <th>2</th>\n",
       "      <td>0.085299</td>\n",
       "      <td>0.050680</td>\n",
       "      <td>0.044451</td>\n",
       "      <td>-0.005670</td>\n",
       "      <td>-0.045599</td>\n",
       "      <td>-0.034194</td>\n",
       "      <td>-0.032356</td>\n",
       "      <td>-0.002592</td>\n",
       "      <td>0.002861</td>\n",
       "      <td>-0.025930</td>\n",
       "      <td>141.0</td>\n",
       "    </tr>\n",
       "    <tr>\n",
       "      <th>3</th>\n",
       "      <td>-0.089063</td>\n",
       "      <td>-0.044642</td>\n",
       "      <td>-0.011595</td>\n",
       "      <td>-0.036656</td>\n",
       "      <td>0.012191</td>\n",
       "      <td>0.024991</td>\n",
       "      <td>-0.036038</td>\n",
       "      <td>0.034309</td>\n",
       "      <td>0.022688</td>\n",
       "      <td>-0.009362</td>\n",
       "      <td>206.0</td>\n",
       "    </tr>\n",
       "    <tr>\n",
       "      <th>4</th>\n",
       "      <td>0.005383</td>\n",
       "      <td>-0.044642</td>\n",
       "      <td>-0.036385</td>\n",
       "      <td>0.021872</td>\n",
       "      <td>0.003935</td>\n",
       "      <td>0.015596</td>\n",
       "      <td>0.008142</td>\n",
       "      <td>-0.002592</td>\n",
       "      <td>-0.031988</td>\n",
       "      <td>-0.046641</td>\n",
       "      <td>135.0</td>\n",
       "    </tr>\n",
       "    <tr>\n",
       "      <th>...</th>\n",
       "      <td>...</td>\n",
       "      <td>...</td>\n",
       "      <td>...</td>\n",
       "      <td>...</td>\n",
       "      <td>...</td>\n",
       "      <td>...</td>\n",
       "      <td>...</td>\n",
       "      <td>...</td>\n",
       "      <td>...</td>\n",
       "      <td>...</td>\n",
       "      <td>...</td>\n",
       "    </tr>\n",
       "    <tr>\n",
       "      <th>437</th>\n",
       "      <td>0.041708</td>\n",
       "      <td>0.050680</td>\n",
       "      <td>0.019662</td>\n",
       "      <td>0.059744</td>\n",
       "      <td>-0.005697</td>\n",
       "      <td>-0.002566</td>\n",
       "      <td>-0.028674</td>\n",
       "      <td>-0.002592</td>\n",
       "      <td>0.031193</td>\n",
       "      <td>0.007207</td>\n",
       "      <td>178.0</td>\n",
       "    </tr>\n",
       "    <tr>\n",
       "      <th>438</th>\n",
       "      <td>-0.005515</td>\n",
       "      <td>0.050680</td>\n",
       "      <td>-0.015906</td>\n",
       "      <td>-0.067642</td>\n",
       "      <td>0.049341</td>\n",
       "      <td>0.079165</td>\n",
       "      <td>-0.028674</td>\n",
       "      <td>0.034309</td>\n",
       "      <td>-0.018114</td>\n",
       "      <td>0.044485</td>\n",
       "      <td>104.0</td>\n",
       "    </tr>\n",
       "    <tr>\n",
       "      <th>439</th>\n",
       "      <td>0.041708</td>\n",
       "      <td>0.050680</td>\n",
       "      <td>-0.015906</td>\n",
       "      <td>0.017293</td>\n",
       "      <td>-0.037344</td>\n",
       "      <td>-0.013840</td>\n",
       "      <td>-0.024993</td>\n",
       "      <td>-0.011080</td>\n",
       "      <td>-0.046883</td>\n",
       "      <td>0.015491</td>\n",
       "      <td>132.0</td>\n",
       "    </tr>\n",
       "    <tr>\n",
       "      <th>440</th>\n",
       "      <td>-0.045472</td>\n",
       "      <td>-0.044642</td>\n",
       "      <td>0.039062</td>\n",
       "      <td>0.001215</td>\n",
       "      <td>0.016318</td>\n",
       "      <td>0.015283</td>\n",
       "      <td>-0.028674</td>\n",
       "      <td>0.026560</td>\n",
       "      <td>0.044529</td>\n",
       "      <td>-0.025930</td>\n",
       "      <td>220.0</td>\n",
       "    </tr>\n",
       "    <tr>\n",
       "      <th>441</th>\n",
       "      <td>-0.045472</td>\n",
       "      <td>-0.044642</td>\n",
       "      <td>-0.073030</td>\n",
       "      <td>-0.081413</td>\n",
       "      <td>0.083740</td>\n",
       "      <td>0.027809</td>\n",
       "      <td>0.173816</td>\n",
       "      <td>-0.039493</td>\n",
       "      <td>-0.004222</td>\n",
       "      <td>0.003064</td>\n",
       "      <td>57.0</td>\n",
       "    </tr>\n",
       "  </tbody>\n",
       "</table>\n",
       "<p>442 rows × 11 columns</p>\n",
       "</div>"
      ],
      "text/plain": [
       "          age       sex       bmi        bp        s1        s2        s3  \\\n",
       "0    0.038076  0.050680  0.061696  0.021872 -0.044223 -0.034821 -0.043401   \n",
       "1   -0.001882 -0.044642 -0.051474 -0.026328 -0.008449 -0.019163  0.074412   \n",
       "2    0.085299  0.050680  0.044451 -0.005670 -0.045599 -0.034194 -0.032356   \n",
       "3   -0.089063 -0.044642 -0.011595 -0.036656  0.012191  0.024991 -0.036038   \n",
       "4    0.005383 -0.044642 -0.036385  0.021872  0.003935  0.015596  0.008142   \n",
       "..        ...       ...       ...       ...       ...       ...       ...   \n",
       "437  0.041708  0.050680  0.019662  0.059744 -0.005697 -0.002566 -0.028674   \n",
       "438 -0.005515  0.050680 -0.015906 -0.067642  0.049341  0.079165 -0.028674   \n",
       "439  0.041708  0.050680 -0.015906  0.017293 -0.037344 -0.013840 -0.024993   \n",
       "440 -0.045472 -0.044642  0.039062  0.001215  0.016318  0.015283 -0.028674   \n",
       "441 -0.045472 -0.044642 -0.073030 -0.081413  0.083740  0.027809  0.173816   \n",
       "\n",
       "           s4        s5        s6  target  \n",
       "0   -0.002592  0.019907 -0.017646   151.0  \n",
       "1   -0.039493 -0.068332 -0.092204    75.0  \n",
       "2   -0.002592  0.002861 -0.025930   141.0  \n",
       "3    0.034309  0.022688 -0.009362   206.0  \n",
       "4   -0.002592 -0.031988 -0.046641   135.0  \n",
       "..        ...       ...       ...     ...  \n",
       "437 -0.002592  0.031193  0.007207   178.0  \n",
       "438  0.034309 -0.018114  0.044485   104.0  \n",
       "439 -0.011080 -0.046883  0.015491   132.0  \n",
       "440  0.026560  0.044529 -0.025930   220.0  \n",
       "441 -0.039493 -0.004222  0.003064    57.0  \n",
       "\n",
       "[442 rows x 11 columns]"
      ]
     },
     "execution_count": 3,
     "metadata": {},
     "output_type": "execute_result"
    }
   ],
   "source": [
    "diabetes = datasets.load_diabetes()\n",
    "\n",
    "# adding all the features to data frame\n",
    "df = pd.DataFrame(diabetes.data, columns=diabetes.feature_names)\n",
    "df[\"target\"] = diabetes.target\n",
    "df"
   ]
  },
  {
   "cell_type": "markdown",
   "id": "original-shower",
   "metadata": {},
   "source": [
    "#### Descriptions"
   ]
  },
  {
   "cell_type": "code",
   "execution_count": 4,
   "id": "breathing-water",
   "metadata": {},
   "outputs": [
    {
     "data": {
      "text/html": [
       "<div>\n",
       "<style scoped>\n",
       "    .dataframe tbody tr th:only-of-type {\n",
       "        vertical-align: middle;\n",
       "    }\n",
       "\n",
       "    .dataframe tbody tr th {\n",
       "        vertical-align: top;\n",
       "    }\n",
       "\n",
       "    .dataframe thead th {\n",
       "        text-align: right;\n",
       "    }\n",
       "</style>\n",
       "<table border=\"1\" class=\"dataframe\">\n",
       "  <thead>\n",
       "    <tr style=\"text-align: right;\">\n",
       "      <th></th>\n",
       "      <th>age</th>\n",
       "      <th>sex</th>\n",
       "      <th>bmi</th>\n",
       "      <th>bp</th>\n",
       "      <th>s1</th>\n",
       "      <th>s2</th>\n",
       "      <th>s3</th>\n",
       "      <th>s4</th>\n",
       "      <th>s5</th>\n",
       "      <th>s6</th>\n",
       "      <th>target</th>\n",
       "    </tr>\n",
       "  </thead>\n",
       "  <tbody>\n",
       "    <tr>\n",
       "      <th>count</th>\n",
       "      <td>442</td>\n",
       "      <td>442</td>\n",
       "      <td>442</td>\n",
       "      <td>442</td>\n",
       "      <td>442</td>\n",
       "      <td>442</td>\n",
       "      <td>442</td>\n",
       "      <td>442</td>\n",
       "      <td>442</td>\n",
       "      <td>442</td>\n",
       "      <td>442</td>\n",
       "    </tr>\n",
       "    <tr>\n",
       "      <th>mean</th>\n",
       "      <td>-2.51e-19</td>\n",
       "      <td>1.23e-17</td>\n",
       "      <td>-2.25e-16</td>\n",
       "      <td>-4.8e-17</td>\n",
       "      <td>-1.38e-17</td>\n",
       "      <td>3.92e-17</td>\n",
       "      <td>-5.78e-18</td>\n",
       "      <td>-9.04e-18</td>\n",
       "      <td>9.29e-17</td>\n",
       "      <td>1.13e-17</td>\n",
       "      <td>152</td>\n",
       "    </tr>\n",
       "    <tr>\n",
       "      <th>std</th>\n",
       "      <td>0.0476</td>\n",
       "      <td>0.0476</td>\n",
       "      <td>0.0476</td>\n",
       "      <td>0.0476</td>\n",
       "      <td>0.0476</td>\n",
       "      <td>0.0476</td>\n",
       "      <td>0.0476</td>\n",
       "      <td>0.0476</td>\n",
       "      <td>0.0476</td>\n",
       "      <td>0.0476</td>\n",
       "      <td>77.1</td>\n",
       "    </tr>\n",
       "    <tr>\n",
       "      <th>min</th>\n",
       "      <td>-0.107</td>\n",
       "      <td>-0.0446</td>\n",
       "      <td>-0.0903</td>\n",
       "      <td>-0.112</td>\n",
       "      <td>-0.127</td>\n",
       "      <td>-0.116</td>\n",
       "      <td>-0.102</td>\n",
       "      <td>-0.0764</td>\n",
       "      <td>-0.126</td>\n",
       "      <td>-0.138</td>\n",
       "      <td>25</td>\n",
       "    </tr>\n",
       "    <tr>\n",
       "      <th>25%</th>\n",
       "      <td>-0.0373</td>\n",
       "      <td>-0.0446</td>\n",
       "      <td>-0.0342</td>\n",
       "      <td>-0.0367</td>\n",
       "      <td>-0.0342</td>\n",
       "      <td>-0.0304</td>\n",
       "      <td>-0.0351</td>\n",
       "      <td>-0.0395</td>\n",
       "      <td>-0.0332</td>\n",
       "      <td>-0.0332</td>\n",
       "      <td>87</td>\n",
       "    </tr>\n",
       "    <tr>\n",
       "      <th>50%</th>\n",
       "      <td>0.00538</td>\n",
       "      <td>-0.0446</td>\n",
       "      <td>-0.00728</td>\n",
       "      <td>-0.00567</td>\n",
       "      <td>-0.00432</td>\n",
       "      <td>-0.00382</td>\n",
       "      <td>-0.00658</td>\n",
       "      <td>-0.00259</td>\n",
       "      <td>-0.00195</td>\n",
       "      <td>-0.00108</td>\n",
       "      <td>140</td>\n",
       "    </tr>\n",
       "    <tr>\n",
       "      <th>75%</th>\n",
       "      <td>0.0381</td>\n",
       "      <td>0.0507</td>\n",
       "      <td>0.0312</td>\n",
       "      <td>0.0356</td>\n",
       "      <td>0.0284</td>\n",
       "      <td>0.0298</td>\n",
       "      <td>0.0293</td>\n",
       "      <td>0.0343</td>\n",
       "      <td>0.0324</td>\n",
       "      <td>0.0279</td>\n",
       "      <td>212</td>\n",
       "    </tr>\n",
       "    <tr>\n",
       "      <th>max</th>\n",
       "      <td>0.111</td>\n",
       "      <td>0.0507</td>\n",
       "      <td>0.171</td>\n",
       "      <td>0.132</td>\n",
       "      <td>0.154</td>\n",
       "      <td>0.199</td>\n",
       "      <td>0.181</td>\n",
       "      <td>0.185</td>\n",
       "      <td>0.134</td>\n",
       "      <td>0.136</td>\n",
       "      <td>346</td>\n",
       "    </tr>\n",
       "  </tbody>\n",
       "</table>\n",
       "</div>"
      ],
      "text/plain": [
       "            age      sex       bmi       bp        s1       s2        s3  \\\n",
       "count       442      442       442      442       442      442       442   \n",
       "mean  -2.51e-19 1.23e-17 -2.25e-16 -4.8e-17 -1.38e-17 3.92e-17 -5.78e-18   \n",
       "std      0.0476   0.0476    0.0476   0.0476    0.0476   0.0476    0.0476   \n",
       "min      -0.107  -0.0446   -0.0903   -0.112    -0.127   -0.116    -0.102   \n",
       "25%     -0.0373  -0.0446   -0.0342  -0.0367   -0.0342  -0.0304   -0.0351   \n",
       "50%     0.00538  -0.0446  -0.00728 -0.00567  -0.00432 -0.00382  -0.00658   \n",
       "75%      0.0381   0.0507    0.0312   0.0356    0.0284   0.0298    0.0293   \n",
       "max       0.111   0.0507     0.171    0.132     0.154    0.199     0.181   \n",
       "\n",
       "             s4       s5       s6  target  \n",
       "count       442      442      442     442  \n",
       "mean  -9.04e-18 9.29e-17 1.13e-17     152  \n",
       "std      0.0476   0.0476   0.0476    77.1  \n",
       "min     -0.0764   -0.126   -0.138      25  \n",
       "25%     -0.0395  -0.0332  -0.0332      87  \n",
       "50%    -0.00259 -0.00195 -0.00108     140  \n",
       "75%      0.0343   0.0324   0.0279     212  \n",
       "max       0.185    0.134    0.136     346  "
      ]
     },
     "metadata": {},
     "output_type": "display_data"
    }
   ],
   "source": [
    "with pd.option_context(\"display.float_format\", \"{:.3g}\".format):\n",
    "    display(df.describe())"
   ]
  },
  {
   "cell_type": "markdown",
   "id": "moving-tobago",
   "metadata": {},
   "source": [
    "#### Investigate correlations"
   ]
  },
  {
   "cell_type": "markdown",
   "id": "fluid-kazakhstan",
   "metadata": {},
   "source": [
    "Quickly display a correlation table with [`pandas.DataFrame.corr`](https://pandas.pydata.org/pandas-docs/stable/reference/api/pandas.DataFrame.corr.html)."
   ]
  },
  {
   "cell_type": "code",
   "execution_count": 5,
   "id": "covered-istanbul",
   "metadata": {},
   "outputs": [
    {
     "data": {
      "text/html": [
       "<div>\n",
       "<style scoped>\n",
       "    .dataframe tbody tr th:only-of-type {\n",
       "        vertical-align: middle;\n",
       "    }\n",
       "\n",
       "    .dataframe tbody tr th {\n",
       "        vertical-align: top;\n",
       "    }\n",
       "\n",
       "    .dataframe thead th {\n",
       "        text-align: right;\n",
       "    }\n",
       "</style>\n",
       "<table border=\"1\" class=\"dataframe\">\n",
       "  <thead>\n",
       "    <tr style=\"text-align: right;\">\n",
       "      <th></th>\n",
       "      <th>age</th>\n",
       "      <th>sex</th>\n",
       "      <th>bmi</th>\n",
       "      <th>bp</th>\n",
       "      <th>s1</th>\n",
       "      <th>s2</th>\n",
       "      <th>s3</th>\n",
       "      <th>s4</th>\n",
       "      <th>s5</th>\n",
       "      <th>s6</th>\n",
       "      <th>target</th>\n",
       "    </tr>\n",
       "  </thead>\n",
       "  <tbody>\n",
       "    <tr>\n",
       "      <th>age</th>\n",
       "      <td>1</td>\n",
       "      <td>0.17</td>\n",
       "      <td>0.19</td>\n",
       "      <td>0.34</td>\n",
       "      <td>0.26</td>\n",
       "      <td>0.22</td>\n",
       "      <td>-0.075</td>\n",
       "      <td>0.2</td>\n",
       "      <td>0.27</td>\n",
       "      <td>0.3</td>\n",
       "      <td>0.19</td>\n",
       "    </tr>\n",
       "    <tr>\n",
       "      <th>sex</th>\n",
       "      <td>0.17</td>\n",
       "      <td>1</td>\n",
       "      <td>0.088</td>\n",
       "      <td>0.24</td>\n",
       "      <td>0.035</td>\n",
       "      <td>0.14</td>\n",
       "      <td>-0.38</td>\n",
       "      <td>0.33</td>\n",
       "      <td>0.15</td>\n",
       "      <td>0.21</td>\n",
       "      <td>0.043</td>\n",
       "    </tr>\n",
       "    <tr>\n",
       "      <th>bmi</th>\n",
       "      <td>0.19</td>\n",
       "      <td>0.088</td>\n",
       "      <td>1</td>\n",
       "      <td>0.4</td>\n",
       "      <td>0.25</td>\n",
       "      <td>0.26</td>\n",
       "      <td>-0.37</td>\n",
       "      <td>0.41</td>\n",
       "      <td>0.45</td>\n",
       "      <td>0.39</td>\n",
       "      <td>0.59</td>\n",
       "    </tr>\n",
       "    <tr>\n",
       "      <th>bp</th>\n",
       "      <td>0.34</td>\n",
       "      <td>0.24</td>\n",
       "      <td>0.4</td>\n",
       "      <td>1</td>\n",
       "      <td>0.24</td>\n",
       "      <td>0.19</td>\n",
       "      <td>-0.18</td>\n",
       "      <td>0.26</td>\n",
       "      <td>0.39</td>\n",
       "      <td>0.39</td>\n",
       "      <td>0.44</td>\n",
       "    </tr>\n",
       "    <tr>\n",
       "      <th>s1</th>\n",
       "      <td>0.26</td>\n",
       "      <td>0.035</td>\n",
       "      <td>0.25</td>\n",
       "      <td>0.24</td>\n",
       "      <td>1</td>\n",
       "      <td>0.9</td>\n",
       "      <td>0.052</td>\n",
       "      <td>0.54</td>\n",
       "      <td>0.52</td>\n",
       "      <td>0.33</td>\n",
       "      <td>0.21</td>\n",
       "    </tr>\n",
       "    <tr>\n",
       "      <th>s2</th>\n",
       "      <td>0.22</td>\n",
       "      <td>0.14</td>\n",
       "      <td>0.26</td>\n",
       "      <td>0.19</td>\n",
       "      <td>0.9</td>\n",
       "      <td>1</td>\n",
       "      <td>-0.2</td>\n",
       "      <td>0.66</td>\n",
       "      <td>0.32</td>\n",
       "      <td>0.29</td>\n",
       "      <td>0.17</td>\n",
       "    </tr>\n",
       "    <tr>\n",
       "      <th>s3</th>\n",
       "      <td>-0.075</td>\n",
       "      <td>-0.38</td>\n",
       "      <td>-0.37</td>\n",
       "      <td>-0.18</td>\n",
       "      <td>0.052</td>\n",
       "      <td>-0.2</td>\n",
       "      <td>1</td>\n",
       "      <td>-0.74</td>\n",
       "      <td>-0.4</td>\n",
       "      <td>-0.27</td>\n",
       "      <td>-0.39</td>\n",
       "    </tr>\n",
       "    <tr>\n",
       "      <th>s4</th>\n",
       "      <td>0.2</td>\n",
       "      <td>0.33</td>\n",
       "      <td>0.41</td>\n",
       "      <td>0.26</td>\n",
       "      <td>0.54</td>\n",
       "      <td>0.66</td>\n",
       "      <td>-0.74</td>\n",
       "      <td>1</td>\n",
       "      <td>0.62</td>\n",
       "      <td>0.42</td>\n",
       "      <td>0.43</td>\n",
       "    </tr>\n",
       "    <tr>\n",
       "      <th>s5</th>\n",
       "      <td>0.27</td>\n",
       "      <td>0.15</td>\n",
       "      <td>0.45</td>\n",
       "      <td>0.39</td>\n",
       "      <td>0.52</td>\n",
       "      <td>0.32</td>\n",
       "      <td>-0.4</td>\n",
       "      <td>0.62</td>\n",
       "      <td>1</td>\n",
       "      <td>0.46</td>\n",
       "      <td>0.57</td>\n",
       "    </tr>\n",
       "    <tr>\n",
       "      <th>s6</th>\n",
       "      <td>0.3</td>\n",
       "      <td>0.21</td>\n",
       "      <td>0.39</td>\n",
       "      <td>0.39</td>\n",
       "      <td>0.33</td>\n",
       "      <td>0.29</td>\n",
       "      <td>-0.27</td>\n",
       "      <td>0.42</td>\n",
       "      <td>0.46</td>\n",
       "      <td>1</td>\n",
       "      <td>0.38</td>\n",
       "    </tr>\n",
       "    <tr>\n",
       "      <th>target</th>\n",
       "      <td>0.19</td>\n",
       "      <td>0.043</td>\n",
       "      <td>0.59</td>\n",
       "      <td>0.44</td>\n",
       "      <td>0.21</td>\n",
       "      <td>0.17</td>\n",
       "      <td>-0.39</td>\n",
       "      <td>0.43</td>\n",
       "      <td>0.57</td>\n",
       "      <td>0.38</td>\n",
       "      <td>1</td>\n",
       "    </tr>\n",
       "  </tbody>\n",
       "</table>\n",
       "</div>"
      ],
      "text/plain": [
       "          age   sex   bmi    bp    s1   s2     s3    s4   s5    s6  target\n",
       "age         1  0.17  0.19  0.34  0.26 0.22 -0.075   0.2 0.27   0.3    0.19\n",
       "sex      0.17     1 0.088  0.24 0.035 0.14  -0.38  0.33 0.15  0.21   0.043\n",
       "bmi      0.19 0.088     1   0.4  0.25 0.26  -0.37  0.41 0.45  0.39    0.59\n",
       "bp       0.34  0.24   0.4     1  0.24 0.19  -0.18  0.26 0.39  0.39    0.44\n",
       "s1       0.26 0.035  0.25  0.24     1  0.9  0.052  0.54 0.52  0.33    0.21\n",
       "s2       0.22  0.14  0.26  0.19   0.9    1   -0.2  0.66 0.32  0.29    0.17\n",
       "s3     -0.075 -0.38 -0.37 -0.18 0.052 -0.2      1 -0.74 -0.4 -0.27   -0.39\n",
       "s4        0.2  0.33  0.41  0.26  0.54 0.66  -0.74     1 0.62  0.42    0.43\n",
       "s5       0.27  0.15  0.45  0.39  0.52 0.32   -0.4  0.62    1  0.46    0.57\n",
       "s6        0.3  0.21  0.39  0.39  0.33 0.29  -0.27  0.42 0.46     1    0.38\n",
       "target   0.19 0.043  0.59  0.44  0.21 0.17  -0.39  0.43 0.57  0.38       1"
      ]
     },
     "metadata": {},
     "output_type": "display_data"
    }
   ],
   "source": [
    "corr_df = df.corr()\n",
    "\n",
    "with pd.option_context(\"display.float_format\", \"{:.2g}\".format):\n",
    "    display(corr_df)"
   ]
  },
  {
   "cell_type": "markdown",
   "id": "twenty-experiment",
   "metadata": {},
   "source": [
    "Display the table as a heatmap with [`DataFrame.style.Styler.background_gradient`](https://pandas.pydata.org/docs/reference/api/pandas.io.formats.style.Styler.background_gradient.html).\n",
    "\n",
    "In this case, it seems appropriate to take a double coloring scheme (e.g., positive in green and negative in pink) to highlight both the absolute value of the correlations and their polarity."
   ]
  },
  {
   "cell_type": "code",
   "execution_count": 6,
   "id": "senior-sierra",
   "metadata": {},
   "outputs": [
    {
     "data": {
      "text/html": [
       "<style type=\"text/css\">\n",
       "#T_74689_row0_col0, #T_74689_row1_col1, #T_74689_row2_col2, #T_74689_row3_col3, #T_74689_row4_col4, #T_74689_row5_col5, #T_74689_row6_col6, #T_74689_row7_col7, #T_74689_row8_col8, #T_74689_row9_col9, #T_74689_row10_col10 {\n",
       "  background-color: #276419;\n",
       "  color: #f1f1f1;\n",
       "}\n",
       "#T_74689_row0_col1, #T_74689_row1_col0, #T_74689_row5_col10, #T_74689_row10_col5 {\n",
       "  background-color: #e8f5d5;\n",
       "  color: #000000;\n",
       "}\n",
       "#T_74689_row0_col2, #T_74689_row2_col0, #T_74689_row3_col5, #T_74689_row5_col3 {\n",
       "  background-color: #e7f5d3;\n",
       "  color: #000000;\n",
       "}\n",
       "#T_74689_row0_col3, #T_74689_row1_col7, #T_74689_row3_col0, #T_74689_row7_col1 {\n",
       "  background-color: #c7e89f;\n",
       "  color: #000000;\n",
       "}\n",
       "#T_74689_row0_col4, #T_74689_row2_col5, #T_74689_row4_col0, #T_74689_row5_col2 {\n",
       "  background-color: #d8efb9;\n",
       "  color: #000000;\n",
       "}\n",
       "#T_74689_row0_col5, #T_74689_row5_col0 {\n",
       "  background-color: #e1f3c7;\n",
       "  color: #000000;\n",
       "}\n",
       "#T_74689_row0_col6, #T_74689_row6_col0 {\n",
       "  background-color: #f9eef4;\n",
       "  color: #000000;\n",
       "}\n",
       "#T_74689_row0_col7, #T_74689_row1_col9, #T_74689_row7_col0, #T_74689_row9_col1 {\n",
       "  background-color: #e4f4cd;\n",
       "  color: #000000;\n",
       "}\n",
       "#T_74689_row0_col8, #T_74689_row8_col0 {\n",
       "  background-color: #d6eeb6;\n",
       "  color: #000000;\n",
       "}\n",
       "#T_74689_row0_col9, #T_74689_row9_col0 {\n",
       "  background-color: #cfebaa;\n",
       "  color: #000000;\n",
       "}\n",
       "#T_74689_row0_col10, #T_74689_row10_col0 {\n",
       "  background-color: #e7f5d2;\n",
       "  color: #000000;\n",
       "}\n",
       "#T_74689_row1_col2, #T_74689_row2_col1 {\n",
       "  background-color: #eff6e5;\n",
       "  color: #000000;\n",
       "}\n",
       "#T_74689_row1_col3, #T_74689_row3_col1 {\n",
       "  background-color: #ddf1c1;\n",
       "  color: #000000;\n",
       "}\n",
       "#T_74689_row1_col4, #T_74689_row4_col1 {\n",
       "  background-color: #f4f7f0;\n",
       "  color: #000000;\n",
       "}\n",
       "#T_74689_row1_col5, #T_74689_row5_col1 {\n",
       "  background-color: #ebf6db;\n",
       "  color: #000000;\n",
       "}\n",
       "#T_74689_row1_col6, #T_74689_row6_col1 {\n",
       "  background-color: #f2badc;\n",
       "  color: #000000;\n",
       "}\n",
       "#T_74689_row1_col8, #T_74689_row8_col1 {\n",
       "  background-color: #eaf5d9;\n",
       "  color: #000000;\n",
       "}\n",
       "#T_74689_row1_col10, #T_74689_row10_col1 {\n",
       "  background-color: #f3f7ef;\n",
       "  color: #000000;\n",
       "}\n",
       "#T_74689_row2_col3, #T_74689_row3_col2, #T_74689_row3_col8, #T_74689_row8_col3 {\n",
       "  background-color: #b9e187;\n",
       "  color: #000000;\n",
       "}\n",
       "#T_74689_row2_col4, #T_74689_row3_col4, #T_74689_row4_col2, #T_74689_row4_col3 {\n",
       "  background-color: #dbf0bf;\n",
       "  color: #000000;\n",
       "}\n",
       "#T_74689_row2_col6, #T_74689_row6_col2 {\n",
       "  background-color: #f3bdde;\n",
       "  color: #000000;\n",
       "}\n",
       "#T_74689_row2_col7, #T_74689_row7_col2 {\n",
       "  background-color: #b5df82;\n",
       "  color: #000000;\n",
       "}\n",
       "#T_74689_row2_col8, #T_74689_row8_col2 {\n",
       "  background-color: #a9d874;\n",
       "  color: #000000;\n",
       "}\n",
       "#T_74689_row2_col9, #T_74689_row3_col9, #T_74689_row9_col2, #T_74689_row9_col3 {\n",
       "  background-color: #bbe28a;\n",
       "  color: #000000;\n",
       "}\n",
       "#T_74689_row2_col10, #T_74689_row10_col2 {\n",
       "  background-color: #81bd44;\n",
       "  color: #000000;\n",
       "}\n",
       "#T_74689_row3_col6, #T_74689_row6_col3 {\n",
       "  background-color: #fce3f0;\n",
       "  color: #000000;\n",
       "}\n",
       "#T_74689_row3_col7, #T_74689_row7_col3 {\n",
       "  background-color: #d9f0bc;\n",
       "  color: #000000;\n",
       "}\n",
       "#T_74689_row3_col10, #T_74689_row10_col3 {\n",
       "  background-color: #acd977;\n",
       "  color: #000000;\n",
       "}\n",
       "#T_74689_row4_col5, #T_74689_row5_col4 {\n",
       "  background-color: #3a7b1d;\n",
       "  color: #f1f1f1;\n",
       "}\n",
       "#T_74689_row4_col6, #T_74689_row6_col4 {\n",
       "  background-color: #f3f6ed;\n",
       "  color: #000000;\n",
       "}\n",
       "#T_74689_row4_col7, #T_74689_row7_col4 {\n",
       "  background-color: #8fc654;\n",
       "  color: #000000;\n",
       "}\n",
       "#T_74689_row4_col8, #T_74689_row8_col4 {\n",
       "  background-color: #98cc5f;\n",
       "  color: #000000;\n",
       "}\n",
       "#T_74689_row4_col9, #T_74689_row9_col4 {\n",
       "  background-color: #c9e8a2;\n",
       "  color: #000000;\n",
       "}\n",
       "#T_74689_row4_col10, #T_74689_row10_col4 {\n",
       "  background-color: #e2f3ca;\n",
       "  color: #000000;\n",
       "}\n",
       "#T_74689_row5_col6, #T_74689_row6_col5 {\n",
       "  background-color: #fde0ef;\n",
       "  color: #000000;\n",
       "}\n",
       "#T_74689_row5_col7, #T_74689_row7_col5 {\n",
       "  background-color: #6faf37;\n",
       "  color: #f1f1f1;\n",
       "}\n",
       "#T_74689_row5_col8, #T_74689_row8_col5 {\n",
       "  background-color: #cbe9a4;\n",
       "  color: #000000;\n",
       "}\n",
       "#T_74689_row5_col9, #T_74689_row9_col5 {\n",
       "  background-color: #d0ecad;\n",
       "  color: #000000;\n",
       "}\n",
       "#T_74689_row6_col7, #T_74689_row7_col6 {\n",
       "  background-color: #cc368b;\n",
       "  color: #f1f1f1;\n",
       "}\n",
       "#T_74689_row6_col8, #T_74689_row8_col6 {\n",
       "  background-color: #f1b5d9;\n",
       "  color: #000000;\n",
       "}\n",
       "#T_74689_row6_col9, #T_74689_row9_col6 {\n",
       "  background-color: #f8d0e7;\n",
       "  color: #000000;\n",
       "}\n",
       "#T_74689_row6_col10, #T_74689_row10_col6 {\n",
       "  background-color: #f1b7da;\n",
       "  color: #000000;\n",
       "}\n",
       "#T_74689_row7_col8, #T_74689_row8_col7 {\n",
       "  background-color: #79b73d;\n",
       "  color: #f1f1f1;\n",
       "}\n",
       "#T_74689_row7_col9, #T_74689_row9_col7 {\n",
       "  background-color: #b2dd7f;\n",
       "  color: #000000;\n",
       "}\n",
       "#T_74689_row7_col10, #T_74689_row10_col7 {\n",
       "  background-color: #aeda7a;\n",
       "  color: #000000;\n",
       "}\n",
       "#T_74689_row8_col9, #T_74689_row9_col8 {\n",
       "  background-color: #a5d56f;\n",
       "  color: #000000;\n",
       "}\n",
       "#T_74689_row8_col10, #T_74689_row10_col8 {\n",
       "  background-color: #88c24c;\n",
       "  color: #000000;\n",
       "}\n",
       "#T_74689_row9_col10, #T_74689_row10_col9 {\n",
       "  background-color: #bde38d;\n",
       "  color: #000000;\n",
       "}\n",
       "</style>\n",
       "<table id=\"T_74689\">\n",
       "  <thead>\n",
       "    <tr>\n",
       "      <th class=\"blank level0\" >&nbsp;</th>\n",
       "      <th id=\"T_74689_level0_col0\" class=\"col_heading level0 col0\" >age</th>\n",
       "      <th id=\"T_74689_level0_col1\" class=\"col_heading level0 col1\" >sex</th>\n",
       "      <th id=\"T_74689_level0_col2\" class=\"col_heading level0 col2\" >bmi</th>\n",
       "      <th id=\"T_74689_level0_col3\" class=\"col_heading level0 col3\" >bp</th>\n",
       "      <th id=\"T_74689_level0_col4\" class=\"col_heading level0 col4\" >s1</th>\n",
       "      <th id=\"T_74689_level0_col5\" class=\"col_heading level0 col5\" >s2</th>\n",
       "      <th id=\"T_74689_level0_col6\" class=\"col_heading level0 col6\" >s3</th>\n",
       "      <th id=\"T_74689_level0_col7\" class=\"col_heading level0 col7\" >s4</th>\n",
       "      <th id=\"T_74689_level0_col8\" class=\"col_heading level0 col8\" >s5</th>\n",
       "      <th id=\"T_74689_level0_col9\" class=\"col_heading level0 col9\" >s6</th>\n",
       "      <th id=\"T_74689_level0_col10\" class=\"col_heading level0 col10\" >target</th>\n",
       "    </tr>\n",
       "  </thead>\n",
       "  <tbody>\n",
       "    <tr>\n",
       "      <th id=\"T_74689_level0_row0\" class=\"row_heading level0 row0\" >age</th>\n",
       "      <td id=\"T_74689_row0_col0\" class=\"data row0 col0\" >1.00</td>\n",
       "      <td id=\"T_74689_row0_col1\" class=\"data row0 col1\" >0.17</td>\n",
       "      <td id=\"T_74689_row0_col2\" class=\"data row0 col2\" >0.19</td>\n",
       "      <td id=\"T_74689_row0_col3\" class=\"data row0 col3\" >0.34</td>\n",
       "      <td id=\"T_74689_row0_col4\" class=\"data row0 col4\" >0.26</td>\n",
       "      <td id=\"T_74689_row0_col5\" class=\"data row0 col5\" >0.22</td>\n",
       "      <td id=\"T_74689_row0_col6\" class=\"data row0 col6\" >-0.08</td>\n",
       "      <td id=\"T_74689_row0_col7\" class=\"data row0 col7\" >0.20</td>\n",
       "      <td id=\"T_74689_row0_col8\" class=\"data row0 col8\" >0.27</td>\n",
       "      <td id=\"T_74689_row0_col9\" class=\"data row0 col9\" >0.30</td>\n",
       "      <td id=\"T_74689_row0_col10\" class=\"data row0 col10\" >0.19</td>\n",
       "    </tr>\n",
       "    <tr>\n",
       "      <th id=\"T_74689_level0_row1\" class=\"row_heading level0 row1\" >sex</th>\n",
       "      <td id=\"T_74689_row1_col0\" class=\"data row1 col0\" >0.17</td>\n",
       "      <td id=\"T_74689_row1_col1\" class=\"data row1 col1\" >1.00</td>\n",
       "      <td id=\"T_74689_row1_col2\" class=\"data row1 col2\" >0.09</td>\n",
       "      <td id=\"T_74689_row1_col3\" class=\"data row1 col3\" >0.24</td>\n",
       "      <td id=\"T_74689_row1_col4\" class=\"data row1 col4\" >0.04</td>\n",
       "      <td id=\"T_74689_row1_col5\" class=\"data row1 col5\" >0.14</td>\n",
       "      <td id=\"T_74689_row1_col6\" class=\"data row1 col6\" >-0.38</td>\n",
       "      <td id=\"T_74689_row1_col7\" class=\"data row1 col7\" >0.33</td>\n",
       "      <td id=\"T_74689_row1_col8\" class=\"data row1 col8\" >0.15</td>\n",
       "      <td id=\"T_74689_row1_col9\" class=\"data row1 col9\" >0.21</td>\n",
       "      <td id=\"T_74689_row1_col10\" class=\"data row1 col10\" >0.04</td>\n",
       "    </tr>\n",
       "    <tr>\n",
       "      <th id=\"T_74689_level0_row2\" class=\"row_heading level0 row2\" >bmi</th>\n",
       "      <td id=\"T_74689_row2_col0\" class=\"data row2 col0\" >0.19</td>\n",
       "      <td id=\"T_74689_row2_col1\" class=\"data row2 col1\" >0.09</td>\n",
       "      <td id=\"T_74689_row2_col2\" class=\"data row2 col2\" >1.00</td>\n",
       "      <td id=\"T_74689_row2_col3\" class=\"data row2 col3\" >0.40</td>\n",
       "      <td id=\"T_74689_row2_col4\" class=\"data row2 col4\" >0.25</td>\n",
       "      <td id=\"T_74689_row2_col5\" class=\"data row2 col5\" >0.26</td>\n",
       "      <td id=\"T_74689_row2_col6\" class=\"data row2 col6\" >-0.37</td>\n",
       "      <td id=\"T_74689_row2_col7\" class=\"data row2 col7\" >0.41</td>\n",
       "      <td id=\"T_74689_row2_col8\" class=\"data row2 col8\" >0.45</td>\n",
       "      <td id=\"T_74689_row2_col9\" class=\"data row2 col9\" >0.39</td>\n",
       "      <td id=\"T_74689_row2_col10\" class=\"data row2 col10\" >0.59</td>\n",
       "    </tr>\n",
       "    <tr>\n",
       "      <th id=\"T_74689_level0_row3\" class=\"row_heading level0 row3\" >bp</th>\n",
       "      <td id=\"T_74689_row3_col0\" class=\"data row3 col0\" >0.34</td>\n",
       "      <td id=\"T_74689_row3_col1\" class=\"data row3 col1\" >0.24</td>\n",
       "      <td id=\"T_74689_row3_col2\" class=\"data row3 col2\" >0.40</td>\n",
       "      <td id=\"T_74689_row3_col3\" class=\"data row3 col3\" >1.00</td>\n",
       "      <td id=\"T_74689_row3_col4\" class=\"data row3 col4\" >0.24</td>\n",
       "      <td id=\"T_74689_row3_col5\" class=\"data row3 col5\" >0.19</td>\n",
       "      <td id=\"T_74689_row3_col6\" class=\"data row3 col6\" >-0.18</td>\n",
       "      <td id=\"T_74689_row3_col7\" class=\"data row3 col7\" >0.26</td>\n",
       "      <td id=\"T_74689_row3_col8\" class=\"data row3 col8\" >0.39</td>\n",
       "      <td id=\"T_74689_row3_col9\" class=\"data row3 col9\" >0.39</td>\n",
       "      <td id=\"T_74689_row3_col10\" class=\"data row3 col10\" >0.44</td>\n",
       "    </tr>\n",
       "    <tr>\n",
       "      <th id=\"T_74689_level0_row4\" class=\"row_heading level0 row4\" >s1</th>\n",
       "      <td id=\"T_74689_row4_col0\" class=\"data row4 col0\" >0.26</td>\n",
       "      <td id=\"T_74689_row4_col1\" class=\"data row4 col1\" >0.04</td>\n",
       "      <td id=\"T_74689_row4_col2\" class=\"data row4 col2\" >0.25</td>\n",
       "      <td id=\"T_74689_row4_col3\" class=\"data row4 col3\" >0.24</td>\n",
       "      <td id=\"T_74689_row4_col4\" class=\"data row4 col4\" >1.00</td>\n",
       "      <td id=\"T_74689_row4_col5\" class=\"data row4 col5\" >0.90</td>\n",
       "      <td id=\"T_74689_row4_col6\" class=\"data row4 col6\" >0.05</td>\n",
       "      <td id=\"T_74689_row4_col7\" class=\"data row4 col7\" >0.54</td>\n",
       "      <td id=\"T_74689_row4_col8\" class=\"data row4 col8\" >0.52</td>\n",
       "      <td id=\"T_74689_row4_col9\" class=\"data row4 col9\" >0.33</td>\n",
       "      <td id=\"T_74689_row4_col10\" class=\"data row4 col10\" >0.21</td>\n",
       "    </tr>\n",
       "    <tr>\n",
       "      <th id=\"T_74689_level0_row5\" class=\"row_heading level0 row5\" >s2</th>\n",
       "      <td id=\"T_74689_row5_col0\" class=\"data row5 col0\" >0.22</td>\n",
       "      <td id=\"T_74689_row5_col1\" class=\"data row5 col1\" >0.14</td>\n",
       "      <td id=\"T_74689_row5_col2\" class=\"data row5 col2\" >0.26</td>\n",
       "      <td id=\"T_74689_row5_col3\" class=\"data row5 col3\" >0.19</td>\n",
       "      <td id=\"T_74689_row5_col4\" class=\"data row5 col4\" >0.90</td>\n",
       "      <td id=\"T_74689_row5_col5\" class=\"data row5 col5\" >1.00</td>\n",
       "      <td id=\"T_74689_row5_col6\" class=\"data row5 col6\" >-0.20</td>\n",
       "      <td id=\"T_74689_row5_col7\" class=\"data row5 col7\" >0.66</td>\n",
       "      <td id=\"T_74689_row5_col8\" class=\"data row5 col8\" >0.32</td>\n",
       "      <td id=\"T_74689_row5_col9\" class=\"data row5 col9\" >0.29</td>\n",
       "      <td id=\"T_74689_row5_col10\" class=\"data row5 col10\" >0.17</td>\n",
       "    </tr>\n",
       "    <tr>\n",
       "      <th id=\"T_74689_level0_row6\" class=\"row_heading level0 row6\" >s3</th>\n",
       "      <td id=\"T_74689_row6_col0\" class=\"data row6 col0\" >-0.08</td>\n",
       "      <td id=\"T_74689_row6_col1\" class=\"data row6 col1\" >-0.38</td>\n",
       "      <td id=\"T_74689_row6_col2\" class=\"data row6 col2\" >-0.37</td>\n",
       "      <td id=\"T_74689_row6_col3\" class=\"data row6 col3\" >-0.18</td>\n",
       "      <td id=\"T_74689_row6_col4\" class=\"data row6 col4\" >0.05</td>\n",
       "      <td id=\"T_74689_row6_col5\" class=\"data row6 col5\" >-0.20</td>\n",
       "      <td id=\"T_74689_row6_col6\" class=\"data row6 col6\" >1.00</td>\n",
       "      <td id=\"T_74689_row6_col7\" class=\"data row6 col7\" >-0.74</td>\n",
       "      <td id=\"T_74689_row6_col8\" class=\"data row6 col8\" >-0.40</td>\n",
       "      <td id=\"T_74689_row6_col9\" class=\"data row6 col9\" >-0.27</td>\n",
       "      <td id=\"T_74689_row6_col10\" class=\"data row6 col10\" >-0.39</td>\n",
       "    </tr>\n",
       "    <tr>\n",
       "      <th id=\"T_74689_level0_row7\" class=\"row_heading level0 row7\" >s4</th>\n",
       "      <td id=\"T_74689_row7_col0\" class=\"data row7 col0\" >0.20</td>\n",
       "      <td id=\"T_74689_row7_col1\" class=\"data row7 col1\" >0.33</td>\n",
       "      <td id=\"T_74689_row7_col2\" class=\"data row7 col2\" >0.41</td>\n",
       "      <td id=\"T_74689_row7_col3\" class=\"data row7 col3\" >0.26</td>\n",
       "      <td id=\"T_74689_row7_col4\" class=\"data row7 col4\" >0.54</td>\n",
       "      <td id=\"T_74689_row7_col5\" class=\"data row7 col5\" >0.66</td>\n",
       "      <td id=\"T_74689_row7_col6\" class=\"data row7 col6\" >-0.74</td>\n",
       "      <td id=\"T_74689_row7_col7\" class=\"data row7 col7\" >1.00</td>\n",
       "      <td id=\"T_74689_row7_col8\" class=\"data row7 col8\" >0.62</td>\n",
       "      <td id=\"T_74689_row7_col9\" class=\"data row7 col9\" >0.42</td>\n",
       "      <td id=\"T_74689_row7_col10\" class=\"data row7 col10\" >0.43</td>\n",
       "    </tr>\n",
       "    <tr>\n",
       "      <th id=\"T_74689_level0_row8\" class=\"row_heading level0 row8\" >s5</th>\n",
       "      <td id=\"T_74689_row8_col0\" class=\"data row8 col0\" >0.27</td>\n",
       "      <td id=\"T_74689_row8_col1\" class=\"data row8 col1\" >0.15</td>\n",
       "      <td id=\"T_74689_row8_col2\" class=\"data row8 col2\" >0.45</td>\n",
       "      <td id=\"T_74689_row8_col3\" class=\"data row8 col3\" >0.39</td>\n",
       "      <td id=\"T_74689_row8_col4\" class=\"data row8 col4\" >0.52</td>\n",
       "      <td id=\"T_74689_row8_col5\" class=\"data row8 col5\" >0.32</td>\n",
       "      <td id=\"T_74689_row8_col6\" class=\"data row8 col6\" >-0.40</td>\n",
       "      <td id=\"T_74689_row8_col7\" class=\"data row8 col7\" >0.62</td>\n",
       "      <td id=\"T_74689_row8_col8\" class=\"data row8 col8\" >1.00</td>\n",
       "      <td id=\"T_74689_row8_col9\" class=\"data row8 col9\" >0.46</td>\n",
       "      <td id=\"T_74689_row8_col10\" class=\"data row8 col10\" >0.57</td>\n",
       "    </tr>\n",
       "    <tr>\n",
       "      <th id=\"T_74689_level0_row9\" class=\"row_heading level0 row9\" >s6</th>\n",
       "      <td id=\"T_74689_row9_col0\" class=\"data row9 col0\" >0.30</td>\n",
       "      <td id=\"T_74689_row9_col1\" class=\"data row9 col1\" >0.21</td>\n",
       "      <td id=\"T_74689_row9_col2\" class=\"data row9 col2\" >0.39</td>\n",
       "      <td id=\"T_74689_row9_col3\" class=\"data row9 col3\" >0.39</td>\n",
       "      <td id=\"T_74689_row9_col4\" class=\"data row9 col4\" >0.33</td>\n",
       "      <td id=\"T_74689_row9_col5\" class=\"data row9 col5\" >0.29</td>\n",
       "      <td id=\"T_74689_row9_col6\" class=\"data row9 col6\" >-0.27</td>\n",
       "      <td id=\"T_74689_row9_col7\" class=\"data row9 col7\" >0.42</td>\n",
       "      <td id=\"T_74689_row9_col8\" class=\"data row9 col8\" >0.46</td>\n",
       "      <td id=\"T_74689_row9_col9\" class=\"data row9 col9\" >1.00</td>\n",
       "      <td id=\"T_74689_row9_col10\" class=\"data row9 col10\" >0.38</td>\n",
       "    </tr>\n",
       "    <tr>\n",
       "      <th id=\"T_74689_level0_row10\" class=\"row_heading level0 row10\" >target</th>\n",
       "      <td id=\"T_74689_row10_col0\" class=\"data row10 col0\" >0.19</td>\n",
       "      <td id=\"T_74689_row10_col1\" class=\"data row10 col1\" >0.04</td>\n",
       "      <td id=\"T_74689_row10_col2\" class=\"data row10 col2\" >0.59</td>\n",
       "      <td id=\"T_74689_row10_col3\" class=\"data row10 col3\" >0.44</td>\n",
       "      <td id=\"T_74689_row10_col4\" class=\"data row10 col4\" >0.21</td>\n",
       "      <td id=\"T_74689_row10_col5\" class=\"data row10 col5\" >0.17</td>\n",
       "      <td id=\"T_74689_row10_col6\" class=\"data row10 col6\" >-0.39</td>\n",
       "      <td id=\"T_74689_row10_col7\" class=\"data row10 col7\" >0.43</td>\n",
       "      <td id=\"T_74689_row10_col8\" class=\"data row10 col8\" >0.57</td>\n",
       "      <td id=\"T_74689_row10_col9\" class=\"data row10 col9\" >0.38</td>\n",
       "      <td id=\"T_74689_row10_col10\" class=\"data row10 col10\" >1.00</td>\n",
       "    </tr>\n",
       "  </tbody>\n",
       "</table>\n"
      ],
      "text/plain": [
       "<pandas.io.formats.style.Styler at 0x2188ffd8ca0>"
      ]
     },
     "execution_count": 6,
     "metadata": {},
     "output_type": "execute_result"
    }
   ],
   "source": [
    "# Requirement: !conda install Jinja2\n",
    "\n",
    "corr_df.style.background_gradient(cmap=\"PiYG\", vmin=-1).format(precision=2)"
   ]
  },
  {
   "cell_type": "markdown",
   "id": "fatty-termination",
   "metadata": {},
   "source": [
    "#### Graph in Pandas"
   ]
  },
  {
   "cell_type": "markdown",
   "id": "union-medicine",
   "metadata": {},
   "source": [
    "It is possible to build graphs very easily from pandas `DataFrame` which provides access to the Matplotlib API, e.g., with [`DataFrame.hist`](https://pandas.pydata.org/docs/reference/api/pandas.DataFrame.hist.html)."
   ]
  },
  {
   "cell_type": "code",
   "execution_count": 7,
   "id": "forty-biodiversity",
   "metadata": {},
   "outputs": [
    {
     "data": {
      "image/png": "[encoded data removed]",
      "text/plain": [
       "<Figure size 640x480 with 1 Axes>"
      ]
     },
     "metadata": {},
     "output_type": "display_data"
    }
   ],
   "source": [
    "df[\"target\"].hist()\n",
    "plt.show()"
   ]
  },
  {
   "cell_type": "markdown",
   "id": "sound-unknown",
   "metadata": {},
   "source": [
    "#### Scatter matrix"
   ]
  },
  {
   "cell_type": "markdown",
   "id": "plastic-vegetable",
   "metadata": {},
   "source": [
    "Another way to visualize the correlation between descriptors is via the [`pandas.plotting.scatter_matrix`](https://pandas.pydata.org/docs/reference/api/pandas.plotting.scatter_matrix.html) function, which plots each feature against every others (scatter plots).\n",
    "\n",
    "Since we have 10 features here, we will end up with $10 \\times 10 = 100$ scatter plots, which wouldn't be readable on a page, so let's just focus on a few of them."
   ]
  },
  {
   "cell_type": "code",
   "execution_count": 8,
   "id": "piano-singer",
   "metadata": {},
   "outputs": [
    {
     "data": {
      "image/png": "[encoded data removed]",
      "text/plain": [
       "<Figure size 800x800 with 16 Axes>"
      ]
     },
     "metadata": {},
     "output_type": "display_data"
    }
   ],
   "source": [
    "FTS = [\"bmi\", \"sex\", \"s3\", \"target\"]\n",
    "pd.plotting.scatter_matrix(df[FTS], figsize=(8, 8))\n",
    "plt.show()"
   ]
  },
  {
   "cell_type": "markdown",
   "id": "numerical-karaoke",
   "metadata": {},
   "source": [
    "*   We can see that `target` is positively correlated with `bmi`, and negatively with `s3`. \n",
    "\n",
    "*   The `scatter_matrix` method returns a histogram of all features in its diagonal plots\n",
    "\n",
    "*   Note: Binary features are hard to visualize on scatter plots (`sex`)"
   ]
  },
  {
   "cell_type": "markdown",
   "id": "human-moment",
   "metadata": {},
   "source": [
    "---"
   ]
  },
  {
   "cell_type": "markdown",
   "id": "vocational-decimal",
   "metadata": {},
   "source": [
    "### Classification (digits)"
   ]
  },
  {
   "cell_type": "markdown",
   "id": "secondary-insert",
   "metadata": {},
   "source": [
    "Let's look at the classification model performance in terms of precision and recall."
   ]
  },
  {
   "cell_type": "markdown",
   "id": "measured-japanese",
   "metadata": {},
   "source": [
    "#### Data loading"
   ]
  },
  {
   "cell_type": "markdown",
   "id": "emerging-cancellation",
   "metadata": {},
   "source": [
    "https://scikit-learn.org/stable/datasets/toy_dataset.html#digits-dataset"
   ]
  },
  {
   "cell_type": "code",
   "execution_count": 9,
   "id": "opposed-myrtle",
   "metadata": {},
   "outputs": [],
   "source": [
    "digits = datasets.load_digits()"
   ]
  },
  {
   "cell_type": "code",
   "execution_count": 10,
   "id": "67b8c87f",
   "metadata": {},
   "outputs": [
    {
     "data": {
      "text/plain": [
       "array([0, 1, 2, 3, 4, 5, 6, 7, 8, 9, 0, 1, 2, 3, 4, 5, 6, 7, 8, 9, 0, 1,\n",
       "       2, 3, 4, 5, 6, 7, 8, 9, 0, 9, 5, 5, 6, 5, 0, 9, 8, 9, 8, 4, 1, 7,\n",
       "       7, 3, 5, 1, 0, 0, 2, 2, 7, 8, 2, 0, 1, 2, 6, 3, 3, 7, 3, 3, 4, 6,\n",
       "       6, 6, 4, 9, 1, 5, 0, 9, 5, 2, 8, 2, 0, 0, 1, 7, 6, 3, 2, 1, 7, 4,\n",
       "       6, 3, 1, 3, 9, 1, 7, 6, 8, 4, 3, 1])"
      ]
     },
     "execution_count": 10,
     "metadata": {},
     "output_type": "execute_result"
    }
   ],
   "source": [
    "digits.target[:100]"
   ]
  },
  {
   "cell_type": "code",
   "execution_count": 11,
   "id": "backed-script",
   "metadata": {},
   "outputs": [
    {
     "name": "stdout",
     "output_type": "stream",
     "text": [
      "(1797, 8, 8)\n",
      "(1797, 64) (1797,)\n"
     ]
    }
   ],
   "source": [
    "# Flatten the images\n",
    "n_samples = len(digits.images)\n",
    "print(digits.images.shape)\n",
    "\n",
    "data = digits.images.reshape([n_samples, -1])\n",
    "\n",
    "print(data.shape, digits.target.shape)"
   ]
  },
  {
   "cell_type": "markdown",
   "id": "destroyed-outside",
   "metadata": {},
   "source": [
    "Randomly select the training and test dataset."
   ]
  },
  {
   "cell_type": "markdown",
   "id": "confused-alias",
   "metadata": {},
   "source": [
    "<span style=\"color:red\">Implement your solution below and comment briefly</span>"
   ]
  },
  {
   "cell_type": "code",
   "execution_count": 12,
   "id": "79c59adf",
   "metadata": {},
   "outputs": [
    {
     "name": "stdout",
     "output_type": "stream",
     "text": [
      "(1347,) (1347, 64)\n",
      "(450,) (450, 64)\n"
     ]
    }
   ],
   "source": [
    "xs_train, xs_test, ys_train, ys_test = model_selection.train_test_split(\n",
    "    data, digits.target, random_state=1\n",
    ")\n",
    "\n",
    "print(ys_train.shape, xs_train.shape)\n",
    "print(ys_test.shape, xs_test.shape)"
   ]
  },
  {
   "cell_type": "markdown",
   "id": "intense-vinyl",
   "metadata": {},
   "source": [
    "#### Train the models"
   ]
  },
  {
   "cell_type": "markdown",
   "id": "friendly-national",
   "metadata": {},
   "source": [
    "Train the model using, e.g., the [Gaussian Naive Bayes Classifier](https://scikit-learn.org/stable/modules/generated/sklearn.naive_bayes.GaussianNB.html)."
   ]
  },
  {
   "cell_type": "markdown",
   "id": "db4d53a9",
   "metadata": {},
   "source": [
    "<span style=\"color:red\">Implement your solution below</span>"
   ]
  },
  {
   "cell_type": "code",
   "execution_count": 13,
   "id": "7efcb2cd",
   "metadata": {},
   "outputs": [],
   "source": [
    "# 2. Instantiation\n",
    "model = naive_bayes.GaussianNB()\n",
    "\n",
    "# 3. Learn (fit) the model\n",
    "model.fit(xs_train, ys_train)\n",
    "\n",
    "# 4. Predict on new data\n",
    "ys_pred = model.predict(xs_test)"
   ]
  },
  {
   "cell_type": "markdown",
   "id": "convenient-champagne",
   "metadata": {},
   "source": [
    "#### Evaluate"
   ]
  },
  {
   "cell_type": "markdown",
   "id": "every-assault",
   "metadata": {},
   "source": [
    "Evaluate with the [`accuracy_score`](https://scikit-learn.org/stable/modules/generated/sklearn.metrics.accuracy_score.html).\n",
    "\n",
    "Then give a more complete result, including precision, recall and f1-score with the method [`classification_report`](https://scikit-learn.org/stable/modules/generated/sklearn.metrics.classification_report.html)."
   ]
  },
  {
   "cell_type": "markdown",
   "id": "2423627c",
   "metadata": {},
   "source": [
    "<span style=\"color:red\">Implement your solution below</span>"
   ]
  },
  {
   "cell_type": "code",
   "execution_count": 14,
   "id": "f8a92c7b",
   "metadata": {},
   "outputs": [
    {
     "name": "stdout",
     "output_type": "stream",
     "text": [
      "0.853\n"
     ]
    }
   ],
   "source": [
    "score = metrics.accuracy_score(ys_test, ys_pred)\n",
    "print(f\"{score :.03f}\")"
   ]
  },
  {
   "cell_type": "code",
   "execution_count": 15,
   "id": "b151a33d",
   "metadata": {},
   "outputs": [
    {
     "name": "stdout",
     "output_type": "stream",
     "text": [
      "              precision    recall  f1-score   support\n",
      "\n",
      "           0       0.98      0.96      0.97        53\n",
      "           1       0.81      0.81      0.81        42\n",
      "           2       0.93      0.66      0.77        41\n",
      "           3       0.93      0.77      0.84        52\n",
      "           4       0.93      0.91      0.92        47\n",
      "           5       0.94      0.85      0.89        39\n",
      "           6       0.96      1.00      0.98        43\n",
      "           7       0.80      1.00      0.89        48\n",
      "           8       0.51      0.95      0.67        37\n",
      "           9       1.00      0.62      0.77        48\n",
      "\n",
      "    accuracy                           0.85       450\n",
      "   macro avg       0.88      0.85      0.85       450\n",
      "weighted avg       0.89      0.85      0.86       450\n",
      "\n"
     ]
    }
   ],
   "source": [
    "print(metrics.classification_report(ys_test, ys_pred))"
   ]
  },
  {
   "cell_type": "code",
   "execution_count": 16,
   "id": "751fb22b",
   "metadata": {},
   "outputs": [
    {
     "data": {
      "text/html": [
       "<div>\n",
       "<style scoped>\n",
       "    .dataframe tbody tr th:only-of-type {\n",
       "        vertical-align: middle;\n",
       "    }\n",
       "\n",
       "    .dataframe tbody tr th {\n",
       "        vertical-align: top;\n",
       "    }\n",
       "\n",
       "    .dataframe thead th {\n",
       "        text-align: right;\n",
       "    }\n",
       "</style>\n",
       "<table border=\"1\" class=\"dataframe\">\n",
       "  <thead>\n",
       "    <tr style=\"text-align: right;\">\n",
       "      <th></th>\n",
       "      <th>0</th>\n",
       "      <th>1</th>\n",
       "      <th>2</th>\n",
       "      <th>3</th>\n",
       "      <th>4</th>\n",
       "      <th>5</th>\n",
       "      <th>6</th>\n",
       "      <th>7</th>\n",
       "      <th>8</th>\n",
       "      <th>9</th>\n",
       "      <th>accuracy</th>\n",
       "      <th>macro avg</th>\n",
       "      <th>weighted avg</th>\n",
       "    </tr>\n",
       "  </thead>\n",
       "  <tbody>\n",
       "    <tr>\n",
       "      <th>precision</th>\n",
       "      <td>0.980769</td>\n",
       "      <td>0.809524</td>\n",
       "      <td>0.931034</td>\n",
       "      <td>0.930233</td>\n",
       "      <td>0.934783</td>\n",
       "      <td>0.942857</td>\n",
       "      <td>0.955556</td>\n",
       "      <td>0.800000</td>\n",
       "      <td>0.514706</td>\n",
       "      <td>1.000000</td>\n",
       "      <td>0.853333</td>\n",
       "      <td>0.879946</td>\n",
       "      <td>0.888366</td>\n",
       "    </tr>\n",
       "    <tr>\n",
       "      <th>recall</th>\n",
       "      <td>0.962264</td>\n",
       "      <td>0.809524</td>\n",
       "      <td>0.658537</td>\n",
       "      <td>0.769231</td>\n",
       "      <td>0.914894</td>\n",
       "      <td>0.846154</td>\n",
       "      <td>1.000000</td>\n",
       "      <td>1.000000</td>\n",
       "      <td>0.945946</td>\n",
       "      <td>0.625000</td>\n",
       "      <td>0.853333</td>\n",
       "      <td>0.853155</td>\n",
       "      <td>0.853333</td>\n",
       "    </tr>\n",
       "    <tr>\n",
       "      <th>f1-score</th>\n",
       "      <td>0.971429</td>\n",
       "      <td>0.809524</td>\n",
       "      <td>0.771429</td>\n",
       "      <td>0.842105</td>\n",
       "      <td>0.924731</td>\n",
       "      <td>0.891892</td>\n",
       "      <td>0.977273</td>\n",
       "      <td>0.888889</td>\n",
       "      <td>0.666667</td>\n",
       "      <td>0.769231</td>\n",
       "      <td>0.853333</td>\n",
       "      <td>0.851317</td>\n",
       "      <td>0.856509</td>\n",
       "    </tr>\n",
       "    <tr>\n",
       "      <th>support</th>\n",
       "      <td>53.000000</td>\n",
       "      <td>42.000000</td>\n",
       "      <td>41.000000</td>\n",
       "      <td>52.000000</td>\n",
       "      <td>47.000000</td>\n",
       "      <td>39.000000</td>\n",
       "      <td>43.000000</td>\n",
       "      <td>48.000000</td>\n",
       "      <td>37.000000</td>\n",
       "      <td>48.000000</td>\n",
       "      <td>0.853333</td>\n",
       "      <td>450.000000</td>\n",
       "      <td>450.000000</td>\n",
       "    </tr>\n",
       "  </tbody>\n",
       "</table>\n",
       "</div>"
      ],
      "text/plain": [
       "                   0          1          2          3          4          5  \\\n",
       "precision   0.980769   0.809524   0.931034   0.930233   0.934783   0.942857   \n",
       "recall      0.962264   0.809524   0.658537   0.769231   0.914894   0.846154   \n",
       "f1-score    0.971429   0.809524   0.771429   0.842105   0.924731   0.891892   \n",
       "support    53.000000  42.000000  41.000000  52.000000  47.000000  39.000000   \n",
       "\n",
       "                   6          7          8          9  accuracy   macro avg  \\\n",
       "precision   0.955556   0.800000   0.514706   1.000000  0.853333    0.879946   \n",
       "recall      1.000000   1.000000   0.945946   0.625000  0.853333    0.853155   \n",
       "f1-score    0.977273   0.888889   0.666667   0.769231  0.853333    0.851317   \n",
       "support    43.000000  48.000000  37.000000  48.000000  0.853333  450.000000   \n",
       "\n",
       "           weighted avg  \n",
       "precision      0.888366  \n",
       "recall         0.853333  \n",
       "f1-score       0.856509  \n",
       "support      450.000000  "
      ]
     },
     "execution_count": 16,
     "metadata": {},
     "output_type": "execute_result"
    }
   ],
   "source": [
    "scores_dic = metrics.classification_report(ys_test, ys_pred, output_dict=True)\n",
    "scores_df = pd.DataFrame(scores_dic)\n",
    "scores_df"
   ]
  },
  {
   "cell_type": "code",
   "execution_count": 17,
   "id": "5f55d1e3",
   "metadata": {},
   "outputs": [
    {
     "data": {
      "text/html": [
       "<div>\n",
       "<style scoped>\n",
       "    .dataframe tbody tr th:only-of-type {\n",
       "        vertical-align: middle;\n",
       "    }\n",
       "\n",
       "    .dataframe tbody tr th {\n",
       "        vertical-align: top;\n",
       "    }\n",
       "\n",
       "    .dataframe thead th {\n",
       "        text-align: right;\n",
       "    }\n",
       "</style>\n",
       "<table border=\"1\" class=\"dataframe\">\n",
       "  <thead>\n",
       "    <tr style=\"text-align: right;\">\n",
       "      <th></th>\n",
       "      <th>precision</th>\n",
       "      <th>recall</th>\n",
       "      <th>f1-score</th>\n",
       "      <th>support</th>\n",
       "    </tr>\n",
       "  </thead>\n",
       "  <tbody>\n",
       "    <tr>\n",
       "      <th>0</th>\n",
       "      <td>0.981</td>\n",
       "      <td>0.962</td>\n",
       "      <td>0.971</td>\n",
       "      <td>53</td>\n",
       "    </tr>\n",
       "    <tr>\n",
       "      <th>1</th>\n",
       "      <td>0.81</td>\n",
       "      <td>0.81</td>\n",
       "      <td>0.81</td>\n",
       "      <td>42</td>\n",
       "    </tr>\n",
       "    <tr>\n",
       "      <th>2</th>\n",
       "      <td>0.931</td>\n",
       "      <td>0.659</td>\n",
       "      <td>0.771</td>\n",
       "      <td>41</td>\n",
       "    </tr>\n",
       "    <tr>\n",
       "      <th>3</th>\n",
       "      <td>0.93</td>\n",
       "      <td>0.769</td>\n",
       "      <td>0.842</td>\n",
       "      <td>52</td>\n",
       "    </tr>\n",
       "    <tr>\n",
       "      <th>4</th>\n",
       "      <td>0.935</td>\n",
       "      <td>0.915</td>\n",
       "      <td>0.925</td>\n",
       "      <td>47</td>\n",
       "    </tr>\n",
       "    <tr>\n",
       "      <th>5</th>\n",
       "      <td>0.943</td>\n",
       "      <td>0.846</td>\n",
       "      <td>0.892</td>\n",
       "      <td>39</td>\n",
       "    </tr>\n",
       "    <tr>\n",
       "      <th>6</th>\n",
       "      <td>0.956</td>\n",
       "      <td>1</td>\n",
       "      <td>0.977</td>\n",
       "      <td>43</td>\n",
       "    </tr>\n",
       "    <tr>\n",
       "      <th>7</th>\n",
       "      <td>0.8</td>\n",
       "      <td>1</td>\n",
       "      <td>0.889</td>\n",
       "      <td>48</td>\n",
       "    </tr>\n",
       "    <tr>\n",
       "      <th>8</th>\n",
       "      <td>0.515</td>\n",
       "      <td>0.946</td>\n",
       "      <td>0.667</td>\n",
       "      <td>37</td>\n",
       "    </tr>\n",
       "    <tr>\n",
       "      <th>9</th>\n",
       "      <td>1</td>\n",
       "      <td>0.625</td>\n",
       "      <td>0.769</td>\n",
       "      <td>48</td>\n",
       "    </tr>\n",
       "    <tr>\n",
       "      <th>accuracy</th>\n",
       "      <td>0.853</td>\n",
       "      <td>0.853</td>\n",
       "      <td>0.853</td>\n",
       "      <td>0.853</td>\n",
       "    </tr>\n",
       "    <tr>\n",
       "      <th>macro avg</th>\n",
       "      <td>0.88</td>\n",
       "      <td>0.853</td>\n",
       "      <td>0.851</td>\n",
       "      <td>450</td>\n",
       "    </tr>\n",
       "    <tr>\n",
       "      <th>weighted avg</th>\n",
       "      <td>0.888</td>\n",
       "      <td>0.853</td>\n",
       "      <td>0.857</td>\n",
       "      <td>450</td>\n",
       "    </tr>\n",
       "  </tbody>\n",
       "</table>\n",
       "</div>"
      ],
      "text/plain": [
       "              precision  recall  f1-score  support\n",
       "0                 0.981   0.962     0.971       53\n",
       "1                  0.81    0.81      0.81       42\n",
       "2                 0.931   0.659     0.771       41\n",
       "3                  0.93   0.769     0.842       52\n",
       "4                 0.935   0.915     0.925       47\n",
       "5                 0.943   0.846     0.892       39\n",
       "6                 0.956       1     0.977       43\n",
       "7                   0.8       1     0.889       48\n",
       "8                 0.515   0.946     0.667       37\n",
       "9                     1   0.625     0.769       48\n",
       "accuracy          0.853   0.853     0.853    0.853\n",
       "macro avg          0.88   0.853     0.851      450\n",
       "weighted avg      0.888   0.853     0.857      450"
      ]
     },
     "metadata": {},
     "output_type": "display_data"
    }
   ],
   "source": [
    "scores_dic = metrics.classification_report(ys_test, ys_pred, output_dict=True)\n",
    "scores_df = pd.DataFrame(scores_dic).transpose()  # .style.set_precision(2)\n",
    "\n",
    "with pd.option_context(\"display.float_format\", \"{:.3g}\".format):\n",
    "    display(scores_df)"
   ]
  },
  {
   "cell_type": "code",
   "execution_count": 18,
   "id": "528483fb",
   "metadata": {},
   "outputs": [
    {
     "data": {
      "text/plain": [
       "0               0.980769\n",
       "1               0.809524\n",
       "2               0.931034\n",
       "3               0.930233\n",
       "4               0.934783\n",
       "5               0.942857\n",
       "6               0.955556\n",
       "7               0.800000\n",
       "8               0.514706\n",
       "9               1.000000\n",
       "accuracy        0.853333\n",
       "macro avg       0.879946\n",
       "weighted avg    0.888366\n",
       "Name: precision, dtype: float64"
      ]
     },
     "execution_count": 18,
     "metadata": {},
     "output_type": "execute_result"
    }
   ],
   "source": [
    "scores_df[\"precision\"]"
   ]
  },
  {
   "cell_type": "markdown",
   "id": "intelligent-questionnaire",
   "metadata": {},
   "source": [
    "#### Confusion matrix"
   ]
  },
  {
   "cell_type": "markdown",
   "id": "cross-click",
   "metadata": {},
   "source": [
    "Use the method [`plot_confusion_matrix`](https://scikit-learn.org/stable/modules/generated/sklearn.metrics.plot_confusion_matrix.html)\n",
    "to display the confusion matrix.\n",
    "\n",
    "Briefly comment on the results.\n",
    "\n",
    "Note that the `.confusion_matrix` attribute of the object returned by this method allows to obtain the confusion matrix in the form of an array."
   ]
  },
  {
   "cell_type": "markdown",
   "id": "d7521f1f",
   "metadata": {},
   "source": [
    "<span style=\"color:red\">Implement your solution below and comment briefly</span>"
   ]
  },
  {
   "cell_type": "code",
   "execution_count": 19,
   "id": "32d232ca",
   "metadata": {},
   "outputs": [
    {
     "data": {
      "image/png": "[encoded data removed]",
      "text/plain": [
       "<Figure size 640x480 with 2 Axes>"
      ]
     },
     "metadata": {},
     "output_type": "display_data"
    }
   ],
   "source": [
    "disp = metrics.ConfusionMatrixDisplay.from_estimator(\n",
    "    model, xs_test, ys_test, cmap=plt.cm.Blues\n",
    ")\n",
    "disp.figure_.suptitle(\"Confusion Matrix\")\n",
    "plt.show()"
   ]
  },
  {
   "cell_type": "code",
   "execution_count": 20,
   "id": "1a286527",
   "metadata": {},
   "outputs": [
    {
     "name": "stdout",
     "output_type": "stream",
     "text": [
      "Confusion matrix:\n",
      "\n",
      "[[51  0  0  0  1  0  0  1  0  0]\n",
      " [ 0 34  0  0  0  0  0  0  8  0]\n",
      " [ 0  4 27  0  0  0  0  0 10  0]\n",
      " [ 0  1  2 40  0  1  0  3  5  0]\n",
      " [ 1  0  0  0 43  0  2  0  1  0]\n",
      " [ 0  1  0  1  0 33  0  2  2  0]\n",
      " [ 0  0  0  0  0  0 43  0  0  0]\n",
      " [ 0  0  0  0  0  0  0 48  0  0]\n",
      " [ 0  1  0  1  0  0  0  0 35  0]\n",
      " [ 0  1  0  1  2  1  0  6  7 30]]\n"
     ]
    }
   ],
   "source": [
    "print(f\"Confusion matrix:\\n\\n{disp.confusion_matrix}\")"
   ]
  },
  {
   "cell_type": "markdown",
   "id": "occasional-thomson",
   "metadata": {},
   "source": [
    "#### Error visualization\n",
    "\n",
    "Identify the most confusing cases.\n",
    "\n",
    "Identify misclassified instances for the lowest f1-scoring cipher class and visualize them with the code below.\n",
    "\n",
    "You may use the function [numpy.where](https://numpy.org/doc/stable/reference/generated/numpy.where.html) to find the index of the concerned instances."
   ]
  },
  {
   "cell_type": "markdown",
   "id": "dried-restaurant",
   "metadata": {},
   "source": [
    "Identifiez les cas les plus confus.\n",
    "\n",
    "Identifiez les instances mal classées pour la classe de chiffre au f1-score le plus faible et visualisez les avec le code ci-dessous.\n",
    "\n",
    "Vous pouvez utiliser la fonction [numpy.where](https://numpy.org/doc/stable/reference/generated/numpy.where.html) pour trouver l'index des instances en question."
   ]
  },
  {
   "cell_type": "markdown",
   "id": "44f27aaa",
   "metadata": {},
   "source": [
    "<span style=\"color:red\">Implement your solution below and comment briefly</span>"
   ]
  },
  {
   "cell_type": "code",
   "execution_count": 21,
   "id": "dd4b59e4",
   "metadata": {},
   "outputs": [
    {
     "data": {
      "text/plain": [
       "array([ 21,  65, 114, 203, 270, 333, 371, 416], dtype=int64)"
      ]
     },
     "execution_count": 21,
     "metadata": {},
     "output_type": "execute_result"
    }
   ],
   "source": [
    "(indexes,) = np.where((ys_test == 1) & (ys_test != ys_pred))\n",
    "indexes"
   ]
  },
  {
   "cell_type": "code",
   "execution_count": 22,
   "id": "d5de1063",
   "metadata": {},
   "outputs": [],
   "source": [
    "def plot_digit(xs, ys, idx):\n",
    "    print(f\"Digit value: {ys[idx]}\")\n",
    "\n",
    "    plt.figure(figsize=(3, 3))\n",
    "    plt.imshow(\n",
    "        xs[idx].reshape([8, 8]),\n",
    "        cmap=plt.cm.gray_r,\n",
    "        interpolation=\"nearest\",\n",
    "    )"
   ]
  },
  {
   "cell_type": "code",
   "execution_count": 23,
   "id": "feb2b078",
   "metadata": {},
   "outputs": [
    {
     "name": "stdout",
     "output_type": "stream",
     "text": [
      "Digit value: 1\n"
     ]
    },
    {
     "data": {
      "image/png": "[encoded data removed]",
      "text/plain": [
       "<Figure size 300x300 with 1 Axes>"
      ]
     },
     "metadata": {},
     "output_type": "display_data"
    }
   ],
   "source": [
    "plot_digit(xs=xs_test, ys=ys_test, idx=21)"
   ]
  },
  {
   "cell_type": "markdown",
   "id": "cross-candidate",
   "metadata": {},
   "source": [
    "---"
   ]
  },
  {
   "cell_type": "markdown",
   "id": "controversial-enclosure",
   "metadata": {},
   "source": [
    "### PCA"
   ]
  },
  {
   "cell_type": "markdown",
   "id": "british-bahamas",
   "metadata": {},
   "source": [
    "Try to reduce the number of features through the ([PCA](https://scikit-learn.org/stable/modules/generated/sklearn.decomposition.PCA.html)), by choosing, e.g., the 10 first principal components."
   ]
  },
  {
   "cell_type": "markdown",
   "id": "crude-bench",
   "metadata": {},
   "source": [
    "#### PCA and training/evaluation data selection"
   ]
  },
  {
   "cell_type": "markdown",
   "id": "34d70a06",
   "metadata": {},
   "source": [
    "<span style=\"color:red\">Implement your solution below and comment briefly</span>"
   ]
  },
  {
   "cell_type": "code",
   "execution_count": 24,
   "id": "497fc40f",
   "metadata": {},
   "outputs": [
    {
     "name": "stdout",
     "output_type": "stream",
     "text": [
      "(1347, 64) (450, 64)\n",
      "(1347, 10) (450, 10)\n"
     ]
    }
   ],
   "source": [
    "N_COMP = 10\n",
    "\n",
    "pca = decomposition.PCA(n_components=N_COMP)\n",
    "xps_train = pca.fit_transform(xs_train)\n",
    "xps_test = pca.transform(xs_test)\n",
    "\n",
    "print(xs_train.shape, xs_test.shape)\n",
    "print(xps_train.shape, xps_test.shape)"
   ]
  },
  {
   "cell_type": "markdown",
   "id": "cooked-mailman",
   "metadata": {},
   "source": [
    "#### Model training"
   ]
  },
  {
   "cell_type": "markdown",
   "id": "b0f367b2",
   "metadata": {},
   "source": [
    "<span style=\"color:red\">Implement your solution below and comment briefly</span>"
   ]
  },
  {
   "cell_type": "code",
   "execution_count": 25,
   "id": "2b3e8d8f",
   "metadata": {},
   "outputs": [],
   "source": [
    "# 2. Instantiation\n",
    "model = naive_bayes.GaussianNB()\n",
    "\n",
    "# 3. Learn (fit) the model\n",
    "model.fit(xps_train, ys_train)\n",
    "\n",
    "# 4. Predict on new data\n",
    "yps_pred = model.predict(xps_test)"
   ]
  },
  {
   "cell_type": "markdown",
   "id": "noble-national",
   "metadata": {},
   "source": [
    "#### Evaluation"
   ]
  },
  {
   "cell_type": "markdown",
   "id": "3381f52e",
   "metadata": {},
   "source": [
    "<span style=\"color:red\">Implement your solution below and comment briefly</span>"
   ]
  },
  {
   "cell_type": "code",
   "execution_count": 26,
   "id": "3edd107e",
   "metadata": {},
   "outputs": [
    {
     "name": "stdout",
     "output_type": "stream",
     "text": [
      "0.911\n",
      "              precision    recall  f1-score   support\n",
      "\n",
      "           0       1.00      0.94      0.97        53\n",
      "           1       0.73      0.88      0.80        42\n",
      "           2       0.95      0.85      0.90        41\n",
      "           3       0.96      0.83      0.89        52\n",
      "           4       0.98      1.00      0.99        47\n",
      "           5       0.88      0.95      0.91        39\n",
      "           6       1.00      1.00      1.00        43\n",
      "           7       0.90      0.96      0.93        48\n",
      "           8       0.86      0.81      0.83        37\n",
      "           9       0.88      0.88      0.88        48\n",
      "\n",
      "    accuracy                           0.91       450\n",
      "   macro avg       0.91      0.91      0.91       450\n",
      "weighted avg       0.92      0.91      0.91       450\n",
      "\n"
     ]
    }
   ],
   "source": [
    "score = metrics.accuracy_score(ys_test, yps_pred)\n",
    "print(f\"{score :.03f}\")\n",
    "\n",
    "print(metrics.classification_report(ys_test, yps_pred))"
   ]
  },
  {
   "cell_type": "markdown",
   "id": "sacred-boston",
   "metadata": {},
   "source": [
    "---"
   ]
  },
  {
   "cell_type": "markdown",
   "id": "catholic-magazine",
   "metadata": {},
   "source": [
    "### Cross-Validation"
   ]
  },
  {
   "cell_type": "markdown",
   "id": "apart-socket",
   "metadata": {},
   "source": [
    "#### Data preparation"
   ]
  },
  {
   "cell_type": "markdown",
   "id": "respected-recording",
   "metadata": {},
   "source": [
    "Use the function [`cross_val_score`](https://scikit-learn.org/stable/modules/generated/sklearn.model_selection.cross_val_score.html) to implement cross-validation.\n",
    "\n",
    "You may choose to do 10 splits (`cv=10`).\n",
    "\n",
    "Choose as *scoring* `\"f1_weighted\"`, then the function will return the corresponding scores in an array.\n",
    "\n",
    "By way of example and in order to be able to compare the results with the previous ones, the first application will be done on the entire dataset (which is usually not recommended)."
   ]
  },
  {
   "cell_type": "markdown",
   "id": "ce2ad1c3",
   "metadata": {},
   "source": [
    "<span style=\"color:red\">Implement your solution below and comment briefly</span>"
   ]
  },
  {
   "cell_type": "code",
   "execution_count": 27,
   "id": "suspended-newman",
   "metadata": {},
   "outputs": [
    {
     "name": "stdout",
     "output_type": "stream",
     "text": [
      "[0.94405607 0.89645321 0.88335747 0.89210919 0.94032719 0.88795071\n",
      " 0.91874958 0.895143   0.91127911 0.90996237]\n",
      "\n",
      "f1_weighted: 0.908, with std dev: 0.020\n",
      "\n"
     ]
    }
   ],
   "source": [
    "SCORINGS = \"f1_weighted\"\n",
    "\n",
    "xps = np.vstack([xps_train, xps_test])\n",
    "yps = np.hstack([ys_train, ys_test])\n",
    "\n",
    "scores = model_selection.cross_val_score(\n",
    "    model, xps, yps, cv=10, scoring=SCORINGS\n",
    ")\n",
    "print(scores)\n",
    "\n",
    "print(f\"\\n{SCORINGS}: {scores.mean():.3f}, with std dev: {scores.std():.3f}\\n\")"
   ]
  },
  {
   "cell_type": "markdown",
   "id": "yellow-planner",
   "metadata": {},
   "source": [
    "Show the results with a [`plt.bar`] (https://matplotlib.org/stable/api/_as_gen/matplotlib.pyplot.bar.html) which includes an error bar `yerr` equal to 1 [standard deviation](https://numpy.org/doc/stable/reference/generated/numpy.std.html), as well as in a [`boxplot`](https://matplotlib.org/stable/api/_as_gen/ matplotlib.pyplot.boxplot.html)."
   ]
  },
  {
   "cell_type": "markdown",
   "id": "0d657fcd",
   "metadata": {},
   "source": [
    "<span style=\"color:red\">Implement your solution below and comment briefly</span>"
   ]
  },
  {
   "cell_type": "code",
   "execution_count": 28,
   "id": "d3637684",
   "metadata": {},
   "outputs": [
    {
     "data": {
      "image/png": "[encoded data removed]",
      "text/plain": [
       "<Figure size 640x480 with 1 Axes>"
      ]
     },
     "metadata": {},
     "output_type": "display_data"
    }
   ],
   "source": [
    "plt.bar([str(model)], scores.mean(), yerr=scores.std())\n",
    "plt.xlim(-2, 2)\n",
    "plt.show()"
   ]
  },
  {
   "cell_type": "code",
   "execution_count": 29,
   "id": "a8a78d6b",
   "metadata": {},
   "outputs": [
    {
     "data": {
      "image/png": "[encoded data removed]",
      "text/plain": [
       "<Figure size 640x480 with 1 Axes>"
      ]
     },
     "metadata": {},
     "output_type": "display_data"
    }
   ],
   "source": [
    "plt.boxplot(scores)\n",
    "plt.xticks([1], [str(model)])\n",
    "plt.show()"
   ]
  },
  {
   "cell_type": "markdown",
   "id": "speaking-drawing",
   "metadata": {},
   "source": [
    "---"
   ]
  },
  {
   "cell_type": "markdown",
   "id": "large-salon",
   "metadata": {},
   "source": [
    "### Grid Search"
   ]
  },
  {
   "cell_type": "markdown",
   "id": "adult-validation",
   "metadata": {},
   "source": [
    "This time, we are going to use cross-validation for one of its primary use: to validate the choice of hyperparameters."
   ]
  },
  {
   "cell_type": "markdown",
   "id": "metropolitan-louisville",
   "metadata": {},
   "source": [
    "We will use the class\n",
    "[`model_selection.GridSearchCV`](https://scikit-learn.org/stable/modules/generated/sklearn.model_selection.GridSearchCV.html) to choose the best number of main components for the PCA.\n",
    "\n",
    "This class makes it possible to test several hyperparameters (stored in a dictionary) and to test them via cross-validation (hence the CV in the name).\n",
    "\n",
    "To do this, we no longer need to worry about creating the different subsets, the `GridSearchCV` class does it for us."
   ]
  },
  {
   "cell_type": "code",
   "execution_count": 30,
   "id": "dirty-northwest",
   "metadata": {},
   "outputs": [],
   "source": [
    "param_grid = {\"pca__n_components\": [1, 2, 5, 10, 20, 30, 40, 60]}"
   ]
  },
  {
   "cell_type": "markdown",
   "id": "accomplished-elements",
   "metadata": {},
   "source": [
    "We're going to use a [`pipeline`](https://scikit-learn.org/stable/modules/generated/sklearn.pipeline.Pipeline.html) to do PCA compression and training with the model together, which will allow us to modify the hyperparameters at any step of the process through a single command.\n",
    "\n",
    "We will have to use the exact names of the hyperparameters to modify in the dictionary, preceded by the name of the module and a double *underscore* (e.g., here: `\"pca__\"`), in order to be able to assign them to the right step of the `pipeline`."
   ]
  },
  {
   "cell_type": "markdown",
   "id": "confused-alias",
   "metadata": {},
   "source": [
    "<span style=\"color:red\">Implement your solution below and comment briefly</span>"
   ]
  },
  {
   "cell_type": "code",
   "execution_count": 31,
   "id": "printable-cardiff",
   "metadata": {},
   "outputs": [],
   "source": [
    "# Define the pipeline\n",
    "\n",
    "# Define a pipeline to search for the best combination of PCA truncation\n",
    "# and classifier regularization.\n",
    "\n",
    "pca = decomposition.PCA()\n",
    "model = naive_bayes.GaussianNB()\n",
    "pipe = pipeline.Pipeline(steps=[(\"pca\", pca), (\"model\", model)])"
   ]
  },
  {
   "cell_type": "code",
   "execution_count": 32,
   "id": "favorite-decade",
   "metadata": {},
   "outputs": [
    {
     "name": "stdout",
     "output_type": "stream",
     "text": [
      "Fitting 10 folds for each of 8 candidates, totalling 80 fits\n"
     ]
    },
    {
     "data": {
      "text/html": [
       "<style>#sk-container-id-1 {color: black;background-color: white;}#sk-container-id-1 pre{padding: 0;}#sk-container-id-1 div.sk-toggleable {background-color: white;}#sk-container-id-1 label.sk-toggleable__label {cursor: pointer;display: block;width: 100%;margin-bottom: 0;padding: 0.3em;box-sizing: border-box;text-align: center;}#sk-container-id-1 label.sk-toggleable__label-arrow:before {content: \"▸\";float: left;margin-right: 0.25em;color: #696969;}#sk-container-id-1 label.sk-toggleable__label-arrow:hover:before {color: black;}#sk-container-id-1 div.sk-estimator:hover label.sk-toggleable__label-arrow:before {color: black;}#sk-container-id-1 div.sk-toggleable__content {max-height: 0;max-width: 0;overflow: hidden;text-align: left;background-color: #f0f8ff;}#sk-container-id-1 div.sk-toggleable__content pre {margin: 0.2em;color: black;border-radius: 0.25em;background-color: #f0f8ff;}#sk-container-id-1 input.sk-toggleable__control:checked~div.sk-toggleable__content {max-height: 200px;max-width: 100%;overflow: auto;}#sk-container-id-1 input.sk-toggleable__control:checked~label.sk-toggleable__label-arrow:before {content: \"▾\";}#sk-container-id-1 div.sk-estimator input.sk-toggleable__control:checked~label.sk-toggleable__label {background-color: #d4ebff;}#sk-container-id-1 div.sk-label input.sk-toggleable__control:checked~label.sk-toggleable__label {background-color: #d4ebff;}#sk-container-id-1 input.sk-hidden--visually {border: 0;clip: rect(1px 1px 1px 1px);clip: rect(1px, 1px, 1px, 1px);height: 1px;margin: -1px;overflow: hidden;padding: 0;position: absolute;width: 1px;}#sk-container-id-1 div.sk-estimator {font-family: monospace;background-color: #f0f8ff;border: 1px dotted black;border-radius: 0.25em;box-sizing: border-box;margin-bottom: 0.5em;}#sk-container-id-1 div.sk-estimator:hover {background-color: #d4ebff;}#sk-container-id-1 div.sk-parallel-item::after {content: \"\";width: 100%;border-bottom: 1px solid gray;flex-grow: 1;}#sk-container-id-1 div.sk-label:hover label.sk-toggleable__label {background-color: #d4ebff;}#sk-container-id-1 div.sk-serial::before {content: \"\";position: absolute;border-left: 1px solid gray;box-sizing: border-box;top: 0;bottom: 0;left: 50%;z-index: 0;}#sk-container-id-1 div.sk-serial {display: flex;flex-direction: column;align-items: center;background-color: white;padding-right: 0.2em;padding-left: 0.2em;position: relative;}#sk-container-id-1 div.sk-item {position: relative;z-index: 1;}#sk-container-id-1 div.sk-parallel {display: flex;align-items: stretch;justify-content: center;background-color: white;position: relative;}#sk-container-id-1 div.sk-item::before, #sk-container-id-1 div.sk-parallel-item::before {content: \"\";position: absolute;border-left: 1px solid gray;box-sizing: border-box;top: 0;bottom: 0;left: 50%;z-index: -1;}#sk-container-id-1 div.sk-parallel-item {display: flex;flex-direction: column;z-index: 1;position: relative;background-color: white;}#sk-container-id-1 div.sk-parallel-item:first-child::after {align-self: flex-end;width: 50%;}#sk-container-id-1 div.sk-parallel-item:last-child::after {align-self: flex-start;width: 50%;}#sk-container-id-1 div.sk-parallel-item:only-child::after {width: 0;}#sk-container-id-1 div.sk-dashed-wrapped {border: 1px dashed gray;margin: 0 0.4em 0.5em 0.4em;box-sizing: border-box;padding-bottom: 0.4em;background-color: white;}#sk-container-id-1 div.sk-label label {font-family: monospace;font-weight: bold;display: inline-block;line-height: 1.2em;}#sk-container-id-1 div.sk-label-container {text-align: center;}#sk-container-id-1 div.sk-container {/* jupyter's `normalize.less` sets `[hidden] { display: none; }` but bootstrap.min.css set `[hidden] { display: none !important; }` so we also need the `!important` here to be able to override the default hidden behavior on the sphinx rendered scikit-learn.org. See: https://github.com/scikit-learn/scikit-learn/issues/21755 */display: inline-block !important;position: relative;}#sk-container-id-1 div.sk-text-repr-fallback {display: none;}</style><div id=\"sk-container-id-1\" class=\"sk-top-container\"><div class=\"sk-text-repr-fallback\"><pre>GridSearchCV(cv=10,\n",
       "             estimator=Pipeline(steps=[(&#x27;pca&#x27;, PCA()),\n",
       "                                       (&#x27;model&#x27;, GaussianNB())]),\n",
       "             n_jobs=-1,\n",
       "             param_grid={&#x27;pca__n_components&#x27;: [1, 2, 5, 10, 20, 30, 40, 60]},\n",
       "             scoring=&#x27;f1_weighted&#x27;, verbose=1)</pre><b>In a Jupyter environment, please rerun this cell to show the HTML representation or trust the notebook. <br />On GitHub, the HTML representation is unable to render, please try loading this page with nbviewer.org.</b></div><div class=\"sk-container\" hidden><div class=\"sk-item sk-dashed-wrapped\"><div class=\"sk-label-container\"><div class=\"sk-label sk-toggleable\"><input class=\"sk-toggleable__control sk-hidden--visually\" id=\"sk-estimator-id-1\" type=\"checkbox\" ><label for=\"sk-estimator-id-1\" class=\"sk-toggleable__label sk-toggleable__label-arrow\">GridSearchCV</label><div class=\"sk-toggleable__content\"><pre>GridSearchCV(cv=10,\n",
       "             estimator=Pipeline(steps=[(&#x27;pca&#x27;, PCA()),\n",
       "                                       (&#x27;model&#x27;, GaussianNB())]),\n",
       "             n_jobs=-1,\n",
       "             param_grid={&#x27;pca__n_components&#x27;: [1, 2, 5, 10, 20, 30, 40, 60]},\n",
       "             scoring=&#x27;f1_weighted&#x27;, verbose=1)</pre></div></div></div><div class=\"sk-parallel\"><div class=\"sk-parallel-item\"><div class=\"sk-item\"><div class=\"sk-label-container\"><div class=\"sk-label sk-toggleable\"><input class=\"sk-toggleable__control sk-hidden--visually\" id=\"sk-estimator-id-2\" type=\"checkbox\" ><label for=\"sk-estimator-id-2\" class=\"sk-toggleable__label sk-toggleable__label-arrow\">estimator: Pipeline</label><div class=\"sk-toggleable__content\"><pre>Pipeline(steps=[(&#x27;pca&#x27;, PCA()), (&#x27;model&#x27;, GaussianNB())])</pre></div></div></div><div class=\"sk-serial\"><div class=\"sk-item\"><div class=\"sk-serial\"><div class=\"sk-item\"><div class=\"sk-estimator sk-toggleable\"><input class=\"sk-toggleable__control sk-hidden--visually\" id=\"sk-estimator-id-3\" type=\"checkbox\" ><label for=\"sk-estimator-id-3\" class=\"sk-toggleable__label sk-toggleable__label-arrow\">PCA</label><div class=\"sk-toggleable__content\"><pre>PCA()</pre></div></div></div><div class=\"sk-item\"><div class=\"sk-estimator sk-toggleable\"><input class=\"sk-toggleable__control sk-hidden--visually\" id=\"sk-estimator-id-4\" type=\"checkbox\" ><label for=\"sk-estimator-id-4\" class=\"sk-toggleable__label sk-toggleable__label-arrow\">GaussianNB</label><div class=\"sk-toggleable__content\"><pre>GaussianNB()</pre></div></div></div></div></div></div></div></div></div></div></div></div>"
      ],
      "text/plain": [
       "GridSearchCV(cv=10,\n",
       "             estimator=Pipeline(steps=[('pca', PCA()),\n",
       "                                       ('model', GaussianNB())]),\n",
       "             n_jobs=-1,\n",
       "             param_grid={'pca__n_components': [1, 2, 5, 10, 20, 30, 40, 60]},\n",
       "             scoring='f1_weighted', verbose=1)"
      ]
     },
     "execution_count": 32,
     "metadata": {},
     "output_type": "execute_result"
    }
   ],
   "source": [
    "# Define the gridsearch using the pipeline and fit the model\n",
    "\n",
    "# Parameters of pipelines can be set using ‘__’ separated parameter names:\n",
    "\n",
    "search = model_selection.GridSearchCV(\n",
    "    pipe, param_grid, n_jobs=-1, scoring=SCORINGS, verbose=1, cv=10\n",
    ")\n",
    "\n",
    "search.fit(data, digits.target)"
   ]
  },
  {
   "cell_type": "code",
   "execution_count": 33,
   "id": "instrumental-czech",
   "metadata": {},
   "outputs": [
    {
     "name": "stdout",
     "output_type": "stream",
     "text": [
      "Best parameter (CV score: 0.915)\n",
      "{'pca__n_components': 30}\n"
     ]
    },
    {
     "data": {
      "text/html": [
       "<div>\n",
       "<style scoped>\n",
       "    .dataframe tbody tr th:only-of-type {\n",
       "        vertical-align: middle;\n",
       "    }\n",
       "\n",
       "    .dataframe tbody tr th {\n",
       "        vertical-align: top;\n",
       "    }\n",
       "\n",
       "    .dataframe thead th {\n",
       "        text-align: right;\n",
       "    }\n",
       "</style>\n",
       "<table border=\"1\" class=\"dataframe\">\n",
       "  <thead>\n",
       "    <tr style=\"text-align: right;\">\n",
       "      <th></th>\n",
       "      <th>mean_fit_time</th>\n",
       "      <th>std_fit_time</th>\n",
       "      <th>mean_score_time</th>\n",
       "      <th>std_score_time</th>\n",
       "      <th>param_pca__n_components</th>\n",
       "      <th>params</th>\n",
       "      <th>split0_test_score</th>\n",
       "      <th>split1_test_score</th>\n",
       "      <th>split2_test_score</th>\n",
       "      <th>split3_test_score</th>\n",
       "      <th>split4_test_score</th>\n",
       "      <th>split5_test_score</th>\n",
       "      <th>split6_test_score</th>\n",
       "      <th>split7_test_score</th>\n",
       "      <th>split8_test_score</th>\n",
       "      <th>split9_test_score</th>\n",
       "      <th>mean_test_score</th>\n",
       "      <th>std_test_score</th>\n",
       "      <th>rank_test_score</th>\n",
       "    </tr>\n",
       "  </thead>\n",
       "  <tbody>\n",
       "    <tr>\n",
       "      <th>0</th>\n",
       "      <td>0.018</td>\n",
       "      <td>0.0075</td>\n",
       "      <td>0.0022</td>\n",
       "      <td>0.00032</td>\n",
       "      <td>1</td>\n",
       "      <td>{'pca__n_components': 1}</td>\n",
       "      <td>0.3</td>\n",
       "      <td>0.37</td>\n",
       "      <td>0.25</td>\n",
       "      <td>0.28</td>\n",
       "      <td>0.32</td>\n",
       "      <td>0.28</td>\n",
       "      <td>0.36</td>\n",
       "      <td>0.3</td>\n",
       "      <td>0.3</td>\n",
       "      <td>0.28</td>\n",
       "      <td>0.3</td>\n",
       "      <td>0.036</td>\n",
       "      <td>8</td>\n",
       "    </tr>\n",
       "    <tr>\n",
       "      <th>1</th>\n",
       "      <td>0.0087</td>\n",
       "      <td>0.0017</td>\n",
       "      <td>0.0023</td>\n",
       "      <td>0.00045</td>\n",
       "      <td>2</td>\n",
       "      <td>{'pca__n_components': 2}</td>\n",
       "      <td>0.54</td>\n",
       "      <td>0.68</td>\n",
       "      <td>0.59</td>\n",
       "      <td>0.64</td>\n",
       "      <td>0.66</td>\n",
       "      <td>0.59</td>\n",
       "      <td>0.62</td>\n",
       "      <td>0.57</td>\n",
       "      <td>0.58</td>\n",
       "      <td>0.58</td>\n",
       "      <td>0.6</td>\n",
       "      <td>0.042</td>\n",
       "      <td>7</td>\n",
       "    </tr>\n",
       "    <tr>\n",
       "      <th>2</th>\n",
       "      <td>0.0096</td>\n",
       "      <td>0.0032</td>\n",
       "      <td>0.0029</td>\n",
       "      <td>0.0014</td>\n",
       "      <td>5</td>\n",
       "      <td>{'pca__n_components': 5}</td>\n",
       "      <td>0.83</td>\n",
       "      <td>0.88</td>\n",
       "      <td>0.79</td>\n",
       "      <td>0.82</td>\n",
       "      <td>0.84</td>\n",
       "      <td>0.77</td>\n",
       "      <td>0.83</td>\n",
       "      <td>0.83</td>\n",
       "      <td>0.75</td>\n",
       "      <td>0.84</td>\n",
       "      <td>0.82</td>\n",
       "      <td>0.035</td>\n",
       "      <td>6</td>\n",
       "    </tr>\n",
       "    <tr>\n",
       "      <th>3</th>\n",
       "      <td>0.0096</td>\n",
       "      <td>0.001</td>\n",
       "      <td>0.0023</td>\n",
       "      <td>0.00039</td>\n",
       "      <td>10</td>\n",
       "      <td>{'pca__n_components': 10}</td>\n",
       "      <td>0.88</td>\n",
       "      <td>0.92</td>\n",
       "      <td>0.89</td>\n",
       "      <td>0.87</td>\n",
       "      <td>0.89</td>\n",
       "      <td>0.9</td>\n",
       "      <td>0.93</td>\n",
       "      <td>0.96</td>\n",
       "      <td>0.84</td>\n",
       "      <td>0.87</td>\n",
       "      <td>0.89</td>\n",
       "      <td>0.031</td>\n",
       "      <td>4</td>\n",
       "    </tr>\n",
       "    <tr>\n",
       "      <th>4</th>\n",
       "      <td>0.013</td>\n",
       "      <td>0.00097</td>\n",
       "      <td>0.0025</td>\n",
       "      <td>0.00066</td>\n",
       "      <td>20</td>\n",
       "      <td>{'pca__n_components': 20}</td>\n",
       "      <td>0.88</td>\n",
       "      <td>0.95</td>\n",
       "      <td>0.89</td>\n",
       "      <td>0.89</td>\n",
       "      <td>0.89</td>\n",
       "      <td>0.91</td>\n",
       "      <td>0.96</td>\n",
       "      <td>0.97</td>\n",
       "      <td>0.85</td>\n",
       "      <td>0.91</td>\n",
       "      <td>0.91</td>\n",
       "      <td>0.036</td>\n",
       "      <td>3</td>\n",
       "    </tr>\n",
       "    <tr>\n",
       "      <th>5</th>\n",
       "      <td>0.016</td>\n",
       "      <td>0.0015</td>\n",
       "      <td>0.0029</td>\n",
       "      <td>0.00058</td>\n",
       "      <td>30</td>\n",
       "      <td>{'pca__n_components': 30}</td>\n",
       "      <td>0.89</td>\n",
       "      <td>0.94</td>\n",
       "      <td>0.9</td>\n",
       "      <td>0.92</td>\n",
       "      <td>0.89</td>\n",
       "      <td>0.91</td>\n",
       "      <td>0.97</td>\n",
       "      <td>0.97</td>\n",
       "      <td>0.85</td>\n",
       "      <td>0.9</td>\n",
       "      <td>0.92</td>\n",
       "      <td>0.036</td>\n",
       "      <td>1</td>\n",
       "    </tr>\n",
       "    <tr>\n",
       "      <th>6</th>\n",
       "      <td>0.027</td>\n",
       "      <td>0.0056</td>\n",
       "      <td>0.005</td>\n",
       "      <td>0.0045</td>\n",
       "      <td>40</td>\n",
       "      <td>{'pca__n_components': 40}</td>\n",
       "      <td>0.88</td>\n",
       "      <td>0.92</td>\n",
       "      <td>0.91</td>\n",
       "      <td>0.93</td>\n",
       "      <td>0.89</td>\n",
       "      <td>0.91</td>\n",
       "      <td>0.97</td>\n",
       "      <td>0.94</td>\n",
       "      <td>0.87</td>\n",
       "      <td>0.9</td>\n",
       "      <td>0.91</td>\n",
       "      <td>0.028</td>\n",
       "      <td>2</td>\n",
       "    </tr>\n",
       "    <tr>\n",
       "      <th>7</th>\n",
       "      <td>0.012</td>\n",
       "      <td>0.0019</td>\n",
       "      <td>0.0026</td>\n",
       "      <td>0.00049</td>\n",
       "      <td>60</td>\n",
       "      <td>{'pca__n_components': 60}</td>\n",
       "      <td>0.87</td>\n",
       "      <td>0.9</td>\n",
       "      <td>0.88</td>\n",
       "      <td>0.75</td>\n",
       "      <td>0.82</td>\n",
       "      <td>0.85</td>\n",
       "      <td>0.92</td>\n",
       "      <td>0.94</td>\n",
       "      <td>0.8</td>\n",
       "      <td>0.85</td>\n",
       "      <td>0.86</td>\n",
       "      <td>0.056</td>\n",
       "      <td>5</td>\n",
       "    </tr>\n",
       "  </tbody>\n",
       "</table>\n",
       "</div>"
      ],
      "text/plain": [
       "   mean_fit_time  std_fit_time  mean_score_time  std_score_time  \\\n",
       "0          0.018        0.0075           0.0022         0.00032   \n",
       "1         0.0087        0.0017           0.0023         0.00045   \n",
       "2         0.0096        0.0032           0.0029          0.0014   \n",
       "3         0.0096         0.001           0.0023         0.00039   \n",
       "4          0.013       0.00097           0.0025         0.00066   \n",
       "5          0.016        0.0015           0.0029         0.00058   \n",
       "6          0.027        0.0056            0.005          0.0045   \n",
       "7          0.012        0.0019           0.0026         0.00049   \n",
       "\n",
       "  param_pca__n_components                     params  split0_test_score  \\\n",
       "0                       1   {'pca__n_components': 1}                0.3   \n",
       "1                       2   {'pca__n_components': 2}               0.54   \n",
       "2                       5   {'pca__n_components': 5}               0.83   \n",
       "3                      10  {'pca__n_components': 10}               0.88   \n",
       "4                      20  {'pca__n_components': 20}               0.88   \n",
       "5                      30  {'pca__n_components': 30}               0.89   \n",
       "6                      40  {'pca__n_components': 40}               0.88   \n",
       "7                      60  {'pca__n_components': 60}               0.87   \n",
       "\n",
       "   split1_test_score  split2_test_score  split3_test_score  split4_test_score  \\\n",
       "0               0.37               0.25               0.28               0.32   \n",
       "1               0.68               0.59               0.64               0.66   \n",
       "2               0.88               0.79               0.82               0.84   \n",
       "3               0.92               0.89               0.87               0.89   \n",
       "4               0.95               0.89               0.89               0.89   \n",
       "5               0.94                0.9               0.92               0.89   \n",
       "6               0.92               0.91               0.93               0.89   \n",
       "7                0.9               0.88               0.75               0.82   \n",
       "\n",
       "   split5_test_score  split6_test_score  split7_test_score  split8_test_score  \\\n",
       "0               0.28               0.36                0.3                0.3   \n",
       "1               0.59               0.62               0.57               0.58   \n",
       "2               0.77               0.83               0.83               0.75   \n",
       "3                0.9               0.93               0.96               0.84   \n",
       "4               0.91               0.96               0.97               0.85   \n",
       "5               0.91               0.97               0.97               0.85   \n",
       "6               0.91               0.97               0.94               0.87   \n",
       "7               0.85               0.92               0.94                0.8   \n",
       "\n",
       "   split9_test_score  mean_test_score  std_test_score  rank_test_score  \n",
       "0               0.28              0.3           0.036                8  \n",
       "1               0.58              0.6           0.042                7  \n",
       "2               0.84             0.82           0.035                6  \n",
       "3               0.87             0.89           0.031                4  \n",
       "4               0.91             0.91           0.036                3  \n",
       "5                0.9             0.92           0.036                1  \n",
       "6                0.9             0.91           0.028                2  \n",
       "7               0.85             0.86           0.056                5  "
      ]
     },
     "metadata": {},
     "output_type": "display_data"
    }
   ],
   "source": [
    "# Print the best prediction score obtained\n",
    "# and its corresponding hyperparameter value\n",
    "\n",
    "print(f\"Best parameter (CV score: {search.best_score_:.3f})\")\n",
    "\n",
    "print(search.best_params_)\n",
    "\n",
    "cv_results_df = pd.DataFrame(search.cv_results_)\n",
    "\n",
    "with pd.option_context(\"display.float_format\", \"{:.2g}\".format):\n",
    "    display(cv_results_df)"
   ]
  },
  {
   "cell_type": "code",
   "execution_count": 34,
   "id": "87344317",
   "metadata": {},
   "outputs": [
    {
     "data": {
      "image/png": "[encoded data removed]",
      "text/plain": [
       "<Figure size 640x480 with 1 Axes>"
      ]
     },
     "metadata": {},
     "output_type": "display_data"
    }
   ],
   "source": [
    "# Plot a bar plot (or boxplot) showing the different prediction scores\n",
    "# for each tested hyperparameter\n",
    "# (including the error bars if bar plots are chosen)\n",
    "\n",
    "param = search.cv_results_[\"param_pca__n_components\"]\n",
    "\n",
    "plt.bar(\n",
    "    search.cv_results_[\"param_pca__n_components\"],\n",
    "    search.cv_results_[\"mean_test_score\"],\n",
    "    yerr=search.cv_results_[\"std_test_score\"],\n",
    "    width=0.8\n",
    "    * np.diff(search.cv_results_[\"param_pca__n_components\"].data, prepend=0),\n",
    ")\n",
    "plt.show()"
   ]
  }
 ],
 "metadata": {
  "kernelspec": {
   "display_name": "py3k",
   "language": "python",
   "name": "python3"
  },
  "language_info": {
   "codemirror_mode": {
    "name": "ipython",
    "version": 3
   },
   "file_extension": ".py",
   "mimetype": "text/x-python",
   "name": "python",
   "nbconvert_exporter": "python",
   "pygments_lexer": "ipython3",
   "version": "3.9.12"
  },
  "vscode": {
   "interpreter": {
    "hash": "8123e7477dd55409d2cb14917bba06675fb463f6157c1181c9a2c2261d354d77"
   }
  }
 },
 "nbformat": 4,
 "nbformat_minor": 5
}
