{
 "cells": [
  {
   "cell_type": "markdown",
   "id": "stable-aluminum",
   "metadata": {
    "id": "stable-aluminum"
   },
   "source": [
    "# "
   ]
  },
  {
   "cell_type": "markdown",
   "id": "perfect-canberra",
   "metadata": {
    "id": "perfect-canberra"
   },
   "source": [
    "# Intro to Scikit-Learn"
   ]
  },
  {
   "cell_type": "markdown",
   "id": "greatest-dynamics",
   "metadata": {
    "id": "greatest-dynamics"
   },
   "source": [
    "From:\n",
    "\n",
    "* [VanderPlas, Jake. 2017. Python Data Science Handbook. O’Reilly Media, Inc.](https://github.com/jakevdp/PythonDataScienceHandbook)\n",
    "* [Scikit-Learn datasets: The Iris Dataset](https://scikit-learn.org/stable/auto_examples/datasets/plot_iris_dataset.html)"
   ]
  },
  {
   "cell_type": "markdown",
   "id": "timely-parish",
   "metadata": {
    "id": "timely-parish"
   },
   "source": [
    "## Regression"
   ]
  },
  {
   "cell_type": "markdown",
   "id": "shared-regard",
   "metadata": {
    "id": "shared-regard"
   },
   "source": [
    "### Data"
   ]
  },
  {
   "cell_type": "markdown",
   "id": "pleasant-charter",
   "metadata": {
    "id": "pleasant-charter"
   },
   "source": [
    "https://scikit-learn.org/stable/datasets/toy_dataset.html#diabetes-dataset\n",
    "\n",
    "\n",
    "Features:\n",
    "\n",
    "* `age`: age in years\n",
    "* `sex`\n",
    "* `bmi`: body mass index\n",
    "* `bp`: average blood pressure\n",
    "* `s1`: tc, total serum cholesterol\n",
    "* `s2`: ldl, low-density lipoproteins\n",
    "* `s3`: hdl, high-density lipoproteins\n",
    "* `s4`: tch, total cholesterol / HDL\n",
    "* `s5`: ltg, possibly log of serum triglycerides level\n",
    "* `s6`: glu, blood sugar level\n",
    "\n",
    "Target:\n",
    "\n",
    "* Quantitative measure of disease progression one year after baseline"
   ]
  },
  {
   "cell_type": "code",
   "execution_count": 1,
   "id": "digital-while",
   "metadata": {
    "executionInfo": {
     "elapsed": 4,
     "status": "ok",
     "timestamp": 1636021104174,
     "user": {
      "displayName": "Marc Evrard",
      "photoUrl": "https://lh3.googleusercontent.com/a/default-user=s64",
      "userId": "10423702621679503066"
     },
     "user_tz": -60
    },
    "id": "digital-while"
   },
   "outputs": [],
   "source": [
    "import platform\n",
    "\n",
    "import matplotlib.pyplot as plt\n",
    "import numpy as np\n",
    "import pandas as pd\n",
    "import sklearn\n",
    "from sklearn import datasets, utils"
   ]
  },
  {
   "cell_type": "code",
   "execution_count": 2,
   "id": "162b78cc",
   "metadata": {},
   "outputs": [
    {
     "name": "stdout",
     "output_type": "stream",
     "text": [
      "1.1.3\n"
     ]
    }
   ],
   "source": [
    "if platform.system() == \"Darwin\":\n",
    "    %config InlineBackend.figure_format=\"retina\"  # For high DPI display\n",
    "\n",
    "print(sklearn.__version__)  # Version tested on sklearn.__version__ == 0.24.1"
   ]
  },
  {
   "cell_type": "markdown",
   "id": "allied-disposal",
   "metadata": {
    "id": "allied-disposal"
   },
   "source": [
    "#### Data loading"
   ]
  },
  {
   "cell_type": "code",
   "execution_count": 3,
   "id": "restricted-plaintiff",
   "metadata": {
    "executionInfo": {
     "elapsed": 1003,
     "status": "ok",
     "timestamp": 1636021117996,
     "user": {
      "displayName": "Marc Evrard",
      "photoUrl": "https://lh3.googleusercontent.com/a/default-user=s64",
      "userId": "10423702621679503066"
     },
     "user_tz": -60
    },
    "id": "restricted-plaintiff"
   },
   "outputs": [],
   "source": [
    "diabetes = datasets.load_diabetes()"
   ]
  },
  {
   "cell_type": "code",
   "execution_count": 4,
   "id": "modern-production",
   "metadata": {
    "colab": {
     "base_uri": "https://localhost:8080/"
    },
    "executionInfo": {
     "elapsed": 271,
     "status": "ok",
     "timestamp": 1636021125841,
     "user": {
      "displayName": "Marc Evrard",
      "photoUrl": "https://lh3.googleusercontent.com/a/default-user=s64",
      "userId": "10423702621679503066"
     },
     "user_tz": -60
    },
    "id": "modern-production",
    "outputId": "4f64e3f4-afd9-462f-dd11-2068d3bede1f"
   },
   "outputs": [
    {
     "data": {
      "text/plain": [
       "sklearn.utils._bunch.Bunch"
      ]
     },
     "execution_count": 4,
     "metadata": {},
     "output_type": "execute_result"
    }
   ],
   "source": [
    "type(diabetes)"
   ]
  },
  {
   "cell_type": "code",
   "execution_count": 5,
   "id": "traditional-trance",
   "metadata": {
    "executionInfo": {
     "elapsed": 257,
     "status": "ok",
     "timestamp": 1636021147554,
     "user": {
      "displayName": "Marc Evrard",
      "photoUrl": "https://lh3.googleusercontent.com/a/default-user=s64",
      "userId": "10423702621679503066"
     },
     "user_tz": -60
    },
    "id": "traditional-trance"
   },
   "outputs": [],
   "source": [
    "# utils.Bunch?"
   ]
  },
  {
   "cell_type": "code",
   "execution_count": 6,
   "id": "terminal-search",
   "metadata": {
    "colab": {
     "base_uri": "https://localhost:8080/"
    },
    "executionInfo": {
     "elapsed": 224,
     "status": "ok",
     "timestamp": 1636021200936,
     "user": {
      "displayName": "Marc Evrard",
      "photoUrl": "https://lh3.googleusercontent.com/a/default-user=s64",
      "userId": "10423702621679503066"
     },
     "user_tz": -60
    },
    "id": "terminal-search",
    "outputId": "c05b3786-40f5-4bb6-ce0f-1ef8ed4532b1"
   },
   "outputs": [
    {
     "data": {
      "text/plain": [
       "['DESCR',\n",
       " 'data',\n",
       " 'data_filename',\n",
       " 'data_module',\n",
       " 'feature_names',\n",
       " 'frame',\n",
       " 'target',\n",
       " 'target_filename']"
      ]
     },
     "execution_count": 6,
     "metadata": {},
     "output_type": "execute_result"
    }
   ],
   "source": [
    "dir(diabetes)"
   ]
  },
  {
   "cell_type": "code",
   "execution_count": 7,
   "id": "polyphonic-uganda",
   "metadata": {
    "colab": {
     "base_uri": "https://localhost:8080/"
    },
    "executionInfo": {
     "elapsed": 244,
     "status": "ok",
     "timestamp": 1636021226555,
     "user": {
      "displayName": "Marc Evrard",
      "photoUrl": "https://lh3.googleusercontent.com/a/default-user=s64",
      "userId": "10423702621679503066"
     },
     "user_tz": -60
    },
    "id": "polyphonic-uganda",
    "outputId": "7496488a-4a93-4775-8da5-093454ee7bf0"
   },
   "outputs": [
    {
     "data": {
      "text/plain": [
       "numpy.ndarray"
      ]
     },
     "execution_count": 7,
     "metadata": {},
     "output_type": "execute_result"
    }
   ],
   "source": [
    "type(diabetes.data)"
   ]
  },
  {
   "cell_type": "code",
   "execution_count": 8,
   "id": "reverse-insulation",
   "metadata": {
    "colab": {
     "base_uri": "https://localhost:8080/"
    },
    "executionInfo": {
     "elapsed": 245,
     "status": "ok",
     "timestamp": 1636021237067,
     "user": {
      "displayName": "Marc Evrard",
      "photoUrl": "https://lh3.googleusercontent.com/a/default-user=s64",
      "userId": "10423702621679503066"
     },
     "user_tz": -60
    },
    "id": "reverse-insulation",
    "outputId": "1fcc64e1-9218-476d-f62d-aefee59df1a5"
   },
   "outputs": [
    {
     "name": "stdout",
     "output_type": "stream",
     "text": [
      "(442, 10) (442,)\n"
     ]
    }
   ],
   "source": [
    "print(diabetes.data.shape, diabetes.target.shape)"
   ]
  },
  {
   "cell_type": "code",
   "execution_count": 9,
   "id": "cognitive-lyric",
   "metadata": {
    "colab": {
     "base_uri": "https://localhost:8080/"
    },
    "executionInfo": {
     "elapsed": 232,
     "status": "ok",
     "timestamp": 1636021282383,
     "user": {
      "displayName": "Marc Evrard",
      "photoUrl": "https://lh3.googleusercontent.com/a/default-user=s64",
      "userId": "10423702621679503066"
     },
     "user_tz": -60
    },
    "id": "cognitive-lyric",
    "outputId": "039df782-a56c-47cb-a545-880b75c22c96"
   },
   "outputs": [
    {
     "data": {
      "text/plain": [
       "['age', 'sex', 'bmi', 'bp', 's1', 's2', 's3', 's4', 's5', 's6']"
      ]
     },
     "execution_count": 9,
     "metadata": {},
     "output_type": "execute_result"
    }
   ],
   "source": [
    "diabetes.feature_names"
   ]
  },
  {
   "cell_type": "markdown",
   "id": "affiliated-culture",
   "metadata": {
    "id": "affiliated-culture"
   },
   "source": [
    "#### Selection of training data"
   ]
  },
  {
   "cell_type": "markdown",
   "id": "aeba7d02",
   "metadata": {},
   "source": [
    "Load data in a pandas `DataFrame` and select `s3` as single feature for prediction, and `target` as target into NumPy arrays named `xs` and `ys`, respectively."
   ]
  },
  {
   "cell_type": "markdown",
   "id": "settled-flooring",
   "metadata": {
    "editable": true,
    "id": "settled-flooring"
   },
   "source": [
    "Note: Expected shapes for features and labels (target values):"
   ]
  },
  {
   "cell_type": "markdown",
   "id": "8b979308-b2e1-4eaf-ab20-f935a651cbe1",
   "metadata": {
    "id": "8b979308-b2e1-4eaf-ab20-f935a651cbe1"
   },
   "source": [
    "<span style=\"color:red\">Implement your solution below</span>"
   ]
  },
  {
   "cell_type": "code",
   "execution_count": 10,
   "id": "0IdRL7zXirMw",
   "metadata": {
    "colab": {
     "base_uri": "https://localhost:8080/"
    },
    "executionInfo": {
     "elapsed": 243,
     "status": "ok",
     "timestamp": 1636022803149,
     "user": {
      "displayName": "Marc Evrard",
      "photoUrl": "https://lh3.googleusercontent.com/a/default-user=s64",
      "userId": "10423702621679503066"
     },
     "user_tz": -60
    },
    "id": "0IdRL7zXirMw",
    "outputId": "352523a1-ed21-4561-f414-39add344d592"
   },
   "outputs": [],
   "source": [
    "import pandas as pd\n",
    "FT = \"bmi\"\n",
    "data = pd.DataFrame(data = diabetes.data, columns = diabetes.feature_names)\n",
    "xs = data['s3']\n",
    "ys = diabetes.target"
   ]
  },
  {
   "cell_type": "markdown",
   "id": "1973090b-58c1-41fc-a498-6c34aa2d7001",
   "metadata": {
    "id": "1973090b-58c1-41fc-a498-6c34aa2d7001",
    "tags": []
   },
   "source": [
    "#### Plot the feature against the target"
   ]
  },
  {
   "cell_type": "markdown",
   "id": "5081618c",
   "metadata": {},
   "source": [
    "Using Matplotlib, Seaborn, or the Matplotlib pandas' API:"
   ]
  },
  {
   "cell_type": "markdown",
   "id": "155b4398-b046-4f33-afed-67c5161a11aa",
   "metadata": {
    "id": "155b4398-b046-4f33-afed-67c5161a11aa",
    "tags": []
   },
   "source": [
    "<span style=\"color:red\">Implement your solution below</span>"
   ]
  },
  {
   "cell_type": "code",
   "execution_count": 11,
   "id": "e6df0510-b182-4a16-b517-bacae8cf998a",
   "metadata": {},
   "outputs": [
    {
     "data": {
      "text/plain": [
       "<matplotlib.collections.PathCollection at 0x1c0e6589dc0>"
      ]
     },
     "execution_count": 11,
     "metadata": {},
     "output_type": "execute_result"
    },
    {
     "data": {
      "image/png": "[encoded data removed]",
      "text/plain": [
       "<Figure size 640x480 with 1 Axes>"
      ]
     },
     "metadata": {},
     "output_type": "display_data"
    }
   ],
   "source": [
    "import matplotlib.pyplot as plt\n",
    "\n",
    "plt.scatter(xs, ys)"
   ]
  },
  {
   "cell_type": "markdown",
   "id": "incorporate-romania",
   "metadata": {
    "id": "incorporate-romania",
    "tags": []
   },
   "source": [
    "##### Random selection of training and test sets"
   ]
  },
  {
   "cell_type": "code",
   "execution_count": 12,
   "id": "d45a8245-574b-4af4-88d3-2f5ec92e24d6",
   "metadata": {
    "tags": []
   },
   "outputs": [],
   "source": [
    "from  sklearn.model_selection import train_test_split\n",
    "\n",
    "train_xs, test_xs, train_ys, test_ys = train_test_split(xs,ys, test_size = 0.2, random_state = 42, shuffle=True)\n",
    "train_xs = np.array(train_xs).reshape(-1,1)\n",
    "train_ys = np.array(train_ys).reshape(-1,1)\n",
    "test_xs = np.array(test_xs).reshape(-1,1)\n",
    "test_ys = np.array(test_ys).reshape(-1,1)"
   ]
  },
  {
   "cell_type": "markdown",
   "id": "d5af3225-3dd5-4ad9-a9c4-cf588d5ad9aa",
   "metadata": {
    "id": "d5af3225-3dd5-4ad9-a9c4-cf588d5ad9aa"
   },
   "source": [
    "<span style=\"color:red\">Implement your solution below</span>"
   ]
  },
  {
   "cell_type": "markdown",
   "id": "missing-rugby",
   "metadata": {
    "id": "missing-rugby"
   },
   "source": [
    "### Training"
   ]
  },
  {
   "cell_type": "markdown",
   "id": "06cd59a6-5ce9-49c1-807b-2713b383677a",
   "metadata": {
    "id": "06cd59a6-5ce9-49c1-807b-2713b383677a"
   },
   "source": [
    "<span style=\"color:red\">Implement your solution below</span>"
   ]
  },
  {
   "cell_type": "code",
   "execution_count": 13,
   "id": "patient-anger",
   "metadata": {
    "id": "patient-anger",
    "tags": []
   },
   "outputs": [
    {
     "name": "stdout",
     "output_type": "stream",
     "text": [
      "(353, 1)\n"
     ]
    }
   ],
   "source": [
    "# 1. Model choice (import)\n",
    "from sklearn.linear_model import LinearRegression\n",
    "\n",
    "# 2. Instantiation\n",
    "model = LinearRegression()\n",
    "\n",
    "print(train_xs.shape)\n",
    "# 3. Learn (fit) the model\n",
    "model.fit(train_xs,train_ys)\n",
    "\n",
    "# 4. Predict on new data\n",
    "results =model.predict(test_xs)"
   ]
  },
  {
   "cell_type": "markdown",
   "id": "quality-absolute",
   "metadata": {
    "id": "quality-absolute",
    "tags": []
   },
   "source": [
    "### Results"
   ]
  },
  {
   "cell_type": "code",
   "execution_count": 14,
   "id": "87028e76-d7a7-40e1-bc96-60823a41d165",
   "metadata": {
    "tags": []
   },
   "outputs": [
    {
     "name": "stdout",
     "output_type": "stream",
     "text": [
      "(89, 1)\n"
     ]
    }
   ],
   "source": [
    "print(results.shape)"
   ]
  },
  {
   "cell_type": "markdown",
   "id": "intelligent-hearing",
   "metadata": {
    "id": "intelligent-hearing",
    "tags": []
   },
   "source": [
    "#### Plots"
   ]
  },
  {
   "cell_type": "markdown",
   "id": "cf24f6b2-8a0b-4914-884f-b293d981f1d5",
   "metadata": {
    "id": "cf24f6b2-8a0b-4914-884f-b293d981f1d5"
   },
   "source": [
    "<span style=\"color:red\">Implement your solution below</span>"
   ]
  },
  {
   "cell_type": "code",
   "execution_count": 15,
   "id": "ae0717ce-18e3-42e1-a059-621e7e0391f4",
   "metadata": {},
   "outputs": [
    {
     "name": "stdout",
     "output_type": "stream",
     "text": [
      "Model slope:     [-637.18957587]\n",
      "Model intercept: [153.10636092]\n"
     ]
    },
    {
     "data": {
      "text/plain": [
       "<matplotlib.collections.PathCollection at 0x1c0e6ddaac0>"
      ]
     },
     "execution_count": 15,
     "metadata": {},
     "output_type": "execute_result"
    },
    {
     "data": {
      "image/png": "[encoded data removed]",
      "text/plain": [
       "<Figure size 640x480 with 1 Axes>"
      ]
     },
     "metadata": {},
     "output_type": "display_data"
    }
   ],
   "source": [
    "\n",
    "print(\"Model slope:    \", model.coef_[0])\n",
    "print(\"Model intercept:\", model.intercept_)\n",
    "plt.plot(test_xs, results, color='red', label='regression line')     # regression line\n",
    "plt.scatter(test_xs, test_ys, c='green', label='actual values')   # scatter plot showing actual data"
   ]
  },
  {
   "cell_type": "markdown",
   "id": "communist-climb",
   "metadata": {
    "id": "communist-climb"
   },
   "source": [
    "#### Evaluations\n",
    "\n",
    "* [Mean squared error](https://en.wikipedia.org/wiki/Mean_squared_error)\n",
    "* [Coefficient of determination](https://en.wikipedia.org/wiki/Coefficient_of_determination)"
   ]
  },
  {
   "cell_type": "markdown",
   "id": "d38d563c-ca5c-4d24-af05-ea98afb069dc",
   "metadata": {
    "id": "d38d563c-ca5c-4d24-af05-ea98afb069dc"
   },
   "source": [
    "<span style=\"color:red\">Implement your solution below</span>"
   ]
  },
  {
   "cell_type": "code",
   "execution_count": 16,
   "id": "c34bcb48-cd3e-442c-8d39-150562decb45",
   "metadata": {},
   "outputs": [
    {
     "name": "stdout",
     "output_type": "stream",
     "text": [
      "mse: 4317.345872786977\n",
      "rmse: 65.70651316868806\n",
      "r2: 0.18512226947901855\n"
     ]
    }
   ],
   "source": [
    "from sklearn.metrics import mean_squared_error\n",
    "# Calculating RMSE and R2 Score\n",
    "mse = mean_squared_error(test_ys, results)\n",
    "rmse = np.sqrt(mse)\n",
    "r2_score = model.score(test_xs, test_ys)\n",
    "print(\"mse: {}\\nrmse: {}\\nr2: {}\".format(mse,rmse,r2_score))"
   ]
  },
  {
   "cell_type": "markdown",
   "id": "developing-potato",
   "metadata": {
    "id": "developing-potato",
    "tags": []
   },
   "source": [
    "### Non-linear approaches"
   ]
  },
  {
   "cell_type": "markdown",
   "id": "improved-regular",
   "metadata": {
    "id": "improved-regular"
   },
   "source": [
    "* Adapt linear regression by transforming data according to basis functions\n",
    "* E.g., with a polynomial projection:\n",
    "    $$\\hat{y} = a_0 + a_1 x + a_2 x^2 + \\cdots + a_n x^n$$\n",
    "* Note that this is still a linear model\n",
    "* It is linear in the sense that we never multiply or divide the coefficients\n",
    "* The one-dimensional descriptor $x$ is projected in one or more dimensions to allow modeling more complex relations between $x$ and $y$"
   ]
  },
  {
   "cell_type": "markdown",
   "id": "219ccc30-4fbd-4c71-a831-5c4a42eae654",
   "metadata": {
    "id": "219ccc30-4fbd-4c71-a831-5c4a42eae654"
   },
   "source": [
    "<span style=\"color:red\">Implement your solution below</span>"
   ]
  },
  {
   "cell_type": "code",
   "execution_count": 17,
   "id": "announced-president",
   "metadata": {
    "id": "announced-president"
   },
   "outputs": [],
   "source": [
    "def apply_basis(arr):\n",
    "    return np.hstack([arr, arr ** 2])"
   ]
  },
  {
   "cell_type": "markdown",
   "id": "baebface-73c7-4aca-8986-863ca677401b",
   "metadata": {
    "id": "baebface-73c7-4aca-8986-863ca677401b"
   },
   "source": [
    "### Training"
   ]
  },
  {
   "cell_type": "markdown",
   "id": "3d99cc8b-7a7d-4a49-8c6e-f726849b7b59",
   "metadata": {
    "id": "3d99cc8b-7a7d-4a49-8c6e-f726849b7b59"
   },
   "source": [
    "<span style=\"color:red\">Implement your solution below</span>"
   ]
  },
  {
   "cell_type": "code",
   "execution_count": 19,
   "id": "9731a545-5469-4bb9-adc6-c7a07f52cc12",
   "metadata": {
    "id": "9731a545-5469-4bb9-adc6-c7a07f52cc12",
    "tags": []
   },
   "outputs": [
    {
     "name": "stdout",
     "output_type": "stream",
     "text": [
      "(89,) (89, 1)\n"
     ]
    },
    {
     "data": {
      "text/plain": [
       "<matplotlib.collections.PathCollection at 0x1c0e7041910>"
      ]
     },
     "execution_count": 19,
     "metadata": {},
     "output_type": "execute_result"
    },
    {
     "data": {
      "image/png": "[encoded data removed]",
      "text/plain": [
       "<Figure size 640x480 with 1 Axes>"
      ]
     },
     "metadata": {},
     "output_type": "display_data"
    }
   ],
   "source": [
    "# 1. Model choice (import)\n",
    "from sklearn.linear_model import LinearRegression\n",
    "\n",
    "# 2. Instantiation\n",
    "model = LinearRegression()\n",
    "\n",
    "# 3. Learn (fit) the model\n",
    "#print(train_xs,apply_basis(train_xs))\n",
    "model.fit(apply_basis(train_xs), train_ys)\n",
    "\n",
    "# 4. Predict on new data\n",
    "results = model.predict(np.sort(apply_basis(test_xs)))  # Corrected line\n",
    "print(test_xs[:, 0].shape, results.shape)\n",
    "\n",
    "plt.plot(np.sort(test_xs), np.sort(results), color='red', label='regression line')  # regression line\n",
    "#plt.scatter(test_xs, results, color='red', label='regression line')     # regression line\n",
    "plt.scatter(test_xs, test_ys, c='green', label='actual values')   # scatter plot showing actual data\n"
   ]
  },
  {
   "cell_type": "markdown",
   "id": "backed-mobility",
   "metadata": {
    "id": "backed-mobility"
   },
   "source": [
    "#### Plots"
   ]
  },
  {
   "cell_type": "markdown",
   "id": "sudden-asian",
   "metadata": {
    "id": "sudden-asian"
   },
   "source": [
    "Construction of an `array` with increasing values that extend from the lower and upper bounds of the data to produce the result of the regression on the graph."
   ]
  },
  {
   "cell_type": "markdown",
   "id": "c0189773-f1eb-4452-95f1-2bfa9d7ac164",
   "metadata": {
    "id": "c0189773-f1eb-4452-95f1-2bfa9d7ac164"
   },
   "source": [
    "<span style=\"color:red\">Implement your solution below</span>"
   ]
  },
  {
   "cell_type": "code",
   "execution_count": 20,
   "id": "seasonal-repeat",
   "metadata": {
    "id": "seasonal-repeat",
    "tags": []
   },
   "outputs": [
    {
     "name": "stdout",
     "output_type": "stream",
     "text": [
      "mse: 20514.289100724975\n",
      "rmse: 143.22810164463178\n",
      "r2: 0.14699740157731378\n"
     ]
    },
    {
     "data": {
      "image/png": "[encoded data removed]",
      "text/plain": [
       "<Figure size 640x480 with 1 Axes>"
      ]
     },
     "metadata": {},
     "output_type": "display_data"
    }
   ],
   "source": [
    "HOP = 0.01\n",
    "\n",
    "# The limit values of the features' 1st column\n",
    "min_val = min(test_xs)\n",
    "max_val = max(test_xs)\n",
    "\n",
    "# The array that spans the amplitude of data values (with steps of size HOP)\n",
    "arr = np.arange(min_val,max_val+HOP,HOP)\n",
    "#print(arr)\n",
    "\n",
    "# Concatenation of the selected feature and its squared version\n",
    "conc = apply_basis(arr.reshape(-1,1))\n",
    "#print(conc)\n",
    "\n",
    "# Prediction using the model to produce the regression\n",
    "resReg = model.predict(conc)\n",
    "\n",
    "plt.plot(arr, resReg, color='red', label='regression line')     # regression line\n",
    "plt.scatter(test_xs, test_ys, c='green', label='actual values')   # scatter plot showing actual data\n",
    "\n",
    "# Calculating RMSE and R2 Score\n",
    "mse = mean_squared_error(test_ys, results)\n",
    "rmse = np.sqrt(mse)\n",
    "r2_score = model.score(apply_basis(test_xs), test_ys)\n",
    "print(\"mse: {}\\nrmse: {}\\nr2: {}\".format(mse,rmse,r2_score))"
   ]
  },
  {
   "cell_type": "markdown",
   "id": "working-superintendent",
   "metadata": {
    "id": "working-superintendent"
   },
   "source": [
    "#### Evaluations"
   ]
  },
  {
   "cell_type": "markdown",
   "id": "3933c6f4-beb2-4e3c-b1eb-e4e8764c6242",
   "metadata": {
    "id": "3933c6f4-beb2-4e3c-b1eb-e4e8764c6242"
   },
   "source": [
    "<span style=\"color:red\">Implement your solution below</span>"
   ]
  },
  {
   "cell_type": "markdown",
   "id": "solid-bread",
   "metadata": {
    "id": "solid-bread"
   },
   "source": [
    "Print coefficients $a_1$ and $a_2$ from the regression, as in:\n",
    "\n",
    "$$\\hat{y}^{(i)} = a_0 + a_1 x_1^{(i)} + a_2 x_2^{(i)}$$"
   ]
  },
  {
   "cell_type": "code",
   "execution_count": 21,
   "id": "stock-lawsuit",
   "metadata": {
    "id": "stock-lawsuit"
   },
   "outputs": [
    {
     "name": "stdout",
     "output_type": "stream",
     "text": [
      "[[-738.26082534 2546.62528878]]\n",
      "a_1 = [-738.26082534], a_2 = [2546.62528878]\n"
     ]
    }
   ],
   "source": [
    "model_coef_list = model.coef_\n",
    "print(model.coef_)\n",
    "print(\"a_1 = {}, a_2 = {}\".format(model.coef_[:,0], model.coef_[:,1]))"
   ]
  },
  {
   "cell_type": "markdown",
   "id": "employed-antique",
   "metadata": {
    "id": "employed-antique"
   },
   "source": [
    "## Further assignment"
   ]
  },
  {
   "cell_type": "markdown",
   "id": "royal-panel",
   "metadata": {
    "id": "royal-panel"
   },
   "source": [
    "#### Goal: Try to improve the result of the linear regression\n",
    "\n",
    "*   Perform the linear regression again using the set of features proposed, instead of just one. \n",
    "    The selection is made from the stage:\n",
    "    [Selection of training data](#Selection-of-training-data)\n",
    "\n",
    "*   Generate other features by taking, for example, the square of their values, \n",
    "    to take into account the non-linearity of the relations\n",
    "\n",
    "*   Evaluate the performance of the regression in terms of MSE and R$^2$\n",
    "\n",
    "*   Identify the features that seem the most significant for this regression, \n",
    "    by observing the value of their respective parameter ($a_j$ via `model.coef_`)\n",
    "\n",
    "*   Comment succinctly\n",
    "\n",
    "*   Note that visualization poses a problem when using more than one descriptor \n",
    "    (more than 2 in particular), so it is not required for this part"
   ]
  },
  {
   "cell_type": "markdown",
   "id": "binding-developer",
   "metadata": {
    "id": "binding-developer"
   },
   "source": [
    "<span style=\"color:red\">Implement your solution below</span>"
   ]
  },
  {
   "cell_type": "code",
   "execution_count": 22,
   "id": "bc9231b0-cce8-42f5-9e37-be3ca1f51fde",
   "metadata": {},
   "outputs": [
    {
     "name": "stdout",
     "output_type": "stream",
     "text": [
      "(353, 10) (353, 20) (353,)\n",
      "mse: 2737.664457654948\n",
      "rmse: 52.32269543568018\n",
      "r2: 0.48327934200422806\n",
      "[ 1.05322548e+02 -2.62371724e+02  4.54811121e+02  3.61143718e+02\n",
      " -4.41235196e+03  3.71117143e+03  1.29451664e+03  2.98180893e+01\n",
      "  2.02740564e+03  3.45241694e+01  2.47441173e+03 -1.58432699e+00\n",
      "  1.74248946e+03  2.36545847e+02  1.47282975e+03 -1.97113641e+03\n",
      "  6.99568996e+02  1.28435529e+03  7.75221546e+03  1.72421378e+03]\n"
     ]
    }
   ],
   "source": [
    "xs = np.array(data)\n",
    "\n",
    "train_xs, test_xs, train_ys, test_ys = train_test_split(xs,ys, test_size = 0.2, random_state = 42, shuffle=True)\n",
    "#train_xs = np.array(train_xs).reshape(-1,1)\n",
    "#train_ys = np.array(train_ys).reshape(-1,1)\n",
    "#test_xs = np.array(test_xs).reshape(-1,1)\n",
    "#test_ys = np.array(test_ys).reshape(-1,1)\n",
    "\n",
    "# 1. Model choice (import)\n",
    "from sklearn.linear_model import LinearRegression\n",
    "\n",
    "# 2. Instantiation\n",
    "model = LinearRegression()\n",
    "\n",
    "# 3. Learn (fit) the model\n",
    "print(train_xs.shape,apply_basis(train_xs).shape, train_ys.shape)\n",
    "model.fit(apply_basis(train_xs),train_ys)\n",
    "\n",
    "# 4. Predict on new data\n",
    "results =model.predict(apply_basis(test_xs))\n",
    "\n",
    "# Calculating RMSE and R2 Score\n",
    "mse = mean_squared_error(test_ys, results)\n",
    "rmse = np.sqrt(mse)\n",
    "r2_score = model.score(apply_basis(test_xs), test_ys)\n",
    "print(\"mse: {}\\nrmse: {}\\nr2: {}\".format(mse,rmse,r2_score))\n",
    "\n",
    "model_coef_list = model.coef_\n",
    "print(model.coef_)"
   ]
  },
  {
   "cell_type": "markdown",
   "id": "naval-oregon",
   "metadata": {
    "id": "naval-oregon"
   },
   "source": [
    "---"
   ]
  },
  {
   "cell_type": "markdown",
   "id": "f8feb550",
   "metadata": {},
   "source": []
  }
 ],
 "metadata": {
  "colab": {
   "collapsed_sections": [],
   "name": "TP 2 - Intro Scikit-Learn - Regression.ipynb",
   "provenance": []
  },
  "kernelspec": {
   "display_name": "Python 3 (ipykernel)",
   "language": "python",
   "name": "python3"
  },
  "language_info": {
   "codemirror_mode": {
    "name": "ipython",
    "version": 3
   },
   "file_extension": ".py",
   "mimetype": "text/x-python",
   "name": "python",
   "nbconvert_exporter": "python",
   "pygments_lexer": "ipython3",
   "version": "3.9.12"
  },
  "vscode": {
   "interpreter": {
    "hash": "8123e7477dd55409d2cb14917bba06675fb463f6157c1181c9a2c2261d354d77"
   }
  }
 },
 "nbformat": 4,
 "nbformat_minor": 5
}
