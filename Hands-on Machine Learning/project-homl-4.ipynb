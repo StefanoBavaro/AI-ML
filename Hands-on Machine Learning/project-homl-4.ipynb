{
 "cells": [
  {
   "cell_type": "raw",
   "metadata": {
    "id": "wyvj64SN2r1q"
   },
   "source": [
    "<table>\n",
    "<tr>\n",
    "    <td width=10%><img src=\"./img/logo_lri.jpg\"></td>\n",
    "    <td width=30%><img src=\"./img/medi-chal_logo.png\" height=15%></img></td>\n",
    "</tr>\n",
    "\n",
    "</table>"
   ]
  },
  {
   "cell_type": "markdown",
   "metadata": {
    "id": "FZmib7NC2r1s"
   },
   "source": [
    "<br/><br/><div id=\"top\"></div>\n",
    "\n",
    "<center><a style=\"font-size: 40pt; font-weight: bold\">To be or not to be?</a></center>\n",
    "<br/>\n",
    "<center><a style=\"font-size: 22pt; font-weight: bold\">Binary Classification on Artificial Medical Data</a></center>\n",
    "<br/>\n",
    "\n",
    "---"
   ]
  },
  {
   "cell_type": "markdown",
   "metadata": {
    "id": "_J3mtf-s2r1s"
   },
   "source": [
    "# Group members\n",
    "\n",
    "**Minimum 2, Maximum 3**"
   ]
  },
  {
   "cell_type": "markdown",
   "metadata": {
    "id": "zEMbsb7t2r1t"
   },
   "source": [
    "* CHEN, Haolin\n",
    "* BAVARO, Stefano\n",
    "* TORRIJOS ROBLES, Irene"
   ]
  },
  {
   "cell_type": "markdown",
   "metadata": {
    "id": "0kQp9Yca2r1t"
   },
   "source": [
    "\n",
    "# Presentation of the challenge\n",
    "\n",
    "## Main question of this challenge\n",
    "\n",
    "* How to predict the survival of a patient according to their medical files and physiological data?\n",
    "    \n",
    "* Specifically, you will need to predict it during their hospital stay\n",
    " \n",
    "Every day, the nursing staff collects information about the patients by asking questions and using measurement tools (stethoscope, blood test, sensors, etc.). These data are very useful for monitoring the state of health, diagnosing, and choosing treatments.\n",
    "\n",
    "They can also be used for predictive statistical analysis."
   ]
  },
  {
   "cell_type": "markdown",
   "metadata": {
    "id": "YYPLE3uF2r1t"
   },
   "source": [
    "## Data\n",
    "\n",
    "The dataset contains information on 80,000 patients, represented by categorical, binary and, numeric variables (features). These variables are, e.g., age, sex, ethnicity, marital status, as well as medical data such as blood pressure or glucose level. There are a total of 342 variables.\n",
    "\n",
    "The class to predict is a binary variable indicating whether the patient died or not during his stay in the hospital. Fortunately, most survive:\n",
    "\n",
    "<!-- #%%[markdown] -->\n",
    "# ![](img/tobe.png)"
   ]
  },
  {
   "cell_type": "markdown",
   "metadata": {
    "id": "axVaTW5m2r1u"
   },
   "source": [
    "References and credit:\n",
    "\n",
    "Isabelle Guyon, Kristin Bennett, Andrew Yale, Adrien Pavao, Thomas Gerspacher"
   ]
  },
  {
   "cell_type": "markdown",
   "metadata": {
    "id": "m_9HMN_W2r1u"
   },
   "source": [
    "## Instructions\n",
    "\n",
    "The link to the challenge:\n",
    "<https://codalab.lisn.upsaclay.fr/competitions/8802>\n",
    "\n",
    "* **Step 1:** Register an acount at <https://codalab.lisn.upsaclay.fr>\n",
    "\n",
    "* **Step 2:** Download the dataset from the [page](https://codalab.lisn.upsaclay.fr/competitions/328#participate-get_starting_kit) `Participate` > `Files` > `Public Data`. Place the `public_data` folder in the same folder as the one containing this notebook.\n",
    "\n",
    "* **Step 3:** Go through this notebook. You will have to read, execute, **code your own methods** and **answer questions**. Use the ***code*** cell for coding and the ***markdown*** cell to answer questions."
   ]
  },
  {
   "cell_type": "markdown",
   "metadata": {
    "id": "H0RFJQkX2r1u"
   },
   "source": [
    "## Project evaluation\n",
    "\n",
    "* **4 points**: Exploratory analysis\n",
    "\n",
    "* **4 points**: Clean and well-documented code\n",
    "\n",
    "* **4 points**: Modeling (selection of the model, selection of hyperparameters)\n",
    "\n",
    "* **4 points**: Evaluation of the performance of the model\n",
    "\n",
    "* **4 points**: Quality of the oral presentation"
   ]
  },
  {
   "cell_type": "markdown",
   "metadata": {
    "id": "X_ZzyNMc2r1v"
   },
   "source": [
    "### FAQ\n",
    "\n",
    "* Submit only the notebook to eCampus (**only 1 per team**)\n",
    "\n",
    "* The text answers (explanations, results, problems, without the code) must not exceed 1500 words"
   ]
  },
  {
   "cell_type": "markdown",
   "metadata": {
    "id": "6_z6HTQm2r1v"
   },
   "source": [
    "# Challenge"
   ]
  },
  {
   "cell_type": "markdown",
   "metadata": {
    "id": "hYQ32t5U2r1v"
   },
   "source": [
    "Prerequisite: `imblearn` (to install with `conda`)\n",
    "\n",
    "`conda install -c conda-forge imbalanced-learn`"
   ]
  },
  {
   "cell_type": "code",
   "execution_count": 1,
   "metadata": {
    "execution": {
     "iopub.execute_input": "2022-12-29T14:05:58.853659Z",
     "iopub.status.busy": "2022-12-29T14:05:58.853199Z",
     "iopub.status.idle": "2022-12-29T14:05:58.897493Z",
     "shell.execute_reply": "2022-12-29T14:05:58.896296Z",
     "shell.execute_reply.started": "2022-12-29T14:05:58.853609Z"
    },
    "id": "gUT11MpQ2r1v"
   },
   "outputs": [],
   "source": [
    "from datetime import datetime\n",
    "from pathlib import Path\n",
    "\n",
    "from sklearn.preprocessing import LabelEncoder\n",
    "import imblearn\n",
    "import matplotlib.pyplot as plt\n",
    "import numpy as np\n",
    "import pandas as pd\n",
    "import seaborn as sns\n",
    "import sklearn\n",
    "from sklearn import (\n",
    "    decomposition,\n",
    "    discriminant_analysis,\n",
    "    ensemble,\n",
    "    linear_model,\n",
    "    metrics,\n",
    "    model_selection,\n",
    "    naive_bayes,\n",
    "    pipeline,\n",
    "    preprocessing,\n",
    "    svm,\n",
    ")"
   ]
  },
  {
   "cell_type": "code",
   "execution_count": 2,
   "metadata": {
    "execution": {
     "iopub.execute_input": "2022-12-29T14:05:58.899373Z",
     "iopub.status.busy": "2022-12-29T14:05:58.898976Z",
     "iopub.status.idle": "2022-12-29T14:05:58.992284Z",
     "shell.execute_reply": "2022-12-29T14:05:58.990978Z",
     "shell.execute_reply.started": "2022-12-29T14:05:58.899339Z"
    },
    "id": "GpR5oKOR2r1w",
    "outputId": "9541ead7-dd9e-4681-ed24-8a56d9b4e027"
   },
   "outputs": [
    {
     "name": "stdout",
     "output_type": "stream",
     "text": [
      "1.1.3\n"
     ]
    }
   ],
   "source": [
    "%reload_ext autoreload\n",
    "%autoreload 2\n",
    "\n",
    "# Set precision for pd and np (np: suppress also sci notation)\n",
    "np.set_printoptions(precision=3, suppress=True)\n",
    "pd.options.display.float_format = \"{:,.4g}\".format\n",
    "\n",
    "print(sklearn.__version__)  # Version tested on sklearn.__version__ == 1.1.3"
   ]
  },
  {
   "cell_type": "markdown",
   "metadata": {
    "id": "_Dy-bp0A2r1w"
   },
   "source": [
    "## 1. Understanding the problem"
   ]
  },
  {
   "cell_type": "markdown",
   "metadata": {
    "id": "B_zh8upL2r1w"
   },
   "source": [
    "### Metric\n",
    "\n",
    "Why the metric used here is the [`sklearn.metrics.balanced_accuracy_score`](https://scikit-learn.org/stable/modules/generated/sklearn.metrics.balanced_accuracy_score.html) rather than simply [`sklearn.metrics.accuracy_score`](https://scikit-learn.org/stable/modules/generated/sklearn.metrics.accuracy_score.html)?"
   ]
  },
  {
   "cell_type": "markdown",
   "metadata": {
    "id": "b2Mpok5g4_a2"
   },
   "source": [
    "The labels of our dataset are unbalanced: indeed, over 79999 entries, 77202 (96.5%) are labeled as 0 and just 2797 (3.5%) are labeled as 1.\n",
    "The accuracy score is just is the number of correct predictions as a percentage of the number of observations in the dataset: being it easy to compute and understand, it is one of the most common metric used for evaluating classifier models. Though, it can become an unreliable measure of model performance if the class distribution is severely skewed because it does not distinguish between the numbers of correctly classified examples of different classes.\n",
    "To explain its behaviour better, consider the case of an imbalanced dataset with a 1:100 class imbalance: each example of the minority class (class 1) will have a corresponding 100 examples for the majority class (class 0). On this problem, a model that predicts the majority class for all examples in the test set will have a classification accuracy of 99 percent: though, in problems of this type, predicting the minority class is often preferred since it represents \"abnormal\" concepts that need to be classified correctly (a false positive is less impactful than a false negative). Therefore, such an high metric might in practice be misleading.\n",
    "In comparison, balanced accuracy results more suitable for unbalanced datasets: it is computed (in binary classification, like in the context of our problem) as the average of \"Sensitivity\" (True Positives rate, the probability of a positive case being accurately classed as being positive) and \"Specificity\" (True Negatives rate, the probability of a negative case being accuracy classed as negative). This way, a model that only predicts accurately the majority class of an imbalanced dataset will receive a worse balanced accuracy score than the accuracy score."
   ]
  },
  {
   "cell_type": "markdown",
   "metadata": {
    "id": "dMMIqm6J2r1x"
   },
   "source": [
    "## 2. Data loading"
   ]
  },
  {
   "cell_type": "code",
   "execution_count": 3,
   "metadata": {
    "execution": {
     "iopub.execute_input": "2022-12-29T14:05:58.993904Z",
     "iopub.status.busy": "2022-12-29T14:05:58.993549Z",
     "iopub.status.idle": "2022-12-29T14:05:59.075281Z",
     "shell.execute_reply": "2022-12-29T14:05:59.074230Z",
     "shell.execute_reply.started": "2022-12-29T14:05:58.993872Z"
    },
    "id": "RfTq8ExC2r1x",
    "outputId": "874dc07b-7fbb-406c-d30f-47523db9649e"
   },
   "outputs": [],
   "source": [
    "DATA = Path(\"public_data\")\n",
    "assert DATA.is_dir()\n",
    "\n",
    "PRED_PATH = Path(\"Submissions\")\n",
    "\n",
    "DROP_FTS = [\"ADMITTIME\", \"DISCHTIME\", \"SUBJECT_ID\", \"HADM_ID\"]"
   ]
  },
  {
   "cell_type": "code",
   "execution_count": 4,
   "metadata": {
    "execution": {
     "iopub.execute_input": "2022-12-29T14:05:59.077146Z",
     "iopub.status.busy": "2022-12-29T14:05:59.076437Z",
     "iopub.status.idle": "2022-12-29T14:06:02.007269Z",
     "shell.execute_reply": "2022-12-29T14:06:02.005723Z",
     "shell.execute_reply.started": "2022-12-29T14:05:59.077103Z"
    },
    "id": "D1pAla0q2r1x"
   },
   "outputs": [],
   "source": [
    "features = pd.read_csv(\n",
    "    DATA / \"mimic_synthetic_feat.name\", header=None\n",
    ").values.flatten()\n",
    "\n",
    "labels = pd.read_csv(\n",
    "    DATA / \"mimic_synthetic_label.name\", header=None\n",
    ").values.flatten()\n",
    "\n",
    "x_df = pd.read_csv(\n",
    "    DATA / \"mimic_synthetic_train.data\",\n",
    "    header=None,\n",
    "    names=features,\n",
    "    sep=\" \",\n",
    ")\n",
    "\n",
    "# Remove variables that are not relevant\n",
    "x_df.drop(columns=DROP_FTS, inplace=True)\n",
    "\n",
    "ys = pd.Series(\n",
    "    pd.read_csv(\n",
    "        DATA / \"mimic_synthetic_train.solution\",\n",
    "        header=None,\n",
    "        names=labels,\n",
    "        sep=\" \",\n",
    "    ).values.flatten()\n",
    ")"
   ]
  },
  {
   "cell_type": "code",
   "execution_count": 5,
   "metadata": {
    "execution": {
     "iopub.execute_input": "2022-12-29T14:06:02.009313Z",
     "iopub.status.busy": "2022-12-29T14:06:02.008907Z",
     "iopub.status.idle": "2022-12-29T14:06:02.146957Z",
     "shell.execute_reply": "2022-12-29T14:06:02.145588Z",
     "shell.execute_reply.started": "2022-12-29T14:06:02.009278Z"
    },
    "id": "pkdEmnX92r1x"
   },
   "outputs": [
    {
     "data": {
      "text/html": [
       "<div>\n",
       "<style scoped>\n",
       "    .dataframe tbody tr th:only-of-type {\n",
       "        vertical-align: middle;\n",
       "    }\n",
       "\n",
       "    .dataframe tbody tr th {\n",
       "        vertical-align: top;\n",
       "    }\n",
       "\n",
       "    .dataframe thead th {\n",
       "        text-align: right;\n",
       "    }\n",
       "</style>\n",
       "<table border=\"1\" class=\"dataframe\">\n",
       "  <thead>\n",
       "    <tr style=\"text-align: right;\">\n",
       "      <th></th>\n",
       "      <th>INSURANCE</th>\n",
       "      <th>LANGUAGE</th>\n",
       "      <th>RELIGION</th>\n",
       "      <th>MARITAL_STATUS</th>\n",
       "      <th>ETHNICITY</th>\n",
       "      <th>GENDER</th>\n",
       "      <th>AGE</th>\n",
       "      <th>HR_MIN_DAY1</th>\n",
       "      <th>HR_MAX_DAY1</th>\n",
       "      <th>HR_MEAN_DAY1</th>\n",
       "      <th>...</th>\n",
       "      <th>Eyeinfectn</th>\n",
       "      <th>Othereyedx</th>\n",
       "      <th>Otitismedia</th>\n",
       "      <th>Dizziness</th>\n",
       "      <th>Othereardx</th>\n",
       "      <th>Othnervdx</th>\n",
       "      <th>Hrtvalvedx</th>\n",
       "      <th>Carditis</th>\n",
       "      <th>HTN</th>\n",
       "      <th>Htncomplicn</th>\n",
       "    </tr>\n",
       "  </thead>\n",
       "  <tbody>\n",
       "    <tr>\n",
       "      <th>0</th>\n",
       "      <td>Private</td>\n",
       "      <td>ENGL</td>\n",
       "      <td>CATHOLIC</td>\n",
       "      <td>DIVORCED</td>\n",
       "      <td>WHITE</td>\n",
       "      <td>F</td>\n",
       "      <td>21</td>\n",
       "      <td>57.21</td>\n",
       "      <td>108.7</td>\n",
       "      <td>70.84</td>\n",
       "      <td>...</td>\n",
       "      <td>0</td>\n",
       "      <td>0</td>\n",
       "      <td>0</td>\n",
       "      <td>0</td>\n",
       "      <td>0</td>\n",
       "      <td>0</td>\n",
       "      <td>0</td>\n",
       "      <td>0</td>\n",
       "      <td>0</td>\n",
       "      <td>0</td>\n",
       "    </tr>\n",
       "    <tr>\n",
       "      <th>1</th>\n",
       "      <td>Private</td>\n",
       "      <td>ENGL</td>\n",
       "      <td>UNOBTAINABLE</td>\n",
       "      <td>SINGLE</td>\n",
       "      <td>WHITE</td>\n",
       "      <td>M</td>\n",
       "      <td>39</td>\n",
       "      <td>79.33</td>\n",
       "      <td>121.1</td>\n",
       "      <td>96.92</td>\n",
       "      <td>...</td>\n",
       "      <td>0</td>\n",
       "      <td>0</td>\n",
       "      <td>0</td>\n",
       "      <td>0</td>\n",
       "      <td>0</td>\n",
       "      <td>0</td>\n",
       "      <td>0</td>\n",
       "      <td>0</td>\n",
       "      <td>0</td>\n",
       "      <td>1</td>\n",
       "    </tr>\n",
       "    <tr>\n",
       "      <th>2</th>\n",
       "      <td>Medicaid</td>\n",
       "      <td>SPAN</td>\n",
       "      <td>CATHOLIC</td>\n",
       "      <td>WIDOWED</td>\n",
       "      <td>OTHER</td>\n",
       "      <td>M</td>\n",
       "      <td>40</td>\n",
       "      <td>118.2</td>\n",
       "      <td>175.2</td>\n",
       "      <td>140.9</td>\n",
       "      <td>...</td>\n",
       "      <td>0</td>\n",
       "      <td>0</td>\n",
       "      <td>0</td>\n",
       "      <td>0</td>\n",
       "      <td>0</td>\n",
       "      <td>0</td>\n",
       "      <td>0</td>\n",
       "      <td>0</td>\n",
       "      <td>0</td>\n",
       "      <td>0</td>\n",
       "    </tr>\n",
       "    <tr>\n",
       "      <th>3</th>\n",
       "      <td>Medicare</td>\n",
       "      <td>ENGL</td>\n",
       "      <td>NOT_SPECIFIED</td>\n",
       "      <td>MARRIED</td>\n",
       "      <td>WHITE</td>\n",
       "      <td>M</td>\n",
       "      <td>75</td>\n",
       "      <td>83.78</td>\n",
       "      <td>89.19</td>\n",
       "      <td>86.05</td>\n",
       "      <td>...</td>\n",
       "      <td>0</td>\n",
       "      <td>0</td>\n",
       "      <td>0</td>\n",
       "      <td>0</td>\n",
       "      <td>0</td>\n",
       "      <td>0</td>\n",
       "      <td>0</td>\n",
       "      <td>0</td>\n",
       "      <td>1</td>\n",
       "      <td>0</td>\n",
       "    </tr>\n",
       "    <tr>\n",
       "      <th>4</th>\n",
       "      <td>Medicare</td>\n",
       "      <td>ENGL</td>\n",
       "      <td>UNOBTAINABLE</td>\n",
       "      <td>MARRIED</td>\n",
       "      <td>UNKNOWN/NOT_SPECIFIED</td>\n",
       "      <td>F</td>\n",
       "      <td>55</td>\n",
       "      <td>60.88</td>\n",
       "      <td>105.6</td>\n",
       "      <td>80.62</td>\n",
       "      <td>...</td>\n",
       "      <td>0</td>\n",
       "      <td>0</td>\n",
       "      <td>0</td>\n",
       "      <td>0</td>\n",
       "      <td>0</td>\n",
       "      <td>0</td>\n",
       "      <td>0</td>\n",
       "      <td>0</td>\n",
       "      <td>0</td>\n",
       "      <td>0</td>\n",
       "    </tr>\n",
       "    <tr>\n",
       "      <th>...</th>\n",
       "      <td>...</td>\n",
       "      <td>...</td>\n",
       "      <td>...</td>\n",
       "      <td>...</td>\n",
       "      <td>...</td>\n",
       "      <td>...</td>\n",
       "      <td>...</td>\n",
       "      <td>...</td>\n",
       "      <td>...</td>\n",
       "      <td>...</td>\n",
       "      <td>...</td>\n",
       "      <td>...</td>\n",
       "      <td>...</td>\n",
       "      <td>...</td>\n",
       "      <td>...</td>\n",
       "      <td>...</td>\n",
       "      <td>...</td>\n",
       "      <td>...</td>\n",
       "      <td>...</td>\n",
       "      <td>...</td>\n",
       "      <td>...</td>\n",
       "    </tr>\n",
       "    <tr>\n",
       "      <th>79994</th>\n",
       "      <td>Medicare</td>\n",
       "      <td>ENGL</td>\n",
       "      <td>NOT_SPECIFIED</td>\n",
       "      <td>UNKNOWN_(DEFAULT)</td>\n",
       "      <td>WHITE</td>\n",
       "      <td>F</td>\n",
       "      <td>76</td>\n",
       "      <td>56.04</td>\n",
       "      <td>97.86</td>\n",
       "      <td>79.71</td>\n",
       "      <td>...</td>\n",
       "      <td>0</td>\n",
       "      <td>0</td>\n",
       "      <td>0</td>\n",
       "      <td>0</td>\n",
       "      <td>0</td>\n",
       "      <td>0</td>\n",
       "      <td>0</td>\n",
       "      <td>0</td>\n",
       "      <td>1</td>\n",
       "      <td>0</td>\n",
       "    </tr>\n",
       "    <tr>\n",
       "      <th>79995</th>\n",
       "      <td>Medicaid</td>\n",
       "      <td>ENGL</td>\n",
       "      <td>JEWISH</td>\n",
       "      <td>MARRIED</td>\n",
       "      <td>WHITE</td>\n",
       "      <td>F</td>\n",
       "      <td>38</td>\n",
       "      <td>55.13</td>\n",
       "      <td>86.03</td>\n",
       "      <td>67.65</td>\n",
       "      <td>...</td>\n",
       "      <td>0</td>\n",
       "      <td>0</td>\n",
       "      <td>0</td>\n",
       "      <td>0</td>\n",
       "      <td>0</td>\n",
       "      <td>1</td>\n",
       "      <td>0</td>\n",
       "      <td>0</td>\n",
       "      <td>0</td>\n",
       "      <td>0</td>\n",
       "    </tr>\n",
       "    <tr>\n",
       "      <th>79996</th>\n",
       "      <td>Private</td>\n",
       "      <td>ENGL</td>\n",
       "      <td>NOT_SPECIFIED</td>\n",
       "      <td>SEPARATED</td>\n",
       "      <td>WHITE</td>\n",
       "      <td>F</td>\n",
       "      <td>90</td>\n",
       "      <td>74.28</td>\n",
       "      <td>91.27</td>\n",
       "      <td>91.43</td>\n",
       "      <td>...</td>\n",
       "      <td>0</td>\n",
       "      <td>0</td>\n",
       "      <td>0</td>\n",
       "      <td>0</td>\n",
       "      <td>0</td>\n",
       "      <td>0</td>\n",
       "      <td>0</td>\n",
       "      <td>0</td>\n",
       "      <td>0</td>\n",
       "      <td>0</td>\n",
       "    </tr>\n",
       "    <tr>\n",
       "      <th>79997</th>\n",
       "      <td>Government</td>\n",
       "      <td>ENGL</td>\n",
       "      <td>CATHOLIC</td>\n",
       "      <td>MARRIED</td>\n",
       "      <td>BLACK/AFRICAN_AMERICAN</td>\n",
       "      <td>M</td>\n",
       "      <td>57</td>\n",
       "      <td>79.26</td>\n",
       "      <td>129</td>\n",
       "      <td>98.74</td>\n",
       "      <td>...</td>\n",
       "      <td>0</td>\n",
       "      <td>0</td>\n",
       "      <td>0</td>\n",
       "      <td>0</td>\n",
       "      <td>0</td>\n",
       "      <td>0</td>\n",
       "      <td>0</td>\n",
       "      <td>0</td>\n",
       "      <td>1</td>\n",
       "      <td>0</td>\n",
       "    </tr>\n",
       "    <tr>\n",
       "      <th>79998</th>\n",
       "      <td>Government</td>\n",
       "      <td>ENGL</td>\n",
       "      <td>NOT_SPECIFIED</td>\n",
       "      <td>MARRIED</td>\n",
       "      <td>WHITE</td>\n",
       "      <td>M</td>\n",
       "      <td>37</td>\n",
       "      <td>84.98</td>\n",
       "      <td>133.2</td>\n",
       "      <td>94.29</td>\n",
       "      <td>...</td>\n",
       "      <td>0</td>\n",
       "      <td>0</td>\n",
       "      <td>0</td>\n",
       "      <td>0</td>\n",
       "      <td>0</td>\n",
       "      <td>0</td>\n",
       "      <td>0</td>\n",
       "      <td>0</td>\n",
       "      <td>0</td>\n",
       "      <td>0</td>\n",
       "    </tr>\n",
       "  </tbody>\n",
       "</table>\n",
       "<p>79999 rows × 337 columns</p>\n",
       "</div>"
      ],
      "text/plain": [
       "        INSURANCE LANGUAGE       RELIGION     MARITAL_STATUS  \\\n",
       "0         Private     ENGL       CATHOLIC           DIVORCED   \n",
       "1         Private     ENGL   UNOBTAINABLE             SINGLE   \n",
       "2        Medicaid     SPAN       CATHOLIC            WIDOWED   \n",
       "3        Medicare     ENGL  NOT_SPECIFIED            MARRIED   \n",
       "4        Medicare     ENGL   UNOBTAINABLE            MARRIED   \n",
       "...           ...      ...            ...                ...   \n",
       "79994    Medicare     ENGL  NOT_SPECIFIED  UNKNOWN_(DEFAULT)   \n",
       "79995    Medicaid     ENGL         JEWISH            MARRIED   \n",
       "79996     Private     ENGL  NOT_SPECIFIED          SEPARATED   \n",
       "79997  Government     ENGL       CATHOLIC            MARRIED   \n",
       "79998  Government     ENGL  NOT_SPECIFIED            MARRIED   \n",
       "\n",
       "                    ETHNICITY GENDER  AGE  HR_MIN_DAY1  HR_MAX_DAY1  \\\n",
       "0                       WHITE      F   21        57.21        108.7   \n",
       "1                       WHITE      M   39        79.33        121.1   \n",
       "2                       OTHER      M   40        118.2        175.2   \n",
       "3                       WHITE      M   75        83.78        89.19   \n",
       "4       UNKNOWN/NOT_SPECIFIED      F   55        60.88        105.6   \n",
       "...                       ...    ...  ...          ...          ...   \n",
       "79994                   WHITE      F   76        56.04        97.86   \n",
       "79995                   WHITE      F   38        55.13        86.03   \n",
       "79996                   WHITE      F   90        74.28        91.27   \n",
       "79997  BLACK/AFRICAN_AMERICAN      M   57        79.26          129   \n",
       "79998                   WHITE      M   37        84.98        133.2   \n",
       "\n",
       "       HR_MEAN_DAY1  ...  Eyeinfectn  Othereyedx  Otitismedia  Dizziness  \\\n",
       "0             70.84  ...           0           0            0          0   \n",
       "1             96.92  ...           0           0            0          0   \n",
       "2             140.9  ...           0           0            0          0   \n",
       "3             86.05  ...           0           0            0          0   \n",
       "4             80.62  ...           0           0            0          0   \n",
       "...             ...  ...         ...         ...          ...        ...   \n",
       "79994         79.71  ...           0           0            0          0   \n",
       "79995         67.65  ...           0           0            0          0   \n",
       "79996         91.43  ...           0           0            0          0   \n",
       "79997         98.74  ...           0           0            0          0   \n",
       "79998         94.29  ...           0           0            0          0   \n",
       "\n",
       "       Othereardx  Othnervdx  Hrtvalvedx  Carditis  HTN  Htncomplicn  \n",
       "0               0          0           0         0    0            0  \n",
       "1               0          0           0         0    0            1  \n",
       "2               0          0           0         0    0            0  \n",
       "3               0          0           0         0    1            0  \n",
       "4               0          0           0         0    0            0  \n",
       "...           ...        ...         ...       ...  ...          ...  \n",
       "79994           0          0           0         0    1            0  \n",
       "79995           0          1           0         0    0            0  \n",
       "79996           0          0           0         0    0            0  \n",
       "79997           0          0           0         0    1            0  \n",
       "79998           0          0           0         0    0            0  \n",
       "\n",
       "[79999 rows x 337 columns]"
      ]
     },
     "execution_count": 5,
     "metadata": {},
     "output_type": "execute_result"
    }
   ],
   "source": [
    "x_df"
   ]
  },
  {
   "cell_type": "code",
   "execution_count": 6,
   "metadata": {
    "execution": {
     "iopub.execute_input": "2022-12-29T14:06:02.149288Z",
     "iopub.status.busy": "2022-12-29T14:06:02.148576Z",
     "iopub.status.idle": "2022-12-29T14:06:03.731330Z",
     "shell.execute_reply": "2022-12-29T14:06:03.729736Z",
     "shell.execute_reply.started": "2022-12-29T14:06:02.149248Z"
    },
    "id": "jbMFmszj7J6X"
   },
   "outputs": [
    {
     "data": {
      "text/html": [
       "<div>\n",
       "<style scoped>\n",
       "    .dataframe tbody tr th:only-of-type {\n",
       "        vertical-align: middle;\n",
       "    }\n",
       "\n",
       "    .dataframe tbody tr th {\n",
       "        vertical-align: top;\n",
       "    }\n",
       "\n",
       "    .dataframe thead th {\n",
       "        text-align: right;\n",
       "    }\n",
       "</style>\n",
       "<table border=\"1\" class=\"dataframe\">\n",
       "  <thead>\n",
       "    <tr style=\"text-align: right;\">\n",
       "      <th></th>\n",
       "      <th>AGE</th>\n",
       "      <th>HR_MIN_DAY1</th>\n",
       "      <th>HR_MAX_DAY1</th>\n",
       "      <th>HR_MEAN_DAY1</th>\n",
       "      <th>SYS_BP_MIN_DAY1</th>\n",
       "      <th>SYS_BP_MAX_DAY1</th>\n",
       "      <th>SYS_BP_MEAN_DAY1</th>\n",
       "      <th>DIAS_BP_MIN_DAY1</th>\n",
       "      <th>DIAS_BP_MAX_DAY1</th>\n",
       "      <th>DIAS_BP_MEAN_DAY1</th>\n",
       "      <th>...</th>\n",
       "      <th>Eyeinfectn</th>\n",
       "      <th>Othereyedx</th>\n",
       "      <th>Otitismedia</th>\n",
       "      <th>Dizziness</th>\n",
       "      <th>Othereardx</th>\n",
       "      <th>Othnervdx</th>\n",
       "      <th>Hrtvalvedx</th>\n",
       "      <th>Carditis</th>\n",
       "      <th>HTN</th>\n",
       "      <th>Htncomplicn</th>\n",
       "    </tr>\n",
       "  </thead>\n",
       "  <tbody>\n",
       "    <tr>\n",
       "      <th>count</th>\n",
       "      <td>8e+04</td>\n",
       "      <td>8e+04</td>\n",
       "      <td>8e+04</td>\n",
       "      <td>8e+04</td>\n",
       "      <td>8e+04</td>\n",
       "      <td>8e+04</td>\n",
       "      <td>8e+04</td>\n",
       "      <td>8e+04</td>\n",
       "      <td>8e+04</td>\n",
       "      <td>8e+04</td>\n",
       "      <td>...</td>\n",
       "      <td>8e+04</td>\n",
       "      <td>8e+04</td>\n",
       "      <td>8e+04</td>\n",
       "      <td>8e+04</td>\n",
       "      <td>8e+04</td>\n",
       "      <td>8e+04</td>\n",
       "      <td>8e+04</td>\n",
       "      <td>8e+04</td>\n",
       "      <td>8e+04</td>\n",
       "      <td>8e+04</td>\n",
       "    </tr>\n",
       "    <tr>\n",
       "      <th>mean</th>\n",
       "      <td>62.66</td>\n",
       "      <td>71.65</td>\n",
       "      <td>103.1</td>\n",
       "      <td>86.39</td>\n",
       "      <td>94.61</td>\n",
       "      <td>147.8</td>\n",
       "      <td>119.7</td>\n",
       "      <td>45.24</td>\n",
       "      <td>81.99</td>\n",
       "      <td>60.84</td>\n",
       "      <td>...</td>\n",
       "      <td>0</td>\n",
       "      <td>1.25e-05</td>\n",
       "      <td>0</td>\n",
       "      <td>0</td>\n",
       "      <td>0</td>\n",
       "      <td>0.1455</td>\n",
       "      <td>0.1342</td>\n",
       "      <td>0.008625</td>\n",
       "      <td>0.4577</td>\n",
       "      <td>0.07898</td>\n",
       "    </tr>\n",
       "    <tr>\n",
       "      <th>std</th>\n",
       "      <td>18.19</td>\n",
       "      <td>14.65</td>\n",
       "      <td>18.48</td>\n",
       "      <td>15.51</td>\n",
       "      <td>16.94</td>\n",
       "      <td>21.61</td>\n",
       "      <td>16.49</td>\n",
       "      <td>10.5</td>\n",
       "      <td>16.64</td>\n",
       "      <td>10.27</td>\n",
       "      <td>...</td>\n",
       "      <td>0</td>\n",
       "      <td>0.003536</td>\n",
       "      <td>0</td>\n",
       "      <td>0</td>\n",
       "      <td>0</td>\n",
       "      <td>0.3526</td>\n",
       "      <td>0.3408</td>\n",
       "      <td>0.09247</td>\n",
       "      <td>0.4982</td>\n",
       "      <td>0.2697</td>\n",
       "    </tr>\n",
       "    <tr>\n",
       "      <th>min</th>\n",
       "      <td>16</td>\n",
       "      <td>18.73</td>\n",
       "      <td>49.86</td>\n",
       "      <td>38.5</td>\n",
       "      <td>31.77</td>\n",
       "      <td>91.69</td>\n",
       "      <td>73.97</td>\n",
       "      <td>11.33</td>\n",
       "      <td>42.43</td>\n",
       "      <td>30.5</td>\n",
       "      <td>...</td>\n",
       "      <td>0</td>\n",
       "      <td>0</td>\n",
       "      <td>0</td>\n",
       "      <td>0</td>\n",
       "      <td>0</td>\n",
       "      <td>0</td>\n",
       "      <td>0</td>\n",
       "      <td>0</td>\n",
       "      <td>0</td>\n",
       "      <td>0</td>\n",
       "    </tr>\n",
       "    <tr>\n",
       "      <th>25%</th>\n",
       "      <td>51</td>\n",
       "      <td>61.46</td>\n",
       "      <td>89.9</td>\n",
       "      <td>75.28</td>\n",
       "      <td>82.81</td>\n",
       "      <td>132.1</td>\n",
       "      <td>107.6</td>\n",
       "      <td>37.83</td>\n",
       "      <td>69.96</td>\n",
       "      <td>53.4</td>\n",
       "      <td>...</td>\n",
       "      <td>0</td>\n",
       "      <td>0</td>\n",
       "      <td>0</td>\n",
       "      <td>0</td>\n",
       "      <td>0</td>\n",
       "      <td>0</td>\n",
       "      <td>0</td>\n",
       "      <td>0</td>\n",
       "      <td>0</td>\n",
       "      <td>0</td>\n",
       "    </tr>\n",
       "    <tr>\n",
       "      <th>50%</th>\n",
       "      <td>65</td>\n",
       "      <td>71.05</td>\n",
       "      <td>101.6</td>\n",
       "      <td>85.42</td>\n",
       "      <td>94.17</td>\n",
       "      <td>145.4</td>\n",
       "      <td>118.1</td>\n",
       "      <td>44.62</td>\n",
       "      <td>79.86</td>\n",
       "      <td>60.1</td>\n",
       "      <td>...</td>\n",
       "      <td>0</td>\n",
       "      <td>0</td>\n",
       "      <td>0</td>\n",
       "      <td>0</td>\n",
       "      <td>0</td>\n",
       "      <td>0</td>\n",
       "      <td>0</td>\n",
       "      <td>0</td>\n",
       "      <td>0</td>\n",
       "      <td>0</td>\n",
       "    </tr>\n",
       "    <tr>\n",
       "      <th>75%</th>\n",
       "      <td>77</td>\n",
       "      <td>81.15</td>\n",
       "      <td>114.8</td>\n",
       "      <td>96.51</td>\n",
       "      <td>106</td>\n",
       "      <td>161.1</td>\n",
       "      <td>130.3</td>\n",
       "      <td>51.97</td>\n",
       "      <td>91.76</td>\n",
       "      <td>67.41</td>\n",
       "      <td>...</td>\n",
       "      <td>0</td>\n",
       "      <td>0</td>\n",
       "      <td>0</td>\n",
       "      <td>0</td>\n",
       "      <td>0</td>\n",
       "      <td>0</td>\n",
       "      <td>0</td>\n",
       "      <td>0</td>\n",
       "      <td>1</td>\n",
       "      <td>0</td>\n",
       "    </tr>\n",
       "    <tr>\n",
       "      <th>max</th>\n",
       "      <td>90</td>\n",
       "      <td>141.9</td>\n",
       "      <td>206.6</td>\n",
       "      <td>157.6</td>\n",
       "      <td>163.8</td>\n",
       "      <td>260</td>\n",
       "      <td>186.3</td>\n",
       "      <td>95.6</td>\n",
       "      <td>189</td>\n",
       "      <td>109.6</td>\n",
       "      <td>...</td>\n",
       "      <td>0</td>\n",
       "      <td>1</td>\n",
       "      <td>0</td>\n",
       "      <td>0</td>\n",
       "      <td>0</td>\n",
       "      <td>1</td>\n",
       "      <td>1</td>\n",
       "      <td>1</td>\n",
       "      <td>1</td>\n",
       "      <td>1</td>\n",
       "    </tr>\n",
       "  </tbody>\n",
       "</table>\n",
       "<p>8 rows × 330 columns</p>\n",
       "</div>"
      ],
      "text/plain": [
       "        AGE  HR_MIN_DAY1  HR_MAX_DAY1  HR_MEAN_DAY1  SYS_BP_MIN_DAY1  \\\n",
       "count 8e+04        8e+04        8e+04         8e+04            8e+04   \n",
       "mean  62.66        71.65        103.1         86.39            94.61   \n",
       "std   18.19        14.65        18.48         15.51            16.94   \n",
       "min      16        18.73        49.86          38.5            31.77   \n",
       "25%      51        61.46         89.9         75.28            82.81   \n",
       "50%      65        71.05        101.6         85.42            94.17   \n",
       "75%      77        81.15        114.8         96.51              106   \n",
       "max      90        141.9        206.6         157.6            163.8   \n",
       "\n",
       "       SYS_BP_MAX_DAY1  SYS_BP_MEAN_DAY1  DIAS_BP_MIN_DAY1  DIAS_BP_MAX_DAY1  \\\n",
       "count            8e+04             8e+04             8e+04             8e+04   \n",
       "mean             147.8             119.7             45.24             81.99   \n",
       "std              21.61             16.49              10.5             16.64   \n",
       "min              91.69             73.97             11.33             42.43   \n",
       "25%              132.1             107.6             37.83             69.96   \n",
       "50%              145.4             118.1             44.62             79.86   \n",
       "75%              161.1             130.3             51.97             91.76   \n",
       "max                260             186.3              95.6               189   \n",
       "\n",
       "       DIAS_BP_MEAN_DAY1  ...  Eyeinfectn  Othereyedx  Otitismedia  Dizziness  \\\n",
       "count              8e+04  ...       8e+04       8e+04        8e+04      8e+04   \n",
       "mean               60.84  ...           0    1.25e-05            0          0   \n",
       "std                10.27  ...           0    0.003536            0          0   \n",
       "min                 30.5  ...           0           0            0          0   \n",
       "25%                 53.4  ...           0           0            0          0   \n",
       "50%                 60.1  ...           0           0            0          0   \n",
       "75%                67.41  ...           0           0            0          0   \n",
       "max                109.6  ...           0           1            0          0   \n",
       "\n",
       "       Othereardx  Othnervdx  Hrtvalvedx  Carditis    HTN  Htncomplicn  \n",
       "count       8e+04      8e+04       8e+04     8e+04  8e+04        8e+04  \n",
       "mean            0     0.1455      0.1342  0.008625 0.4577      0.07898  \n",
       "std             0     0.3526      0.3408   0.09247 0.4982       0.2697  \n",
       "min             0          0           0         0      0            0  \n",
       "25%             0          0           0         0      0            0  \n",
       "50%             0          0           0         0      0            0  \n",
       "75%             0          0           0         0      1            0  \n",
       "max             0          1           1         1      1            1  \n",
       "\n",
       "[8 rows x 330 columns]"
      ]
     },
     "execution_count": 6,
     "metadata": {},
     "output_type": "execute_result"
    }
   ],
   "source": [
    "x_df.describe()"
   ]
  },
  {
   "cell_type": "code",
   "execution_count": 8,
   "metadata": {
    "execution": {
     "iopub.execute_input": "2022-12-29T14:06:03.734242Z",
     "iopub.status.busy": "2022-12-29T14:06:03.733208Z",
     "iopub.status.idle": "2022-12-29T14:06:03.819001Z",
     "shell.execute_reply": "2022-12-29T14:06:03.817665Z",
     "shell.execute_reply.started": "2022-12-29T14:06:03.734194Z"
    },
    "id": "yoUZVs7BSiS5"
   },
   "outputs": [],
   "source": [
    "#x_df.columns.values"
   ]
  },
  {
   "cell_type": "code",
   "execution_count": 9,
   "metadata": {
    "execution": {
     "iopub.execute_input": "2022-12-29T14:06:03.821257Z",
     "iopub.status.busy": "2022-12-29T14:06:03.820759Z",
     "iopub.status.idle": "2022-12-29T14:06:03.913916Z",
     "shell.execute_reply": "2022-12-29T14:06:03.912264Z",
     "shell.execute_reply.started": "2022-12-29T14:06:03.821202Z"
    },
    "id": "-GbXthqrSrcB"
   },
   "outputs": [
    {
     "data": {
      "text/plain": [
       "count     8e+04\n",
       "mean    0.01731\n",
       "std      0.1304\n",
       "min           0\n",
       "25%           0\n",
       "50%           0\n",
       "75%           0\n",
       "max           1\n",
       "Name: Alcohol-relateddisorders, dtype: float64"
      ]
     },
     "execution_count": 9,
     "metadata": {},
     "output_type": "execute_result"
    }
   ],
   "source": [
    "x_df['Alcohol-relateddisorders'].describe()"
   ]
  },
  {
   "cell_type": "markdown",
   "metadata": {
    "id": "IBRcY5y02r1x"
   },
   "source": [
    "This is **the training set**. This means that you have access to the labels and can use it however you want to prepare your model.\n",
    "\n",
    "Later, you will have your model draw predictions from **the test set** in order to upload them to Codalab and get a score on data not seen while training the models."
   ]
  },
  {
   "cell_type": "code",
   "execution_count": 10,
   "metadata": {
    "execution": {
     "iopub.execute_input": "2022-12-29T14:06:03.916500Z",
     "iopub.status.busy": "2022-12-29T14:06:03.915405Z",
     "iopub.status.idle": "2022-12-29T14:06:04.708269Z",
     "shell.execute_reply": "2022-12-29T14:06:04.706623Z",
     "shell.execute_reply.started": "2022-12-29T14:06:03.916457Z"
    },
    "id": "Q-xSu-GF2r1x"
   },
   "outputs": [],
   "source": [
    "# Load test set\n",
    "x_test_df = pd.read_csv(\n",
    "    DATA / \"mimic_synthetic_test.data\",\n",
    "    header=None,\n",
    "    names=features,\n",
    "    sep=\" \",\n",
    ")\n",
    "\n",
    "# Remove variables that are not relevant\n",
    "x_test_df.drop(columns=DROP_FTS, inplace=True)"
   ]
  },
  {
   "cell_type": "code",
   "execution_count": 11,
   "metadata": {
    "execution": {
     "iopub.execute_input": "2022-12-29T14:06:04.710486Z",
     "iopub.status.busy": "2022-12-29T14:06:04.710072Z",
     "iopub.status.idle": "2022-12-29T14:06:04.827511Z",
     "shell.execute_reply": "2022-12-29T14:06:04.826137Z",
     "shell.execute_reply.started": "2022-12-29T14:06:04.710449Z"
    },
    "id": "gbUCXN2J2r1x",
    "outputId": "5ccdf751-abcf-4420-dbaa-c8e551d267ac"
   },
   "outputs": [
    {
     "data": {
      "text/html": [
       "<div>\n",
       "<style scoped>\n",
       "    .dataframe tbody tr th:only-of-type {\n",
       "        vertical-align: middle;\n",
       "    }\n",
       "\n",
       "    .dataframe tbody tr th {\n",
       "        vertical-align: top;\n",
       "    }\n",
       "\n",
       "    .dataframe thead th {\n",
       "        text-align: right;\n",
       "    }\n",
       "</style>\n",
       "<table border=\"1\" class=\"dataframe\">\n",
       "  <thead>\n",
       "    <tr style=\"text-align: right;\">\n",
       "      <th></th>\n",
       "      <th>INSURANCE</th>\n",
       "      <th>LANGUAGE</th>\n",
       "      <th>RELIGION</th>\n",
       "      <th>MARITAL_STATUS</th>\n",
       "      <th>ETHNICITY</th>\n",
       "      <th>GENDER</th>\n",
       "      <th>AGE</th>\n",
       "      <th>HR_MIN_DAY1</th>\n",
       "      <th>HR_MAX_DAY1</th>\n",
       "      <th>HR_MEAN_DAY1</th>\n",
       "      <th>...</th>\n",
       "      <th>Eyeinfectn</th>\n",
       "      <th>Othereyedx</th>\n",
       "      <th>Otitismedia</th>\n",
       "      <th>Dizziness</th>\n",
       "      <th>Othereardx</th>\n",
       "      <th>Othnervdx</th>\n",
       "      <th>Hrtvalvedx</th>\n",
       "      <th>Carditis</th>\n",
       "      <th>HTN</th>\n",
       "      <th>Htncomplicn</th>\n",
       "    </tr>\n",
       "  </thead>\n",
       "  <tbody>\n",
       "    <tr>\n",
       "      <th>0</th>\n",
       "      <td>Self_Pay</td>\n",
       "      <td>ENGL</td>\n",
       "      <td>OTHER</td>\n",
       "      <td>MARRIED</td>\n",
       "      <td>WHITE</td>\n",
       "      <td>F</td>\n",
       "      <td>18</td>\n",
       "      <td>72.64</td>\n",
       "      <td>112.7</td>\n",
       "      <td>96.46</td>\n",
       "      <td>...</td>\n",
       "      <td>0</td>\n",
       "      <td>0</td>\n",
       "      <td>0</td>\n",
       "      <td>0</td>\n",
       "      <td>0</td>\n",
       "      <td>0</td>\n",
       "      <td>0</td>\n",
       "      <td>0</td>\n",
       "      <td>0</td>\n",
       "      <td>0</td>\n",
       "    </tr>\n",
       "    <tr>\n",
       "      <th>1</th>\n",
       "      <td>Medicare</td>\n",
       "      <td>ENGL</td>\n",
       "      <td>NOT_SPECIFIED</td>\n",
       "      <td>SINGLE</td>\n",
       "      <td>BLACK/AFRICAN_AMERICAN</td>\n",
       "      <td>F</td>\n",
       "      <td>56</td>\n",
       "      <td>66.61</td>\n",
       "      <td>106.8</td>\n",
       "      <td>83.85</td>\n",
       "      <td>...</td>\n",
       "      <td>0</td>\n",
       "      <td>0</td>\n",
       "      <td>0</td>\n",
       "      <td>0</td>\n",
       "      <td>0</td>\n",
       "      <td>0</td>\n",
       "      <td>0</td>\n",
       "      <td>0</td>\n",
       "      <td>1</td>\n",
       "      <td>0</td>\n",
       "    </tr>\n",
       "    <tr>\n",
       "      <th>2</th>\n",
       "      <td>Medicaid</td>\n",
       "      <td>ENGL</td>\n",
       "      <td>CATHOLIC</td>\n",
       "      <td>SINGLE</td>\n",
       "      <td>WHITE</td>\n",
       "      <td>M</td>\n",
       "      <td>32</td>\n",
       "      <td>69.72</td>\n",
       "      <td>102.7</td>\n",
       "      <td>87.26</td>\n",
       "      <td>...</td>\n",
       "      <td>0</td>\n",
       "      <td>0</td>\n",
       "      <td>0</td>\n",
       "      <td>0</td>\n",
       "      <td>0</td>\n",
       "      <td>0</td>\n",
       "      <td>0</td>\n",
       "      <td>0</td>\n",
       "      <td>0</td>\n",
       "      <td>0</td>\n",
       "    </tr>\n",
       "    <tr>\n",
       "      <th>3</th>\n",
       "      <td>Private</td>\n",
       "      <td>ENGL</td>\n",
       "      <td>OTHER</td>\n",
       "      <td>MARRIED</td>\n",
       "      <td>WHITE</td>\n",
       "      <td>M</td>\n",
       "      <td>80</td>\n",
       "      <td>63.28</td>\n",
       "      <td>85.75</td>\n",
       "      <td>76.75</td>\n",
       "      <td>...</td>\n",
       "      <td>0</td>\n",
       "      <td>0</td>\n",
       "      <td>0</td>\n",
       "      <td>0</td>\n",
       "      <td>0</td>\n",
       "      <td>0</td>\n",
       "      <td>0</td>\n",
       "      <td>0</td>\n",
       "      <td>0</td>\n",
       "      <td>0</td>\n",
       "    </tr>\n",
       "    <tr>\n",
       "      <th>4</th>\n",
       "      <td>Medicare</td>\n",
       "      <td>ENGL</td>\n",
       "      <td>JEWISH</td>\n",
       "      <td>WIDOWED</td>\n",
       "      <td>WHITE</td>\n",
       "      <td>M</td>\n",
       "      <td>83</td>\n",
       "      <td>75.23</td>\n",
       "      <td>104.4</td>\n",
       "      <td>94.18</td>\n",
       "      <td>...</td>\n",
       "      <td>0</td>\n",
       "      <td>0</td>\n",
       "      <td>0</td>\n",
       "      <td>0</td>\n",
       "      <td>0</td>\n",
       "      <td>0</td>\n",
       "      <td>0</td>\n",
       "      <td>0</td>\n",
       "      <td>0</td>\n",
       "      <td>0</td>\n",
       "    </tr>\n",
       "    <tr>\n",
       "      <th>...</th>\n",
       "      <td>...</td>\n",
       "      <td>...</td>\n",
       "      <td>...</td>\n",
       "      <td>...</td>\n",
       "      <td>...</td>\n",
       "      <td>...</td>\n",
       "      <td>...</td>\n",
       "      <td>...</td>\n",
       "      <td>...</td>\n",
       "      <td>...</td>\n",
       "      <td>...</td>\n",
       "      <td>...</td>\n",
       "      <td>...</td>\n",
       "      <td>...</td>\n",
       "      <td>...</td>\n",
       "      <td>...</td>\n",
       "      <td>...</td>\n",
       "      <td>...</td>\n",
       "      <td>...</td>\n",
       "      <td>...</td>\n",
       "      <td>...</td>\n",
       "    </tr>\n",
       "    <tr>\n",
       "      <th>19996</th>\n",
       "      <td>Medicare</td>\n",
       "      <td>ENGL</td>\n",
       "      <td>CATHOLIC</td>\n",
       "      <td>MARRIED</td>\n",
       "      <td>WHITE</td>\n",
       "      <td>M</td>\n",
       "      <td>85</td>\n",
       "      <td>51.54</td>\n",
       "      <td>72.39</td>\n",
       "      <td>69.96</td>\n",
       "      <td>...</td>\n",
       "      <td>0</td>\n",
       "      <td>0</td>\n",
       "      <td>0</td>\n",
       "      <td>0</td>\n",
       "      <td>0</td>\n",
       "      <td>0</td>\n",
       "      <td>0</td>\n",
       "      <td>0</td>\n",
       "      <td>1</td>\n",
       "      <td>0</td>\n",
       "    </tr>\n",
       "    <tr>\n",
       "      <th>19997</th>\n",
       "      <td>Medicare</td>\n",
       "      <td>ENGL</td>\n",
       "      <td>CATHOLIC</td>\n",
       "      <td>MARRIED</td>\n",
       "      <td>WHITE</td>\n",
       "      <td>M</td>\n",
       "      <td>69</td>\n",
       "      <td>61.79</td>\n",
       "      <td>75.33</td>\n",
       "      <td>80.25</td>\n",
       "      <td>...</td>\n",
       "      <td>0</td>\n",
       "      <td>0</td>\n",
       "      <td>0</td>\n",
       "      <td>0</td>\n",
       "      <td>0</td>\n",
       "      <td>1</td>\n",
       "      <td>0</td>\n",
       "      <td>0</td>\n",
       "      <td>1</td>\n",
       "      <td>0</td>\n",
       "    </tr>\n",
       "    <tr>\n",
       "      <th>19998</th>\n",
       "      <td>Medicare</td>\n",
       "      <td>ENGL</td>\n",
       "      <td>CHRISTIAN_SCIENTIST</td>\n",
       "      <td>MARRIED</td>\n",
       "      <td>UNKNOWN/NOT_SPECIFIED</td>\n",
       "      <td>M</td>\n",
       "      <td>84</td>\n",
       "      <td>94.34</td>\n",
       "      <td>132.7</td>\n",
       "      <td>115.4</td>\n",
       "      <td>...</td>\n",
       "      <td>0</td>\n",
       "      <td>0</td>\n",
       "      <td>0</td>\n",
       "      <td>0</td>\n",
       "      <td>0</td>\n",
       "      <td>0</td>\n",
       "      <td>0</td>\n",
       "      <td>0</td>\n",
       "      <td>0</td>\n",
       "      <td>0</td>\n",
       "    </tr>\n",
       "    <tr>\n",
       "      <th>19999</th>\n",
       "      <td>Private</td>\n",
       "      <td>ENGL</td>\n",
       "      <td>PROTESTANT_QUAKER</td>\n",
       "      <td>MARRIED</td>\n",
       "      <td>BLACK/AFRICAN_AMERICAN</td>\n",
       "      <td>M</td>\n",
       "      <td>84</td>\n",
       "      <td>48.68</td>\n",
       "      <td>85.93</td>\n",
       "      <td>57.75</td>\n",
       "      <td>...</td>\n",
       "      <td>0</td>\n",
       "      <td>0</td>\n",
       "      <td>0</td>\n",
       "      <td>0</td>\n",
       "      <td>0</td>\n",
       "      <td>0</td>\n",
       "      <td>1</td>\n",
       "      <td>0</td>\n",
       "      <td>0</td>\n",
       "      <td>0</td>\n",
       "    </tr>\n",
       "    <tr>\n",
       "      <th>20000</th>\n",
       "      <td>Medicare</td>\n",
       "      <td>ENGL</td>\n",
       "      <td>JEWISH</td>\n",
       "      <td>MARRIED</td>\n",
       "      <td>WHITE</td>\n",
       "      <td>F</td>\n",
       "      <td>72</td>\n",
       "      <td>54.01</td>\n",
       "      <td>81.72</td>\n",
       "      <td>62.97</td>\n",
       "      <td>...</td>\n",
       "      <td>0</td>\n",
       "      <td>0</td>\n",
       "      <td>0</td>\n",
       "      <td>0</td>\n",
       "      <td>0</td>\n",
       "      <td>1</td>\n",
       "      <td>0</td>\n",
       "      <td>0</td>\n",
       "      <td>1</td>\n",
       "      <td>0</td>\n",
       "    </tr>\n",
       "  </tbody>\n",
       "</table>\n",
       "<p>20001 rows × 337 columns</p>\n",
       "</div>"
      ],
      "text/plain": [
       "      INSURANCE LANGUAGE             RELIGION MARITAL_STATUS  \\\n",
       "0      Self_Pay     ENGL                OTHER        MARRIED   \n",
       "1      Medicare     ENGL        NOT_SPECIFIED         SINGLE   \n",
       "2      Medicaid     ENGL             CATHOLIC         SINGLE   \n",
       "3       Private     ENGL                OTHER        MARRIED   \n",
       "4      Medicare     ENGL               JEWISH        WIDOWED   \n",
       "...         ...      ...                  ...            ...   \n",
       "19996  Medicare     ENGL             CATHOLIC        MARRIED   \n",
       "19997  Medicare     ENGL             CATHOLIC        MARRIED   \n",
       "19998  Medicare     ENGL  CHRISTIAN_SCIENTIST        MARRIED   \n",
       "19999   Private     ENGL    PROTESTANT_QUAKER        MARRIED   \n",
       "20000  Medicare     ENGL               JEWISH        MARRIED   \n",
       "\n",
       "                    ETHNICITY GENDER  AGE  HR_MIN_DAY1  HR_MAX_DAY1  \\\n",
       "0                       WHITE      F   18        72.64        112.7   \n",
       "1      BLACK/AFRICAN_AMERICAN      F   56        66.61        106.8   \n",
       "2                       WHITE      M   32        69.72        102.7   \n",
       "3                       WHITE      M   80        63.28        85.75   \n",
       "4                       WHITE      M   83        75.23        104.4   \n",
       "...                       ...    ...  ...          ...          ...   \n",
       "19996                   WHITE      M   85        51.54        72.39   \n",
       "19997                   WHITE      M   69        61.79        75.33   \n",
       "19998   UNKNOWN/NOT_SPECIFIED      M   84        94.34        132.7   \n",
       "19999  BLACK/AFRICAN_AMERICAN      M   84        48.68        85.93   \n",
       "20000                   WHITE      F   72        54.01        81.72   \n",
       "\n",
       "       HR_MEAN_DAY1  ...  Eyeinfectn  Othereyedx  Otitismedia  Dizziness  \\\n",
       "0             96.46  ...           0           0            0          0   \n",
       "1             83.85  ...           0           0            0          0   \n",
       "2             87.26  ...           0           0            0          0   \n",
       "3             76.75  ...           0           0            0          0   \n",
       "4             94.18  ...           0           0            0          0   \n",
       "...             ...  ...         ...         ...          ...        ...   \n",
       "19996         69.96  ...           0           0            0          0   \n",
       "19997         80.25  ...           0           0            0          0   \n",
       "19998         115.4  ...           0           0            0          0   \n",
       "19999         57.75  ...           0           0            0          0   \n",
       "20000         62.97  ...           0           0            0          0   \n",
       "\n",
       "       Othereardx  Othnervdx  Hrtvalvedx  Carditis  HTN  Htncomplicn  \n",
       "0               0          0           0         0    0            0  \n",
       "1               0          0           0         0    1            0  \n",
       "2               0          0           0         0    0            0  \n",
       "3               0          0           0         0    0            0  \n",
       "4               0          0           0         0    0            0  \n",
       "...           ...        ...         ...       ...  ...          ...  \n",
       "19996           0          0           0         0    1            0  \n",
       "19997           0          1           0         0    1            0  \n",
       "19998           0          0           0         0    0            0  \n",
       "19999           0          0           1         0    0            0  \n",
       "20000           0          1           0         0    1            0  \n",
       "\n",
       "[20001 rows x 337 columns]"
      ]
     },
     "execution_count": 11,
     "metadata": {},
     "output_type": "execute_result"
    }
   ],
   "source": [
    "x_test_df"
   ]
  },
  {
   "cell_type": "markdown",
   "metadata": {
    "id": "FDFO2VXA2r1x"
   },
   "source": [
    "## 3. Exploratory analysis"
   ]
  },
  {
   "cell_type": "markdown",
   "metadata": {
    "id": "NiEvVJg52r1y"
   },
   "source": [
    "#### Features' types"
   ]
  },
  {
   "cell_type": "code",
   "execution_count": 12,
   "metadata": {
    "execution": {
     "iopub.execute_input": "2022-12-29T14:06:04.830201Z",
     "iopub.status.busy": "2022-12-29T14:06:04.829787Z",
     "iopub.status.idle": "2022-12-29T14:06:04.923386Z",
     "shell.execute_reply": "2022-12-29T14:06:04.922310Z",
     "shell.execute_reply.started": "2022-12-29T14:06:04.830162Z"
    },
    "id": "VuiBBw3f2r1y",
    "outputId": "8cf0444e-74d9-4cfa-fea5-28675bb698ea"
   },
   "outputs": [
    {
     "data": {
      "text/plain": [
       "Numerical      226\n",
       "Binary         107\n",
       "Categorical      8\n",
       "Name: 0, dtype: int64"
      ]
     },
     "execution_count": 12,
     "metadata": {},
     "output_type": "execute_result"
    }
   ],
   "source": [
    "types = pd.read_csv(DATA / \"mimic_synthetic_feat.type\", header=None).set_index(\n",
    "    features\n",
    ")[0]\n",
    "\n",
    "types.value_counts()"
   ]
  },
  {
   "cell_type": "code",
   "execution_count": 13,
   "metadata": {
    "execution": {
     "iopub.execute_input": "2022-12-29T14:06:04.924733Z",
     "iopub.status.busy": "2022-12-29T14:06:04.924368Z",
     "iopub.status.idle": "2022-12-29T14:06:05.035639Z",
     "shell.execute_reply": "2022-12-29T14:06:05.032699Z",
     "shell.execute_reply.started": "2022-12-29T14:06:04.924701Z"
    },
    "id": "gdvO5EVWIklP",
    "outputId": "ec5298c5-8c9a-4eb8-fa80-37f8d3a51ecb"
   },
   "outputs": [
    {
     "data": {
      "text/plain": [
       "SUBJECT_ID       Numerical\n",
       "HADM_ID          Numerical\n",
       "ADMITTIME      Categorical\n",
       "DISCHTIME      Categorical\n",
       "INSURANCE      Categorical\n",
       "                  ...     \n",
       "Cataract         Numerical\n",
       "Retinaldx           Binary\n",
       "Glaucoma            Binary\n",
       "Blindness        Numerical\n",
       "SexualInfxs      Numerical\n",
       "Name: 0, Length: 331, dtype: object"
      ]
     },
     "execution_count": 13,
     "metadata": {},
     "output_type": "execute_result"
    }
   ],
   "source": [
    "types.head(-10)"
   ]
  },
  {
   "cell_type": "markdown",
   "metadata": {
    "id": "2xhGCe9m2r1y"
   },
   "source": [
    "#### Target feature distribution"
   ]
  },
  {
   "cell_type": "code",
   "execution_count": 14,
   "metadata": {
    "execution": {
     "iopub.execute_input": "2022-12-29T14:06:05.040796Z",
     "iopub.status.busy": "2022-12-29T14:06:05.039511Z",
     "iopub.status.idle": "2022-12-29T14:06:05.137522Z",
     "shell.execute_reply": "2022-12-29T14:06:05.136034Z",
     "shell.execute_reply.started": "2022-12-29T14:06:05.040732Z"
    },
    "id": "RhvXSayZ2r1y",
    "outputId": "384cf6af-7f03-4c3d-fc48-81f5bccd6238"
   },
   "outputs": [
    {
     "data": {
      "text/plain": [
       "count     8e+04\n",
       "mean    0.03496\n",
       "std      0.1837\n",
       "min           0\n",
       "25%           0\n",
       "50%           0\n",
       "75%           0\n",
       "max           1\n",
       "dtype: float64"
      ]
     },
     "execution_count": 14,
     "metadata": {},
     "output_type": "execute_result"
    }
   ],
   "source": [
    "ys.describe()"
   ]
  },
  {
   "cell_type": "markdown",
   "metadata": {
    "id": "iDWQVsOu2r1y"
   },
   "source": [
    "### Code: Produce the following graphs\n",
    "\n",
    "* Bar chart to show the target feature distribution\n",
    "\n",
    "* Bar charts of 4 categorical variables (e.g., \"LANGUAGE\", \"MARITAL_STATUS\")\n",
    "\n",
    "* Show the correlation between a selection of features and the target feature y\n",
    "\n",
    "* Another graph or any exploratory analysis you can think of"
   ]
  },
  {
   "cell_type": "code",
   "execution_count": 15,
   "metadata": {
    "execution": {
     "iopub.execute_input": "2022-12-29T14:06:05.139282Z",
     "iopub.status.busy": "2022-12-29T14:06:05.138913Z",
     "iopub.status.idle": "2022-12-29T14:06:05.446863Z",
     "shell.execute_reply": "2022-12-29T14:06:05.445523Z",
     "shell.execute_reply.started": "2022-12-29T14:06:05.139243Z"
    },
    "id": "akpzAScGHn4n",
    "outputId": "f657c0a1-1a58-4ab3-abb3-b0b2848e734a"
   },
   "outputs": [
    {
     "data": {
      "text/plain": [
       "Text(0.5, 1.0, 'Target distribution')"
      ]
     },
     "execution_count": 15,
     "metadata": {},
     "output_type": "execute_result"
    },
    {
     "data": {
      "image/png": "[encoded data removed]",
      "text/plain": [
       "<Figure size 640x480 with 1 Axes>"
      ]
     },
     "metadata": {},
     "output_type": "display_data"
    }
   ],
   "source": [
    "#bar chart target - feature distribution\n",
    "\n",
    "ys.value_counts().plot(kind='bar')\n",
    "plt.xlabel('Died or survived', size = 13)\n",
    "plt.ylabel('Patients', size = 13)\n",
    "plt.title('Target distribution', size = 15)"
   ]
  },
  {
   "cell_type": "code",
   "execution_count": 16,
   "metadata": {
    "execution": {
     "iopub.execute_input": "2022-12-29T14:06:05.448902Z",
     "iopub.status.busy": "2022-12-29T14:06:05.448526Z",
     "iopub.status.idle": "2022-12-29T14:06:05.760711Z",
     "shell.execute_reply": "2022-12-29T14:06:05.759000Z",
     "shell.execute_reply.started": "2022-12-29T14:06:05.448870Z"
    },
    "id": "_01KevKTHdsT",
    "outputId": "a7d2b408-b7bc-4a9f-d91e-f4ce69c0ae09"
   },
   "outputs": [
    {
     "data": {
      "text/plain": [
       "<AxesSubplot: >"
      ]
     },
     "execution_count": 16,
     "metadata": {},
     "output_type": "execute_result"
    },
    {
     "data": {
      "image/png": "[encoded data removed]",
      "text/plain": [
       "<Figure size 640x480 with 1 Axes>"
      ]
     },
     "metadata": {},
     "output_type": "display_data"
    }
   ],
   "source": [
    "x_df['MARITAL_STATUS'].value_counts().plot(kind='bar')"
   ]
  },
  {
   "cell_type": "code",
   "execution_count": 17,
   "metadata": {
    "execution": {
     "iopub.execute_input": "2022-12-29T14:06:05.762754Z",
     "iopub.status.busy": "2022-12-29T14:06:05.762310Z",
     "iopub.status.idle": "2022-12-29T14:06:06.402537Z",
     "shell.execute_reply": "2022-12-29T14:06:06.401157Z",
     "shell.execute_reply.started": "2022-12-29T14:06:05.762715Z"
    },
    "id": "STp0GlWcIDiI",
    "outputId": "3cc65e99-4206-4b5c-e81e-d596b675ffea"
   },
   "outputs": [
    {
     "data": {
      "text/plain": [
       "<AxesSubplot: >"
      ]
     },
     "execution_count": 17,
     "metadata": {},
     "output_type": "execute_result"
    },
    {
     "data": {
      "image/png": "[encoded data removed]",
      "text/plain": [
       "<Figure size 640x480 with 1 Axes>"
      ]
     },
     "metadata": {},
     "output_type": "display_data"
    }
   ],
   "source": [
    "x_df['ETHNICITY'].value_counts().plot(kind='bar')"
   ]
  },
  {
   "cell_type": "code",
   "execution_count": 18,
   "metadata": {
    "execution": {
     "iopub.execute_input": "2022-12-29T14:06:06.405197Z",
     "iopub.status.busy": "2022-12-29T14:06:06.404118Z",
     "iopub.status.idle": "2022-12-29T14:06:06.839807Z",
     "shell.execute_reply": "2022-12-29T14:06:06.838443Z",
     "shell.execute_reply.started": "2022-12-29T14:06:06.405155Z"
    },
    "id": "OkLr0cSdI9iW",
    "outputId": "4ddb2a6d-f837-4127-be33-4578b67e88f9"
   },
   "outputs": [
    {
     "data": {
      "text/plain": [
       "<AxesSubplot: >"
      ]
     },
     "execution_count": 18,
     "metadata": {},
     "output_type": "execute_result"
    },
    {
     "data": {
      "image/png": "[encoded data removed]",
      "text/plain": [
       "<Figure size 640x480 with 1 Axes>"
      ]
     },
     "metadata": {},
     "output_type": "display_data"
    }
   ],
   "source": [
    "x_df['RELIGION'].value_counts().plot(kind='bar')"
   ]
  },
  {
   "cell_type": "code",
   "execution_count": 19,
   "metadata": {
    "execution": {
     "iopub.execute_input": "2022-12-29T14:06:06.842715Z",
     "iopub.status.busy": "2022-12-29T14:06:06.841454Z",
     "iopub.status.idle": "2022-12-29T14:06:07.144527Z",
     "shell.execute_reply": "2022-12-29T14:06:07.143588Z",
     "shell.execute_reply.started": "2022-12-29T14:06:06.842640Z"
    },
    "id": "LkUeUO60JC-q",
    "outputId": "46ed974a-c54f-4e81-bc29-776e0520cd57"
   },
   "outputs": [
    {
     "data": {
      "text/plain": [
       "<AxesSubplot: >"
      ]
     },
     "execution_count": 19,
     "metadata": {},
     "output_type": "execute_result"
    },
    {
     "data": {
      "image/png": "[encoded data removed]",
      "text/plain": [
       "<Figure size 640x480 with 1 Axes>"
      ]
     },
     "metadata": {},
     "output_type": "display_data"
    }
   ],
   "source": [
    "x_df['INSURANCE'].value_counts().plot(kind='bar')"
   ]
  },
  {
   "cell_type": "markdown",
   "metadata": {
    "id": "ExOKdOIGVF5S"
   },
   "source": [
    "## Show the correlation between a selection features and the target feature y"
   ]
  },
  {
   "cell_type": "code",
   "execution_count": 20,
   "metadata": {
    "execution": {
     "iopub.execute_input": "2022-12-29T14:06:07.146902Z",
     "iopub.status.busy": "2022-12-29T14:06:07.145988Z",
     "iopub.status.idle": "2022-12-29T14:06:07.510823Z",
     "shell.execute_reply": "2022-12-29T14:06:07.509758Z",
     "shell.execute_reply.started": "2022-12-29T14:06:07.146863Z"
    },
    "id": "WmTzP4DCRhcv",
    "outputId": "c013e0ee-0e93-4b97-9adb-909cad46d4d4"
   },
   "outputs": [
    {
     "name": "stderr",
     "output_type": "stream",
     "text": [
      "C:\\Users\\stefa\\AppData\\Local\\Temp\\ipykernel_22952\\3288241118.py:8: FutureWarning: The frame.append method is deprecated and will be removed from pandas in a future version. Use pandas.concat instead.\n",
      "  corr_columns = corr_columns.append({'feature': c, 'corr':corr, 'corr.abs':abs(corr)}, ignore_index=True)\n",
      "C:\\Users\\stefa\\AppData\\Local\\Temp\\ipykernel_22952\\3288241118.py:8: FutureWarning: The frame.append method is deprecated and will be removed from pandas in a future version. Use pandas.concat instead.\n",
      "  corr_columns = corr_columns.append({'feature': c, 'corr':corr, 'corr.abs':abs(corr)}, ignore_index=True)\n",
      "C:\\Users\\stefa\\AppData\\Local\\Temp\\ipykernel_22952\\3288241118.py:8: FutureWarning: The frame.append method is deprecated and will be removed from pandas in a future version. Use pandas.concat instead.\n",
      "  corr_columns = corr_columns.append({'feature': c, 'corr':corr, 'corr.abs':abs(corr)}, ignore_index=True)\n",
      "C:\\Users\\stefa\\AppData\\Local\\Temp\\ipykernel_22952\\3288241118.py:8: FutureWarning: The frame.append method is deprecated and will be removed from pandas in a future version. Use pandas.concat instead.\n",
      "  corr_columns = corr_columns.append({'feature': c, 'corr':corr, 'corr.abs':abs(corr)}, ignore_index=True)\n",
      "C:\\Users\\stefa\\AppData\\Local\\Temp\\ipykernel_22952\\3288241118.py:8: FutureWarning: The frame.append method is deprecated and will be removed from pandas in a future version. Use pandas.concat instead.\n",
      "  corr_columns = corr_columns.append({'feature': c, 'corr':corr, 'corr.abs':abs(corr)}, ignore_index=True)\n",
      "C:\\Users\\stefa\\AppData\\Local\\Temp\\ipykernel_22952\\3288241118.py:8: FutureWarning: The frame.append method is deprecated and will be removed from pandas in a future version. Use pandas.concat instead.\n",
      "  corr_columns = corr_columns.append({'feature': c, 'corr':corr, 'corr.abs':abs(corr)}, ignore_index=True)\n",
      "C:\\Users\\stefa\\AppData\\Local\\Temp\\ipykernel_22952\\3288241118.py:8: FutureWarning: The frame.append method is deprecated and will be removed from pandas in a future version. Use pandas.concat instead.\n",
      "  corr_columns = corr_columns.append({'feature': c, 'corr':corr, 'corr.abs':abs(corr)}, ignore_index=True)\n",
      "C:\\Users\\stefa\\AppData\\Local\\Temp\\ipykernel_22952\\3288241118.py:8: FutureWarning: The frame.append method is deprecated and will be removed from pandas in a future version. Use pandas.concat instead.\n",
      "  corr_columns = corr_columns.append({'feature': c, 'corr':corr, 'corr.abs':abs(corr)}, ignore_index=True)\n",
      "C:\\Users\\stefa\\AppData\\Local\\Temp\\ipykernel_22952\\3288241118.py:8: FutureWarning: The frame.append method is deprecated and will be removed from pandas in a future version. Use pandas.concat instead.\n",
      "  corr_columns = corr_columns.append({'feature': c, 'corr':corr, 'corr.abs':abs(corr)}, ignore_index=True)\n",
      "C:\\Users\\stefa\\AppData\\Local\\Temp\\ipykernel_22952\\3288241118.py:8: FutureWarning: The frame.append method is deprecated and will be removed from pandas in a future version. Use pandas.concat instead.\n",
      "  corr_columns = corr_columns.append({'feature': c, 'corr':corr, 'corr.abs':abs(corr)}, ignore_index=True)\n",
      "C:\\Users\\stefa\\AppData\\Local\\Temp\\ipykernel_22952\\3288241118.py:8: FutureWarning: The frame.append method is deprecated and will be removed from pandas in a future version. Use pandas.concat instead.\n",
      "  corr_columns = corr_columns.append({'feature': c, 'corr':corr, 'corr.abs':abs(corr)}, ignore_index=True)\n",
      "C:\\Users\\stefa\\AppData\\Local\\Temp\\ipykernel_22952\\3288241118.py:8: FutureWarning: The frame.append method is deprecated and will be removed from pandas in a future version. Use pandas.concat instead.\n",
      "  corr_columns = corr_columns.append({'feature': c, 'corr':corr, 'corr.abs':abs(corr)}, ignore_index=True)\n",
      "C:\\Users\\stefa\\AppData\\Local\\Temp\\ipykernel_22952\\3288241118.py:8: FutureWarning: The frame.append method is deprecated and will be removed from pandas in a future version. Use pandas.concat instead.\n",
      "  corr_columns = corr_columns.append({'feature': c, 'corr':corr, 'corr.abs':abs(corr)}, ignore_index=True)\n",
      "C:\\Users\\stefa\\AppData\\Local\\Temp\\ipykernel_22952\\3288241118.py:8: FutureWarning: The frame.append method is deprecated and will be removed from pandas in a future version. Use pandas.concat instead.\n",
      "  corr_columns = corr_columns.append({'feature': c, 'corr':corr, 'corr.abs':abs(corr)}, ignore_index=True)\n",
      "C:\\Users\\stefa\\AppData\\Local\\Temp\\ipykernel_22952\\3288241118.py:8: FutureWarning: The frame.append method is deprecated and will be removed from pandas in a future version. Use pandas.concat instead.\n",
      "  corr_columns = corr_columns.append({'feature': c, 'corr':corr, 'corr.abs':abs(corr)}, ignore_index=True)\n",
      "C:\\Users\\stefa\\AppData\\Local\\Temp\\ipykernel_22952\\3288241118.py:8: FutureWarning: The frame.append method is deprecated and will be removed from pandas in a future version. Use pandas.concat instead.\n",
      "  corr_columns = corr_columns.append({'feature': c, 'corr':corr, 'corr.abs':abs(corr)}, ignore_index=True)\n",
      "C:\\Users\\stefa\\AppData\\Local\\Temp\\ipykernel_22952\\3288241118.py:8: FutureWarning: The frame.append method is deprecated and will be removed from pandas in a future version. Use pandas.concat instead.\n",
      "  corr_columns = corr_columns.append({'feature': c, 'corr':corr, 'corr.abs':abs(corr)}, ignore_index=True)\n",
      "C:\\Users\\stefa\\AppData\\Local\\Temp\\ipykernel_22952\\3288241118.py:8: FutureWarning: The frame.append method is deprecated and will be removed from pandas in a future version. Use pandas.concat instead.\n",
      "  corr_columns = corr_columns.append({'feature': c, 'corr':corr, 'corr.abs':abs(corr)}, ignore_index=True)\n",
      "C:\\Users\\stefa\\AppData\\Local\\Temp\\ipykernel_22952\\3288241118.py:8: FutureWarning: The frame.append method is deprecated and will be removed from pandas in a future version. Use pandas.concat instead.\n",
      "  corr_columns = corr_columns.append({'feature': c, 'corr':corr, 'corr.abs':abs(corr)}, ignore_index=True)\n",
      "C:\\Users\\stefa\\AppData\\Local\\Temp\\ipykernel_22952\\3288241118.py:8: FutureWarning: The frame.append method is deprecated and will be removed from pandas in a future version. Use pandas.concat instead.\n",
      "  corr_columns = corr_columns.append({'feature': c, 'corr':corr, 'corr.abs':abs(corr)}, ignore_index=True)\n",
      "C:\\Users\\stefa\\AppData\\Local\\Temp\\ipykernel_22952\\3288241118.py:8: FutureWarning: The frame.append method is deprecated and will be removed from pandas in a future version. Use pandas.concat instead.\n",
      "  corr_columns = corr_columns.append({'feature': c, 'corr':corr, 'corr.abs':abs(corr)}, ignore_index=True)\n",
      "C:\\Users\\stefa\\AppData\\Local\\Temp\\ipykernel_22952\\3288241118.py:8: FutureWarning: The frame.append method is deprecated and will be removed from pandas in a future version. Use pandas.concat instead.\n",
      "  corr_columns = corr_columns.append({'feature': c, 'corr':corr, 'corr.abs':abs(corr)}, ignore_index=True)\n",
      "C:\\Users\\stefa\\AppData\\Local\\Temp\\ipykernel_22952\\3288241118.py:8: FutureWarning: The frame.append method is deprecated and will be removed from pandas in a future version. Use pandas.concat instead.\n",
      "  corr_columns = corr_columns.append({'feature': c, 'corr':corr, 'corr.abs':abs(corr)}, ignore_index=True)\n",
      "C:\\Users\\stefa\\AppData\\Local\\Temp\\ipykernel_22952\\3288241118.py:8: FutureWarning: The frame.append method is deprecated and will be removed from pandas in a future version. Use pandas.concat instead.\n",
      "  corr_columns = corr_columns.append({'feature': c, 'corr':corr, 'corr.abs':abs(corr)}, ignore_index=True)\n",
      "C:\\Users\\stefa\\AppData\\Local\\Temp\\ipykernel_22952\\3288241118.py:8: FutureWarning: The frame.append method is deprecated and will be removed from pandas in a future version. Use pandas.concat instead.\n",
      "  corr_columns = corr_columns.append({'feature': c, 'corr':corr, 'corr.abs':abs(corr)}, ignore_index=True)\n",
      "C:\\Users\\stefa\\AppData\\Local\\Temp\\ipykernel_22952\\3288241118.py:8: FutureWarning: The frame.append method is deprecated and will be removed from pandas in a future version. Use pandas.concat instead.\n",
      "  corr_columns = corr_columns.append({'feature': c, 'corr':corr, 'corr.abs':abs(corr)}, ignore_index=True)\n",
      "C:\\Users\\stefa\\AppData\\Local\\Temp\\ipykernel_22952\\3288241118.py:8: FutureWarning: The frame.append method is deprecated and will be removed from pandas in a future version. Use pandas.concat instead.\n",
      "  corr_columns = corr_columns.append({'feature': c, 'corr':corr, 'corr.abs':abs(corr)}, ignore_index=True)\n",
      "C:\\Users\\stefa\\AppData\\Local\\Temp\\ipykernel_22952\\3288241118.py:8: FutureWarning: The frame.append method is deprecated and will be removed from pandas in a future version. Use pandas.concat instead.\n",
      "  corr_columns = corr_columns.append({'feature': c, 'corr':corr, 'corr.abs':abs(corr)}, ignore_index=True)\n",
      "C:\\Users\\stefa\\AppData\\Local\\Temp\\ipykernel_22952\\3288241118.py:8: FutureWarning: The frame.append method is deprecated and will be removed from pandas in a future version. Use pandas.concat instead.\n",
      "  corr_columns = corr_columns.append({'feature': c, 'corr':corr, 'corr.abs':abs(corr)}, ignore_index=True)\n",
      "C:\\Users\\stefa\\AppData\\Local\\Temp\\ipykernel_22952\\3288241118.py:8: FutureWarning: The frame.append method is deprecated and will be removed from pandas in a future version. Use pandas.concat instead.\n",
      "  corr_columns = corr_columns.append({'feature': c, 'corr':corr, 'corr.abs':abs(corr)}, ignore_index=True)\n",
      "C:\\Users\\stefa\\AppData\\Local\\Temp\\ipykernel_22952\\3288241118.py:8: FutureWarning: The frame.append method is deprecated and will be removed from pandas in a future version. Use pandas.concat instead.\n",
      "  corr_columns = corr_columns.append({'feature': c, 'corr':corr, 'corr.abs':abs(corr)}, ignore_index=True)\n",
      "C:\\Users\\stefa\\AppData\\Local\\Temp\\ipykernel_22952\\3288241118.py:8: FutureWarning: The frame.append method is deprecated and will be removed from pandas in a future version. Use pandas.concat instead.\n",
      "  corr_columns = corr_columns.append({'feature': c, 'corr':corr, 'corr.abs':abs(corr)}, ignore_index=True)\n",
      "C:\\Users\\stefa\\AppData\\Local\\Temp\\ipykernel_22952\\3288241118.py:8: FutureWarning: The frame.append method is deprecated and will be removed from pandas in a future version. Use pandas.concat instead.\n",
      "  corr_columns = corr_columns.append({'feature': c, 'corr':corr, 'corr.abs':abs(corr)}, ignore_index=True)\n",
      "C:\\Users\\stefa\\AppData\\Local\\Temp\\ipykernel_22952\\3288241118.py:8: FutureWarning: The frame.append method is deprecated and will be removed from pandas in a future version. Use pandas.concat instead.\n",
      "  corr_columns = corr_columns.append({'feature': c, 'corr':corr, 'corr.abs':abs(corr)}, ignore_index=True)\n",
      "C:\\Users\\stefa\\AppData\\Local\\Temp\\ipykernel_22952\\3288241118.py:8: FutureWarning: The frame.append method is deprecated and will be removed from pandas in a future version. Use pandas.concat instead.\n",
      "  corr_columns = corr_columns.append({'feature': c, 'corr':corr, 'corr.abs':abs(corr)}, ignore_index=True)\n",
      "C:\\Users\\stefa\\AppData\\Local\\Temp\\ipykernel_22952\\3288241118.py:8: FutureWarning: The frame.append method is deprecated and will be removed from pandas in a future version. Use pandas.concat instead.\n",
      "  corr_columns = corr_columns.append({'feature': c, 'corr':corr, 'corr.abs':abs(corr)}, ignore_index=True)\n",
      "C:\\Users\\stefa\\AppData\\Local\\Temp\\ipykernel_22952\\3288241118.py:8: FutureWarning: The frame.append method is deprecated and will be removed from pandas in a future version. Use pandas.concat instead.\n",
      "  corr_columns = corr_columns.append({'feature': c, 'corr':corr, 'corr.abs':abs(corr)}, ignore_index=True)\n",
      "C:\\Users\\stefa\\AppData\\Local\\Temp\\ipykernel_22952\\3288241118.py:8: FutureWarning: The frame.append method is deprecated and will be removed from pandas in a future version. Use pandas.concat instead.\n",
      "  corr_columns = corr_columns.append({'feature': c, 'corr':corr, 'corr.abs':abs(corr)}, ignore_index=True)\n",
      "C:\\Users\\stefa\\AppData\\Local\\Temp\\ipykernel_22952\\3288241118.py:8: FutureWarning: The frame.append method is deprecated and will be removed from pandas in a future version. Use pandas.concat instead.\n",
      "  corr_columns = corr_columns.append({'feature': c, 'corr':corr, 'corr.abs':abs(corr)}, ignore_index=True)\n",
      "C:\\Users\\stefa\\AppData\\Local\\Temp\\ipykernel_22952\\3288241118.py:8: FutureWarning: The frame.append method is deprecated and will be removed from pandas in a future version. Use pandas.concat instead.\n",
      "  corr_columns = corr_columns.append({'feature': c, 'corr':corr, 'corr.abs':abs(corr)}, ignore_index=True)\n",
      "C:\\Users\\stefa\\AppData\\Local\\Temp\\ipykernel_22952\\3288241118.py:8: FutureWarning: The frame.append method is deprecated and will be removed from pandas in a future version. Use pandas.concat instead.\n",
      "  corr_columns = corr_columns.append({'feature': c, 'corr':corr, 'corr.abs':abs(corr)}, ignore_index=True)\n",
      "C:\\Users\\stefa\\AppData\\Local\\Temp\\ipykernel_22952\\3288241118.py:8: FutureWarning: The frame.append method is deprecated and will be removed from pandas in a future version. Use pandas.concat instead.\n",
      "  corr_columns = corr_columns.append({'feature': c, 'corr':corr, 'corr.abs':abs(corr)}, ignore_index=True)\n",
      "C:\\Users\\stefa\\AppData\\Local\\Temp\\ipykernel_22952\\3288241118.py:8: FutureWarning: The frame.append method is deprecated and will be removed from pandas in a future version. Use pandas.concat instead.\n",
      "  corr_columns = corr_columns.append({'feature': c, 'corr':corr, 'corr.abs':abs(corr)}, ignore_index=True)\n",
      "C:\\Users\\stefa\\AppData\\Local\\Temp\\ipykernel_22952\\3288241118.py:8: FutureWarning: The frame.append method is deprecated and will be removed from pandas in a future version. Use pandas.concat instead.\n",
      "  corr_columns = corr_columns.append({'feature': c, 'corr':corr, 'corr.abs':abs(corr)}, ignore_index=True)\n",
      "C:\\Users\\stefa\\AppData\\Local\\Temp\\ipykernel_22952\\3288241118.py:8: FutureWarning: The frame.append method is deprecated and will be removed from pandas in a future version. Use pandas.concat instead.\n",
      "  corr_columns = corr_columns.append({'feature': c, 'corr':corr, 'corr.abs':abs(corr)}, ignore_index=True)\n",
      "C:\\Users\\stefa\\AppData\\Local\\Temp\\ipykernel_22952\\3288241118.py:8: FutureWarning: The frame.append method is deprecated and will be removed from pandas in a future version. Use pandas.concat instead.\n",
      "  corr_columns = corr_columns.append({'feature': c, 'corr':corr, 'corr.abs':abs(corr)}, ignore_index=True)\n",
      "C:\\Users\\stefa\\AppData\\Local\\Temp\\ipykernel_22952\\3288241118.py:8: FutureWarning: The frame.append method is deprecated and will be removed from pandas in a future version. Use pandas.concat instead.\n",
      "  corr_columns = corr_columns.append({'feature': c, 'corr':corr, 'corr.abs':abs(corr)}, ignore_index=True)\n",
      "C:\\Users\\stefa\\AppData\\Local\\Temp\\ipykernel_22952\\3288241118.py:8: FutureWarning: The frame.append method is deprecated and will be removed from pandas in a future version. Use pandas.concat instead.\n",
      "  corr_columns = corr_columns.append({'feature': c, 'corr':corr, 'corr.abs':abs(corr)}, ignore_index=True)\n",
      "C:\\Users\\stefa\\AppData\\Local\\Temp\\ipykernel_22952\\3288241118.py:8: FutureWarning: The frame.append method is deprecated and will be removed from pandas in a future version. Use pandas.concat instead.\n",
      "  corr_columns = corr_columns.append({'feature': c, 'corr':corr, 'corr.abs':abs(corr)}, ignore_index=True)\n",
      "C:\\Users\\stefa\\AppData\\Local\\Temp\\ipykernel_22952\\3288241118.py:8: FutureWarning: The frame.append method is deprecated and will be removed from pandas in a future version. Use pandas.concat instead.\n",
      "  corr_columns = corr_columns.append({'feature': c, 'corr':corr, 'corr.abs':abs(corr)}, ignore_index=True)\n",
      "C:\\Users\\stefa\\AppData\\Local\\Temp\\ipykernel_22952\\3288241118.py:8: FutureWarning: The frame.append method is deprecated and will be removed from pandas in a future version. Use pandas.concat instead.\n",
      "  corr_columns = corr_columns.append({'feature': c, 'corr':corr, 'corr.abs':abs(corr)}, ignore_index=True)\n",
      "C:\\Users\\stefa\\AppData\\Local\\Temp\\ipykernel_22952\\3288241118.py:8: FutureWarning: The frame.append method is deprecated and will be removed from pandas in a future version. Use pandas.concat instead.\n",
      "  corr_columns = corr_columns.append({'feature': c, 'corr':corr, 'corr.abs':abs(corr)}, ignore_index=True)\n",
      "C:\\Users\\stefa\\AppData\\Local\\Temp\\ipykernel_22952\\3288241118.py:8: FutureWarning: The frame.append method is deprecated and will be removed from pandas in a future version. Use pandas.concat instead.\n",
      "  corr_columns = corr_columns.append({'feature': c, 'corr':corr, 'corr.abs':abs(corr)}, ignore_index=True)\n",
      "C:\\Users\\stefa\\AppData\\Local\\Temp\\ipykernel_22952\\3288241118.py:8: FutureWarning: The frame.append method is deprecated and will be removed from pandas in a future version. Use pandas.concat instead.\n",
      "  corr_columns = corr_columns.append({'feature': c, 'corr':corr, 'corr.abs':abs(corr)}, ignore_index=True)\n",
      "C:\\Users\\stefa\\AppData\\Local\\Temp\\ipykernel_22952\\3288241118.py:8: FutureWarning: The frame.append method is deprecated and will be removed from pandas in a future version. Use pandas.concat instead.\n",
      "  corr_columns = corr_columns.append({'feature': c, 'corr':corr, 'corr.abs':abs(corr)}, ignore_index=True)\n",
      "C:\\Users\\stefa\\AppData\\Local\\Temp\\ipykernel_22952\\3288241118.py:8: FutureWarning: The frame.append method is deprecated and will be removed from pandas in a future version. Use pandas.concat instead.\n",
      "  corr_columns = corr_columns.append({'feature': c, 'corr':corr, 'corr.abs':abs(corr)}, ignore_index=True)\n",
      "C:\\Users\\stefa\\AppData\\Local\\Temp\\ipykernel_22952\\3288241118.py:8: FutureWarning: The frame.append method is deprecated and will be removed from pandas in a future version. Use pandas.concat instead.\n",
      "  corr_columns = corr_columns.append({'feature': c, 'corr':corr, 'corr.abs':abs(corr)}, ignore_index=True)\n",
      "C:\\Users\\stefa\\AppData\\Local\\Temp\\ipykernel_22952\\3288241118.py:8: FutureWarning: The frame.append method is deprecated and will be removed from pandas in a future version. Use pandas.concat instead.\n",
      "  corr_columns = corr_columns.append({'feature': c, 'corr':corr, 'corr.abs':abs(corr)}, ignore_index=True)\n",
      "C:\\Users\\stefa\\AppData\\Local\\Temp\\ipykernel_22952\\3288241118.py:8: FutureWarning: The frame.append method is deprecated and will be removed from pandas in a future version. Use pandas.concat instead.\n",
      "  corr_columns = corr_columns.append({'feature': c, 'corr':corr, 'corr.abs':abs(corr)}, ignore_index=True)\n",
      "C:\\Users\\stefa\\AppData\\Local\\Temp\\ipykernel_22952\\3288241118.py:8: FutureWarning: The frame.append method is deprecated and will be removed from pandas in a future version. Use pandas.concat instead.\n",
      "  corr_columns = corr_columns.append({'feature': c, 'corr':corr, 'corr.abs':abs(corr)}, ignore_index=True)\n",
      "C:\\Users\\stefa\\AppData\\Local\\Temp\\ipykernel_22952\\3288241118.py:8: FutureWarning: The frame.append method is deprecated and will be removed from pandas in a future version. Use pandas.concat instead.\n",
      "  corr_columns = corr_columns.append({'feature': c, 'corr':corr, 'corr.abs':abs(corr)}, ignore_index=True)\n",
      "C:\\Users\\stefa\\AppData\\Local\\Temp\\ipykernel_22952\\3288241118.py:8: FutureWarning: The frame.append method is deprecated and will be removed from pandas in a future version. Use pandas.concat instead.\n",
      "  corr_columns = corr_columns.append({'feature': c, 'corr':corr, 'corr.abs':abs(corr)}, ignore_index=True)\n",
      "C:\\Users\\stefa\\AppData\\Local\\Temp\\ipykernel_22952\\3288241118.py:8: FutureWarning: The frame.append method is deprecated and will be removed from pandas in a future version. Use pandas.concat instead.\n",
      "  corr_columns = corr_columns.append({'feature': c, 'corr':corr, 'corr.abs':abs(corr)}, ignore_index=True)\n",
      "C:\\Users\\stefa\\AppData\\Local\\Temp\\ipykernel_22952\\3288241118.py:8: FutureWarning: The frame.append method is deprecated and will be removed from pandas in a future version. Use pandas.concat instead.\n",
      "  corr_columns = corr_columns.append({'feature': c, 'corr':corr, 'corr.abs':abs(corr)}, ignore_index=True)\n",
      "C:\\Users\\stefa\\AppData\\Local\\Temp\\ipykernel_22952\\3288241118.py:8: FutureWarning: The frame.append method is deprecated and will be removed from pandas in a future version. Use pandas.concat instead.\n",
      "  corr_columns = corr_columns.append({'feature': c, 'corr':corr, 'corr.abs':abs(corr)}, ignore_index=True)\n",
      "C:\\Users\\stefa\\AppData\\Local\\Temp\\ipykernel_22952\\3288241118.py:8: FutureWarning: The frame.append method is deprecated and will be removed from pandas in a future version. Use pandas.concat instead.\n",
      "  corr_columns = corr_columns.append({'feature': c, 'corr':corr, 'corr.abs':abs(corr)}, ignore_index=True)\n",
      "C:\\Users\\stefa\\AppData\\Local\\Temp\\ipykernel_22952\\3288241118.py:8: FutureWarning: The frame.append method is deprecated and will be removed from pandas in a future version. Use pandas.concat instead.\n",
      "  corr_columns = corr_columns.append({'feature': c, 'corr':corr, 'corr.abs':abs(corr)}, ignore_index=True)\n",
      "C:\\Users\\stefa\\AppData\\Local\\Temp\\ipykernel_22952\\3288241118.py:8: FutureWarning: The frame.append method is deprecated and will be removed from pandas in a future version. Use pandas.concat instead.\n",
      "  corr_columns = corr_columns.append({'feature': c, 'corr':corr, 'corr.abs':abs(corr)}, ignore_index=True)\n",
      "C:\\Users\\stefa\\AppData\\Local\\Temp\\ipykernel_22952\\3288241118.py:8: FutureWarning: The frame.append method is deprecated and will be removed from pandas in a future version. Use pandas.concat instead.\n",
      "  corr_columns = corr_columns.append({'feature': c, 'corr':corr, 'corr.abs':abs(corr)}, ignore_index=True)\n",
      "C:\\Users\\stefa\\AppData\\Local\\Temp\\ipykernel_22952\\3288241118.py:8: FutureWarning: The frame.append method is deprecated and will be removed from pandas in a future version. Use pandas.concat instead.\n",
      "  corr_columns = corr_columns.append({'feature': c, 'corr':corr, 'corr.abs':abs(corr)}, ignore_index=True)\n",
      "C:\\Users\\stefa\\AppData\\Local\\Temp\\ipykernel_22952\\3288241118.py:8: FutureWarning: The frame.append method is deprecated and will be removed from pandas in a future version. Use pandas.concat instead.\n",
      "  corr_columns = corr_columns.append({'feature': c, 'corr':corr, 'corr.abs':abs(corr)}, ignore_index=True)\n",
      "C:\\Users\\stefa\\AppData\\Local\\Temp\\ipykernel_22952\\3288241118.py:8: FutureWarning: The frame.append method is deprecated and will be removed from pandas in a future version. Use pandas.concat instead.\n",
      "  corr_columns = corr_columns.append({'feature': c, 'corr':corr, 'corr.abs':abs(corr)}, ignore_index=True)\n",
      "C:\\Users\\stefa\\AppData\\Local\\Temp\\ipykernel_22952\\3288241118.py:8: FutureWarning: The frame.append method is deprecated and will be removed from pandas in a future version. Use pandas.concat instead.\n",
      "  corr_columns = corr_columns.append({'feature': c, 'corr':corr, 'corr.abs':abs(corr)}, ignore_index=True)\n",
      "C:\\Users\\stefa\\AppData\\Local\\Temp\\ipykernel_22952\\3288241118.py:8: FutureWarning: The frame.append method is deprecated and will be removed from pandas in a future version. Use pandas.concat instead.\n",
      "  corr_columns = corr_columns.append({'feature': c, 'corr':corr, 'corr.abs':abs(corr)}, ignore_index=True)\n",
      "C:\\Users\\stefa\\AppData\\Local\\Temp\\ipykernel_22952\\3288241118.py:8: FutureWarning: The frame.append method is deprecated and will be removed from pandas in a future version. Use pandas.concat instead.\n",
      "  corr_columns = corr_columns.append({'feature': c, 'corr':corr, 'corr.abs':abs(corr)}, ignore_index=True)\n",
      "C:\\Users\\stefa\\AppData\\Local\\Temp\\ipykernel_22952\\3288241118.py:8: FutureWarning: The frame.append method is deprecated and will be removed from pandas in a future version. Use pandas.concat instead.\n",
      "  corr_columns = corr_columns.append({'feature': c, 'corr':corr, 'corr.abs':abs(corr)}, ignore_index=True)\n",
      "C:\\Users\\stefa\\AppData\\Local\\Temp\\ipykernel_22952\\3288241118.py:8: FutureWarning: The frame.append method is deprecated and will be removed from pandas in a future version. Use pandas.concat instead.\n",
      "  corr_columns = corr_columns.append({'feature': c, 'corr':corr, 'corr.abs':abs(corr)}, ignore_index=True)\n",
      "C:\\Users\\stefa\\AppData\\Local\\Temp\\ipykernel_22952\\3288241118.py:8: FutureWarning: The frame.append method is deprecated and will be removed from pandas in a future version. Use pandas.concat instead.\n",
      "  corr_columns = corr_columns.append({'feature': c, 'corr':corr, 'corr.abs':abs(corr)}, ignore_index=True)\n",
      "C:\\Users\\stefa\\AppData\\Local\\Temp\\ipykernel_22952\\3288241118.py:8: FutureWarning: The frame.append method is deprecated and will be removed from pandas in a future version. Use pandas.concat instead.\n",
      "  corr_columns = corr_columns.append({'feature': c, 'corr':corr, 'corr.abs':abs(corr)}, ignore_index=True)\n",
      "C:\\Users\\stefa\\AppData\\Local\\Temp\\ipykernel_22952\\3288241118.py:8: FutureWarning: The frame.append method is deprecated and will be removed from pandas in a future version. Use pandas.concat instead.\n",
      "  corr_columns = corr_columns.append({'feature': c, 'corr':corr, 'corr.abs':abs(corr)}, ignore_index=True)\n",
      "C:\\Users\\stefa\\AppData\\Local\\Temp\\ipykernel_22952\\3288241118.py:8: FutureWarning: The frame.append method is deprecated and will be removed from pandas in a future version. Use pandas.concat instead.\n",
      "  corr_columns = corr_columns.append({'feature': c, 'corr':corr, 'corr.abs':abs(corr)}, ignore_index=True)\n",
      "C:\\Users\\stefa\\AppData\\Local\\Temp\\ipykernel_22952\\3288241118.py:8: FutureWarning: The frame.append method is deprecated and will be removed from pandas in a future version. Use pandas.concat instead.\n",
      "  corr_columns = corr_columns.append({'feature': c, 'corr':corr, 'corr.abs':abs(corr)}, ignore_index=True)\n",
      "C:\\Users\\stefa\\AppData\\Local\\Temp\\ipykernel_22952\\3288241118.py:8: FutureWarning: The frame.append method is deprecated and will be removed from pandas in a future version. Use pandas.concat instead.\n",
      "  corr_columns = corr_columns.append({'feature': c, 'corr':corr, 'corr.abs':abs(corr)}, ignore_index=True)\n",
      "C:\\Users\\stefa\\AppData\\Local\\Temp\\ipykernel_22952\\3288241118.py:8: FutureWarning: The frame.append method is deprecated and will be removed from pandas in a future version. Use pandas.concat instead.\n",
      "  corr_columns = corr_columns.append({'feature': c, 'corr':corr, 'corr.abs':abs(corr)}, ignore_index=True)\n",
      "C:\\Users\\stefa\\AppData\\Local\\Temp\\ipykernel_22952\\3288241118.py:8: FutureWarning: The frame.append method is deprecated and will be removed from pandas in a future version. Use pandas.concat instead.\n",
      "  corr_columns = corr_columns.append({'feature': c, 'corr':corr, 'corr.abs':abs(corr)}, ignore_index=True)\n",
      "C:\\Users\\stefa\\AppData\\Local\\Temp\\ipykernel_22952\\3288241118.py:8: FutureWarning: The frame.append method is deprecated and will be removed from pandas in a future version. Use pandas.concat instead.\n",
      "  corr_columns = corr_columns.append({'feature': c, 'corr':corr, 'corr.abs':abs(corr)}, ignore_index=True)\n",
      "C:\\Users\\stefa\\AppData\\Local\\Temp\\ipykernel_22952\\3288241118.py:8: FutureWarning: The frame.append method is deprecated and will be removed from pandas in a future version. Use pandas.concat instead.\n",
      "  corr_columns = corr_columns.append({'feature': c, 'corr':corr, 'corr.abs':abs(corr)}, ignore_index=True)\n",
      "C:\\Users\\stefa\\AppData\\Local\\Temp\\ipykernel_22952\\3288241118.py:8: FutureWarning: The frame.append method is deprecated and will be removed from pandas in a future version. Use pandas.concat instead.\n",
      "  corr_columns = corr_columns.append({'feature': c, 'corr':corr, 'corr.abs':abs(corr)}, ignore_index=True)\n",
      "C:\\Users\\stefa\\AppData\\Local\\Temp\\ipykernel_22952\\3288241118.py:8: FutureWarning: The frame.append method is deprecated and will be removed from pandas in a future version. Use pandas.concat instead.\n",
      "  corr_columns = corr_columns.append({'feature': c, 'corr':corr, 'corr.abs':abs(corr)}, ignore_index=True)\n",
      "C:\\Users\\stefa\\AppData\\Local\\Temp\\ipykernel_22952\\3288241118.py:8: FutureWarning: The frame.append method is deprecated and will be removed from pandas in a future version. Use pandas.concat instead.\n",
      "  corr_columns = corr_columns.append({'feature': c, 'corr':corr, 'corr.abs':abs(corr)}, ignore_index=True)\n",
      "C:\\Users\\stefa\\AppData\\Local\\Temp\\ipykernel_22952\\3288241118.py:8: FutureWarning: The frame.append method is deprecated and will be removed from pandas in a future version. Use pandas.concat instead.\n",
      "  corr_columns = corr_columns.append({'feature': c, 'corr':corr, 'corr.abs':abs(corr)}, ignore_index=True)\n",
      "C:\\Users\\stefa\\AppData\\Local\\Temp\\ipykernel_22952\\3288241118.py:8: FutureWarning: The frame.append method is deprecated and will be removed from pandas in a future version. Use pandas.concat instead.\n",
      "  corr_columns = corr_columns.append({'feature': c, 'corr':corr, 'corr.abs':abs(corr)}, ignore_index=True)\n",
      "C:\\Users\\stefa\\AppData\\Local\\Temp\\ipykernel_22952\\3288241118.py:8: FutureWarning: The frame.append method is deprecated and will be removed from pandas in a future version. Use pandas.concat instead.\n",
      "  corr_columns = corr_columns.append({'feature': c, 'corr':corr, 'corr.abs':abs(corr)}, ignore_index=True)\n",
      "C:\\Users\\stefa\\AppData\\Local\\Temp\\ipykernel_22952\\3288241118.py:8: FutureWarning: The frame.append method is deprecated and will be removed from pandas in a future version. Use pandas.concat instead.\n",
      "  corr_columns = corr_columns.append({'feature': c, 'corr':corr, 'corr.abs':abs(corr)}, ignore_index=True)\n",
      "C:\\Users\\stefa\\AppData\\Local\\Temp\\ipykernel_22952\\3288241118.py:8: FutureWarning: The frame.append method is deprecated and will be removed from pandas in a future version. Use pandas.concat instead.\n",
      "  corr_columns = corr_columns.append({'feature': c, 'corr':corr, 'corr.abs':abs(corr)}, ignore_index=True)\n",
      "C:\\Users\\stefa\\AppData\\Local\\Temp\\ipykernel_22952\\3288241118.py:8: FutureWarning: The frame.append method is deprecated and will be removed from pandas in a future version. Use pandas.concat instead.\n",
      "  corr_columns = corr_columns.append({'feature': c, 'corr':corr, 'corr.abs':abs(corr)}, ignore_index=True)\n",
      "C:\\Users\\stefa\\AppData\\Local\\Temp\\ipykernel_22952\\3288241118.py:8: FutureWarning: The frame.append method is deprecated and will be removed from pandas in a future version. Use pandas.concat instead.\n",
      "  corr_columns = corr_columns.append({'feature': c, 'corr':corr, 'corr.abs':abs(corr)}, ignore_index=True)\n",
      "C:\\Users\\stefa\\AppData\\Local\\Temp\\ipykernel_22952\\3288241118.py:8: FutureWarning: The frame.append method is deprecated and will be removed from pandas in a future version. Use pandas.concat instead.\n",
      "  corr_columns = corr_columns.append({'feature': c, 'corr':corr, 'corr.abs':abs(corr)}, ignore_index=True)\n",
      "C:\\Users\\stefa\\AppData\\Local\\Temp\\ipykernel_22952\\3288241118.py:8: FutureWarning: The frame.append method is deprecated and will be removed from pandas in a future version. Use pandas.concat instead.\n",
      "  corr_columns = corr_columns.append({'feature': c, 'corr':corr, 'corr.abs':abs(corr)}, ignore_index=True)\n",
      "C:\\Users\\stefa\\AppData\\Local\\Temp\\ipykernel_22952\\3288241118.py:8: FutureWarning: The frame.append method is deprecated and will be removed from pandas in a future version. Use pandas.concat instead.\n",
      "  corr_columns = corr_columns.append({'feature': c, 'corr':corr, 'corr.abs':abs(corr)}, ignore_index=True)\n",
      "C:\\Users\\stefa\\AppData\\Local\\Temp\\ipykernel_22952\\3288241118.py:8: FutureWarning: The frame.append method is deprecated and will be removed from pandas in a future version. Use pandas.concat instead.\n",
      "  corr_columns = corr_columns.append({'feature': c, 'corr':corr, 'corr.abs':abs(corr)}, ignore_index=True)\n",
      "C:\\Users\\stefa\\AppData\\Local\\Temp\\ipykernel_22952\\3288241118.py:8: FutureWarning: The frame.append method is deprecated and will be removed from pandas in a future version. Use pandas.concat instead.\n",
      "  corr_columns = corr_columns.append({'feature': c, 'corr':corr, 'corr.abs':abs(corr)}, ignore_index=True)\n",
      "C:\\Users\\stefa\\AppData\\Local\\Temp\\ipykernel_22952\\3288241118.py:8: FutureWarning: The frame.append method is deprecated and will be removed from pandas in a future version. Use pandas.concat instead.\n",
      "  corr_columns = corr_columns.append({'feature': c, 'corr':corr, 'corr.abs':abs(corr)}, ignore_index=True)\n",
      "C:\\Users\\stefa\\AppData\\Local\\Temp\\ipykernel_22952\\3288241118.py:8: FutureWarning: The frame.append method is deprecated and will be removed from pandas in a future version. Use pandas.concat instead.\n",
      "  corr_columns = corr_columns.append({'feature': c, 'corr':corr, 'corr.abs':abs(corr)}, ignore_index=True)\n",
      "C:\\Users\\stefa\\AppData\\Local\\Temp\\ipykernel_22952\\3288241118.py:8: FutureWarning: The frame.append method is deprecated and will be removed from pandas in a future version. Use pandas.concat instead.\n",
      "  corr_columns = corr_columns.append({'feature': c, 'corr':corr, 'corr.abs':abs(corr)}, ignore_index=True)\n",
      "C:\\Users\\stefa\\AppData\\Local\\Temp\\ipykernel_22952\\3288241118.py:8: FutureWarning: The frame.append method is deprecated and will be removed from pandas in a future version. Use pandas.concat instead.\n",
      "  corr_columns = corr_columns.append({'feature': c, 'corr':corr, 'corr.abs':abs(corr)}, ignore_index=True)\n",
      "C:\\Users\\stefa\\AppData\\Local\\Temp\\ipykernel_22952\\3288241118.py:8: FutureWarning: The frame.append method is deprecated and will be removed from pandas in a future version. Use pandas.concat instead.\n",
      "  corr_columns = corr_columns.append({'feature': c, 'corr':corr, 'corr.abs':abs(corr)}, ignore_index=True)\n",
      "C:\\Users\\stefa\\AppData\\Local\\Temp\\ipykernel_22952\\3288241118.py:8: FutureWarning: The frame.append method is deprecated and will be removed from pandas in a future version. Use pandas.concat instead.\n",
      "  corr_columns = corr_columns.append({'feature': c, 'corr':corr, 'corr.abs':abs(corr)}, ignore_index=True)\n",
      "C:\\Users\\stefa\\AppData\\Local\\Temp\\ipykernel_22952\\3288241118.py:8: FutureWarning: The frame.append method is deprecated and will be removed from pandas in a future version. Use pandas.concat instead.\n",
      "  corr_columns = corr_columns.append({'feature': c, 'corr':corr, 'corr.abs':abs(corr)}, ignore_index=True)\n",
      "C:\\Users\\stefa\\AppData\\Local\\Temp\\ipykernel_22952\\3288241118.py:8: FutureWarning: The frame.append method is deprecated and will be removed from pandas in a future version. Use pandas.concat instead.\n",
      "  corr_columns = corr_columns.append({'feature': c, 'corr':corr, 'corr.abs':abs(corr)}, ignore_index=True)\n",
      "C:\\Users\\stefa\\AppData\\Local\\Temp\\ipykernel_22952\\3288241118.py:8: FutureWarning: The frame.append method is deprecated and will be removed from pandas in a future version. Use pandas.concat instead.\n",
      "  corr_columns = corr_columns.append({'feature': c, 'corr':corr, 'corr.abs':abs(corr)}, ignore_index=True)\n",
      "C:\\Users\\stefa\\AppData\\Local\\Temp\\ipykernel_22952\\3288241118.py:8: FutureWarning: The frame.append method is deprecated and will be removed from pandas in a future version. Use pandas.concat instead.\n",
      "  corr_columns = corr_columns.append({'feature': c, 'corr':corr, 'corr.abs':abs(corr)}, ignore_index=True)\n",
      "C:\\Users\\stefa\\AppData\\Local\\Temp\\ipykernel_22952\\3288241118.py:8: FutureWarning: The frame.append method is deprecated and will be removed from pandas in a future version. Use pandas.concat instead.\n",
      "  corr_columns = corr_columns.append({'feature': c, 'corr':corr, 'corr.abs':abs(corr)}, ignore_index=True)\n",
      "C:\\Users\\stefa\\AppData\\Local\\Temp\\ipykernel_22952\\3288241118.py:8: FutureWarning: The frame.append method is deprecated and will be removed from pandas in a future version. Use pandas.concat instead.\n",
      "  corr_columns = corr_columns.append({'feature': c, 'corr':corr, 'corr.abs':abs(corr)}, ignore_index=True)\n",
      "C:\\Users\\stefa\\AppData\\Local\\Temp\\ipykernel_22952\\3288241118.py:8: FutureWarning: The frame.append method is deprecated and will be removed from pandas in a future version. Use pandas.concat instead.\n",
      "  corr_columns = corr_columns.append({'feature': c, 'corr':corr, 'corr.abs':abs(corr)}, ignore_index=True)\n",
      "C:\\Users\\stefa\\AppData\\Local\\Temp\\ipykernel_22952\\3288241118.py:8: FutureWarning: The frame.append method is deprecated and will be removed from pandas in a future version. Use pandas.concat instead.\n",
      "  corr_columns = corr_columns.append({'feature': c, 'corr':corr, 'corr.abs':abs(corr)}, ignore_index=True)\n",
      "C:\\Users\\stefa\\AppData\\Local\\Temp\\ipykernel_22952\\3288241118.py:8: FutureWarning: The frame.append method is deprecated and will be removed from pandas in a future version. Use pandas.concat instead.\n",
      "  corr_columns = corr_columns.append({'feature': c, 'corr':corr, 'corr.abs':abs(corr)}, ignore_index=True)\n",
      "C:\\Users\\stefa\\AppData\\Local\\Temp\\ipykernel_22952\\3288241118.py:8: FutureWarning: The frame.append method is deprecated and will be removed from pandas in a future version. Use pandas.concat instead.\n",
      "  corr_columns = corr_columns.append({'feature': c, 'corr':corr, 'corr.abs':abs(corr)}, ignore_index=True)\n",
      "C:\\Users\\stefa\\AppData\\Local\\Temp\\ipykernel_22952\\3288241118.py:8: FutureWarning: The frame.append method is deprecated and will be removed from pandas in a future version. Use pandas.concat instead.\n",
      "  corr_columns = corr_columns.append({'feature': c, 'corr':corr, 'corr.abs':abs(corr)}, ignore_index=True)\n",
      "C:\\Users\\stefa\\AppData\\Local\\Temp\\ipykernel_22952\\3288241118.py:8: FutureWarning: The frame.append method is deprecated and will be removed from pandas in a future version. Use pandas.concat instead.\n",
      "  corr_columns = corr_columns.append({'feature': c, 'corr':corr, 'corr.abs':abs(corr)}, ignore_index=True)\n",
      "C:\\Users\\stefa\\AppData\\Local\\Temp\\ipykernel_22952\\3288241118.py:8: FutureWarning: The frame.append method is deprecated and will be removed from pandas in a future version. Use pandas.concat instead.\n",
      "  corr_columns = corr_columns.append({'feature': c, 'corr':corr, 'corr.abs':abs(corr)}, ignore_index=True)\n",
      "C:\\Users\\stefa\\AppData\\Local\\Temp\\ipykernel_22952\\3288241118.py:8: FutureWarning: The frame.append method is deprecated and will be removed from pandas in a future version. Use pandas.concat instead.\n",
      "  corr_columns = corr_columns.append({'feature': c, 'corr':corr, 'corr.abs':abs(corr)}, ignore_index=True)\n",
      "C:\\Users\\stefa\\AppData\\Local\\Temp\\ipykernel_22952\\3288241118.py:8: FutureWarning: The frame.append method is deprecated and will be removed from pandas in a future version. Use pandas.concat instead.\n",
      "  corr_columns = corr_columns.append({'feature': c, 'corr':corr, 'corr.abs':abs(corr)}, ignore_index=True)\n",
      "C:\\Users\\stefa\\AppData\\Local\\Temp\\ipykernel_22952\\3288241118.py:8: FutureWarning: The frame.append method is deprecated and will be removed from pandas in a future version. Use pandas.concat instead.\n",
      "  corr_columns = corr_columns.append({'feature': c, 'corr':corr, 'corr.abs':abs(corr)}, ignore_index=True)\n",
      "C:\\Users\\stefa\\AppData\\Local\\Temp\\ipykernel_22952\\3288241118.py:8: FutureWarning: The frame.append method is deprecated and will be removed from pandas in a future version. Use pandas.concat instead.\n",
      "  corr_columns = corr_columns.append({'feature': c, 'corr':corr, 'corr.abs':abs(corr)}, ignore_index=True)\n",
      "C:\\Users\\stefa\\AppData\\Local\\Temp\\ipykernel_22952\\3288241118.py:8: FutureWarning: The frame.append method is deprecated and will be removed from pandas in a future version. Use pandas.concat instead.\n",
      "  corr_columns = corr_columns.append({'feature': c, 'corr':corr, 'corr.abs':abs(corr)}, ignore_index=True)\n",
      "C:\\Users\\stefa\\AppData\\Local\\Temp\\ipykernel_22952\\3288241118.py:8: FutureWarning: The frame.append method is deprecated and will be removed from pandas in a future version. Use pandas.concat instead.\n",
      "  corr_columns = corr_columns.append({'feature': c, 'corr':corr, 'corr.abs':abs(corr)}, ignore_index=True)\n",
      "C:\\Users\\stefa\\AppData\\Local\\Temp\\ipykernel_22952\\3288241118.py:8: FutureWarning: The frame.append method is deprecated and will be removed from pandas in a future version. Use pandas.concat instead.\n",
      "  corr_columns = corr_columns.append({'feature': c, 'corr':corr, 'corr.abs':abs(corr)}, ignore_index=True)\n",
      "C:\\Users\\stefa\\AppData\\Local\\Temp\\ipykernel_22952\\3288241118.py:8: FutureWarning: The frame.append method is deprecated and will be removed from pandas in a future version. Use pandas.concat instead.\n",
      "  corr_columns = corr_columns.append({'feature': c, 'corr':corr, 'corr.abs':abs(corr)}, ignore_index=True)\n",
      "C:\\Users\\stefa\\AppData\\Local\\Temp\\ipykernel_22952\\3288241118.py:8: FutureWarning: The frame.append method is deprecated and will be removed from pandas in a future version. Use pandas.concat instead.\n",
      "  corr_columns = corr_columns.append({'feature': c, 'corr':corr, 'corr.abs':abs(corr)}, ignore_index=True)\n",
      "C:\\Users\\stefa\\AppData\\Local\\Temp\\ipykernel_22952\\3288241118.py:8: FutureWarning: The frame.append method is deprecated and will be removed from pandas in a future version. Use pandas.concat instead.\n",
      "  corr_columns = corr_columns.append({'feature': c, 'corr':corr, 'corr.abs':abs(corr)}, ignore_index=True)\n",
      "C:\\Users\\stefa\\AppData\\Local\\Temp\\ipykernel_22952\\3288241118.py:8: FutureWarning: The frame.append method is deprecated and will be removed from pandas in a future version. Use pandas.concat instead.\n",
      "  corr_columns = corr_columns.append({'feature': c, 'corr':corr, 'corr.abs':abs(corr)}, ignore_index=True)\n",
      "C:\\Users\\stefa\\AppData\\Local\\Temp\\ipykernel_22952\\3288241118.py:8: FutureWarning: The frame.append method is deprecated and will be removed from pandas in a future version. Use pandas.concat instead.\n",
      "  corr_columns = corr_columns.append({'feature': c, 'corr':corr, 'corr.abs':abs(corr)}, ignore_index=True)\n",
      "C:\\Users\\stefa\\AppData\\Local\\Temp\\ipykernel_22952\\3288241118.py:8: FutureWarning: The frame.append method is deprecated and will be removed from pandas in a future version. Use pandas.concat instead.\n",
      "  corr_columns = corr_columns.append({'feature': c, 'corr':corr, 'corr.abs':abs(corr)}, ignore_index=True)\n",
      "C:\\Users\\stefa\\AppData\\Local\\Temp\\ipykernel_22952\\3288241118.py:8: FutureWarning: The frame.append method is deprecated and will be removed from pandas in a future version. Use pandas.concat instead.\n",
      "  corr_columns = corr_columns.append({'feature': c, 'corr':corr, 'corr.abs':abs(corr)}, ignore_index=True)\n",
      "C:\\Users\\stefa\\AppData\\Local\\Temp\\ipykernel_22952\\3288241118.py:8: FutureWarning: The frame.append method is deprecated and will be removed from pandas in a future version. Use pandas.concat instead.\n",
      "  corr_columns = corr_columns.append({'feature': c, 'corr':corr, 'corr.abs':abs(corr)}, ignore_index=True)\n",
      "C:\\Users\\stefa\\AppData\\Local\\Temp\\ipykernel_22952\\3288241118.py:8: FutureWarning: The frame.append method is deprecated and will be removed from pandas in a future version. Use pandas.concat instead.\n",
      "  corr_columns = corr_columns.append({'feature': c, 'corr':corr, 'corr.abs':abs(corr)}, ignore_index=True)\n",
      "C:\\Users\\stefa\\AppData\\Local\\Temp\\ipykernel_22952\\3288241118.py:8: FutureWarning: The frame.append method is deprecated and will be removed from pandas in a future version. Use pandas.concat instead.\n",
      "  corr_columns = corr_columns.append({'feature': c, 'corr':corr, 'corr.abs':abs(corr)}, ignore_index=True)\n",
      "C:\\Users\\stefa\\AppData\\Local\\Temp\\ipykernel_22952\\3288241118.py:8: FutureWarning: The frame.append method is deprecated and will be removed from pandas in a future version. Use pandas.concat instead.\n",
      "  corr_columns = corr_columns.append({'feature': c, 'corr':corr, 'corr.abs':abs(corr)}, ignore_index=True)\n",
      "C:\\Users\\stefa\\AppData\\Local\\Temp\\ipykernel_22952\\3288241118.py:8: FutureWarning: The frame.append method is deprecated and will be removed from pandas in a future version. Use pandas.concat instead.\n",
      "  corr_columns = corr_columns.append({'feature': c, 'corr':corr, 'corr.abs':abs(corr)}, ignore_index=True)\n",
      "C:\\Users\\stefa\\AppData\\Local\\Temp\\ipykernel_22952\\3288241118.py:8: FutureWarning: The frame.append method is deprecated and will be removed from pandas in a future version. Use pandas.concat instead.\n",
      "  corr_columns = corr_columns.append({'feature': c, 'corr':corr, 'corr.abs':abs(corr)}, ignore_index=True)\n",
      "C:\\Users\\stefa\\AppData\\Local\\Temp\\ipykernel_22952\\3288241118.py:8: FutureWarning: The frame.append method is deprecated and will be removed from pandas in a future version. Use pandas.concat instead.\n",
      "  corr_columns = corr_columns.append({'feature': c, 'corr':corr, 'corr.abs':abs(corr)}, ignore_index=True)\n",
      "C:\\Users\\stefa\\AppData\\Local\\Temp\\ipykernel_22952\\3288241118.py:8: FutureWarning: The frame.append method is deprecated and will be removed from pandas in a future version. Use pandas.concat instead.\n",
      "  corr_columns = corr_columns.append({'feature': c, 'corr':corr, 'corr.abs':abs(corr)}, ignore_index=True)\n",
      "C:\\Users\\stefa\\AppData\\Local\\Temp\\ipykernel_22952\\3288241118.py:8: FutureWarning: The frame.append method is deprecated and will be removed from pandas in a future version. Use pandas.concat instead.\n",
      "  corr_columns = corr_columns.append({'feature': c, 'corr':corr, 'corr.abs':abs(corr)}, ignore_index=True)\n",
      "C:\\Users\\stefa\\AppData\\Local\\Temp\\ipykernel_22952\\3288241118.py:8: FutureWarning: The frame.append method is deprecated and will be removed from pandas in a future version. Use pandas.concat instead.\n",
      "  corr_columns = corr_columns.append({'feature': c, 'corr':corr, 'corr.abs':abs(corr)}, ignore_index=True)\n",
      "C:\\Users\\stefa\\AppData\\Local\\Temp\\ipykernel_22952\\3288241118.py:8: FutureWarning: The frame.append method is deprecated and will be removed from pandas in a future version. Use pandas.concat instead.\n",
      "  corr_columns = corr_columns.append({'feature': c, 'corr':corr, 'corr.abs':abs(corr)}, ignore_index=True)\n",
      "C:\\Users\\stefa\\AppData\\Local\\Temp\\ipykernel_22952\\3288241118.py:8: FutureWarning: The frame.append method is deprecated and will be removed from pandas in a future version. Use pandas.concat instead.\n",
      "  corr_columns = corr_columns.append({'feature': c, 'corr':corr, 'corr.abs':abs(corr)}, ignore_index=True)\n",
      "C:\\Users\\stefa\\AppData\\Local\\Temp\\ipykernel_22952\\3288241118.py:8: FutureWarning: The frame.append method is deprecated and will be removed from pandas in a future version. Use pandas.concat instead.\n",
      "  corr_columns = corr_columns.append({'feature': c, 'corr':corr, 'corr.abs':abs(corr)}, ignore_index=True)\n",
      "C:\\Users\\stefa\\AppData\\Local\\Temp\\ipykernel_22952\\3288241118.py:8: FutureWarning: The frame.append method is deprecated and will be removed from pandas in a future version. Use pandas.concat instead.\n",
      "  corr_columns = corr_columns.append({'feature': c, 'corr':corr, 'corr.abs':abs(corr)}, ignore_index=True)\n",
      "C:\\Users\\stefa\\AppData\\Local\\Temp\\ipykernel_22952\\3288241118.py:8: FutureWarning: The frame.append method is deprecated and will be removed from pandas in a future version. Use pandas.concat instead.\n",
      "  corr_columns = corr_columns.append({'feature': c, 'corr':corr, 'corr.abs':abs(corr)}, ignore_index=True)\n",
      "C:\\Users\\stefa\\AppData\\Local\\Temp\\ipykernel_22952\\3288241118.py:8: FutureWarning: The frame.append method is deprecated and will be removed from pandas in a future version. Use pandas.concat instead.\n",
      "  corr_columns = corr_columns.append({'feature': c, 'corr':corr, 'corr.abs':abs(corr)}, ignore_index=True)\n",
      "C:\\Users\\stefa\\AppData\\Local\\Temp\\ipykernel_22952\\3288241118.py:8: FutureWarning: The frame.append method is deprecated and will be removed from pandas in a future version. Use pandas.concat instead.\n",
      "  corr_columns = corr_columns.append({'feature': c, 'corr':corr, 'corr.abs':abs(corr)}, ignore_index=True)\n",
      "C:\\Users\\stefa\\AppData\\Local\\Temp\\ipykernel_22952\\3288241118.py:8: FutureWarning: The frame.append method is deprecated and will be removed from pandas in a future version. Use pandas.concat instead.\n",
      "  corr_columns = corr_columns.append({'feature': c, 'corr':corr, 'corr.abs':abs(corr)}, ignore_index=True)\n",
      "C:\\Users\\stefa\\AppData\\Local\\Temp\\ipykernel_22952\\3288241118.py:8: FutureWarning: The frame.append method is deprecated and will be removed from pandas in a future version. Use pandas.concat instead.\n",
      "  corr_columns = corr_columns.append({'feature': c, 'corr':corr, 'corr.abs':abs(corr)}, ignore_index=True)\n",
      "C:\\Users\\stefa\\AppData\\Local\\Temp\\ipykernel_22952\\3288241118.py:8: FutureWarning: The frame.append method is deprecated and will be removed from pandas in a future version. Use pandas.concat instead.\n",
      "  corr_columns = corr_columns.append({'feature': c, 'corr':corr, 'corr.abs':abs(corr)}, ignore_index=True)\n",
      "C:\\Users\\stefa\\AppData\\Local\\Temp\\ipykernel_22952\\3288241118.py:8: FutureWarning: The frame.append method is deprecated and will be removed from pandas in a future version. Use pandas.concat instead.\n",
      "  corr_columns = corr_columns.append({'feature': c, 'corr':corr, 'corr.abs':abs(corr)}, ignore_index=True)\n",
      "C:\\Users\\stefa\\AppData\\Local\\Temp\\ipykernel_22952\\3288241118.py:8: FutureWarning: The frame.append method is deprecated and will be removed from pandas in a future version. Use pandas.concat instead.\n",
      "  corr_columns = corr_columns.append({'feature': c, 'corr':corr, 'corr.abs':abs(corr)}, ignore_index=True)\n",
      "C:\\Users\\stefa\\AppData\\Local\\Temp\\ipykernel_22952\\3288241118.py:8: FutureWarning: The frame.append method is deprecated and will be removed from pandas in a future version. Use pandas.concat instead.\n",
      "  corr_columns = corr_columns.append({'feature': c, 'corr':corr, 'corr.abs':abs(corr)}, ignore_index=True)\n",
      "C:\\Users\\stefa\\AppData\\Local\\Temp\\ipykernel_22952\\3288241118.py:8: FutureWarning: The frame.append method is deprecated and will be removed from pandas in a future version. Use pandas.concat instead.\n",
      "  corr_columns = corr_columns.append({'feature': c, 'corr':corr, 'corr.abs':abs(corr)}, ignore_index=True)\n",
      "C:\\Users\\stefa\\AppData\\Local\\Temp\\ipykernel_22952\\3288241118.py:8: FutureWarning: The frame.append method is deprecated and will be removed from pandas in a future version. Use pandas.concat instead.\n",
      "  corr_columns = corr_columns.append({'feature': c, 'corr':corr, 'corr.abs':abs(corr)}, ignore_index=True)\n",
      "C:\\Users\\stefa\\AppData\\Local\\Temp\\ipykernel_22952\\3288241118.py:8: FutureWarning: The frame.append method is deprecated and will be removed from pandas in a future version. Use pandas.concat instead.\n",
      "  corr_columns = corr_columns.append({'feature': c, 'corr':corr, 'corr.abs':abs(corr)}, ignore_index=True)\n",
      "C:\\Users\\stefa\\AppData\\Local\\Temp\\ipykernel_22952\\3288241118.py:8: FutureWarning: The frame.append method is deprecated and will be removed from pandas in a future version. Use pandas.concat instead.\n",
      "  corr_columns = corr_columns.append({'feature': c, 'corr':corr, 'corr.abs':abs(corr)}, ignore_index=True)\n",
      "C:\\Users\\stefa\\AppData\\Local\\Temp\\ipykernel_22952\\3288241118.py:8: FutureWarning: The frame.append method is deprecated and will be removed from pandas in a future version. Use pandas.concat instead.\n",
      "  corr_columns = corr_columns.append({'feature': c, 'corr':corr, 'corr.abs':abs(corr)}, ignore_index=True)\n",
      "C:\\Users\\stefa\\AppData\\Local\\Temp\\ipykernel_22952\\3288241118.py:8: FutureWarning: The frame.append method is deprecated and will be removed from pandas in a future version. Use pandas.concat instead.\n",
      "  corr_columns = corr_columns.append({'feature': c, 'corr':corr, 'corr.abs':abs(corr)}, ignore_index=True)\n",
      "C:\\Users\\stefa\\AppData\\Local\\Temp\\ipykernel_22952\\3288241118.py:8: FutureWarning: The frame.append method is deprecated and will be removed from pandas in a future version. Use pandas.concat instead.\n",
      "  corr_columns = corr_columns.append({'feature': c, 'corr':corr, 'corr.abs':abs(corr)}, ignore_index=True)\n",
      "C:\\Users\\stefa\\AppData\\Local\\Temp\\ipykernel_22952\\3288241118.py:8: FutureWarning: The frame.append method is deprecated and will be removed from pandas in a future version. Use pandas.concat instead.\n",
      "  corr_columns = corr_columns.append({'feature': c, 'corr':corr, 'corr.abs':abs(corr)}, ignore_index=True)\n",
      "C:\\Users\\stefa\\AppData\\Local\\Temp\\ipykernel_22952\\3288241118.py:8: FutureWarning: The frame.append method is deprecated and will be removed from pandas in a future version. Use pandas.concat instead.\n",
      "  corr_columns = corr_columns.append({'feature': c, 'corr':corr, 'corr.abs':abs(corr)}, ignore_index=True)\n",
      "C:\\Users\\stefa\\AppData\\Local\\Temp\\ipykernel_22952\\3288241118.py:8: FutureWarning: The frame.append method is deprecated and will be removed from pandas in a future version. Use pandas.concat instead.\n",
      "  corr_columns = corr_columns.append({'feature': c, 'corr':corr, 'corr.abs':abs(corr)}, ignore_index=True)\n",
      "C:\\Users\\stefa\\AppData\\Local\\Temp\\ipykernel_22952\\3288241118.py:8: FutureWarning: The frame.append method is deprecated and will be removed from pandas in a future version. Use pandas.concat instead.\n",
      "  corr_columns = corr_columns.append({'feature': c, 'corr':corr, 'corr.abs':abs(corr)}, ignore_index=True)\n",
      "C:\\Users\\stefa\\AppData\\Local\\Temp\\ipykernel_22952\\3288241118.py:8: FutureWarning: The frame.append method is deprecated and will be removed from pandas in a future version. Use pandas.concat instead.\n",
      "  corr_columns = corr_columns.append({'feature': c, 'corr':corr, 'corr.abs':abs(corr)}, ignore_index=True)\n",
      "C:\\Users\\stefa\\AppData\\Local\\Temp\\ipykernel_22952\\3288241118.py:8: FutureWarning: The frame.append method is deprecated and will be removed from pandas in a future version. Use pandas.concat instead.\n",
      "  corr_columns = corr_columns.append({'feature': c, 'corr':corr, 'corr.abs':abs(corr)}, ignore_index=True)\n",
      "C:\\Users\\stefa\\AppData\\Local\\Temp\\ipykernel_22952\\3288241118.py:8: FutureWarning: The frame.append method is deprecated and will be removed from pandas in a future version. Use pandas.concat instead.\n",
      "  corr_columns = corr_columns.append({'feature': c, 'corr':corr, 'corr.abs':abs(corr)}, ignore_index=True)\n",
      "C:\\Users\\stefa\\AppData\\Local\\Temp\\ipykernel_22952\\3288241118.py:8: FutureWarning: The frame.append method is deprecated and will be removed from pandas in a future version. Use pandas.concat instead.\n",
      "  corr_columns = corr_columns.append({'feature': c, 'corr':corr, 'corr.abs':abs(corr)}, ignore_index=True)\n",
      "C:\\Users\\stefa\\AppData\\Local\\Temp\\ipykernel_22952\\3288241118.py:8: FutureWarning: The frame.append method is deprecated and will be removed from pandas in a future version. Use pandas.concat instead.\n",
      "  corr_columns = corr_columns.append({'feature': c, 'corr':corr, 'corr.abs':abs(corr)}, ignore_index=True)\n",
      "C:\\Users\\stefa\\AppData\\Local\\Temp\\ipykernel_22952\\3288241118.py:8: FutureWarning: The frame.append method is deprecated and will be removed from pandas in a future version. Use pandas.concat instead.\n",
      "  corr_columns = corr_columns.append({'feature': c, 'corr':corr, 'corr.abs':abs(corr)}, ignore_index=True)\n",
      "C:\\Users\\stefa\\AppData\\Local\\Temp\\ipykernel_22952\\3288241118.py:8: FutureWarning: The frame.append method is deprecated and will be removed from pandas in a future version. Use pandas.concat instead.\n",
      "  corr_columns = corr_columns.append({'feature': c, 'corr':corr, 'corr.abs':abs(corr)}, ignore_index=True)\n",
      "C:\\Users\\stefa\\AppData\\Local\\Temp\\ipykernel_22952\\3288241118.py:8: FutureWarning: The frame.append method is deprecated and will be removed from pandas in a future version. Use pandas.concat instead.\n",
      "  corr_columns = corr_columns.append({'feature': c, 'corr':corr, 'corr.abs':abs(corr)}, ignore_index=True)\n",
      "C:\\Users\\stefa\\AppData\\Local\\Temp\\ipykernel_22952\\3288241118.py:8: FutureWarning: The frame.append method is deprecated and will be removed from pandas in a future version. Use pandas.concat instead.\n",
      "  corr_columns = corr_columns.append({'feature': c, 'corr':corr, 'corr.abs':abs(corr)}, ignore_index=True)\n",
      "C:\\Users\\stefa\\AppData\\Local\\Temp\\ipykernel_22952\\3288241118.py:8: FutureWarning: The frame.append method is deprecated and will be removed from pandas in a future version. Use pandas.concat instead.\n",
      "  corr_columns = corr_columns.append({'feature': c, 'corr':corr, 'corr.abs':abs(corr)}, ignore_index=True)\n",
      "C:\\Users\\stefa\\AppData\\Local\\Temp\\ipykernel_22952\\3288241118.py:8: FutureWarning: The frame.append method is deprecated and will be removed from pandas in a future version. Use pandas.concat instead.\n",
      "  corr_columns = corr_columns.append({'feature': c, 'corr':corr, 'corr.abs':abs(corr)}, ignore_index=True)\n",
      "C:\\Users\\stefa\\AppData\\Local\\Temp\\ipykernel_22952\\3288241118.py:8: FutureWarning: The frame.append method is deprecated and will be removed from pandas in a future version. Use pandas.concat instead.\n",
      "  corr_columns = corr_columns.append({'feature': c, 'corr':corr, 'corr.abs':abs(corr)}, ignore_index=True)\n",
      "C:\\Users\\stefa\\AppData\\Local\\Temp\\ipykernel_22952\\3288241118.py:8: FutureWarning: The frame.append method is deprecated and will be removed from pandas in a future version. Use pandas.concat instead.\n",
      "  corr_columns = corr_columns.append({'feature': c, 'corr':corr, 'corr.abs':abs(corr)}, ignore_index=True)\n",
      "C:\\Users\\stefa\\AppData\\Local\\Temp\\ipykernel_22952\\3288241118.py:8: FutureWarning: The frame.append method is deprecated and will be removed from pandas in a future version. Use pandas.concat instead.\n",
      "  corr_columns = corr_columns.append({'feature': c, 'corr':corr, 'corr.abs':abs(corr)}, ignore_index=True)\n",
      "C:\\Users\\stefa\\AppData\\Local\\Temp\\ipykernel_22952\\3288241118.py:8: FutureWarning: The frame.append method is deprecated and will be removed from pandas in a future version. Use pandas.concat instead.\n",
      "  corr_columns = corr_columns.append({'feature': c, 'corr':corr, 'corr.abs':abs(corr)}, ignore_index=True)\n",
      "C:\\Users\\stefa\\AppData\\Local\\Temp\\ipykernel_22952\\3288241118.py:8: FutureWarning: The frame.append method is deprecated and will be removed from pandas in a future version. Use pandas.concat instead.\n",
      "  corr_columns = corr_columns.append({'feature': c, 'corr':corr, 'corr.abs':abs(corr)}, ignore_index=True)\n",
      "C:\\Users\\stefa\\AppData\\Local\\Temp\\ipykernel_22952\\3288241118.py:8: FutureWarning: The frame.append method is deprecated and will be removed from pandas in a future version. Use pandas.concat instead.\n",
      "  corr_columns = corr_columns.append({'feature': c, 'corr':corr, 'corr.abs':abs(corr)}, ignore_index=True)\n",
      "C:\\Users\\stefa\\AppData\\Local\\Temp\\ipykernel_22952\\3288241118.py:8: FutureWarning: The frame.append method is deprecated and will be removed from pandas in a future version. Use pandas.concat instead.\n",
      "  corr_columns = corr_columns.append({'feature': c, 'corr':corr, 'corr.abs':abs(corr)}, ignore_index=True)\n",
      "C:\\Users\\stefa\\AppData\\Local\\Temp\\ipykernel_22952\\3288241118.py:8: FutureWarning: The frame.append method is deprecated and will be removed from pandas in a future version. Use pandas.concat instead.\n",
      "  corr_columns = corr_columns.append({'feature': c, 'corr':corr, 'corr.abs':abs(corr)}, ignore_index=True)\n",
      "C:\\Users\\stefa\\AppData\\Local\\Temp\\ipykernel_22952\\3288241118.py:8: FutureWarning: The frame.append method is deprecated and will be removed from pandas in a future version. Use pandas.concat instead.\n",
      "  corr_columns = corr_columns.append({'feature': c, 'corr':corr, 'corr.abs':abs(corr)}, ignore_index=True)\n",
      "C:\\Users\\stefa\\AppData\\Local\\Temp\\ipykernel_22952\\3288241118.py:8: FutureWarning: The frame.append method is deprecated and will be removed from pandas in a future version. Use pandas.concat instead.\n",
      "  corr_columns = corr_columns.append({'feature': c, 'corr':corr, 'corr.abs':abs(corr)}, ignore_index=True)\n",
      "C:\\Users\\stefa\\AppData\\Local\\Temp\\ipykernel_22952\\3288241118.py:8: FutureWarning: The frame.append method is deprecated and will be removed from pandas in a future version. Use pandas.concat instead.\n",
      "  corr_columns = corr_columns.append({'feature': c, 'corr':corr, 'corr.abs':abs(corr)}, ignore_index=True)\n",
      "C:\\Users\\stefa\\AppData\\Local\\Temp\\ipykernel_22952\\3288241118.py:8: FutureWarning: The frame.append method is deprecated and will be removed from pandas in a future version. Use pandas.concat instead.\n",
      "  corr_columns = corr_columns.append({'feature': c, 'corr':corr, 'corr.abs':abs(corr)}, ignore_index=True)\n",
      "C:\\Users\\stefa\\AppData\\Local\\Temp\\ipykernel_22952\\3288241118.py:8: FutureWarning: The frame.append method is deprecated and will be removed from pandas in a future version. Use pandas.concat instead.\n",
      "  corr_columns = corr_columns.append({'feature': c, 'corr':corr, 'corr.abs':abs(corr)}, ignore_index=True)\n",
      "C:\\Users\\stefa\\AppData\\Local\\Temp\\ipykernel_22952\\3288241118.py:8: FutureWarning: The frame.append method is deprecated and will be removed from pandas in a future version. Use pandas.concat instead.\n",
      "  corr_columns = corr_columns.append({'feature': c, 'corr':corr, 'corr.abs':abs(corr)}, ignore_index=True)\n",
      "C:\\Users\\stefa\\AppData\\Local\\Temp\\ipykernel_22952\\3288241118.py:8: FutureWarning: The frame.append method is deprecated and will be removed from pandas in a future version. Use pandas.concat instead.\n",
      "  corr_columns = corr_columns.append({'feature': c, 'corr':corr, 'corr.abs':abs(corr)}, ignore_index=True)\n",
      "C:\\Users\\stefa\\AppData\\Local\\Temp\\ipykernel_22952\\3288241118.py:8: FutureWarning: The frame.append method is deprecated and will be removed from pandas in a future version. Use pandas.concat instead.\n",
      "  corr_columns = corr_columns.append({'feature': c, 'corr':corr, 'corr.abs':abs(corr)}, ignore_index=True)\n",
      "C:\\Users\\stefa\\AppData\\Local\\Temp\\ipykernel_22952\\3288241118.py:8: FutureWarning: The frame.append method is deprecated and will be removed from pandas in a future version. Use pandas.concat instead.\n",
      "  corr_columns = corr_columns.append({'feature': c, 'corr':corr, 'corr.abs':abs(corr)}, ignore_index=True)\n",
      "C:\\Users\\stefa\\AppData\\Local\\Temp\\ipykernel_22952\\3288241118.py:8: FutureWarning: The frame.append method is deprecated and will be removed from pandas in a future version. Use pandas.concat instead.\n",
      "  corr_columns = corr_columns.append({'feature': c, 'corr':corr, 'corr.abs':abs(corr)}, ignore_index=True)\n",
      "C:\\Users\\stefa\\AppData\\Local\\Temp\\ipykernel_22952\\3288241118.py:8: FutureWarning: The frame.append method is deprecated and will be removed from pandas in a future version. Use pandas.concat instead.\n",
      "  corr_columns = corr_columns.append({'feature': c, 'corr':corr, 'corr.abs':abs(corr)}, ignore_index=True)\n",
      "C:\\Users\\stefa\\AppData\\Local\\Temp\\ipykernel_22952\\3288241118.py:8: FutureWarning: The frame.append method is deprecated and will be removed from pandas in a future version. Use pandas.concat instead.\n",
      "  corr_columns = corr_columns.append({'feature': c, 'corr':corr, 'corr.abs':abs(corr)}, ignore_index=True)\n",
      "C:\\Users\\stefa\\AppData\\Local\\Temp\\ipykernel_22952\\3288241118.py:8: FutureWarning: The frame.append method is deprecated and will be removed from pandas in a future version. Use pandas.concat instead.\n",
      "  corr_columns = corr_columns.append({'feature': c, 'corr':corr, 'corr.abs':abs(corr)}, ignore_index=True)\n",
      "C:\\Users\\stefa\\AppData\\Local\\Temp\\ipykernel_22952\\3288241118.py:8: FutureWarning: The frame.append method is deprecated and will be removed from pandas in a future version. Use pandas.concat instead.\n",
      "  corr_columns = corr_columns.append({'feature': c, 'corr':corr, 'corr.abs':abs(corr)}, ignore_index=True)\n",
      "C:\\Users\\stefa\\AppData\\Local\\Temp\\ipykernel_22952\\3288241118.py:8: FutureWarning: The frame.append method is deprecated and will be removed from pandas in a future version. Use pandas.concat instead.\n",
      "  corr_columns = corr_columns.append({'feature': c, 'corr':corr, 'corr.abs':abs(corr)}, ignore_index=True)\n",
      "C:\\Users\\stefa\\AppData\\Local\\Temp\\ipykernel_22952\\3288241118.py:8: FutureWarning: The frame.append method is deprecated and will be removed from pandas in a future version. Use pandas.concat instead.\n",
      "  corr_columns = corr_columns.append({'feature': c, 'corr':corr, 'corr.abs':abs(corr)}, ignore_index=True)\n",
      "C:\\Users\\stefa\\AppData\\Local\\Temp\\ipykernel_22952\\3288241118.py:8: FutureWarning: The frame.append method is deprecated and will be removed from pandas in a future version. Use pandas.concat instead.\n",
      "  corr_columns = corr_columns.append({'feature': c, 'corr':corr, 'corr.abs':abs(corr)}, ignore_index=True)\n",
      "C:\\Users\\stefa\\AppData\\Local\\Temp\\ipykernel_22952\\3288241118.py:8: FutureWarning: The frame.append method is deprecated and will be removed from pandas in a future version. Use pandas.concat instead.\n",
      "  corr_columns = corr_columns.append({'feature': c, 'corr':corr, 'corr.abs':abs(corr)}, ignore_index=True)\n",
      "C:\\Users\\stefa\\AppData\\Local\\Temp\\ipykernel_22952\\3288241118.py:8: FutureWarning: The frame.append method is deprecated and will be removed from pandas in a future version. Use pandas.concat instead.\n",
      "  corr_columns = corr_columns.append({'feature': c, 'corr':corr, 'corr.abs':abs(corr)}, ignore_index=True)\n",
      "C:\\Users\\stefa\\AppData\\Local\\Temp\\ipykernel_22952\\3288241118.py:8: FutureWarning: The frame.append method is deprecated and will be removed from pandas in a future version. Use pandas.concat instead.\n",
      "  corr_columns = corr_columns.append({'feature': c, 'corr':corr, 'corr.abs':abs(corr)}, ignore_index=True)\n",
      "C:\\Users\\stefa\\AppData\\Local\\Temp\\ipykernel_22952\\3288241118.py:8: FutureWarning: The frame.append method is deprecated and will be removed from pandas in a future version. Use pandas.concat instead.\n",
      "  corr_columns = corr_columns.append({'feature': c, 'corr':corr, 'corr.abs':abs(corr)}, ignore_index=True)\n",
      "C:\\Users\\stefa\\AppData\\Local\\Temp\\ipykernel_22952\\3288241118.py:8: FutureWarning: The frame.append method is deprecated and will be removed from pandas in a future version. Use pandas.concat instead.\n",
      "  corr_columns = corr_columns.append({'feature': c, 'corr':corr, 'corr.abs':abs(corr)}, ignore_index=True)\n",
      "C:\\Users\\stefa\\AppData\\Local\\Temp\\ipykernel_22952\\3288241118.py:8: FutureWarning: The frame.append method is deprecated and will be removed from pandas in a future version. Use pandas.concat instead.\n",
      "  corr_columns = corr_columns.append({'feature': c, 'corr':corr, 'corr.abs':abs(corr)}, ignore_index=True)\n",
      "C:\\Users\\stefa\\AppData\\Local\\Temp\\ipykernel_22952\\3288241118.py:8: FutureWarning: The frame.append method is deprecated and will be removed from pandas in a future version. Use pandas.concat instead.\n",
      "  corr_columns = corr_columns.append({'feature': c, 'corr':corr, 'corr.abs':abs(corr)}, ignore_index=True)\n",
      "C:\\Users\\stefa\\AppData\\Local\\Temp\\ipykernel_22952\\3288241118.py:8: FutureWarning: The frame.append method is deprecated and will be removed from pandas in a future version. Use pandas.concat instead.\n",
      "  corr_columns = corr_columns.append({'feature': c, 'corr':corr, 'corr.abs':abs(corr)}, ignore_index=True)\n",
      "C:\\Users\\stefa\\AppData\\Local\\Temp\\ipykernel_22952\\3288241118.py:8: FutureWarning: The frame.append method is deprecated and will be removed from pandas in a future version. Use pandas.concat instead.\n",
      "  corr_columns = corr_columns.append({'feature': c, 'corr':corr, 'corr.abs':abs(corr)}, ignore_index=True)\n",
      "C:\\Users\\stefa\\AppData\\Local\\Temp\\ipykernel_22952\\3288241118.py:8: FutureWarning: The frame.append method is deprecated and will be removed from pandas in a future version. Use pandas.concat instead.\n",
      "  corr_columns = corr_columns.append({'feature': c, 'corr':corr, 'corr.abs':abs(corr)}, ignore_index=True)\n",
      "C:\\Users\\stefa\\AppData\\Local\\Temp\\ipykernel_22952\\3288241118.py:8: FutureWarning: The frame.append method is deprecated and will be removed from pandas in a future version. Use pandas.concat instead.\n",
      "  corr_columns = corr_columns.append({'feature': c, 'corr':corr, 'corr.abs':abs(corr)}, ignore_index=True)\n",
      "C:\\Users\\stefa\\AppData\\Local\\Temp\\ipykernel_22952\\3288241118.py:8: FutureWarning: The frame.append method is deprecated and will be removed from pandas in a future version. Use pandas.concat instead.\n",
      "  corr_columns = corr_columns.append({'feature': c, 'corr':corr, 'corr.abs':abs(corr)}, ignore_index=True)\n",
      "C:\\Users\\stefa\\AppData\\Local\\Temp\\ipykernel_22952\\3288241118.py:8: FutureWarning: The frame.append method is deprecated and will be removed from pandas in a future version. Use pandas.concat instead.\n",
      "  corr_columns = corr_columns.append({'feature': c, 'corr':corr, 'corr.abs':abs(corr)}, ignore_index=True)\n",
      "C:\\Users\\stefa\\AppData\\Local\\Temp\\ipykernel_22952\\3288241118.py:8: FutureWarning: The frame.append method is deprecated and will be removed from pandas in a future version. Use pandas.concat instead.\n",
      "  corr_columns = corr_columns.append({'feature': c, 'corr':corr, 'corr.abs':abs(corr)}, ignore_index=True)\n",
      "C:\\Users\\stefa\\AppData\\Local\\Temp\\ipykernel_22952\\3288241118.py:8: FutureWarning: The frame.append method is deprecated and will be removed from pandas in a future version. Use pandas.concat instead.\n",
      "  corr_columns = corr_columns.append({'feature': c, 'corr':corr, 'corr.abs':abs(corr)}, ignore_index=True)\n",
      "C:\\Users\\stefa\\AppData\\Local\\Temp\\ipykernel_22952\\3288241118.py:8: FutureWarning: The frame.append method is deprecated and will be removed from pandas in a future version. Use pandas.concat instead.\n",
      "  corr_columns = corr_columns.append({'feature': c, 'corr':corr, 'corr.abs':abs(corr)}, ignore_index=True)\n",
      "C:\\Users\\stefa\\AppData\\Local\\Temp\\ipykernel_22952\\3288241118.py:8: FutureWarning: The frame.append method is deprecated and will be removed from pandas in a future version. Use pandas.concat instead.\n",
      "  corr_columns = corr_columns.append({'feature': c, 'corr':corr, 'corr.abs':abs(corr)}, ignore_index=True)\n",
      "C:\\Users\\stefa\\AppData\\Local\\Temp\\ipykernel_22952\\3288241118.py:8: FutureWarning: The frame.append method is deprecated and will be removed from pandas in a future version. Use pandas.concat instead.\n",
      "  corr_columns = corr_columns.append({'feature': c, 'corr':corr, 'corr.abs':abs(corr)}, ignore_index=True)\n",
      "C:\\Users\\stefa\\AppData\\Local\\Temp\\ipykernel_22952\\3288241118.py:8: FutureWarning: The frame.append method is deprecated and will be removed from pandas in a future version. Use pandas.concat instead.\n",
      "  corr_columns = corr_columns.append({'feature': c, 'corr':corr, 'corr.abs':abs(corr)}, ignore_index=True)\n",
      "C:\\Users\\stefa\\AppData\\Local\\Temp\\ipykernel_22952\\3288241118.py:8: FutureWarning: The frame.append method is deprecated and will be removed from pandas in a future version. Use pandas.concat instead.\n",
      "  corr_columns = corr_columns.append({'feature': c, 'corr':corr, 'corr.abs':abs(corr)}, ignore_index=True)\n",
      "C:\\Users\\stefa\\AppData\\Local\\Temp\\ipykernel_22952\\3288241118.py:8: FutureWarning: The frame.append method is deprecated and will be removed from pandas in a future version. Use pandas.concat instead.\n",
      "  corr_columns = corr_columns.append({'feature': c, 'corr':corr, 'corr.abs':abs(corr)}, ignore_index=True)\n",
      "C:\\Users\\stefa\\AppData\\Local\\Temp\\ipykernel_22952\\3288241118.py:8: FutureWarning: The frame.append method is deprecated and will be removed from pandas in a future version. Use pandas.concat instead.\n",
      "  corr_columns = corr_columns.append({'feature': c, 'corr':corr, 'corr.abs':abs(corr)}, ignore_index=True)\n",
      "C:\\Users\\stefa\\AppData\\Local\\Temp\\ipykernel_22952\\3288241118.py:8: FutureWarning: The frame.append method is deprecated and will be removed from pandas in a future version. Use pandas.concat instead.\n",
      "  corr_columns = corr_columns.append({'feature': c, 'corr':corr, 'corr.abs':abs(corr)}, ignore_index=True)\n",
      "C:\\Users\\stefa\\AppData\\Local\\Temp\\ipykernel_22952\\3288241118.py:8: FutureWarning: The frame.append method is deprecated and will be removed from pandas in a future version. Use pandas.concat instead.\n",
      "  corr_columns = corr_columns.append({'feature': c, 'corr':corr, 'corr.abs':abs(corr)}, ignore_index=True)\n",
      "C:\\Users\\stefa\\AppData\\Local\\Temp\\ipykernel_22952\\3288241118.py:8: FutureWarning: The frame.append method is deprecated and will be removed from pandas in a future version. Use pandas.concat instead.\n",
      "  corr_columns = corr_columns.append({'feature': c, 'corr':corr, 'corr.abs':abs(corr)}, ignore_index=True)\n",
      "C:\\Users\\stefa\\AppData\\Local\\Temp\\ipykernel_22952\\3288241118.py:8: FutureWarning: The frame.append method is deprecated and will be removed from pandas in a future version. Use pandas.concat instead.\n",
      "  corr_columns = corr_columns.append({'feature': c, 'corr':corr, 'corr.abs':abs(corr)}, ignore_index=True)\n",
      "C:\\Users\\stefa\\AppData\\Local\\Temp\\ipykernel_22952\\3288241118.py:8: FutureWarning: The frame.append method is deprecated and will be removed from pandas in a future version. Use pandas.concat instead.\n",
      "  corr_columns = corr_columns.append({'feature': c, 'corr':corr, 'corr.abs':abs(corr)}, ignore_index=True)\n",
      "C:\\Users\\stefa\\AppData\\Local\\Temp\\ipykernel_22952\\3288241118.py:8: FutureWarning: The frame.append method is deprecated and will be removed from pandas in a future version. Use pandas.concat instead.\n",
      "  corr_columns = corr_columns.append({'feature': c, 'corr':corr, 'corr.abs':abs(corr)}, ignore_index=True)\n",
      "C:\\Users\\stefa\\AppData\\Local\\Temp\\ipykernel_22952\\3288241118.py:8: FutureWarning: The frame.append method is deprecated and will be removed from pandas in a future version. Use pandas.concat instead.\n",
      "  corr_columns = corr_columns.append({'feature': c, 'corr':corr, 'corr.abs':abs(corr)}, ignore_index=True)\n",
      "C:\\Users\\stefa\\AppData\\Local\\Temp\\ipykernel_22952\\3288241118.py:8: FutureWarning: The frame.append method is deprecated and will be removed from pandas in a future version. Use pandas.concat instead.\n",
      "  corr_columns = corr_columns.append({'feature': c, 'corr':corr, 'corr.abs':abs(corr)}, ignore_index=True)\n",
      "C:\\Users\\stefa\\AppData\\Local\\Temp\\ipykernel_22952\\3288241118.py:8: FutureWarning: The frame.append method is deprecated and will be removed from pandas in a future version. Use pandas.concat instead.\n",
      "  corr_columns = corr_columns.append({'feature': c, 'corr':corr, 'corr.abs':abs(corr)}, ignore_index=True)\n",
      "C:\\Users\\stefa\\AppData\\Local\\Temp\\ipykernel_22952\\3288241118.py:8: FutureWarning: The frame.append method is deprecated and will be removed from pandas in a future version. Use pandas.concat instead.\n",
      "  corr_columns = corr_columns.append({'feature': c, 'corr':corr, 'corr.abs':abs(corr)}, ignore_index=True)\n",
      "C:\\Users\\stefa\\AppData\\Local\\Temp\\ipykernel_22952\\3288241118.py:8: FutureWarning: The frame.append method is deprecated and will be removed from pandas in a future version. Use pandas.concat instead.\n",
      "  corr_columns = corr_columns.append({'feature': c, 'corr':corr, 'corr.abs':abs(corr)}, ignore_index=True)\n",
      "C:\\Users\\stefa\\AppData\\Local\\Temp\\ipykernel_22952\\3288241118.py:8: FutureWarning: The frame.append method is deprecated and will be removed from pandas in a future version. Use pandas.concat instead.\n",
      "  corr_columns = corr_columns.append({'feature': c, 'corr':corr, 'corr.abs':abs(corr)}, ignore_index=True)\n",
      "C:\\Users\\stefa\\AppData\\Local\\Temp\\ipykernel_22952\\3288241118.py:8: FutureWarning: The frame.append method is deprecated and will be removed from pandas in a future version. Use pandas.concat instead.\n",
      "  corr_columns = corr_columns.append({'feature': c, 'corr':corr, 'corr.abs':abs(corr)}, ignore_index=True)\n",
      "C:\\Users\\stefa\\AppData\\Local\\Temp\\ipykernel_22952\\3288241118.py:8: FutureWarning: The frame.append method is deprecated and will be removed from pandas in a future version. Use pandas.concat instead.\n",
      "  corr_columns = corr_columns.append({'feature': c, 'corr':corr, 'corr.abs':abs(corr)}, ignore_index=True)\n",
      "C:\\Users\\stefa\\AppData\\Local\\Temp\\ipykernel_22952\\3288241118.py:8: FutureWarning: The frame.append method is deprecated and will be removed from pandas in a future version. Use pandas.concat instead.\n",
      "  corr_columns = corr_columns.append({'feature': c, 'corr':corr, 'corr.abs':abs(corr)}, ignore_index=True)\n",
      "C:\\Users\\stefa\\AppData\\Local\\Temp\\ipykernel_22952\\3288241118.py:8: FutureWarning: The frame.append method is deprecated and will be removed from pandas in a future version. Use pandas.concat instead.\n",
      "  corr_columns = corr_columns.append({'feature': c, 'corr':corr, 'corr.abs':abs(corr)}, ignore_index=True)\n",
      "C:\\Users\\stefa\\AppData\\Local\\Temp\\ipykernel_22952\\3288241118.py:8: FutureWarning: The frame.append method is deprecated and will be removed from pandas in a future version. Use pandas.concat instead.\n",
      "  corr_columns = corr_columns.append({'feature': c, 'corr':corr, 'corr.abs':abs(corr)}, ignore_index=True)\n",
      "C:\\Users\\stefa\\AppData\\Local\\Temp\\ipykernel_22952\\3288241118.py:8: FutureWarning: The frame.append method is deprecated and will be removed from pandas in a future version. Use pandas.concat instead.\n",
      "  corr_columns = corr_columns.append({'feature': c, 'corr':corr, 'corr.abs':abs(corr)}, ignore_index=True)\n",
      "C:\\Users\\stefa\\AppData\\Local\\Temp\\ipykernel_22952\\3288241118.py:8: FutureWarning: The frame.append method is deprecated and will be removed from pandas in a future version. Use pandas.concat instead.\n",
      "  corr_columns = corr_columns.append({'feature': c, 'corr':corr, 'corr.abs':abs(corr)}, ignore_index=True)\n",
      "C:\\Users\\stefa\\AppData\\Local\\Temp\\ipykernel_22952\\3288241118.py:8: FutureWarning: The frame.append method is deprecated and will be removed from pandas in a future version. Use pandas.concat instead.\n",
      "  corr_columns = corr_columns.append({'feature': c, 'corr':corr, 'corr.abs':abs(corr)}, ignore_index=True)\n",
      "C:\\Users\\stefa\\AppData\\Local\\Temp\\ipykernel_22952\\3288241118.py:8: FutureWarning: The frame.append method is deprecated and will be removed from pandas in a future version. Use pandas.concat instead.\n",
      "  corr_columns = corr_columns.append({'feature': c, 'corr':corr, 'corr.abs':abs(corr)}, ignore_index=True)\n",
      "C:\\Users\\stefa\\AppData\\Local\\Temp\\ipykernel_22952\\3288241118.py:8: FutureWarning: The frame.append method is deprecated and will be removed from pandas in a future version. Use pandas.concat instead.\n",
      "  corr_columns = corr_columns.append({'feature': c, 'corr':corr, 'corr.abs':abs(corr)}, ignore_index=True)\n",
      "C:\\Users\\stefa\\AppData\\Local\\Temp\\ipykernel_22952\\3288241118.py:8: FutureWarning: The frame.append method is deprecated and will be removed from pandas in a future version. Use pandas.concat instead.\n",
      "  corr_columns = corr_columns.append({'feature': c, 'corr':corr, 'corr.abs':abs(corr)}, ignore_index=True)\n",
      "C:\\Users\\stefa\\AppData\\Local\\Temp\\ipykernel_22952\\3288241118.py:8: FutureWarning: The frame.append method is deprecated and will be removed from pandas in a future version. Use pandas.concat instead.\n",
      "  corr_columns = corr_columns.append({'feature': c, 'corr':corr, 'corr.abs':abs(corr)}, ignore_index=True)\n",
      "C:\\Users\\stefa\\AppData\\Local\\Temp\\ipykernel_22952\\3288241118.py:8: FutureWarning: The frame.append method is deprecated and will be removed from pandas in a future version. Use pandas.concat instead.\n",
      "  corr_columns = corr_columns.append({'feature': c, 'corr':corr, 'corr.abs':abs(corr)}, ignore_index=True)\n",
      "C:\\Users\\stefa\\AppData\\Local\\Temp\\ipykernel_22952\\3288241118.py:8: FutureWarning: The frame.append method is deprecated and will be removed from pandas in a future version. Use pandas.concat instead.\n",
      "  corr_columns = corr_columns.append({'feature': c, 'corr':corr, 'corr.abs':abs(corr)}, ignore_index=True)\n",
      "C:\\Users\\stefa\\AppData\\Local\\Temp\\ipykernel_22952\\3288241118.py:8: FutureWarning: The frame.append method is deprecated and will be removed from pandas in a future version. Use pandas.concat instead.\n",
      "  corr_columns = corr_columns.append({'feature': c, 'corr':corr, 'corr.abs':abs(corr)}, ignore_index=True)\n",
      "C:\\Users\\stefa\\AppData\\Local\\Temp\\ipykernel_22952\\3288241118.py:8: FutureWarning: The frame.append method is deprecated and will be removed from pandas in a future version. Use pandas.concat instead.\n",
      "  corr_columns = corr_columns.append({'feature': c, 'corr':corr, 'corr.abs':abs(corr)}, ignore_index=True)\n",
      "C:\\Users\\stefa\\AppData\\Local\\Temp\\ipykernel_22952\\3288241118.py:8: FutureWarning: The frame.append method is deprecated and will be removed from pandas in a future version. Use pandas.concat instead.\n",
      "  corr_columns = corr_columns.append({'feature': c, 'corr':corr, 'corr.abs':abs(corr)}, ignore_index=True)\n",
      "C:\\Users\\stefa\\AppData\\Local\\Temp\\ipykernel_22952\\3288241118.py:8: FutureWarning: The frame.append method is deprecated and will be removed from pandas in a future version. Use pandas.concat instead.\n",
      "  corr_columns = corr_columns.append({'feature': c, 'corr':corr, 'corr.abs':abs(corr)}, ignore_index=True)\n",
      "C:\\Users\\stefa\\AppData\\Local\\Temp\\ipykernel_22952\\3288241118.py:8: FutureWarning: The frame.append method is deprecated and will be removed from pandas in a future version. Use pandas.concat instead.\n",
      "  corr_columns = corr_columns.append({'feature': c, 'corr':corr, 'corr.abs':abs(corr)}, ignore_index=True)\n",
      "C:\\Users\\stefa\\AppData\\Local\\Temp\\ipykernel_22952\\3288241118.py:8: FutureWarning: The frame.append method is deprecated and will be removed from pandas in a future version. Use pandas.concat instead.\n",
      "  corr_columns = corr_columns.append({'feature': c, 'corr':corr, 'corr.abs':abs(corr)}, ignore_index=True)\n",
      "C:\\Users\\stefa\\AppData\\Local\\Temp\\ipykernel_22952\\3288241118.py:8: FutureWarning: The frame.append method is deprecated and will be removed from pandas in a future version. Use pandas.concat instead.\n",
      "  corr_columns = corr_columns.append({'feature': c, 'corr':corr, 'corr.abs':abs(corr)}, ignore_index=True)\n",
      "C:\\Users\\stefa\\AppData\\Local\\Temp\\ipykernel_22952\\3288241118.py:8: FutureWarning: The frame.append method is deprecated and will be removed from pandas in a future version. Use pandas.concat instead.\n",
      "  corr_columns = corr_columns.append({'feature': c, 'corr':corr, 'corr.abs':abs(corr)}, ignore_index=True)\n",
      "C:\\Users\\stefa\\AppData\\Local\\Temp\\ipykernel_22952\\3288241118.py:8: FutureWarning: The frame.append method is deprecated and will be removed from pandas in a future version. Use pandas.concat instead.\n",
      "  corr_columns = corr_columns.append({'feature': c, 'corr':corr, 'corr.abs':abs(corr)}, ignore_index=True)\n",
      "C:\\Users\\stefa\\AppData\\Local\\Temp\\ipykernel_22952\\3288241118.py:8: FutureWarning: The frame.append method is deprecated and will be removed from pandas in a future version. Use pandas.concat instead.\n",
      "  corr_columns = corr_columns.append({'feature': c, 'corr':corr, 'corr.abs':abs(corr)}, ignore_index=True)\n",
      "C:\\Users\\stefa\\AppData\\Local\\Temp\\ipykernel_22952\\3288241118.py:8: FutureWarning: The frame.append method is deprecated and will be removed from pandas in a future version. Use pandas.concat instead.\n",
      "  corr_columns = corr_columns.append({'feature': c, 'corr':corr, 'corr.abs':abs(corr)}, ignore_index=True)\n",
      "C:\\Users\\stefa\\AppData\\Local\\Temp\\ipykernel_22952\\3288241118.py:8: FutureWarning: The frame.append method is deprecated and will be removed from pandas in a future version. Use pandas.concat instead.\n",
      "  corr_columns = corr_columns.append({'feature': c, 'corr':corr, 'corr.abs':abs(corr)}, ignore_index=True)\n",
      "C:\\Users\\stefa\\AppData\\Local\\Temp\\ipykernel_22952\\3288241118.py:8: FutureWarning: The frame.append method is deprecated and will be removed from pandas in a future version. Use pandas.concat instead.\n",
      "  corr_columns = corr_columns.append({'feature': c, 'corr':corr, 'corr.abs':abs(corr)}, ignore_index=True)\n",
      "C:\\Users\\stefa\\AppData\\Local\\Temp\\ipykernel_22952\\3288241118.py:8: FutureWarning: The frame.append method is deprecated and will be removed from pandas in a future version. Use pandas.concat instead.\n",
      "  corr_columns = corr_columns.append({'feature': c, 'corr':corr, 'corr.abs':abs(corr)}, ignore_index=True)\n",
      "C:\\Users\\stefa\\AppData\\Local\\Temp\\ipykernel_22952\\3288241118.py:8: FutureWarning: The frame.append method is deprecated and will be removed from pandas in a future version. Use pandas.concat instead.\n",
      "  corr_columns = corr_columns.append({'feature': c, 'corr':corr, 'corr.abs':abs(corr)}, ignore_index=True)\n",
      "C:\\Users\\stefa\\AppData\\Local\\Temp\\ipykernel_22952\\3288241118.py:8: FutureWarning: The frame.append method is deprecated and will be removed from pandas in a future version. Use pandas.concat instead.\n",
      "  corr_columns = corr_columns.append({'feature': c, 'corr':corr, 'corr.abs':abs(corr)}, ignore_index=True)\n",
      "C:\\Users\\stefa\\AppData\\Local\\Temp\\ipykernel_22952\\3288241118.py:8: FutureWarning: The frame.append method is deprecated and will be removed from pandas in a future version. Use pandas.concat instead.\n",
      "  corr_columns = corr_columns.append({'feature': c, 'corr':corr, 'corr.abs':abs(corr)}, ignore_index=True)\n",
      "C:\\Users\\stefa\\AppData\\Local\\Temp\\ipykernel_22952\\3288241118.py:8: FutureWarning: The frame.append method is deprecated and will be removed from pandas in a future version. Use pandas.concat instead.\n",
      "  corr_columns = corr_columns.append({'feature': c, 'corr':corr, 'corr.abs':abs(corr)}, ignore_index=True)\n",
      "C:\\Users\\stefa\\AppData\\Local\\Temp\\ipykernel_22952\\3288241118.py:8: FutureWarning: The frame.append method is deprecated and will be removed from pandas in a future version. Use pandas.concat instead.\n",
      "  corr_columns = corr_columns.append({'feature': c, 'corr':corr, 'corr.abs':abs(corr)}, ignore_index=True)\n",
      "C:\\Users\\stefa\\AppData\\Local\\Temp\\ipykernel_22952\\3288241118.py:8: FutureWarning: The frame.append method is deprecated and will be removed from pandas in a future version. Use pandas.concat instead.\n",
      "  corr_columns = corr_columns.append({'feature': c, 'corr':corr, 'corr.abs':abs(corr)}, ignore_index=True)\n",
      "C:\\Users\\stefa\\AppData\\Local\\Temp\\ipykernel_22952\\3288241118.py:8: FutureWarning: The frame.append method is deprecated and will be removed from pandas in a future version. Use pandas.concat instead.\n",
      "  corr_columns = corr_columns.append({'feature': c, 'corr':corr, 'corr.abs':abs(corr)}, ignore_index=True)\n",
      "C:\\Users\\stefa\\AppData\\Local\\Temp\\ipykernel_22952\\3288241118.py:8: FutureWarning: The frame.append method is deprecated and will be removed from pandas in a future version. Use pandas.concat instead.\n",
      "  corr_columns = corr_columns.append({'feature': c, 'corr':corr, 'corr.abs':abs(corr)}, ignore_index=True)\n",
      "C:\\Users\\stefa\\AppData\\Local\\Temp\\ipykernel_22952\\3288241118.py:8: FutureWarning: The frame.append method is deprecated and will be removed from pandas in a future version. Use pandas.concat instead.\n",
      "  corr_columns = corr_columns.append({'feature': c, 'corr':corr, 'corr.abs':abs(corr)}, ignore_index=True)\n",
      "C:\\Users\\stefa\\AppData\\Local\\Temp\\ipykernel_22952\\3288241118.py:8: FutureWarning: The frame.append method is deprecated and will be removed from pandas in a future version. Use pandas.concat instead.\n",
      "  corr_columns = corr_columns.append({'feature': c, 'corr':corr, 'corr.abs':abs(corr)}, ignore_index=True)\n",
      "C:\\Users\\stefa\\AppData\\Local\\Temp\\ipykernel_22952\\3288241118.py:8: FutureWarning: The frame.append method is deprecated and will be removed from pandas in a future version. Use pandas.concat instead.\n",
      "  corr_columns = corr_columns.append({'feature': c, 'corr':corr, 'corr.abs':abs(corr)}, ignore_index=True)\n",
      "C:\\Users\\stefa\\AppData\\Local\\Temp\\ipykernel_22952\\3288241118.py:8: FutureWarning: The frame.append method is deprecated and will be removed from pandas in a future version. Use pandas.concat instead.\n",
      "  corr_columns = corr_columns.append({'feature': c, 'corr':corr, 'corr.abs':abs(corr)}, ignore_index=True)\n",
      "C:\\Users\\stefa\\AppData\\Local\\Temp\\ipykernel_22952\\3288241118.py:8: FutureWarning: The frame.append method is deprecated and will be removed from pandas in a future version. Use pandas.concat instead.\n",
      "  corr_columns = corr_columns.append({'feature': c, 'corr':corr, 'corr.abs':abs(corr)}, ignore_index=True)\n",
      "C:\\Users\\stefa\\AppData\\Local\\Temp\\ipykernel_22952\\3288241118.py:8: FutureWarning: The frame.append method is deprecated and will be removed from pandas in a future version. Use pandas.concat instead.\n",
      "  corr_columns = corr_columns.append({'feature': c, 'corr':corr, 'corr.abs':abs(corr)}, ignore_index=True)\n",
      "C:\\Users\\stefa\\AppData\\Local\\Temp\\ipykernel_22952\\3288241118.py:8: FutureWarning: The frame.append method is deprecated and will be removed from pandas in a future version. Use pandas.concat instead.\n",
      "  corr_columns = corr_columns.append({'feature': c, 'corr':corr, 'corr.abs':abs(corr)}, ignore_index=True)\n",
      "C:\\Users\\stefa\\AppData\\Local\\Temp\\ipykernel_22952\\3288241118.py:8: FutureWarning: The frame.append method is deprecated and will be removed from pandas in a future version. Use pandas.concat instead.\n",
      "  corr_columns = corr_columns.append({'feature': c, 'corr':corr, 'corr.abs':abs(corr)}, ignore_index=True)\n",
      "C:\\Users\\stefa\\AppData\\Local\\Temp\\ipykernel_22952\\3288241118.py:8: FutureWarning: The frame.append method is deprecated and will be removed from pandas in a future version. Use pandas.concat instead.\n",
      "  corr_columns = corr_columns.append({'feature': c, 'corr':corr, 'corr.abs':abs(corr)}, ignore_index=True)\n",
      "C:\\Users\\stefa\\AppData\\Local\\Temp\\ipykernel_22952\\3288241118.py:8: FutureWarning: The frame.append method is deprecated and will be removed from pandas in a future version. Use pandas.concat instead.\n",
      "  corr_columns = corr_columns.append({'feature': c, 'corr':corr, 'corr.abs':abs(corr)}, ignore_index=True)\n",
      "C:\\Users\\stefa\\AppData\\Local\\Temp\\ipykernel_22952\\3288241118.py:8: FutureWarning: The frame.append method is deprecated and will be removed from pandas in a future version. Use pandas.concat instead.\n",
      "  corr_columns = corr_columns.append({'feature': c, 'corr':corr, 'corr.abs':abs(corr)}, ignore_index=True)\n",
      "C:\\Users\\stefa\\AppData\\Local\\Temp\\ipykernel_22952\\3288241118.py:8: FutureWarning: The frame.append method is deprecated and will be removed from pandas in a future version. Use pandas.concat instead.\n",
      "  corr_columns = corr_columns.append({'feature': c, 'corr':corr, 'corr.abs':abs(corr)}, ignore_index=True)\n",
      "C:\\Users\\stefa\\AppData\\Local\\Temp\\ipykernel_22952\\3288241118.py:8: FutureWarning: The frame.append method is deprecated and will be removed from pandas in a future version. Use pandas.concat instead.\n",
      "  corr_columns = corr_columns.append({'feature': c, 'corr':corr, 'corr.abs':abs(corr)}, ignore_index=True)\n",
      "C:\\Users\\stefa\\AppData\\Local\\Temp\\ipykernel_22952\\3288241118.py:8: FutureWarning: The frame.append method is deprecated and will be removed from pandas in a future version. Use pandas.concat instead.\n",
      "  corr_columns = corr_columns.append({'feature': c, 'corr':corr, 'corr.abs':abs(corr)}, ignore_index=True)\n",
      "C:\\Users\\stefa\\AppData\\Local\\Temp\\ipykernel_22952\\3288241118.py:8: FutureWarning: The frame.append method is deprecated and will be removed from pandas in a future version. Use pandas.concat instead.\n",
      "  corr_columns = corr_columns.append({'feature': c, 'corr':corr, 'corr.abs':abs(corr)}, ignore_index=True)\n",
      "C:\\Users\\stefa\\AppData\\Local\\Temp\\ipykernel_22952\\3288241118.py:8: FutureWarning: The frame.append method is deprecated and will be removed from pandas in a future version. Use pandas.concat instead.\n",
      "  corr_columns = corr_columns.append({'feature': c, 'corr':corr, 'corr.abs':abs(corr)}, ignore_index=True)\n",
      "C:\\Users\\stefa\\AppData\\Local\\Temp\\ipykernel_22952\\3288241118.py:8: FutureWarning: The frame.append method is deprecated and will be removed from pandas in a future version. Use pandas.concat instead.\n",
      "  corr_columns = corr_columns.append({'feature': c, 'corr':corr, 'corr.abs':abs(corr)}, ignore_index=True)\n",
      "C:\\Users\\stefa\\AppData\\Local\\Temp\\ipykernel_22952\\3288241118.py:8: FutureWarning: The frame.append method is deprecated and will be removed from pandas in a future version. Use pandas.concat instead.\n",
      "  corr_columns = corr_columns.append({'feature': c, 'corr':corr, 'corr.abs':abs(corr)}, ignore_index=True)\n",
      "C:\\Users\\stefa\\AppData\\Local\\Temp\\ipykernel_22952\\3288241118.py:8: FutureWarning: The frame.append method is deprecated and will be removed from pandas in a future version. Use pandas.concat instead.\n",
      "  corr_columns = corr_columns.append({'feature': c, 'corr':corr, 'corr.abs':abs(corr)}, ignore_index=True)\n",
      "C:\\Users\\stefa\\AppData\\Local\\Temp\\ipykernel_22952\\3288241118.py:8: FutureWarning: The frame.append method is deprecated and will be removed from pandas in a future version. Use pandas.concat instead.\n",
      "  corr_columns = corr_columns.append({'feature': c, 'corr':corr, 'corr.abs':abs(corr)}, ignore_index=True)\n",
      "C:\\Users\\stefa\\AppData\\Local\\Temp\\ipykernel_22952\\3288241118.py:8: FutureWarning: The frame.append method is deprecated and will be removed from pandas in a future version. Use pandas.concat instead.\n",
      "  corr_columns = corr_columns.append({'feature': c, 'corr':corr, 'corr.abs':abs(corr)}, ignore_index=True)\n",
      "C:\\Users\\stefa\\AppData\\Local\\Temp\\ipykernel_22952\\3288241118.py:8: FutureWarning: The frame.append method is deprecated and will be removed from pandas in a future version. Use pandas.concat instead.\n",
      "  corr_columns = corr_columns.append({'feature': c, 'corr':corr, 'corr.abs':abs(corr)}, ignore_index=True)\n",
      "C:\\Users\\stefa\\AppData\\Local\\Temp\\ipykernel_22952\\3288241118.py:8: FutureWarning: The frame.append method is deprecated and will be removed from pandas in a future version. Use pandas.concat instead.\n",
      "  corr_columns = corr_columns.append({'feature': c, 'corr':corr, 'corr.abs':abs(corr)}, ignore_index=True)\n",
      "C:\\Users\\stefa\\AppData\\Local\\Temp\\ipykernel_22952\\3288241118.py:8: FutureWarning: The frame.append method is deprecated and will be removed from pandas in a future version. Use pandas.concat instead.\n",
      "  corr_columns = corr_columns.append({'feature': c, 'corr':corr, 'corr.abs':abs(corr)}, ignore_index=True)\n",
      "C:\\Users\\stefa\\AppData\\Local\\Temp\\ipykernel_22952\\3288241118.py:8: FutureWarning: The frame.append method is deprecated and will be removed from pandas in a future version. Use pandas.concat instead.\n",
      "  corr_columns = corr_columns.append({'feature': c, 'corr':corr, 'corr.abs':abs(corr)}, ignore_index=True)\n",
      "C:\\Users\\stefa\\AppData\\Local\\Temp\\ipykernel_22952\\3288241118.py:8: FutureWarning: The frame.append method is deprecated and will be removed from pandas in a future version. Use pandas.concat instead.\n",
      "  corr_columns = corr_columns.append({'feature': c, 'corr':corr, 'corr.abs':abs(corr)}, ignore_index=True)\n",
      "C:\\Users\\stefa\\AppData\\Local\\Temp\\ipykernel_22952\\3288241118.py:8: FutureWarning: The frame.append method is deprecated and will be removed from pandas in a future version. Use pandas.concat instead.\n",
      "  corr_columns = corr_columns.append({'feature': c, 'corr':corr, 'corr.abs':abs(corr)}, ignore_index=True)\n",
      "C:\\Users\\stefa\\AppData\\Local\\Temp\\ipykernel_22952\\3288241118.py:8: FutureWarning: The frame.append method is deprecated and will be removed from pandas in a future version. Use pandas.concat instead.\n",
      "  corr_columns = corr_columns.append({'feature': c, 'corr':corr, 'corr.abs':abs(corr)}, ignore_index=True)\n",
      "C:\\Users\\stefa\\AppData\\Local\\Temp\\ipykernel_22952\\3288241118.py:8: FutureWarning: The frame.append method is deprecated and will be removed from pandas in a future version. Use pandas.concat instead.\n",
      "  corr_columns = corr_columns.append({'feature': c, 'corr':corr, 'corr.abs':abs(corr)}, ignore_index=True)\n",
      "C:\\Users\\stefa\\AppData\\Local\\Temp\\ipykernel_22952\\3288241118.py:8: FutureWarning: The frame.append method is deprecated and will be removed from pandas in a future version. Use pandas.concat instead.\n",
      "  corr_columns = corr_columns.append({'feature': c, 'corr':corr, 'corr.abs':abs(corr)}, ignore_index=True)\n",
      "C:\\Users\\stefa\\AppData\\Local\\Temp\\ipykernel_22952\\3288241118.py:8: FutureWarning: The frame.append method is deprecated and will be removed from pandas in a future version. Use pandas.concat instead.\n",
      "  corr_columns = corr_columns.append({'feature': c, 'corr':corr, 'corr.abs':abs(corr)}, ignore_index=True)\n",
      "C:\\Users\\stefa\\AppData\\Local\\Temp\\ipykernel_22952\\3288241118.py:8: FutureWarning: The frame.append method is deprecated and will be removed from pandas in a future version. Use pandas.concat instead.\n",
      "  corr_columns = corr_columns.append({'feature': c, 'corr':corr, 'corr.abs':abs(corr)}, ignore_index=True)\n",
      "C:\\Users\\stefa\\AppData\\Local\\Temp\\ipykernel_22952\\3288241118.py:8: FutureWarning: The frame.append method is deprecated and will be removed from pandas in a future version. Use pandas.concat instead.\n",
      "  corr_columns = corr_columns.append({'feature': c, 'corr':corr, 'corr.abs':abs(corr)}, ignore_index=True)\n",
      "C:\\Users\\stefa\\AppData\\Local\\Temp\\ipykernel_22952\\3288241118.py:8: FutureWarning: The frame.append method is deprecated and will be removed from pandas in a future version. Use pandas.concat instead.\n",
      "  corr_columns = corr_columns.append({'feature': c, 'corr':corr, 'corr.abs':abs(corr)}, ignore_index=True)\n",
      "C:\\Users\\stefa\\AppData\\Local\\Temp\\ipykernel_22952\\3288241118.py:8: FutureWarning: The frame.append method is deprecated and will be removed from pandas in a future version. Use pandas.concat instead.\n",
      "  corr_columns = corr_columns.append({'feature': c, 'corr':corr, 'corr.abs':abs(corr)}, ignore_index=True)\n",
      "C:\\Users\\stefa\\AppData\\Local\\Temp\\ipykernel_22952\\3288241118.py:8: FutureWarning: The frame.append method is deprecated and will be removed from pandas in a future version. Use pandas.concat instead.\n",
      "  corr_columns = corr_columns.append({'feature': c, 'corr':corr, 'corr.abs':abs(corr)}, ignore_index=True)\n",
      "C:\\Users\\stefa\\AppData\\Local\\Temp\\ipykernel_22952\\3288241118.py:8: FutureWarning: The frame.append method is deprecated and will be removed from pandas in a future version. Use pandas.concat instead.\n",
      "  corr_columns = corr_columns.append({'feature': c, 'corr':corr, 'corr.abs':abs(corr)}, ignore_index=True)\n",
      "C:\\Users\\stefa\\AppData\\Local\\Temp\\ipykernel_22952\\3288241118.py:8: FutureWarning: The frame.append method is deprecated and will be removed from pandas in a future version. Use pandas.concat instead.\n",
      "  corr_columns = corr_columns.append({'feature': c, 'corr':corr, 'corr.abs':abs(corr)}, ignore_index=True)\n",
      "C:\\Users\\stefa\\AppData\\Local\\Temp\\ipykernel_22952\\3288241118.py:8: FutureWarning: The frame.append method is deprecated and will be removed from pandas in a future version. Use pandas.concat instead.\n",
      "  corr_columns = corr_columns.append({'feature': c, 'corr':corr, 'corr.abs':abs(corr)}, ignore_index=True)\n",
      "C:\\Users\\stefa\\AppData\\Local\\Temp\\ipykernel_22952\\3288241118.py:8: FutureWarning: The frame.append method is deprecated and will be removed from pandas in a future version. Use pandas.concat instead.\n",
      "  corr_columns = corr_columns.append({'feature': c, 'corr':corr, 'corr.abs':abs(corr)}, ignore_index=True)\n",
      "C:\\Users\\stefa\\AppData\\Local\\Temp\\ipykernel_22952\\3288241118.py:8: FutureWarning: The frame.append method is deprecated and will be removed from pandas in a future version. Use pandas.concat instead.\n",
      "  corr_columns = corr_columns.append({'feature': c, 'corr':corr, 'corr.abs':abs(corr)}, ignore_index=True)\n",
      "C:\\Users\\stefa\\AppData\\Local\\Temp\\ipykernel_22952\\3288241118.py:8: FutureWarning: The frame.append method is deprecated and will be removed from pandas in a future version. Use pandas.concat instead.\n",
      "  corr_columns = corr_columns.append({'feature': c, 'corr':corr, 'corr.abs':abs(corr)}, ignore_index=True)\n",
      "C:\\Users\\stefa\\AppData\\Local\\Temp\\ipykernel_22952\\3288241118.py:8: FutureWarning: The frame.append method is deprecated and will be removed from pandas in a future version. Use pandas.concat instead.\n",
      "  corr_columns = corr_columns.append({'feature': c, 'corr':corr, 'corr.abs':abs(corr)}, ignore_index=True)\n",
      "C:\\Users\\stefa\\AppData\\Local\\Temp\\ipykernel_22952\\3288241118.py:8: FutureWarning: The frame.append method is deprecated and will be removed from pandas in a future version. Use pandas.concat instead.\n",
      "  corr_columns = corr_columns.append({'feature': c, 'corr':corr, 'corr.abs':abs(corr)}, ignore_index=True)\n",
      "C:\\Users\\stefa\\AppData\\Local\\Temp\\ipykernel_22952\\3288241118.py:8: FutureWarning: The frame.append method is deprecated and will be removed from pandas in a future version. Use pandas.concat instead.\n",
      "  corr_columns = corr_columns.append({'feature': c, 'corr':corr, 'corr.abs':abs(corr)}, ignore_index=True)\n",
      "C:\\Users\\stefa\\AppData\\Local\\Temp\\ipykernel_22952\\3288241118.py:8: FutureWarning: The frame.append method is deprecated and will be removed from pandas in a future version. Use pandas.concat instead.\n",
      "  corr_columns = corr_columns.append({'feature': c, 'corr':corr, 'corr.abs':abs(corr)}, ignore_index=True)\n",
      "C:\\Users\\stefa\\AppData\\Local\\Temp\\ipykernel_22952\\3288241118.py:8: FutureWarning: The frame.append method is deprecated and will be removed from pandas in a future version. Use pandas.concat instead.\n",
      "  corr_columns = corr_columns.append({'feature': c, 'corr':corr, 'corr.abs':abs(corr)}, ignore_index=True)\n",
      "C:\\Users\\stefa\\AppData\\Local\\Temp\\ipykernel_22952\\3288241118.py:8: FutureWarning: The frame.append method is deprecated and will be removed from pandas in a future version. Use pandas.concat instead.\n",
      "  corr_columns = corr_columns.append({'feature': c, 'corr':corr, 'corr.abs':abs(corr)}, ignore_index=True)\n",
      "C:\\Users\\stefa\\AppData\\Local\\Temp\\ipykernel_22952\\3288241118.py:8: FutureWarning: The frame.append method is deprecated and will be removed from pandas in a future version. Use pandas.concat instead.\n",
      "  corr_columns = corr_columns.append({'feature': c, 'corr':corr, 'corr.abs':abs(corr)}, ignore_index=True)\n",
      "C:\\Users\\stefa\\AppData\\Local\\Temp\\ipykernel_22952\\3288241118.py:8: FutureWarning: The frame.append method is deprecated and will be removed from pandas in a future version. Use pandas.concat instead.\n",
      "  corr_columns = corr_columns.append({'feature': c, 'corr':corr, 'corr.abs':abs(corr)}, ignore_index=True)\n",
      "C:\\Users\\stefa\\AppData\\Local\\Temp\\ipykernel_22952\\3288241118.py:8: FutureWarning: The frame.append method is deprecated and will be removed from pandas in a future version. Use pandas.concat instead.\n",
      "  corr_columns = corr_columns.append({'feature': c, 'corr':corr, 'corr.abs':abs(corr)}, ignore_index=True)\n",
      "C:\\Users\\stefa\\AppData\\Local\\Temp\\ipykernel_22952\\3288241118.py:8: FutureWarning: The frame.append method is deprecated and will be removed from pandas in a future version. Use pandas.concat instead.\n",
      "  corr_columns = corr_columns.append({'feature': c, 'corr':corr, 'corr.abs':abs(corr)}, ignore_index=True)\n",
      "C:\\Users\\stefa\\AppData\\Local\\Temp\\ipykernel_22952\\3288241118.py:8: FutureWarning: The frame.append method is deprecated and will be removed from pandas in a future version. Use pandas.concat instead.\n",
      "  corr_columns = corr_columns.append({'feature': c, 'corr':corr, 'corr.abs':abs(corr)}, ignore_index=True)\n",
      "C:\\Users\\stefa\\AppData\\Local\\Temp\\ipykernel_22952\\3288241118.py:8: FutureWarning: The frame.append method is deprecated and will be removed from pandas in a future version. Use pandas.concat instead.\n",
      "  corr_columns = corr_columns.append({'feature': c, 'corr':corr, 'corr.abs':abs(corr)}, ignore_index=True)\n",
      "C:\\Users\\stefa\\AppData\\Local\\Temp\\ipykernel_22952\\3288241118.py:8: FutureWarning: The frame.append method is deprecated and will be removed from pandas in a future version. Use pandas.concat instead.\n",
      "  corr_columns = corr_columns.append({'feature': c, 'corr':corr, 'corr.abs':abs(corr)}, ignore_index=True)\n"
     ]
    },
    {
     "data": {
      "text/plain": [
       "<AxesSubplot: >"
      ]
     },
     "execution_count": 20,
     "metadata": {},
     "output_type": "execute_result"
    },
    {
     "data": {
      "image/png": "[encoded data removed]",
      "text/plain": [
       "<Figure size 640x480 with 2 Axes>"
      ]
     },
     "metadata": {},
     "output_type": "display_data"
    }
   ],
   "source": [
    "corr_columns = pd.DataFrame(columns = ['feature','corr','corr.abs'])\n",
    "\n",
    "# calculate correlation between every feature an target\n",
    "for c in x_df.columns:\n",
    "  try:\n",
    "    corr = x_df[c].corr(ys)\n",
    "    # print(c,corr)\n",
    "    corr_columns = corr_columns.append({'feature': c, 'corr':corr, 'corr.abs':abs(corr)}, ignore_index=True)\n",
    "  except:\n",
    "    pass\n",
    "\n",
    "# select top 5 features \n",
    "select_feature = corr_columns.sort_values(by=['corr.abs'],ascending=False)[0:5].feature\n",
    "select_feature_corr_df = pd.DataFrame()\n",
    "for i in select_feature:\n",
    "  select_feature_corr_df[i] = x_df[i]\n",
    "\n",
    "# calculate top 5 features correlation matrix\n",
    "select_feature_ys_df = pd.merge(select_feature_corr_df,pd.DataFrame(ys,columns = ['To_be']),left_index=True,right_index=True)\n",
    "select_feature_ys_df.corr()\n",
    "\n",
    "# show the heatmap\n",
    "sns.heatmap(select_feature_ys_df.corr(),annot=True,fmt=\".5f\",vmin=1, vmax=0,cmap=\"crest\")"
   ]
  },
  {
   "cell_type": "markdown",
   "metadata": {
    "id": "0pKjKsL42r1y"
   },
   "source": [
    "## 4. Preprocessing"
   ]
  },
  {
   "cell_type": "markdown",
   "metadata": {
    "id": "pDea8rcg2r1y"
   },
   "source": [
    "### Code: Missing values handling"
   ]
  },
  {
   "cell_type": "markdown",
   "metadata": {
    "id": "ZUjP5IL-2r1y"
   },
   "source": [
    "The simplest solution is to eliminate all the columns where there is missing data, but a large part of the information may be lost.\n",
    "\n",
    "If a small number of instances is concerned, it is more pertinent to delete the rows (instances) rather than the entire columns (variables). But you need to **pay attention**, if you **cannot** change the number of rows in the **test set**, or the competition grader will **fail**.\n",
    "\n",
    "A third solution would be to replace undefined values with the most probable value of the variable. As these missing values relate exclusively to categorical and binary variables, the most probable value is the [*mode*](https://en.wikipedia.org/wiki/Mode_(statistics)).\n",
    "\n",
    "A first baseline version is given, but it should be improved. It discards all categorical features and instances with NAN."
   ]
  },
  {
   "cell_type": "code",
   "execution_count": 21,
   "metadata": {
    "execution": {
     "iopub.execute_input": "2022-12-29T14:06:07.512881Z",
     "iopub.status.busy": "2022-12-29T14:06:07.512465Z",
     "iopub.status.idle": "2022-12-29T14:06:07.918169Z",
     "shell.execute_reply": "2022-12-29T14:06:07.916848Z",
     "shell.execute_reply.started": "2022-12-29T14:06:07.512844Z"
    },
    "id": "IqJjsNwe2r1y",
    "outputId": "6a520b69-c229-4a17-b822-acabc732a531"
   },
   "outputs": [
    {
     "name": "stdout",
     "output_type": "stream",
     "text": [
      "(79999, 337) (20001, 337)\n",
      "(79999, 330) (20001, 330)\n"
     ]
    }
   ],
   "source": [
    "print(x_df.shape, x_test_df.shape)\n",
    "\n",
    "x_baseline_df = x_df.select_dtypes([np.number]).copy()\n",
    "x_baseline_test_df = x_test_df.select_dtypes([np.number]).copy()\n",
    "\n",
    "x_baseline_df.fillna(0, inplace=True)\n",
    "x_baseline_test_df.fillna(0, inplace=True)\n",
    "\n",
    "print(x_baseline_df.shape, x_baseline_test_df.shape)"
   ]
  },
  {
   "cell_type": "markdown",
   "metadata": {
    "id": "1I1z_7Gf2r1y"
   },
   "source": [
    "#### Exploration\n",
    "\n",
    "First check the number of missing data per features and per instances (patient). Don't forget to process both the training and the test sets!"
   ]
  },
  {
   "cell_type": "code",
   "execution_count": 22,
   "metadata": {
    "execution": {
     "iopub.execute_input": "2022-12-29T14:06:07.920678Z",
     "iopub.status.busy": "2022-12-29T14:06:07.920108Z",
     "iopub.status.idle": "2022-12-29T14:06:08.120725Z",
     "shell.execute_reply": "2022-12-29T14:06:08.119443Z",
     "shell.execute_reply.started": "2022-12-29T14:06:07.920605Z"
    },
    "id": "bhLTB4YL9FPE",
    "outputId": "145d8cf2-339b-477a-f45b-9da1575207c9"
   },
   "outputs": [
    {
     "name": "stdout",
     "output_type": "stream",
     "text": [
      "Amount of NaN for each feature\n",
      "TRAIN \n",
      " LANGUAGE : 1\n",
      "TEST \n",
      " LANGUAGE : 2\n",
      "TRAIN \n",
      " MARITAL_STATUS : 1\n",
      "TEST \n",
      " MARITAL_STATUS : 0\n",
      "TRAIN \n",
      " ICU : 2\n",
      "TEST \n",
      " ICU : 0\n",
      "TRAIN \n",
      " ECodes:Adverseeffectsofmedicalcare : 6\n",
      "TEST \n",
      " ECodes:Adverseeffectsofmedicalcare : 3\n",
      "TRAIN \n",
      " Otnutritdx : 2\n",
      "TEST \n",
      " Otnutritdx : 0\n",
      "TRAIN \n",
      " Othnervdx : 1\n",
      "TEST \n",
      " Othnervdx : 0\n"
     ]
    }
   ],
   "source": [
    "# na values\n",
    "print('Amount of NaN for each feature')\n",
    "for feature in x_df.columns.values:\n",
    "    feature_NaN_train = x_df[feature].isna().sum()\n",
    "    feature_NaN_test = x_test_df[feature].isna().sum()\n",
    "    if(feature_NaN_train>0)or (feature_NaN_test>0):\n",
    "      print(f'TRAIN \\n {feature} : {np.round(feature_NaN_train)}')\n",
    "      print(f'TEST \\n {feature} : {np.round(feature_NaN_test)}')\n"
   ]
  },
  {
   "cell_type": "code",
   "execution_count": 23,
   "metadata": {
    "id": "34vSCmk8CU30"
   },
   "outputs": [
    {
     "name": "stdout",
     "output_type": "stream",
     "text": [
      "Row Index, Number of NaN values\n",
      "2251 : 1\n",
      "9983 : 1\n",
      "10549 : 1\n",
      "10831 : 1\n",
      "17012 : 1\n",
      "23088 : 1\n",
      "32539 : 1\n",
      "42762 : 1\n",
      "53191 : 1\n",
      "53390 : 1\n",
      "56772 : 1\n",
      "61852 : 1\n",
      "71511 : 1\n"
     ]
    }
   ],
   "source": [
    "nan_rows = x_df[x_df.isna().any(axis=1)]\n",
    "print(\"Row Index, Number of NaN values\")\n",
    "for i,row in nan_rows.iterrows():\n",
    "    num_NaN = row.isna().sum()\n",
    "    print(i,\":\",num_NaN)"
   ]
  },
  {
   "cell_type": "code",
   "execution_count": 24,
   "metadata": {},
   "outputs": [
    {
     "name": "stdout",
     "output_type": "stream",
     "text": [
      "Row Index, Number of NaN values\n",
      "10033 : 1\n",
      "11561 : 1\n",
      "12912 : 1\n",
      "17306 : 1\n",
      "19532 : 1\n"
     ]
    }
   ],
   "source": [
    "nan_rows = x_test_df[x_test_df.isna().any(axis=1)]\n",
    "print(\"Row Index, Number of NaN values\")\n",
    "for i,row in nan_rows.iterrows():\n",
    "    num_NaN = row.isna().sum()\n",
    "    print(i,\":\",num_NaN)"
   ]
  },
  {
   "cell_type": "markdown",
   "metadata": {
    "id": "Ra2tPKfA2r1z"
   },
   "source": [
    "#### Fixing\n",
    "\n",
    "Now you can apply your chosen strategy"
   ]
  },
  {
   "cell_type": "code",
   "execution_count": 25,
   "metadata": {
    "execution": {
     "iopub.execute_input": "2022-12-29T14:18:28.297750Z",
     "iopub.status.busy": "2022-12-29T14:18:28.297304Z",
     "iopub.status.idle": "2022-12-29T14:18:29.304836Z",
     "shell.execute_reply": "2022-12-29T14:18:29.303521Z",
     "shell.execute_reply.started": "2022-12-29T14:18:28.297716Z"
    },
    "id": "fumspJMxKvSl"
   },
   "outputs": [],
   "source": [
    "for feature in x_df.columns.values:\n",
    "  x_df[feature] = x_df[feature].fillna(x_df[feature].mode()[0])\n",
    "  x_test_df[feature] = x_test_df[feature].fillna(x_test_df[feature].mode()[0])"
   ]
  },
  {
   "cell_type": "markdown",
   "metadata": {
    "id": "vy1YWRk92r1z"
   },
   "source": [
    "#### Removing single-valued variables (constants)"
   ]
  },
  {
   "cell_type": "code",
   "execution_count": 26,
   "metadata": {
    "execution": {
     "iopub.execute_input": "2022-12-29T14:18:29.307671Z",
     "iopub.status.busy": "2022-12-29T14:18:29.307180Z",
     "iopub.status.idle": "2022-12-29T14:18:29.486912Z",
     "shell.execute_reply": "2022-12-29T14:18:29.485756Z",
     "shell.execute_reply.started": "2022-12-29T14:18:29.307606Z"
    }
   },
   "outputs": [],
   "source": [
    "for col in x_df.columns:\n",
    "    if (x_df[col] == x_df[col][0]).all():\n",
    "        x_df = x_df.drop([col], axis=1)\n",
    "        x_test_df = x_test_df.drop([col], axis=1)"
   ]
  },
  {
   "cell_type": "markdown",
   "metadata": {
    "id": "dCuWkUEY2r1z"
   },
   "source": [
    "### Reduce data scarcity (not enough data per class)"
   ]
  },
  {
   "cell_type": "markdown",
   "metadata": {
    "id": "Pdp9Pbof2r1z"
   },
   "source": [
    "For example, you could simplify data by grouping rare categories."
   ]
  },
  {
   "cell_type": "code",
   "execution_count": 27,
   "metadata": {},
   "outputs": [],
   "source": [
    "#Rare features\n",
    "rate = 0.025\n",
    "binary = types[types=='Binary'].index\n",
    "binary = binary.drop('GENDER')\n",
    "binary = binary.intersection(x_df.columns)\n",
    "sum_binary = x_df[binary].sum(axis=0)\n",
    "rare = sum_binary[sum_binary < rate*len(x_df)].index\n",
    "\n",
    "# create new column\n",
    "x_df['rare']=x_df[rare].max(axis=1)\n",
    "x_test_df['rare']=x_test_df[rare].max(axis=1)\n",
    "\n",
    "# drop ecodes\n",
    "x_df.drop(columns = rare, inplace = True)\n",
    "x_test_df.drop(columns = rare, inplace = True)"
   ]
  },
  {
   "cell_type": "markdown",
   "metadata": {
    "id": "3HuXsYT_2r1z"
   },
   "source": [
    "### Transforming categorical data into integers using two types of encoding"
   ]
  },
  {
   "cell_type": "markdown",
   "metadata": {
    "id": "U-vn19gv2r1z"
   },
   "source": [
    "Categorical variables are presented in the form of character strings. Most models will not be able to handle them in such a format.\n",
    "\n",
    "#### Simple digital encoding\n",
    "\n",
    "Two of the simplest methods are `LabelEncoder` from Scikit-Learn and` factorize` from pandas. They simply consist of replacing each new category encountered with an integer, starting with 0. This is perhaps not the most efficient method, since it presupposes proximity between the categories coded with close values."
   ]
  },
  {
   "cell_type": "code",
   "execution_count": 28,
   "metadata": {
    "execution": {
     "iopub.execute_input": "2022-12-29T14:18:30.801799Z",
     "iopub.status.busy": "2022-12-29T14:18:30.800918Z",
     "iopub.status.idle": "2022-12-29T14:18:31.152191Z",
     "shell.execute_reply": "2022-12-29T14:18:31.150973Z",
     "shell.execute_reply.started": "2022-12-29T14:18:30.801763Z"
    }
   },
   "outputs": [],
   "source": [
    "def LabelEncode(data_train, data_test):\n",
    "    le = LabelEncoder()\n",
    "    label_encoded_x_df = data_train.copy()\n",
    "    label_encoded_x_test_df = data_test.copy()\n",
    "    for col in label_encoded_x_df.select_dtypes(include='O').columns:\n",
    "        label_encoded_x_df[col]=le.fit_transform(label_encoded_x_df[col])\n",
    "        label_encoded_x_test_df[col]= le.transform(label_encoded_x_test_df[col])\n",
    "    return label_encoded_x_df,label_encoded_x_test_df\n",
    "\n",
    "label_encoded_x_df,label_encoded_x_test_df = LabelEncode(x_df, x_test_df)"
   ]
  },
  {
   "cell_type": "markdown",
   "metadata": {
    "id": "t8EP3UGp2r1z"
   },
   "source": [
    "#### 1-Hot encoding\n",
    "\n",
    "Another type of encoding is often more efficient, in particular, it has the advantage of not ordering the classes in a particular way (not necessarily in line with the proximity of these classes to each other).\n",
    "\n",
    "A pandas method allows this to be done in 1 line of code with the `get_dummies` function."
   ]
  },
  {
   "cell_type": "markdown",
   "metadata": {
    "id": "E9M8SZYu2r1z"
   },
   "source": [
    "Exemple d'encodage 1-hot avec la fonction `get_dummies` de pandas (pour MARITAL_STATUS) :\n",
    "\n",
    "|    |   DIVORCED |   LIFE_PARTNER |   MARRIED |   SEPARATED |   SINGLE |   UNKNOWN_(DEFAULT) |   WIDOWED |\n",
    "|---:|-----------:|---------------:|----------:|------------:|---------:|--------------------:|----------:|\n",
    "|  0 |          1 |              0 |         0 |           0 |        0 |                   0 |         0 |\n",
    "|  1 |          0 |              0 |         0 |           0 |        1 |                   0 |         0 |\n",
    "|  2 |          0 |              0 |         0 |           0 |        0 |                   0 |         1 |\n",
    "|  3 |          0 |              0 |         1 |           0 |        0 |                   0 |         0 |\n",
    "|  4 |          0 |              0 |         1 |           0 |        0 |                   0 |         0 |"
   ]
  },
  {
   "cell_type": "code",
   "execution_count": 29,
   "metadata": {
    "execution": {
     "iopub.execute_input": "2022-12-29T14:18:31.154956Z",
     "iopub.status.busy": "2022-12-29T14:18:31.154471Z",
     "iopub.status.idle": "2022-12-29T14:18:33.617128Z",
     "shell.execute_reply": "2022-12-29T14:18:33.615736Z",
     "shell.execute_reply.started": "2022-12-29T14:18:31.154916Z"
    }
   },
   "outputs": [],
   "source": [
    "\n",
    "from sklearn.compose import ColumnTransformer\n",
    "from sklearn.preprocessing import OneHotEncoder\n",
    "def OneHotEncode(data_train,data_test):\n",
    "    one_hot_x_df=data_train.copy()\n",
    "    one_hot_x_test_df = data_test.copy()\n",
    "    tot_cat = 0\n",
    "    for col in one_hot_x_df.select_dtypes(include='O').columns:\n",
    "        ohe = OneHotEncoder()\n",
    "        transformed_train = ohe.fit_transform(one_hot_x_df[[col]])\n",
    "        transformed_test = ohe.transform(one_hot_x_test_df[[col]])\n",
    "        for category in ohe.categories_:\n",
    "            one_hot_x_df[category] = transformed_train.toarray()\n",
    "            one_hot_x_test_df[category] = transformed_test.toarray()\n",
    "        one_hot_x_df= one_hot_x_df.drop(columns=col)\n",
    "        one_hot_x_test_df= one_hot_x_test_df.drop(columns=col)\n",
    "    return one_hot_x_df,one_hot_x_test_df\n",
    "\n",
    "one_hot_x_df,one_hot_x_test_df = OneHotEncode(x_df, x_test_df)"
   ]
  },
  {
   "cell_type": "markdown",
   "metadata": {
    "id": "5Asob9sI2r1z"
   },
   "source": [
    "You can choose your preferred way of encoding the categorical data."
   ]
  },
  {
   "cell_type": "markdown",
   "metadata": {
    "id": "Nmz6N2kv2r10"
   },
   "source": [
    "### Size reduction via PCA"
   ]
  },
  {
   "cell_type": "markdown",
   "metadata": {
    "id": "mXhamnY32r10"
   },
   "source": [
    "Test the PCA to reduce the number of dimensions and see if this improves the result.\n",
    "\n",
    "Before applying the PCA, it is advisable to standardize the data."
   ]
  },
  {
   "cell_type": "code",
   "execution_count": 30,
   "metadata": {
    "execution": {
     "iopub.execute_input": "2022-12-29T14:18:35.070468Z",
     "iopub.status.busy": "2022-12-29T14:18:35.070042Z",
     "iopub.status.idle": "2022-12-29T14:18:38.042849Z",
     "shell.execute_reply": "2022-12-29T14:18:38.041606Z",
     "shell.execute_reply.started": "2022-12-29T14:18:35.070432Z"
    }
   },
   "outputs": [],
   "source": [
    "def standardizeData(data_train, data_test):\n",
    "    standardized_df =data_train.copy()\n",
    "    standardized_test_df =data_test.copy()\n",
    "    for col in x_df.select_dtypes(include='number').columns:\n",
    "        if(standardized_df[col].std()!=0):\n",
    "            standardized_df[col] = (standardized_df[col] - standardized_df[col].mean())/standardized_df[col].std()\n",
    "        if(standardized_test_df[col].std()!=0):\n",
    "            standardized_test_df[col] = (standardized_test_df[col] - standardized_test_df[col].mean())/standardized_test_df[col].std()\n",
    "    return standardized_df, standardized_test_df\n",
    "standardized_df, standardized_test_df = standardizeData(one_hot_x_df,one_hot_x_test_df)"
   ]
  },
  {
   "cell_type": "code",
   "execution_count": 31,
   "metadata": {
    "execution": {
     "iopub.execute_input": "2022-12-29T14:36:54.958570Z",
     "iopub.status.busy": "2022-12-29T14:36:54.957727Z",
     "iopub.status.idle": "2022-12-29T14:36:59.115767Z",
     "shell.execute_reply": "2022-12-29T14:36:59.114700Z",
     "shell.execute_reply.started": "2022-12-29T14:36:54.958529Z"
    }
   },
   "outputs": [],
   "source": [
    "def applyPCA(components, data_train, data_test):\n",
    "    N_COMP = components\n",
    "\n",
    "    pca = decomposition.PCA(n_components=N_COMP)\n",
    "    xps_train = pca.fit_transform(data_train)\n",
    "    xps_test = pca.transform(data_test)\n",
    "    return xps_train,xps_test\n",
    "xps_train,xps_test = applyPCA(10,standardized_df, standardized_test_df)\n"
   ]
  },
  {
   "cell_type": "markdown",
   "metadata": {
    "id": "SycVgtqr2r10"
   },
   "source": [
    "Print a graph that represents the first 2 dimensions of PCA and comment briefly."
   ]
  },
  {
   "cell_type": "code",
   "execution_count": 32,
   "metadata": {},
   "outputs": [
    {
     "data": {
      "image/png": "[encoded data removed]",
      "text/plain": [
       "<Figure size 640x480 with 1 Axes>"
      ]
     },
     "metadata": {},
     "output_type": "display_data"
    }
   ],
   "source": [
    "import matplotlib.pyplot as plt\n",
    "plt.scatter(xps_train[:,0], xps_train[:,1], c=ys)\n",
    "plt.show()"
   ]
  },
  {
   "cell_type": "markdown",
   "metadata": {
    "id": "eXb9R9YW2r1z"
   },
   "source": [
    "### Creation of the validation set"
   ]
  },
  {
   "cell_type": "code",
   "execution_count": 33,
   "metadata": {
    "execution": {
     "iopub.execute_input": "2022-12-29T14:18:33.619907Z",
     "iopub.status.busy": "2022-12-29T14:18:33.619355Z",
     "iopub.status.idle": "2022-12-29T14:18:34.011145Z",
     "shell.execute_reply": "2022-12-29T14:18:34.009990Z",
     "shell.execute_reply.started": "2022-12-29T14:18:33.619858Z"
    },
    "id": "_D7UkmNz2r10"
   },
   "outputs": [],
   "source": [
    "x_train, x_valid, y_train, y_valid = model_selection.train_test_split(\n",
    "    xps_train, ys, test_size=0.2\n",
    ")"
   ]
  },
  {
   "cell_type": "markdown",
   "metadata": {
    "id": "J4w3VsMk2r10"
   },
   "source": [
    "## 5. Classification models\n",
    "\n",
    "Train the model"
   ]
  },
  {
   "cell_type": "markdown",
   "metadata": {
    "id": "yjqzmvUN2r10"
   },
   "source": [
    "### Baseline\n",
    "\n",
    "`LogisticRegression` or `RandomForestClassifier`"
   ]
  },
  {
   "cell_type": "code",
   "execution_count": 34,
   "metadata": {
    "execution": {
     "iopub.execute_input": "2022-12-29T14:06:34.834891Z",
     "iopub.status.busy": "2022-12-29T14:06:34.834395Z",
     "iopub.status.idle": "2022-12-29T14:06:34.914006Z",
     "shell.execute_reply": "2022-12-29T14:06:34.912977Z",
     "shell.execute_reply.started": "2022-12-29T14:06:34.834853Z"
    },
    "id": "IjfRCDJB2r10"
   },
   "outputs": [],
   "source": [
    "SCORINGS = \"balanced_accuracy\""
   ]
  },
  {
   "cell_type": "code",
   "execution_count": 35,
   "metadata": {
    "execution": {
     "iopub.execute_input": "2022-12-29T14:06:34.915829Z",
     "iopub.status.busy": "2022-12-29T14:06:34.915458Z",
     "iopub.status.idle": "2022-12-29T14:06:40.508905Z",
     "shell.execute_reply": "2022-12-29T14:06:40.507514Z",
     "shell.execute_reply.started": "2022-12-29T14:06:34.915798Z"
    },
    "id": "SFeJfMBF2r10",
    "outputId": "cec7eb85-5df9-46e8-fffa-89077617e074"
   },
   "outputs": [
    {
     "data": {
      "text/html": [
       "<style>#sk-container-id-1 {color: black;background-color: white;}#sk-container-id-1 pre{padding: 0;}#sk-container-id-1 div.sk-toggleable {background-color: white;}#sk-container-id-1 label.sk-toggleable__label {cursor: pointer;display: block;width: 100%;margin-bottom: 0;padding: 0.3em;box-sizing: border-box;text-align: center;}#sk-container-id-1 label.sk-toggleable__label-arrow:before {content: \"▸\";float: left;margin-right: 0.25em;color: #696969;}#sk-container-id-1 label.sk-toggleable__label-arrow:hover:before {color: black;}#sk-container-id-1 div.sk-estimator:hover label.sk-toggleable__label-arrow:before {color: black;}#sk-container-id-1 div.sk-toggleable__content {max-height: 0;max-width: 0;overflow: hidden;text-align: left;background-color: #f0f8ff;}#sk-container-id-1 div.sk-toggleable__content pre {margin: 0.2em;color: black;border-radius: 0.25em;background-color: #f0f8ff;}#sk-container-id-1 input.sk-toggleable__control:checked~div.sk-toggleable__content {max-height: 200px;max-width: 100%;overflow: auto;}#sk-container-id-1 input.sk-toggleable__control:checked~label.sk-toggleable__label-arrow:before {content: \"▾\";}#sk-container-id-1 div.sk-estimator input.sk-toggleable__control:checked~label.sk-toggleable__label {background-color: #d4ebff;}#sk-container-id-1 div.sk-label input.sk-toggleable__control:checked~label.sk-toggleable__label {background-color: #d4ebff;}#sk-container-id-1 input.sk-hidden--visually {border: 0;clip: rect(1px 1px 1px 1px);clip: rect(1px, 1px, 1px, 1px);height: 1px;margin: -1px;overflow: hidden;padding: 0;position: absolute;width: 1px;}#sk-container-id-1 div.sk-estimator {font-family: monospace;background-color: #f0f8ff;border: 1px dotted black;border-radius: 0.25em;box-sizing: border-box;margin-bottom: 0.5em;}#sk-container-id-1 div.sk-estimator:hover {background-color: #d4ebff;}#sk-container-id-1 div.sk-parallel-item::after {content: \"\";width: 100%;border-bottom: 1px solid gray;flex-grow: 1;}#sk-container-id-1 div.sk-label:hover label.sk-toggleable__label {background-color: #d4ebff;}#sk-container-id-1 div.sk-serial::before {content: \"\";position: absolute;border-left: 1px solid gray;box-sizing: border-box;top: 0;bottom: 0;left: 50%;z-index: 0;}#sk-container-id-1 div.sk-serial {display: flex;flex-direction: column;align-items: center;background-color: white;padding-right: 0.2em;padding-left: 0.2em;position: relative;}#sk-container-id-1 div.sk-item {position: relative;z-index: 1;}#sk-container-id-1 div.sk-parallel {display: flex;align-items: stretch;justify-content: center;background-color: white;position: relative;}#sk-container-id-1 div.sk-item::before, #sk-container-id-1 div.sk-parallel-item::before {content: \"\";position: absolute;border-left: 1px solid gray;box-sizing: border-box;top: 0;bottom: 0;left: 50%;z-index: -1;}#sk-container-id-1 div.sk-parallel-item {display: flex;flex-direction: column;z-index: 1;position: relative;background-color: white;}#sk-container-id-1 div.sk-parallel-item:first-child::after {align-self: flex-end;width: 50%;}#sk-container-id-1 div.sk-parallel-item:last-child::after {align-self: flex-start;width: 50%;}#sk-container-id-1 div.sk-parallel-item:only-child::after {width: 0;}#sk-container-id-1 div.sk-dashed-wrapped {border: 1px dashed gray;margin: 0 0.4em 0.5em 0.4em;box-sizing: border-box;padding-bottom: 0.4em;background-color: white;}#sk-container-id-1 div.sk-label label {font-family: monospace;font-weight: bold;display: inline-block;line-height: 1.2em;}#sk-container-id-1 div.sk-label-container {text-align: center;}#sk-container-id-1 div.sk-container {/* jupyter's `normalize.less` sets `[hidden] { display: none; }` but bootstrap.min.css set `[hidden] { display: none !important; }` so we also need the `!important` here to be able to override the default hidden behavior on the sphinx rendered scikit-learn.org. See: https://github.com/scikit-learn/scikit-learn/issues/21755 */display: inline-block !important;position: relative;}#sk-container-id-1 div.sk-text-repr-fallback {display: none;}</style><div id=\"sk-container-id-1\" class=\"sk-top-container\"><div class=\"sk-text-repr-fallback\"><pre>RandomForestClassifier(n_estimators=10)</pre><b>In a Jupyter environment, please rerun this cell to show the HTML representation or trust the notebook. <br />On GitHub, the HTML representation is unable to render, please try loading this page with nbviewer.org.</b></div><div class=\"sk-container\" hidden><div class=\"sk-item\"><div class=\"sk-estimator sk-toggleable\"><input class=\"sk-toggleable__control sk-hidden--visually\" id=\"sk-estimator-id-1\" type=\"checkbox\" checked><label for=\"sk-estimator-id-1\" class=\"sk-toggleable__label sk-toggleable__label-arrow\">RandomForestClassifier</label><div class=\"sk-toggleable__content\"><pre>RandomForestClassifier(n_estimators=10)</pre></div></div></div></div></div>"
      ],
      "text/plain": [
       "RandomForestClassifier(n_estimators=10)"
      ]
     },
     "execution_count": 35,
     "metadata": {},
     "output_type": "execute_result"
    }
   ],
   "source": [
    "model_RFC = ensemble.RandomForestClassifier(n_estimators=10)\n",
    "\n",
    "model_RFC.fit(x_train, y_train)  # training"
   ]
  },
  {
   "cell_type": "code",
   "execution_count": 36,
   "metadata": {},
   "outputs": [
    {
     "data": {
      "text/html": [
       "<style>#sk-container-id-2 {color: black;background-color: white;}#sk-container-id-2 pre{padding: 0;}#sk-container-id-2 div.sk-toggleable {background-color: white;}#sk-container-id-2 label.sk-toggleable__label {cursor: pointer;display: block;width: 100%;margin-bottom: 0;padding: 0.3em;box-sizing: border-box;text-align: center;}#sk-container-id-2 label.sk-toggleable__label-arrow:before {content: \"▸\";float: left;margin-right: 0.25em;color: #696969;}#sk-container-id-2 label.sk-toggleable__label-arrow:hover:before {color: black;}#sk-container-id-2 div.sk-estimator:hover label.sk-toggleable__label-arrow:before {color: black;}#sk-container-id-2 div.sk-toggleable__content {max-height: 0;max-width: 0;overflow: hidden;text-align: left;background-color: #f0f8ff;}#sk-container-id-2 div.sk-toggleable__content pre {margin: 0.2em;color: black;border-radius: 0.25em;background-color: #f0f8ff;}#sk-container-id-2 input.sk-toggleable__control:checked~div.sk-toggleable__content {max-height: 200px;max-width: 100%;overflow: auto;}#sk-container-id-2 input.sk-toggleable__control:checked~label.sk-toggleable__label-arrow:before {content: \"▾\";}#sk-container-id-2 div.sk-estimator input.sk-toggleable__control:checked~label.sk-toggleable__label {background-color: #d4ebff;}#sk-container-id-2 div.sk-label input.sk-toggleable__control:checked~label.sk-toggleable__label {background-color: #d4ebff;}#sk-container-id-2 input.sk-hidden--visually {border: 0;clip: rect(1px 1px 1px 1px);clip: rect(1px, 1px, 1px, 1px);height: 1px;margin: -1px;overflow: hidden;padding: 0;position: absolute;width: 1px;}#sk-container-id-2 div.sk-estimator {font-family: monospace;background-color: #f0f8ff;border: 1px dotted black;border-radius: 0.25em;box-sizing: border-box;margin-bottom: 0.5em;}#sk-container-id-2 div.sk-estimator:hover {background-color: #d4ebff;}#sk-container-id-2 div.sk-parallel-item::after {content: \"\";width: 100%;border-bottom: 1px solid gray;flex-grow: 1;}#sk-container-id-2 div.sk-label:hover label.sk-toggleable__label {background-color: #d4ebff;}#sk-container-id-2 div.sk-serial::before {content: \"\";position: absolute;border-left: 1px solid gray;box-sizing: border-box;top: 0;bottom: 0;left: 50%;z-index: 0;}#sk-container-id-2 div.sk-serial {display: flex;flex-direction: column;align-items: center;background-color: white;padding-right: 0.2em;padding-left: 0.2em;position: relative;}#sk-container-id-2 div.sk-item {position: relative;z-index: 1;}#sk-container-id-2 div.sk-parallel {display: flex;align-items: stretch;justify-content: center;background-color: white;position: relative;}#sk-container-id-2 div.sk-item::before, #sk-container-id-2 div.sk-parallel-item::before {content: \"\";position: absolute;border-left: 1px solid gray;box-sizing: border-box;top: 0;bottom: 0;left: 50%;z-index: -1;}#sk-container-id-2 div.sk-parallel-item {display: flex;flex-direction: column;z-index: 1;position: relative;background-color: white;}#sk-container-id-2 div.sk-parallel-item:first-child::after {align-self: flex-end;width: 50%;}#sk-container-id-2 div.sk-parallel-item:last-child::after {align-self: flex-start;width: 50%;}#sk-container-id-2 div.sk-parallel-item:only-child::after {width: 0;}#sk-container-id-2 div.sk-dashed-wrapped {border: 1px dashed gray;margin: 0 0.4em 0.5em 0.4em;box-sizing: border-box;padding-bottom: 0.4em;background-color: white;}#sk-container-id-2 div.sk-label label {font-family: monospace;font-weight: bold;display: inline-block;line-height: 1.2em;}#sk-container-id-2 div.sk-label-container {text-align: center;}#sk-container-id-2 div.sk-container {/* jupyter's `normalize.less` sets `[hidden] { display: none; }` but bootstrap.min.css set `[hidden] { display: none !important; }` so we also need the `!important` here to be able to override the default hidden behavior on the sphinx rendered scikit-learn.org. See: https://github.com/scikit-learn/scikit-learn/issues/21755 */display: inline-block !important;position: relative;}#sk-container-id-2 div.sk-text-repr-fallback {display: none;}</style><div id=\"sk-container-id-2\" class=\"sk-top-container\"><div class=\"sk-text-repr-fallback\"><pre>SVC()</pre><b>In a Jupyter environment, please rerun this cell to show the HTML representation or trust the notebook. <br />On GitHub, the HTML representation is unable to render, please try loading this page with nbviewer.org.</b></div><div class=\"sk-container\" hidden><div class=\"sk-item\"><div class=\"sk-estimator sk-toggleable\"><input class=\"sk-toggleable__control sk-hidden--visually\" id=\"sk-estimator-id-2\" type=\"checkbox\" checked><label for=\"sk-estimator-id-2\" class=\"sk-toggleable__label sk-toggleable__label-arrow\">SVC</label><div class=\"sk-toggleable__content\"><pre>SVC()</pre></div></div></div></div></div>"
      ],
      "text/plain": [
       "SVC()"
      ]
     },
     "execution_count": 36,
     "metadata": {},
     "output_type": "execute_result"
    }
   ],
   "source": [
    "# SVM\n",
    "model_SVM = svm.SVC()\n",
    "model_SVM.fit(x_train, y_train)"
   ]
  },
  {
   "cell_type": "code",
   "execution_count": 37,
   "metadata": {},
   "outputs": [
    {
     "data": {
      "text/html": [
       "<style>#sk-container-id-3 {color: black;background-color: white;}#sk-container-id-3 pre{padding: 0;}#sk-container-id-3 div.sk-toggleable {background-color: white;}#sk-container-id-3 label.sk-toggleable__label {cursor: pointer;display: block;width: 100%;margin-bottom: 0;padding: 0.3em;box-sizing: border-box;text-align: center;}#sk-container-id-3 label.sk-toggleable__label-arrow:before {content: \"▸\";float: left;margin-right: 0.25em;color: #696969;}#sk-container-id-3 label.sk-toggleable__label-arrow:hover:before {color: black;}#sk-container-id-3 div.sk-estimator:hover label.sk-toggleable__label-arrow:before {color: black;}#sk-container-id-3 div.sk-toggleable__content {max-height: 0;max-width: 0;overflow: hidden;text-align: left;background-color: #f0f8ff;}#sk-container-id-3 div.sk-toggleable__content pre {margin: 0.2em;color: black;border-radius: 0.25em;background-color: #f0f8ff;}#sk-container-id-3 input.sk-toggleable__control:checked~div.sk-toggleable__content {max-height: 200px;max-width: 100%;overflow: auto;}#sk-container-id-3 input.sk-toggleable__control:checked~label.sk-toggleable__label-arrow:before {content: \"▾\";}#sk-container-id-3 div.sk-estimator input.sk-toggleable__control:checked~label.sk-toggleable__label {background-color: #d4ebff;}#sk-container-id-3 div.sk-label input.sk-toggleable__control:checked~label.sk-toggleable__label {background-color: #d4ebff;}#sk-container-id-3 input.sk-hidden--visually {border: 0;clip: rect(1px 1px 1px 1px);clip: rect(1px, 1px, 1px, 1px);height: 1px;margin: -1px;overflow: hidden;padding: 0;position: absolute;width: 1px;}#sk-container-id-3 div.sk-estimator {font-family: monospace;background-color: #f0f8ff;border: 1px dotted black;border-radius: 0.25em;box-sizing: border-box;margin-bottom: 0.5em;}#sk-container-id-3 div.sk-estimator:hover {background-color: #d4ebff;}#sk-container-id-3 div.sk-parallel-item::after {content: \"\";width: 100%;border-bottom: 1px solid gray;flex-grow: 1;}#sk-container-id-3 div.sk-label:hover label.sk-toggleable__label {background-color: #d4ebff;}#sk-container-id-3 div.sk-serial::before {content: \"\";position: absolute;border-left: 1px solid gray;box-sizing: border-box;top: 0;bottom: 0;left: 50%;z-index: 0;}#sk-container-id-3 div.sk-serial {display: flex;flex-direction: column;align-items: center;background-color: white;padding-right: 0.2em;padding-left: 0.2em;position: relative;}#sk-container-id-3 div.sk-item {position: relative;z-index: 1;}#sk-container-id-3 div.sk-parallel {display: flex;align-items: stretch;justify-content: center;background-color: white;position: relative;}#sk-container-id-3 div.sk-item::before, #sk-container-id-3 div.sk-parallel-item::before {content: \"\";position: absolute;border-left: 1px solid gray;box-sizing: border-box;top: 0;bottom: 0;left: 50%;z-index: -1;}#sk-container-id-3 div.sk-parallel-item {display: flex;flex-direction: column;z-index: 1;position: relative;background-color: white;}#sk-container-id-3 div.sk-parallel-item:first-child::after {align-self: flex-end;width: 50%;}#sk-container-id-3 div.sk-parallel-item:last-child::after {align-self: flex-start;width: 50%;}#sk-container-id-3 div.sk-parallel-item:only-child::after {width: 0;}#sk-container-id-3 div.sk-dashed-wrapped {border: 1px dashed gray;margin: 0 0.4em 0.5em 0.4em;box-sizing: border-box;padding-bottom: 0.4em;background-color: white;}#sk-container-id-3 div.sk-label label {font-family: monospace;font-weight: bold;display: inline-block;line-height: 1.2em;}#sk-container-id-3 div.sk-label-container {text-align: center;}#sk-container-id-3 div.sk-container {/* jupyter's `normalize.less` sets `[hidden] { display: none; }` but bootstrap.min.css set `[hidden] { display: none !important; }` so we also need the `!important` here to be able to override the default hidden behavior on the sphinx rendered scikit-learn.org. See: https://github.com/scikit-learn/scikit-learn/issues/21755 */display: inline-block !important;position: relative;}#sk-container-id-3 div.sk-text-repr-fallback {display: none;}</style><div id=\"sk-container-id-3\" class=\"sk-top-container\"><div class=\"sk-text-repr-fallback\"><pre>GaussianNB()</pre><b>In a Jupyter environment, please rerun this cell to show the HTML representation or trust the notebook. <br />On GitHub, the HTML representation is unable to render, please try loading this page with nbviewer.org.</b></div><div class=\"sk-container\" hidden><div class=\"sk-item\"><div class=\"sk-estimator sk-toggleable\"><input class=\"sk-toggleable__control sk-hidden--visually\" id=\"sk-estimator-id-3\" type=\"checkbox\" checked><label for=\"sk-estimator-id-3\" class=\"sk-toggleable__label sk-toggleable__label-arrow\">GaussianNB</label><div class=\"sk-toggleable__content\"><pre>GaussianNB()</pre></div></div></div></div></div>"
      ],
      "text/plain": [
       "GaussianNB()"
      ]
     },
     "execution_count": 37,
     "metadata": {},
     "output_type": "execute_result"
    }
   ],
   "source": [
    "from sklearn.naive_bayes import GaussianNB\n",
    "# GaussianNB\n",
    "model_gnb = GaussianNB()\n",
    "model_gnb.fit(x_train, y_train)"
   ]
  },
  {
   "cell_type": "markdown",
   "metadata": {
    "id": "bntpJLIb2r10"
   },
   "source": [
    "## 6. Evaluations"
   ]
  },
  {
   "cell_type": "code",
   "execution_count": 38,
   "metadata": {
    "execution": {
     "iopub.execute_input": "2022-12-29T14:06:40.511073Z",
     "iopub.status.busy": "2022-12-29T14:06:40.510690Z",
     "iopub.status.idle": "2022-12-29T14:06:40.710401Z",
     "shell.execute_reply": "2022-12-29T14:06:40.709169Z",
     "shell.execute_reply.started": "2022-12-29T14:06:40.511042Z"
    },
    "id": "oDPC5wdv2r10",
    "outputId": "db823cbb-7221-4602-9ad6-2ad7bb03a670"
   },
   "outputs": [
    {
     "name": "stdout",
     "output_type": "stream",
     "text": [
      "Balanced accuracy score: 0.503\n"
     ]
    }
   ],
   "source": [
    "y_pred = model_RFC.predict(x_valid)  # predictions\n",
    "\n",
    "score = metrics.balanced_accuracy_score(y_valid, y_pred)  # scoring\n",
    "\n",
    "print(f\"Balanced accuracy score: {score:.3g}\")"
   ]
  },
  {
   "cell_type": "code",
   "execution_count": 39,
   "metadata": {},
   "outputs": [
    {
     "name": "stdout",
     "output_type": "stream",
     "text": [
      "Balanced accuracy score: 0.5\n"
     ]
    }
   ],
   "source": [
    "# SVM\n",
    "y_pred_SVM = model_SVM.predict(x_valid)  # predictions\n",
    "\n",
    "score_SVM = metrics.balanced_accuracy_score(y_valid, y_pred_SVM)  # scoring\n",
    "\n",
    "print(f\"Balanced accuracy score: {score_SVM:.3g}\")"
   ]
  },
  {
   "cell_type": "code",
   "execution_count": 40,
   "metadata": {},
   "outputs": [
    {
     "name": "stdout",
     "output_type": "stream",
     "text": [
      "Balanced accuracy score: 0.503\n"
     ]
    }
   ],
   "source": [
    "# GaussianNB\n",
    "\n",
    "y_pred_gnb = model_gnb.predict(x_valid)  # predictions\n",
    "\n",
    "score_gnb = metrics.balanced_accuracy_score(y_valid, y_pred_gnb)  # scoring\n",
    "\n",
    "print(f\"Balanced accuracy score: {score_gnb:.3g}\")"
   ]
  },
  {
   "cell_type": "markdown",
   "metadata": {
    "id": "Qk1L6DCR2r10"
   },
   "source": [
    "### Code: Cross-validation\n",
    "\n",
    "Use cross-validation (to get a more reliable estimate) combined with an exploration of hyperparameters (to improve results).\n",
    "\n",
    "You can change the value of the cross-validation number (CV) depending on the error value and the time to train the models (compromise)."
   ]
  },
  {
   "cell_type": "code",
   "execution_count": 41,
   "metadata": {},
   "outputs": [],
   "source": [
    "def LabelEncode(data):\n",
    "    le = LabelEncoder()\n",
    "    label_encoded_x_df = data.copy()\n",
    "    for col in label_encoded_x_df.select_dtypes(include='O').columns:\n",
    "        label_encoded_x_df[col]=le.fit_transform(label_encoded_x_df[col])\n",
    "    return label_encoded_x_df"
   ]
  },
  {
   "cell_type": "code",
   "execution_count": 42,
   "metadata": {},
   "outputs": [],
   "source": [
    "def OneHotEncode(data):\n",
    "    one_hot_x_df=data.copy()\n",
    "    for col in one_hot_x_df.select_dtypes(include='O').columns:\n",
    "        ohe = OneHotEncoder()\n",
    "        transformed_train = ohe.fit_transform(one_hot_x_df[[col]])\n",
    "        for category in ohe.categories_:\n",
    "            one_hot_x_df[category] = transformed_train.toarray()\n",
    "        one_hot_x_df= one_hot_x_df.drop(columns=col)\n",
    "    return one_hot_x_df"
   ]
  },
  {
   "cell_type": "code",
   "execution_count": 43,
   "metadata": {},
   "outputs": [],
   "source": [
    "def standardizeData(data):\n",
    "    standardized_df =data.copy()\n",
    "    for col in x_df.select_dtypes(include='number').columns:\n",
    "        if(standardized_df[col].std()!=0):\n",
    "            standardized_df[col] = (standardized_df[col] - standardized_df[col].mean())/standardized_df[col].std()\n",
    "    return standardized_df"
   ]
  },
  {
   "cell_type": "code",
   "execution_count": 44,
   "metadata": {},
   "outputs": [],
   "source": [
    "def processData(encoding,data):\n",
    "    if(encoding == \"ordinal\"):\n",
    "            processedData_train= LabelEncode(data)\n",
    "    elif(encoding == \"onehot\"):\n",
    "            processedData_train  = OneHotEncode(data)\n",
    "    else: \n",
    "        return None\n",
    "    processedData_train= standardizeData(processedData_train)\n",
    "    return processedData_train"
   ]
  },
  {
   "cell_type": "code",
   "execution_count": 45,
   "metadata": {},
   "outputs": [],
   "source": [
    "x_train_CV, x_valid_CV, y_train_CV, y_valid_CV = model_selection.train_test_split(\n",
    "    x_df, ys, test_size=0.2\n",
    ")"
   ]
  },
  {
   "cell_type": "code",
   "execution_count": 46,
   "metadata": {},
   "outputs": [
    {
     "name": "stdout",
     "output_type": "stream",
     "text": [
      "Fitting 5 folds for each of 6 candidates, totalling 30 fits\n",
      "Fitting 5 folds for each of 6 candidates, totalling 30 fits\n"
     ]
    }
   ],
   "source": [
    "CV = 5\n",
    "SCORING = \"balanced_accuracy\"\n",
    "param_grid = {\"pca__n_components\": [2, 4, 8, 16, 32, 64]}\n",
    "\n",
    "x_le_train_CV = processData(\"ordinal\", x_train_CV)\n",
    "x_ohe_train_CV = processData(\"onehot\", x_train_CV)\n",
    "\n",
    "pca = decomposition.PCA()\n",
    "model_gnb_cv = model_gnb\n",
    "pipe = pipeline.Pipeline(steps=[(\"pca\", pca), (\"model\", model_gnb_cv)])\n",
    "\n",
    "search = model_selection.GridSearchCV(\n",
    "    pipe, param_grid, n_jobs=-1, scoring=SCORINGS, verbose=1, cv=CV\n",
    ")\n",
    "CV_GNB_LE = search.fit(x_le_train_CV, y_train_CV)\n",
    "CV_GNB_OHE = search.fit(x_ohe_train_CV, y_train_CV)"
   ]
  },
  {
   "cell_type": "code",
   "execution_count": 47,
   "metadata": {
    "execution": {
     "iopub.execute_input": "2022-12-29T14:06:40.712503Z",
     "iopub.status.busy": "2022-12-29T14:06:40.711764Z",
     "iopub.status.idle": "2022-12-29T14:06:40.790129Z",
     "shell.execute_reply": "2022-12-29T14:06:40.789005Z",
     "shell.execute_reply.started": "2022-12-29T14:06:40.712460Z"
    },
    "id": "LXyq4pAU2r11",
    "tags": []
   },
   "outputs": [
    {
     "name": "stdout",
     "output_type": "stream",
     "text": [
      "Fitting 5 folds for each of 20 candidates, totalling 100 fits\n",
      "Fitting 5 folds for each of 20 candidates, totalling 100 fits\n"
     ]
    }
   ],
   "source": [
    "param_grid = {\"pca__n_components\": [8, 16, 32, 64],\n",
    "              \"model__n_estimators\": [ 4, 8, 16, 32, 64]}\n",
    "\n",
    "pca = decomposition.PCA()\n",
    "model_RFC_cv = model_RFC\n",
    "pipe = pipeline.Pipeline(steps=[(\"pca\", pca), (\"model\", model_RFC_cv)])\n",
    "\n",
    "search = model_selection.GridSearchCV(\n",
    "    pipe, param_grid, n_jobs=-1, scoring=SCORINGS, verbose=1, cv=CV\n",
    ")\n",
    "CV_RFC_LE = search.fit(x_le_train_CV, y_train_CV)\n",
    "CV_RFC_OHE = search.fit(x_ohe_train_CV, y_train_CV)"
   ]
  },
  {
   "cell_type": "code",
   "execution_count": 48,
   "metadata": {},
   "outputs": [
    {
     "name": "stdout",
     "output_type": "stream",
     "text": [
      "Best parameter (CV score: 0.551)\n",
      "{'pca__n_components': 64}\n"
     ]
    },
    {
     "data": {
      "text/html": [
       "<div>\n",
       "<style scoped>\n",
       "    .dataframe tbody tr th:only-of-type {\n",
       "        vertical-align: middle;\n",
       "    }\n",
       "\n",
       "    .dataframe tbody tr th {\n",
       "        vertical-align: top;\n",
       "    }\n",
       "\n",
       "    .dataframe thead th {\n",
       "        text-align: right;\n",
       "    }\n",
       "</style>\n",
       "<table border=\"1\" class=\"dataframe\">\n",
       "  <thead>\n",
       "    <tr style=\"text-align: right;\">\n",
       "      <th></th>\n",
       "      <th>mean_fit_time</th>\n",
       "      <th>std_fit_time</th>\n",
       "      <th>mean_score_time</th>\n",
       "      <th>std_score_time</th>\n",
       "      <th>param_pca__n_components</th>\n",
       "      <th>params</th>\n",
       "      <th>split0_test_score</th>\n",
       "      <th>split1_test_score</th>\n",
       "      <th>split2_test_score</th>\n",
       "      <th>split3_test_score</th>\n",
       "      <th>split4_test_score</th>\n",
       "      <th>mean_test_score</th>\n",
       "      <th>std_test_score</th>\n",
       "      <th>rank_test_score</th>\n",
       "    </tr>\n",
       "  </thead>\n",
       "  <tbody>\n",
       "    <tr>\n",
       "      <th>0</th>\n",
       "      <td>1.7</td>\n",
       "      <td>0.33</td>\n",
       "      <td>0.076</td>\n",
       "      <td>0.016</td>\n",
       "      <td>2</td>\n",
       "      <td>{'pca__n_components': 2}</td>\n",
       "      <td>0.5</td>\n",
       "      <td>0.5</td>\n",
       "      <td>0.5</td>\n",
       "      <td>0.5</td>\n",
       "      <td>0.5</td>\n",
       "      <td>0.5</td>\n",
       "      <td>0.00011</td>\n",
       "      <td>6</td>\n",
       "    </tr>\n",
       "    <tr>\n",
       "      <th>1</th>\n",
       "      <td>2</td>\n",
       "      <td>0.07</td>\n",
       "      <td>0.084</td>\n",
       "      <td>0.0077</td>\n",
       "      <td>4</td>\n",
       "      <td>{'pca__n_components': 4}</td>\n",
       "      <td>0.5</td>\n",
       "      <td>0.5</td>\n",
       "      <td>0.5</td>\n",
       "      <td>0.5</td>\n",
       "      <td>0.5</td>\n",
       "      <td>0.5</td>\n",
       "      <td>0.00071</td>\n",
       "      <td>5</td>\n",
       "    </tr>\n",
       "    <tr>\n",
       "      <th>2</th>\n",
       "      <td>2.7</td>\n",
       "      <td>0.38</td>\n",
       "      <td>0.1</td>\n",
       "      <td>0.015</td>\n",
       "      <td>8</td>\n",
       "      <td>{'pca__n_components': 8}</td>\n",
       "      <td>0.5</td>\n",
       "      <td>0.5</td>\n",
       "      <td>0.5</td>\n",
       "      <td>0.5</td>\n",
       "      <td>0.5</td>\n",
       "      <td>0.5</td>\n",
       "      <td>0.0021</td>\n",
       "      <td>4</td>\n",
       "    </tr>\n",
       "    <tr>\n",
       "      <th>3</th>\n",
       "      <td>3.7</td>\n",
       "      <td>0.17</td>\n",
       "      <td>0.16</td>\n",
       "      <td>0.037</td>\n",
       "      <td>16</td>\n",
       "      <td>{'pca__n_components': 16}</td>\n",
       "      <td>0.51</td>\n",
       "      <td>0.5</td>\n",
       "      <td>0.5</td>\n",
       "      <td>0.51</td>\n",
       "      <td>0.51</td>\n",
       "      <td>0.51</td>\n",
       "      <td>0.0039</td>\n",
       "      <td>3</td>\n",
       "    </tr>\n",
       "    <tr>\n",
       "      <th>4</th>\n",
       "      <td>4.7</td>\n",
       "      <td>0.31</td>\n",
       "      <td>0.22</td>\n",
       "      <td>0.028</td>\n",
       "      <td>32</td>\n",
       "      <td>{'pca__n_components': 32}</td>\n",
       "      <td>0.52</td>\n",
       "      <td>0.51</td>\n",
       "      <td>0.53</td>\n",
       "      <td>0.53</td>\n",
       "      <td>0.53</td>\n",
       "      <td>0.52</td>\n",
       "      <td>0.0054</td>\n",
       "      <td>2</td>\n",
       "    </tr>\n",
       "    <tr>\n",
       "      <th>5</th>\n",
       "      <td>5.4</td>\n",
       "      <td>0.5</td>\n",
       "      <td>0.14</td>\n",
       "      <td>0.05</td>\n",
       "      <td>64</td>\n",
       "      <td>{'pca__n_components': 64}</td>\n",
       "      <td>0.55</td>\n",
       "      <td>0.55</td>\n",
       "      <td>0.55</td>\n",
       "      <td>0.55</td>\n",
       "      <td>0.55</td>\n",
       "      <td>0.55</td>\n",
       "      <td>0.002</td>\n",
       "      <td>1</td>\n",
       "    </tr>\n",
       "  </tbody>\n",
       "</table>\n",
       "</div>"
      ],
      "text/plain": [
       "   mean_fit_time  std_fit_time  mean_score_time  std_score_time  \\\n",
       "0            1.7          0.33            0.076           0.016   \n",
       "1              2          0.07            0.084          0.0077   \n",
       "2            2.7          0.38              0.1           0.015   \n",
       "3            3.7          0.17             0.16           0.037   \n",
       "4            4.7          0.31             0.22           0.028   \n",
       "5            5.4           0.5             0.14            0.05   \n",
       "\n",
       "  param_pca__n_components                     params  split0_test_score  \\\n",
       "0                       2   {'pca__n_components': 2}                0.5   \n",
       "1                       4   {'pca__n_components': 4}                0.5   \n",
       "2                       8   {'pca__n_components': 8}                0.5   \n",
       "3                      16  {'pca__n_components': 16}               0.51   \n",
       "4                      32  {'pca__n_components': 32}               0.52   \n",
       "5                      64  {'pca__n_components': 64}               0.55   \n",
       "\n",
       "   split1_test_score  split2_test_score  split3_test_score  split4_test_score  \\\n",
       "0                0.5                0.5                0.5                0.5   \n",
       "1                0.5                0.5                0.5                0.5   \n",
       "2                0.5                0.5                0.5                0.5   \n",
       "3                0.5                0.5               0.51               0.51   \n",
       "4               0.51               0.53               0.53               0.53   \n",
       "5               0.55               0.55               0.55               0.55   \n",
       "\n",
       "   mean_test_score  std_test_score  rank_test_score  \n",
       "0              0.5         0.00011                6  \n",
       "1              0.5         0.00071                5  \n",
       "2              0.5          0.0021                4  \n",
       "3             0.51          0.0039                3  \n",
       "4             0.52          0.0054                2  \n",
       "5             0.55           0.002                1  "
      ]
     },
     "metadata": {},
     "output_type": "display_data"
    }
   ],
   "source": [
    "print(f\"Best parameter (CV score: {CV_GNB_LE .best_score_:.3f})\")\n",
    "print(CV_GNB_LE.best_params_)\n",
    "cv_results_df = pd.DataFrame(CV_GNB_LE .cv_results_)\n",
    "with pd.option_context(\"display.float_format\", \"{:.2g}\".format):\n",
    "    display(cv_results_df)"
   ]
  },
  {
   "cell_type": "code",
   "execution_count": 49,
   "metadata": {},
   "outputs": [
    {
     "name": "stdout",
     "output_type": "stream",
     "text": [
      "Best parameter (CV score: 0.551)\n",
      "{'pca__n_components': 64}\n"
     ]
    },
    {
     "data": {
      "text/html": [
       "<div>\n",
       "<style scoped>\n",
       "    .dataframe tbody tr th:only-of-type {\n",
       "        vertical-align: middle;\n",
       "    }\n",
       "\n",
       "    .dataframe tbody tr th {\n",
       "        vertical-align: top;\n",
       "    }\n",
       "\n",
       "    .dataframe thead th {\n",
       "        text-align: right;\n",
       "    }\n",
       "</style>\n",
       "<table border=\"1\" class=\"dataframe\">\n",
       "  <thead>\n",
       "    <tr style=\"text-align: right;\">\n",
       "      <th></th>\n",
       "      <th>mean_fit_time</th>\n",
       "      <th>std_fit_time</th>\n",
       "      <th>mean_score_time</th>\n",
       "      <th>std_score_time</th>\n",
       "      <th>param_pca__n_components</th>\n",
       "      <th>params</th>\n",
       "      <th>split0_test_score</th>\n",
       "      <th>split1_test_score</th>\n",
       "      <th>split2_test_score</th>\n",
       "      <th>split3_test_score</th>\n",
       "      <th>split4_test_score</th>\n",
       "      <th>mean_test_score</th>\n",
       "      <th>std_test_score</th>\n",
       "      <th>rank_test_score</th>\n",
       "    </tr>\n",
       "  </thead>\n",
       "  <tbody>\n",
       "    <tr>\n",
       "      <th>0</th>\n",
       "      <td>1.7</td>\n",
       "      <td>0.33</td>\n",
       "      <td>0.076</td>\n",
       "      <td>0.016</td>\n",
       "      <td>2</td>\n",
       "      <td>{'pca__n_components': 2}</td>\n",
       "      <td>0.5</td>\n",
       "      <td>0.5</td>\n",
       "      <td>0.5</td>\n",
       "      <td>0.5</td>\n",
       "      <td>0.5</td>\n",
       "      <td>0.5</td>\n",
       "      <td>0.00011</td>\n",
       "      <td>6</td>\n",
       "    </tr>\n",
       "    <tr>\n",
       "      <th>1</th>\n",
       "      <td>2</td>\n",
       "      <td>0.07</td>\n",
       "      <td>0.084</td>\n",
       "      <td>0.0077</td>\n",
       "      <td>4</td>\n",
       "      <td>{'pca__n_components': 4}</td>\n",
       "      <td>0.5</td>\n",
       "      <td>0.5</td>\n",
       "      <td>0.5</td>\n",
       "      <td>0.5</td>\n",
       "      <td>0.5</td>\n",
       "      <td>0.5</td>\n",
       "      <td>0.00071</td>\n",
       "      <td>5</td>\n",
       "    </tr>\n",
       "    <tr>\n",
       "      <th>2</th>\n",
       "      <td>2.7</td>\n",
       "      <td>0.38</td>\n",
       "      <td>0.1</td>\n",
       "      <td>0.015</td>\n",
       "      <td>8</td>\n",
       "      <td>{'pca__n_components': 8}</td>\n",
       "      <td>0.5</td>\n",
       "      <td>0.5</td>\n",
       "      <td>0.5</td>\n",
       "      <td>0.5</td>\n",
       "      <td>0.5</td>\n",
       "      <td>0.5</td>\n",
       "      <td>0.0021</td>\n",
       "      <td>4</td>\n",
       "    </tr>\n",
       "    <tr>\n",
       "      <th>3</th>\n",
       "      <td>3.7</td>\n",
       "      <td>0.17</td>\n",
       "      <td>0.16</td>\n",
       "      <td>0.037</td>\n",
       "      <td>16</td>\n",
       "      <td>{'pca__n_components': 16}</td>\n",
       "      <td>0.51</td>\n",
       "      <td>0.5</td>\n",
       "      <td>0.5</td>\n",
       "      <td>0.51</td>\n",
       "      <td>0.51</td>\n",
       "      <td>0.51</td>\n",
       "      <td>0.0039</td>\n",
       "      <td>3</td>\n",
       "    </tr>\n",
       "    <tr>\n",
       "      <th>4</th>\n",
       "      <td>4.7</td>\n",
       "      <td>0.31</td>\n",
       "      <td>0.22</td>\n",
       "      <td>0.028</td>\n",
       "      <td>32</td>\n",
       "      <td>{'pca__n_components': 32}</td>\n",
       "      <td>0.52</td>\n",
       "      <td>0.51</td>\n",
       "      <td>0.53</td>\n",
       "      <td>0.53</td>\n",
       "      <td>0.53</td>\n",
       "      <td>0.52</td>\n",
       "      <td>0.0054</td>\n",
       "      <td>2</td>\n",
       "    </tr>\n",
       "    <tr>\n",
       "      <th>5</th>\n",
       "      <td>5.4</td>\n",
       "      <td>0.5</td>\n",
       "      <td>0.14</td>\n",
       "      <td>0.05</td>\n",
       "      <td>64</td>\n",
       "      <td>{'pca__n_components': 64}</td>\n",
       "      <td>0.55</td>\n",
       "      <td>0.55</td>\n",
       "      <td>0.55</td>\n",
       "      <td>0.55</td>\n",
       "      <td>0.55</td>\n",
       "      <td>0.55</td>\n",
       "      <td>0.002</td>\n",
       "      <td>1</td>\n",
       "    </tr>\n",
       "  </tbody>\n",
       "</table>\n",
       "</div>"
      ],
      "text/plain": [
       "   mean_fit_time  std_fit_time  mean_score_time  std_score_time  \\\n",
       "0            1.7          0.33            0.076           0.016   \n",
       "1              2          0.07            0.084          0.0077   \n",
       "2            2.7          0.38              0.1           0.015   \n",
       "3            3.7          0.17             0.16           0.037   \n",
       "4            4.7          0.31             0.22           0.028   \n",
       "5            5.4           0.5             0.14            0.05   \n",
       "\n",
       "  param_pca__n_components                     params  split0_test_score  \\\n",
       "0                       2   {'pca__n_components': 2}                0.5   \n",
       "1                       4   {'pca__n_components': 4}                0.5   \n",
       "2                       8   {'pca__n_components': 8}                0.5   \n",
       "3                      16  {'pca__n_components': 16}               0.51   \n",
       "4                      32  {'pca__n_components': 32}               0.52   \n",
       "5                      64  {'pca__n_components': 64}               0.55   \n",
       "\n",
       "   split1_test_score  split2_test_score  split3_test_score  split4_test_score  \\\n",
       "0                0.5                0.5                0.5                0.5   \n",
       "1                0.5                0.5                0.5                0.5   \n",
       "2                0.5                0.5                0.5                0.5   \n",
       "3                0.5                0.5               0.51               0.51   \n",
       "4               0.51               0.53               0.53               0.53   \n",
       "5               0.55               0.55               0.55               0.55   \n",
       "\n",
       "   mean_test_score  std_test_score  rank_test_score  \n",
       "0              0.5         0.00011                6  \n",
       "1              0.5         0.00071                5  \n",
       "2              0.5          0.0021                4  \n",
       "3             0.51          0.0039                3  \n",
       "4             0.52          0.0054                2  \n",
       "5             0.55           0.002                1  "
      ]
     },
     "metadata": {},
     "output_type": "display_data"
    }
   ],
   "source": [
    "print(f\"Best parameter (CV score: {CV_GNB_OHE .best_score_:.3f})\")\n",
    "print(CV_GNB_OHE.best_params_)\n",
    "cv_results_df = pd.DataFrame(CV_GNB_OHE .cv_results_)\n",
    "with pd.option_context(\"display.float_format\", \"{:.2g}\".format):\n",
    "    display(cv_results_df)"
   ]
  },
  {
   "cell_type": "code",
   "execution_count": 50,
   "metadata": {},
   "outputs": [
    {
     "name": "stdout",
     "output_type": "stream",
     "text": [
      "Best parameter (CV score: 0.502)\n",
      "{'model__n_estimators': 4, 'pca__n_components': 16}\n"
     ]
    },
    {
     "data": {
      "text/html": [
       "<div>\n",
       "<style scoped>\n",
       "    .dataframe tbody tr th:only-of-type {\n",
       "        vertical-align: middle;\n",
       "    }\n",
       "\n",
       "    .dataframe tbody tr th {\n",
       "        vertical-align: top;\n",
       "    }\n",
       "\n",
       "    .dataframe thead th {\n",
       "        text-align: right;\n",
       "    }\n",
       "</style>\n",
       "<table border=\"1\" class=\"dataframe\">\n",
       "  <thead>\n",
       "    <tr style=\"text-align: right;\">\n",
       "      <th></th>\n",
       "      <th>mean_fit_time</th>\n",
       "      <th>std_fit_time</th>\n",
       "      <th>mean_score_time</th>\n",
       "      <th>std_score_time</th>\n",
       "      <th>param_model__n_estimators</th>\n",
       "      <th>param_pca__n_components</th>\n",
       "      <th>params</th>\n",
       "      <th>split0_test_score</th>\n",
       "      <th>split1_test_score</th>\n",
       "      <th>split2_test_score</th>\n",
       "      <th>split3_test_score</th>\n",
       "      <th>split4_test_score</th>\n",
       "      <th>mean_test_score</th>\n",
       "      <th>std_test_score</th>\n",
       "      <th>rank_test_score</th>\n",
       "    </tr>\n",
       "  </thead>\n",
       "  <tbody>\n",
       "    <tr>\n",
       "      <th>0</th>\n",
       "      <td>7.9</td>\n",
       "      <td>0.65</td>\n",
       "      <td>0.12</td>\n",
       "      <td>0.011</td>\n",
       "      <td>4</td>\n",
       "      <td>8</td>\n",
       "      <td>{'model__n_estimators': 4, 'pca__n_components'...</td>\n",
       "      <td>0.5</td>\n",
       "      <td>0.5</td>\n",
       "      <td>0.5</td>\n",
       "      <td>0.5</td>\n",
       "      <td>0.5</td>\n",
       "      <td>0.5</td>\n",
       "      <td>0.0014</td>\n",
       "      <td>2</td>\n",
       "    </tr>\n",
       "    <tr>\n",
       "      <th>1</th>\n",
       "      <td>10</td>\n",
       "      <td>1.9</td>\n",
       "      <td>0.12</td>\n",
       "      <td>0.039</td>\n",
       "      <td>4</td>\n",
       "      <td>16</td>\n",
       "      <td>{'model__n_estimators': 4, 'pca__n_components'...</td>\n",
       "      <td>0.5</td>\n",
       "      <td>0.5</td>\n",
       "      <td>0.5</td>\n",
       "      <td>0.5</td>\n",
       "      <td>0.5</td>\n",
       "      <td>0.5</td>\n",
       "      <td>0.0014</td>\n",
       "      <td>1</td>\n",
       "    </tr>\n",
       "    <tr>\n",
       "      <th>2</th>\n",
       "      <td>9.8</td>\n",
       "      <td>1.3</td>\n",
       "      <td>0.31</td>\n",
       "      <td>0.14</td>\n",
       "      <td>4</td>\n",
       "      <td>32</td>\n",
       "      <td>{'model__n_estimators': 4, 'pca__n_components'...</td>\n",
       "      <td>0.5</td>\n",
       "      <td>0.5</td>\n",
       "      <td>0.5</td>\n",
       "      <td>0.5</td>\n",
       "      <td>0.5</td>\n",
       "      <td>0.5</td>\n",
       "      <td>0.0014</td>\n",
       "      <td>3</td>\n",
       "    </tr>\n",
       "    <tr>\n",
       "      <th>3</th>\n",
       "      <td>20</td>\n",
       "      <td>0.61</td>\n",
       "      <td>0.16</td>\n",
       "      <td>0.052</td>\n",
       "      <td>4</td>\n",
       "      <td>64</td>\n",
       "      <td>{'model__n_estimators': 4, 'pca__n_components'...</td>\n",
       "      <td>0.5</td>\n",
       "      <td>0.5</td>\n",
       "      <td>0.5</td>\n",
       "      <td>0.5</td>\n",
       "      <td>0.5</td>\n",
       "      <td>0.5</td>\n",
       "      <td>0.0018</td>\n",
       "      <td>4</td>\n",
       "    </tr>\n",
       "    <tr>\n",
       "      <th>4</th>\n",
       "      <td>7.1</td>\n",
       "      <td>0.48</td>\n",
       "      <td>0.13</td>\n",
       "      <td>0.054</td>\n",
       "      <td>8</td>\n",
       "      <td>8</td>\n",
       "      <td>{'model__n_estimators': 8, 'pca__n_components'...</td>\n",
       "      <td>0.5</td>\n",
       "      <td>0.5</td>\n",
       "      <td>0.5</td>\n",
       "      <td>0.5</td>\n",
       "      <td>0.5</td>\n",
       "      <td>0.5</td>\n",
       "      <td>0.0013</td>\n",
       "      <td>8</td>\n",
       "    </tr>\n",
       "    <tr>\n",
       "      <th>5</th>\n",
       "      <td>10</td>\n",
       "      <td>0.28</td>\n",
       "      <td>0.12</td>\n",
       "      <td>0.023</td>\n",
       "      <td>8</td>\n",
       "      <td>16</td>\n",
       "      <td>{'model__n_estimators': 8, 'pca__n_components'...</td>\n",
       "      <td>0.5</td>\n",
       "      <td>0.5</td>\n",
       "      <td>0.5</td>\n",
       "      <td>0.5</td>\n",
       "      <td>0.5</td>\n",
       "      <td>0.5</td>\n",
       "      <td>0.00095</td>\n",
       "      <td>5</td>\n",
       "    </tr>\n",
       "    <tr>\n",
       "      <th>6</th>\n",
       "      <td>13</td>\n",
       "      <td>0.63</td>\n",
       "      <td>0.13</td>\n",
       "      <td>0.013</td>\n",
       "      <td>8</td>\n",
       "      <td>32</td>\n",
       "      <td>{'model__n_estimators': 8, 'pca__n_components'...</td>\n",
       "      <td>0.5</td>\n",
       "      <td>0.5</td>\n",
       "      <td>0.5</td>\n",
       "      <td>0.5</td>\n",
       "      <td>0.5</td>\n",
       "      <td>0.5</td>\n",
       "      <td>0.00089</td>\n",
       "      <td>7</td>\n",
       "    </tr>\n",
       "    <tr>\n",
       "      <th>7</th>\n",
       "      <td>20</td>\n",
       "      <td>0.79</td>\n",
       "      <td>0.15</td>\n",
       "      <td>0.022</td>\n",
       "      <td>8</td>\n",
       "      <td>64</td>\n",
       "      <td>{'model__n_estimators': 8, 'pca__n_components'...</td>\n",
       "      <td>0.5</td>\n",
       "      <td>0.5</td>\n",
       "      <td>0.5</td>\n",
       "      <td>0.5</td>\n",
       "      <td>0.5</td>\n",
       "      <td>0.5</td>\n",
       "      <td>0.0004</td>\n",
       "      <td>6</td>\n",
       "    </tr>\n",
       "    <tr>\n",
       "      <th>8</th>\n",
       "      <td>7.8</td>\n",
       "      <td>0.33</td>\n",
       "      <td>0.15</td>\n",
       "      <td>0.013</td>\n",
       "      <td>16</td>\n",
       "      <td>8</td>\n",
       "      <td>{'model__n_estimators': 16, 'pca__n_components...</td>\n",
       "      <td>0.5</td>\n",
       "      <td>0.5</td>\n",
       "      <td>0.5</td>\n",
       "      <td>0.5</td>\n",
       "      <td>0.5</td>\n",
       "      <td>0.5</td>\n",
       "      <td>0.00049</td>\n",
       "      <td>12</td>\n",
       "    </tr>\n",
       "    <tr>\n",
       "      <th>9</th>\n",
       "      <td>18</td>\n",
       "      <td>0.55</td>\n",
       "      <td>0.2</td>\n",
       "      <td>0.032</td>\n",
       "      <td>16</td>\n",
       "      <td>16</td>\n",
       "      <td>{'model__n_estimators': 16, 'pca__n_components...</td>\n",
       "      <td>0.5</td>\n",
       "      <td>0.5</td>\n",
       "      <td>0.5</td>\n",
       "      <td>0.5</td>\n",
       "      <td>0.5</td>\n",
       "      <td>0.5</td>\n",
       "      <td>0.00046</td>\n",
       "      <td>11</td>\n",
       "    </tr>\n",
       "    <tr>\n",
       "      <th>10</th>\n",
       "      <td>24</td>\n",
       "      <td>1.2</td>\n",
       "      <td>0.21</td>\n",
       "      <td>0.086</td>\n",
       "      <td>16</td>\n",
       "      <td>32</td>\n",
       "      <td>{'model__n_estimators': 16, 'pca__n_components...</td>\n",
       "      <td>0.5</td>\n",
       "      <td>0.5</td>\n",
       "      <td>0.5</td>\n",
       "      <td>0.5</td>\n",
       "      <td>0.5</td>\n",
       "      <td>0.5</td>\n",
       "      <td>0.00042</td>\n",
       "      <td>10</td>\n",
       "    </tr>\n",
       "    <tr>\n",
       "      <th>11</th>\n",
       "      <td>45</td>\n",
       "      <td>1.7</td>\n",
       "      <td>0.22</td>\n",
       "      <td>0.022</td>\n",
       "      <td>16</td>\n",
       "      <td>64</td>\n",
       "      <td>{'model__n_estimators': 16, 'pca__n_components...</td>\n",
       "      <td>0.5</td>\n",
       "      <td>0.5</td>\n",
       "      <td>0.5</td>\n",
       "      <td>0.5</td>\n",
       "      <td>0.5</td>\n",
       "      <td>0.5</td>\n",
       "      <td>2e-05</td>\n",
       "      <td>19</td>\n",
       "    </tr>\n",
       "    <tr>\n",
       "      <th>12</th>\n",
       "      <td>18</td>\n",
       "      <td>1.2</td>\n",
       "      <td>0.31</td>\n",
       "      <td>0.04</td>\n",
       "      <td>32</td>\n",
       "      <td>8</td>\n",
       "      <td>{'model__n_estimators': 32, 'pca__n_components...</td>\n",
       "      <td>0.5</td>\n",
       "      <td>0.5</td>\n",
       "      <td>0.5</td>\n",
       "      <td>0.5</td>\n",
       "      <td>0.5</td>\n",
       "      <td>0.5</td>\n",
       "      <td>2.6e-05</td>\n",
       "      <td>20</td>\n",
       "    </tr>\n",
       "    <tr>\n",
       "      <th>13</th>\n",
       "      <td>30</td>\n",
       "      <td>1.4</td>\n",
       "      <td>0.25</td>\n",
       "      <td>0.033</td>\n",
       "      <td>32</td>\n",
       "      <td>16</td>\n",
       "      <td>{'model__n_estimators': 32, 'pca__n_components...</td>\n",
       "      <td>0.5</td>\n",
       "      <td>0.5</td>\n",
       "      <td>0.5</td>\n",
       "      <td>0.5</td>\n",
       "      <td>0.5</td>\n",
       "      <td>0.5</td>\n",
       "      <td>0.00046</td>\n",
       "      <td>9</td>\n",
       "    </tr>\n",
       "    <tr>\n",
       "      <th>14</th>\n",
       "      <td>37</td>\n",
       "      <td>1.7</td>\n",
       "      <td>0.26</td>\n",
       "      <td>0.016</td>\n",
       "      <td>32</td>\n",
       "      <td>32</td>\n",
       "      <td>{'model__n_estimators': 32, 'pca__n_components...</td>\n",
       "      <td>0.5</td>\n",
       "      <td>0.5</td>\n",
       "      <td>0.5</td>\n",
       "      <td>0.5</td>\n",
       "      <td>0.5</td>\n",
       "      <td>0.5</td>\n",
       "      <td>1.6e-05</td>\n",
       "      <td>18</td>\n",
       "    </tr>\n",
       "    <tr>\n",
       "      <th>15</th>\n",
       "      <td>70</td>\n",
       "      <td>1.1</td>\n",
       "      <td>0.32</td>\n",
       "      <td>0.043</td>\n",
       "      <td>32</td>\n",
       "      <td>64</td>\n",
       "      <td>{'model__n_estimators': 32, 'pca__n_components...</td>\n",
       "      <td>0.5</td>\n",
       "      <td>0.5</td>\n",
       "      <td>0.5</td>\n",
       "      <td>0.5</td>\n",
       "      <td>0.5</td>\n",
       "      <td>0.5</td>\n",
       "      <td>0</td>\n",
       "      <td>13</td>\n",
       "    </tr>\n",
       "    <tr>\n",
       "      <th>16</th>\n",
       "      <td>26</td>\n",
       "      <td>0.57</td>\n",
       "      <td>0.47</td>\n",
       "      <td>0.058</td>\n",
       "      <td>64</td>\n",
       "      <td>8</td>\n",
       "      <td>{'model__n_estimators': 64, 'pca__n_components...</td>\n",
       "      <td>0.5</td>\n",
       "      <td>0.5</td>\n",
       "      <td>0.5</td>\n",
       "      <td>0.5</td>\n",
       "      <td>0.5</td>\n",
       "      <td>0.5</td>\n",
       "      <td>1.6e-05</td>\n",
       "      <td>17</td>\n",
       "    </tr>\n",
       "    <tr>\n",
       "      <th>17</th>\n",
       "      <td>54</td>\n",
       "      <td>1.3</td>\n",
       "      <td>0.45</td>\n",
       "      <td>0.033</td>\n",
       "      <td>64</td>\n",
       "      <td>16</td>\n",
       "      <td>{'model__n_estimators': 64, 'pca__n_components...</td>\n",
       "      <td>0.5</td>\n",
       "      <td>0.5</td>\n",
       "      <td>0.5</td>\n",
       "      <td>0.5</td>\n",
       "      <td>0.5</td>\n",
       "      <td>0.5</td>\n",
       "      <td>0</td>\n",
       "      <td>13</td>\n",
       "    </tr>\n",
       "    <tr>\n",
       "      <th>18</th>\n",
       "      <td>73</td>\n",
       "      <td>2.2</td>\n",
       "      <td>0.53</td>\n",
       "      <td>0.14</td>\n",
       "      <td>64</td>\n",
       "      <td>32</td>\n",
       "      <td>{'model__n_estimators': 64, 'pca__n_components...</td>\n",
       "      <td>0.5</td>\n",
       "      <td>0.5</td>\n",
       "      <td>0.5</td>\n",
       "      <td>0.5</td>\n",
       "      <td>0.5</td>\n",
       "      <td>0.5</td>\n",
       "      <td>0</td>\n",
       "      <td>13</td>\n",
       "    </tr>\n",
       "    <tr>\n",
       "      <th>19</th>\n",
       "      <td>1.1e+02</td>\n",
       "      <td>8.8</td>\n",
       "      <td>0.28</td>\n",
       "      <td>0.047</td>\n",
       "      <td>64</td>\n",
       "      <td>64</td>\n",
       "      <td>{'model__n_estimators': 64, 'pca__n_components...</td>\n",
       "      <td>0.5</td>\n",
       "      <td>0.5</td>\n",
       "      <td>0.5</td>\n",
       "      <td>0.5</td>\n",
       "      <td>0.5</td>\n",
       "      <td>0.5</td>\n",
       "      <td>0</td>\n",
       "      <td>13</td>\n",
       "    </tr>\n",
       "  </tbody>\n",
       "</table>\n",
       "</div>"
      ],
      "text/plain": [
       "    mean_fit_time  std_fit_time  mean_score_time  std_score_time  \\\n",
       "0             7.9          0.65             0.12           0.011   \n",
       "1              10           1.9             0.12           0.039   \n",
       "2             9.8           1.3             0.31            0.14   \n",
       "3              20          0.61             0.16           0.052   \n",
       "4             7.1          0.48             0.13           0.054   \n",
       "5              10          0.28             0.12           0.023   \n",
       "6              13          0.63             0.13           0.013   \n",
       "7              20          0.79             0.15           0.022   \n",
       "8             7.8          0.33             0.15           0.013   \n",
       "9              18          0.55              0.2           0.032   \n",
       "10             24           1.2             0.21           0.086   \n",
       "11             45           1.7             0.22           0.022   \n",
       "12             18           1.2             0.31            0.04   \n",
       "13             30           1.4             0.25           0.033   \n",
       "14             37           1.7             0.26           0.016   \n",
       "15             70           1.1             0.32           0.043   \n",
       "16             26          0.57             0.47           0.058   \n",
       "17             54           1.3             0.45           0.033   \n",
       "18             73           2.2             0.53            0.14   \n",
       "19        1.1e+02           8.8             0.28           0.047   \n",
       "\n",
       "   param_model__n_estimators param_pca__n_components  \\\n",
       "0                          4                       8   \n",
       "1                          4                      16   \n",
       "2                          4                      32   \n",
       "3                          4                      64   \n",
       "4                          8                       8   \n",
       "5                          8                      16   \n",
       "6                          8                      32   \n",
       "7                          8                      64   \n",
       "8                         16                       8   \n",
       "9                         16                      16   \n",
       "10                        16                      32   \n",
       "11                        16                      64   \n",
       "12                        32                       8   \n",
       "13                        32                      16   \n",
       "14                        32                      32   \n",
       "15                        32                      64   \n",
       "16                        64                       8   \n",
       "17                        64                      16   \n",
       "18                        64                      32   \n",
       "19                        64                      64   \n",
       "\n",
       "                                               params  split0_test_score  \\\n",
       "0   {'model__n_estimators': 4, 'pca__n_components'...                0.5   \n",
       "1   {'model__n_estimators': 4, 'pca__n_components'...                0.5   \n",
       "2   {'model__n_estimators': 4, 'pca__n_components'...                0.5   \n",
       "3   {'model__n_estimators': 4, 'pca__n_components'...                0.5   \n",
       "4   {'model__n_estimators': 8, 'pca__n_components'...                0.5   \n",
       "5   {'model__n_estimators': 8, 'pca__n_components'...                0.5   \n",
       "6   {'model__n_estimators': 8, 'pca__n_components'...                0.5   \n",
       "7   {'model__n_estimators': 8, 'pca__n_components'...                0.5   \n",
       "8   {'model__n_estimators': 16, 'pca__n_components...                0.5   \n",
       "9   {'model__n_estimators': 16, 'pca__n_components...                0.5   \n",
       "10  {'model__n_estimators': 16, 'pca__n_components...                0.5   \n",
       "11  {'model__n_estimators': 16, 'pca__n_components...                0.5   \n",
       "12  {'model__n_estimators': 32, 'pca__n_components...                0.5   \n",
       "13  {'model__n_estimators': 32, 'pca__n_components...                0.5   \n",
       "14  {'model__n_estimators': 32, 'pca__n_components...                0.5   \n",
       "15  {'model__n_estimators': 32, 'pca__n_components...                0.5   \n",
       "16  {'model__n_estimators': 64, 'pca__n_components...                0.5   \n",
       "17  {'model__n_estimators': 64, 'pca__n_components...                0.5   \n",
       "18  {'model__n_estimators': 64, 'pca__n_components...                0.5   \n",
       "19  {'model__n_estimators': 64, 'pca__n_components...                0.5   \n",
       "\n",
       "    split1_test_score  split2_test_score  split3_test_score  \\\n",
       "0                 0.5                0.5                0.5   \n",
       "1                 0.5                0.5                0.5   \n",
       "2                 0.5                0.5                0.5   \n",
       "3                 0.5                0.5                0.5   \n",
       "4                 0.5                0.5                0.5   \n",
       "5                 0.5                0.5                0.5   \n",
       "6                 0.5                0.5                0.5   \n",
       "7                 0.5                0.5                0.5   \n",
       "8                 0.5                0.5                0.5   \n",
       "9                 0.5                0.5                0.5   \n",
       "10                0.5                0.5                0.5   \n",
       "11                0.5                0.5                0.5   \n",
       "12                0.5                0.5                0.5   \n",
       "13                0.5                0.5                0.5   \n",
       "14                0.5                0.5                0.5   \n",
       "15                0.5                0.5                0.5   \n",
       "16                0.5                0.5                0.5   \n",
       "17                0.5                0.5                0.5   \n",
       "18                0.5                0.5                0.5   \n",
       "19                0.5                0.5                0.5   \n",
       "\n",
       "    split4_test_score  mean_test_score  std_test_score  rank_test_score  \n",
       "0                 0.5              0.5          0.0014                2  \n",
       "1                 0.5              0.5          0.0014                1  \n",
       "2                 0.5              0.5          0.0014                3  \n",
       "3                 0.5              0.5          0.0018                4  \n",
       "4                 0.5              0.5          0.0013                8  \n",
       "5                 0.5              0.5         0.00095                5  \n",
       "6                 0.5              0.5         0.00089                7  \n",
       "7                 0.5              0.5          0.0004                6  \n",
       "8                 0.5              0.5         0.00049               12  \n",
       "9                 0.5              0.5         0.00046               11  \n",
       "10                0.5              0.5         0.00042               10  \n",
       "11                0.5              0.5           2e-05               19  \n",
       "12                0.5              0.5         2.6e-05               20  \n",
       "13                0.5              0.5         0.00046                9  \n",
       "14                0.5              0.5         1.6e-05               18  \n",
       "15                0.5              0.5               0               13  \n",
       "16                0.5              0.5         1.6e-05               17  \n",
       "17                0.5              0.5               0               13  \n",
       "18                0.5              0.5               0               13  \n",
       "19                0.5              0.5               0               13  "
      ]
     },
     "metadata": {},
     "output_type": "display_data"
    }
   ],
   "source": [
    "print(f\"Best parameter (CV score: {CV_RFC_LE .best_score_:.3f})\")\n",
    "print(CV_RFC_LE.best_params_)\n",
    "cv_results_df = pd.DataFrame(CV_RFC_LE .cv_results_)\n",
    "with pd.option_context(\"display.float_format\", \"{:.2g}\".format):\n",
    "    display(cv_results_df)"
   ]
  },
  {
   "cell_type": "code",
   "execution_count": 51,
   "metadata": {},
   "outputs": [
    {
     "name": "stdout",
     "output_type": "stream",
     "text": [
      "Best parameter (CV score: 0.502)\n",
      "{'model__n_estimators': 4, 'pca__n_components': 16}\n"
     ]
    },
    {
     "data": {
      "text/html": [
       "<div>\n",
       "<style scoped>\n",
       "    .dataframe tbody tr th:only-of-type {\n",
       "        vertical-align: middle;\n",
       "    }\n",
       "\n",
       "    .dataframe tbody tr th {\n",
       "        vertical-align: top;\n",
       "    }\n",
       "\n",
       "    .dataframe thead th {\n",
       "        text-align: right;\n",
       "    }\n",
       "</style>\n",
       "<table border=\"1\" class=\"dataframe\">\n",
       "  <thead>\n",
       "    <tr style=\"text-align: right;\">\n",
       "      <th></th>\n",
       "      <th>mean_fit_time</th>\n",
       "      <th>std_fit_time</th>\n",
       "      <th>mean_score_time</th>\n",
       "      <th>std_score_time</th>\n",
       "      <th>param_model__n_estimators</th>\n",
       "      <th>param_pca__n_components</th>\n",
       "      <th>params</th>\n",
       "      <th>split0_test_score</th>\n",
       "      <th>split1_test_score</th>\n",
       "      <th>split2_test_score</th>\n",
       "      <th>split3_test_score</th>\n",
       "      <th>split4_test_score</th>\n",
       "      <th>mean_test_score</th>\n",
       "      <th>std_test_score</th>\n",
       "      <th>rank_test_score</th>\n",
       "    </tr>\n",
       "  </thead>\n",
       "  <tbody>\n",
       "    <tr>\n",
       "      <th>0</th>\n",
       "      <td>7.9</td>\n",
       "      <td>0.65</td>\n",
       "      <td>0.12</td>\n",
       "      <td>0.011</td>\n",
       "      <td>4</td>\n",
       "      <td>8</td>\n",
       "      <td>{'model__n_estimators': 4, 'pca__n_components'...</td>\n",
       "      <td>0.5</td>\n",
       "      <td>0.5</td>\n",
       "      <td>0.5</td>\n",
       "      <td>0.5</td>\n",
       "      <td>0.5</td>\n",
       "      <td>0.5</td>\n",
       "      <td>0.0014</td>\n",
       "      <td>2</td>\n",
       "    </tr>\n",
       "    <tr>\n",
       "      <th>1</th>\n",
       "      <td>10</td>\n",
       "      <td>1.9</td>\n",
       "      <td>0.12</td>\n",
       "      <td>0.039</td>\n",
       "      <td>4</td>\n",
       "      <td>16</td>\n",
       "      <td>{'model__n_estimators': 4, 'pca__n_components'...</td>\n",
       "      <td>0.5</td>\n",
       "      <td>0.5</td>\n",
       "      <td>0.5</td>\n",
       "      <td>0.5</td>\n",
       "      <td>0.5</td>\n",
       "      <td>0.5</td>\n",
       "      <td>0.0014</td>\n",
       "      <td>1</td>\n",
       "    </tr>\n",
       "    <tr>\n",
       "      <th>2</th>\n",
       "      <td>9.8</td>\n",
       "      <td>1.3</td>\n",
       "      <td>0.31</td>\n",
       "      <td>0.14</td>\n",
       "      <td>4</td>\n",
       "      <td>32</td>\n",
       "      <td>{'model__n_estimators': 4, 'pca__n_components'...</td>\n",
       "      <td>0.5</td>\n",
       "      <td>0.5</td>\n",
       "      <td>0.5</td>\n",
       "      <td>0.5</td>\n",
       "      <td>0.5</td>\n",
       "      <td>0.5</td>\n",
       "      <td>0.0014</td>\n",
       "      <td>3</td>\n",
       "    </tr>\n",
       "    <tr>\n",
       "      <th>3</th>\n",
       "      <td>20</td>\n",
       "      <td>0.61</td>\n",
       "      <td>0.16</td>\n",
       "      <td>0.052</td>\n",
       "      <td>4</td>\n",
       "      <td>64</td>\n",
       "      <td>{'model__n_estimators': 4, 'pca__n_components'...</td>\n",
       "      <td>0.5</td>\n",
       "      <td>0.5</td>\n",
       "      <td>0.5</td>\n",
       "      <td>0.5</td>\n",
       "      <td>0.5</td>\n",
       "      <td>0.5</td>\n",
       "      <td>0.0018</td>\n",
       "      <td>4</td>\n",
       "    </tr>\n",
       "    <tr>\n",
       "      <th>4</th>\n",
       "      <td>7.1</td>\n",
       "      <td>0.48</td>\n",
       "      <td>0.13</td>\n",
       "      <td>0.054</td>\n",
       "      <td>8</td>\n",
       "      <td>8</td>\n",
       "      <td>{'model__n_estimators': 8, 'pca__n_components'...</td>\n",
       "      <td>0.5</td>\n",
       "      <td>0.5</td>\n",
       "      <td>0.5</td>\n",
       "      <td>0.5</td>\n",
       "      <td>0.5</td>\n",
       "      <td>0.5</td>\n",
       "      <td>0.0013</td>\n",
       "      <td>8</td>\n",
       "    </tr>\n",
       "    <tr>\n",
       "      <th>5</th>\n",
       "      <td>10</td>\n",
       "      <td>0.28</td>\n",
       "      <td>0.12</td>\n",
       "      <td>0.023</td>\n",
       "      <td>8</td>\n",
       "      <td>16</td>\n",
       "      <td>{'model__n_estimators': 8, 'pca__n_components'...</td>\n",
       "      <td>0.5</td>\n",
       "      <td>0.5</td>\n",
       "      <td>0.5</td>\n",
       "      <td>0.5</td>\n",
       "      <td>0.5</td>\n",
       "      <td>0.5</td>\n",
       "      <td>0.00095</td>\n",
       "      <td>5</td>\n",
       "    </tr>\n",
       "    <tr>\n",
       "      <th>6</th>\n",
       "      <td>13</td>\n",
       "      <td>0.63</td>\n",
       "      <td>0.13</td>\n",
       "      <td>0.013</td>\n",
       "      <td>8</td>\n",
       "      <td>32</td>\n",
       "      <td>{'model__n_estimators': 8, 'pca__n_components'...</td>\n",
       "      <td>0.5</td>\n",
       "      <td>0.5</td>\n",
       "      <td>0.5</td>\n",
       "      <td>0.5</td>\n",
       "      <td>0.5</td>\n",
       "      <td>0.5</td>\n",
       "      <td>0.00089</td>\n",
       "      <td>7</td>\n",
       "    </tr>\n",
       "    <tr>\n",
       "      <th>7</th>\n",
       "      <td>20</td>\n",
       "      <td>0.79</td>\n",
       "      <td>0.15</td>\n",
       "      <td>0.022</td>\n",
       "      <td>8</td>\n",
       "      <td>64</td>\n",
       "      <td>{'model__n_estimators': 8, 'pca__n_components'...</td>\n",
       "      <td>0.5</td>\n",
       "      <td>0.5</td>\n",
       "      <td>0.5</td>\n",
       "      <td>0.5</td>\n",
       "      <td>0.5</td>\n",
       "      <td>0.5</td>\n",
       "      <td>0.0004</td>\n",
       "      <td>6</td>\n",
       "    </tr>\n",
       "    <tr>\n",
       "      <th>8</th>\n",
       "      <td>7.8</td>\n",
       "      <td>0.33</td>\n",
       "      <td>0.15</td>\n",
       "      <td>0.013</td>\n",
       "      <td>16</td>\n",
       "      <td>8</td>\n",
       "      <td>{'model__n_estimators': 16, 'pca__n_components...</td>\n",
       "      <td>0.5</td>\n",
       "      <td>0.5</td>\n",
       "      <td>0.5</td>\n",
       "      <td>0.5</td>\n",
       "      <td>0.5</td>\n",
       "      <td>0.5</td>\n",
       "      <td>0.00049</td>\n",
       "      <td>12</td>\n",
       "    </tr>\n",
       "    <tr>\n",
       "      <th>9</th>\n",
       "      <td>18</td>\n",
       "      <td>0.55</td>\n",
       "      <td>0.2</td>\n",
       "      <td>0.032</td>\n",
       "      <td>16</td>\n",
       "      <td>16</td>\n",
       "      <td>{'model__n_estimators': 16, 'pca__n_components...</td>\n",
       "      <td>0.5</td>\n",
       "      <td>0.5</td>\n",
       "      <td>0.5</td>\n",
       "      <td>0.5</td>\n",
       "      <td>0.5</td>\n",
       "      <td>0.5</td>\n",
       "      <td>0.00046</td>\n",
       "      <td>11</td>\n",
       "    </tr>\n",
       "    <tr>\n",
       "      <th>10</th>\n",
       "      <td>24</td>\n",
       "      <td>1.2</td>\n",
       "      <td>0.21</td>\n",
       "      <td>0.086</td>\n",
       "      <td>16</td>\n",
       "      <td>32</td>\n",
       "      <td>{'model__n_estimators': 16, 'pca__n_components...</td>\n",
       "      <td>0.5</td>\n",
       "      <td>0.5</td>\n",
       "      <td>0.5</td>\n",
       "      <td>0.5</td>\n",
       "      <td>0.5</td>\n",
       "      <td>0.5</td>\n",
       "      <td>0.00042</td>\n",
       "      <td>10</td>\n",
       "    </tr>\n",
       "    <tr>\n",
       "      <th>11</th>\n",
       "      <td>45</td>\n",
       "      <td>1.7</td>\n",
       "      <td>0.22</td>\n",
       "      <td>0.022</td>\n",
       "      <td>16</td>\n",
       "      <td>64</td>\n",
       "      <td>{'model__n_estimators': 16, 'pca__n_components...</td>\n",
       "      <td>0.5</td>\n",
       "      <td>0.5</td>\n",
       "      <td>0.5</td>\n",
       "      <td>0.5</td>\n",
       "      <td>0.5</td>\n",
       "      <td>0.5</td>\n",
       "      <td>2e-05</td>\n",
       "      <td>19</td>\n",
       "    </tr>\n",
       "    <tr>\n",
       "      <th>12</th>\n",
       "      <td>18</td>\n",
       "      <td>1.2</td>\n",
       "      <td>0.31</td>\n",
       "      <td>0.04</td>\n",
       "      <td>32</td>\n",
       "      <td>8</td>\n",
       "      <td>{'model__n_estimators': 32, 'pca__n_components...</td>\n",
       "      <td>0.5</td>\n",
       "      <td>0.5</td>\n",
       "      <td>0.5</td>\n",
       "      <td>0.5</td>\n",
       "      <td>0.5</td>\n",
       "      <td>0.5</td>\n",
       "      <td>2.6e-05</td>\n",
       "      <td>20</td>\n",
       "    </tr>\n",
       "    <tr>\n",
       "      <th>13</th>\n",
       "      <td>30</td>\n",
       "      <td>1.4</td>\n",
       "      <td>0.25</td>\n",
       "      <td>0.033</td>\n",
       "      <td>32</td>\n",
       "      <td>16</td>\n",
       "      <td>{'model__n_estimators': 32, 'pca__n_components...</td>\n",
       "      <td>0.5</td>\n",
       "      <td>0.5</td>\n",
       "      <td>0.5</td>\n",
       "      <td>0.5</td>\n",
       "      <td>0.5</td>\n",
       "      <td>0.5</td>\n",
       "      <td>0.00046</td>\n",
       "      <td>9</td>\n",
       "    </tr>\n",
       "    <tr>\n",
       "      <th>14</th>\n",
       "      <td>37</td>\n",
       "      <td>1.7</td>\n",
       "      <td>0.26</td>\n",
       "      <td>0.016</td>\n",
       "      <td>32</td>\n",
       "      <td>32</td>\n",
       "      <td>{'model__n_estimators': 32, 'pca__n_components...</td>\n",
       "      <td>0.5</td>\n",
       "      <td>0.5</td>\n",
       "      <td>0.5</td>\n",
       "      <td>0.5</td>\n",
       "      <td>0.5</td>\n",
       "      <td>0.5</td>\n",
       "      <td>1.6e-05</td>\n",
       "      <td>18</td>\n",
       "    </tr>\n",
       "    <tr>\n",
       "      <th>15</th>\n",
       "      <td>70</td>\n",
       "      <td>1.1</td>\n",
       "      <td>0.32</td>\n",
       "      <td>0.043</td>\n",
       "      <td>32</td>\n",
       "      <td>64</td>\n",
       "      <td>{'model__n_estimators': 32, 'pca__n_components...</td>\n",
       "      <td>0.5</td>\n",
       "      <td>0.5</td>\n",
       "      <td>0.5</td>\n",
       "      <td>0.5</td>\n",
       "      <td>0.5</td>\n",
       "      <td>0.5</td>\n",
       "      <td>0</td>\n",
       "      <td>13</td>\n",
       "    </tr>\n",
       "    <tr>\n",
       "      <th>16</th>\n",
       "      <td>26</td>\n",
       "      <td>0.57</td>\n",
       "      <td>0.47</td>\n",
       "      <td>0.058</td>\n",
       "      <td>64</td>\n",
       "      <td>8</td>\n",
       "      <td>{'model__n_estimators': 64, 'pca__n_components...</td>\n",
       "      <td>0.5</td>\n",
       "      <td>0.5</td>\n",
       "      <td>0.5</td>\n",
       "      <td>0.5</td>\n",
       "      <td>0.5</td>\n",
       "      <td>0.5</td>\n",
       "      <td>1.6e-05</td>\n",
       "      <td>17</td>\n",
       "    </tr>\n",
       "    <tr>\n",
       "      <th>17</th>\n",
       "      <td>54</td>\n",
       "      <td>1.3</td>\n",
       "      <td>0.45</td>\n",
       "      <td>0.033</td>\n",
       "      <td>64</td>\n",
       "      <td>16</td>\n",
       "      <td>{'model__n_estimators': 64, 'pca__n_components...</td>\n",
       "      <td>0.5</td>\n",
       "      <td>0.5</td>\n",
       "      <td>0.5</td>\n",
       "      <td>0.5</td>\n",
       "      <td>0.5</td>\n",
       "      <td>0.5</td>\n",
       "      <td>0</td>\n",
       "      <td>13</td>\n",
       "    </tr>\n",
       "    <tr>\n",
       "      <th>18</th>\n",
       "      <td>73</td>\n",
       "      <td>2.2</td>\n",
       "      <td>0.53</td>\n",
       "      <td>0.14</td>\n",
       "      <td>64</td>\n",
       "      <td>32</td>\n",
       "      <td>{'model__n_estimators': 64, 'pca__n_components...</td>\n",
       "      <td>0.5</td>\n",
       "      <td>0.5</td>\n",
       "      <td>0.5</td>\n",
       "      <td>0.5</td>\n",
       "      <td>0.5</td>\n",
       "      <td>0.5</td>\n",
       "      <td>0</td>\n",
       "      <td>13</td>\n",
       "    </tr>\n",
       "    <tr>\n",
       "      <th>19</th>\n",
       "      <td>1.1e+02</td>\n",
       "      <td>8.8</td>\n",
       "      <td>0.28</td>\n",
       "      <td>0.047</td>\n",
       "      <td>64</td>\n",
       "      <td>64</td>\n",
       "      <td>{'model__n_estimators': 64, 'pca__n_components...</td>\n",
       "      <td>0.5</td>\n",
       "      <td>0.5</td>\n",
       "      <td>0.5</td>\n",
       "      <td>0.5</td>\n",
       "      <td>0.5</td>\n",
       "      <td>0.5</td>\n",
       "      <td>0</td>\n",
       "      <td>13</td>\n",
       "    </tr>\n",
       "  </tbody>\n",
       "</table>\n",
       "</div>"
      ],
      "text/plain": [
       "    mean_fit_time  std_fit_time  mean_score_time  std_score_time  \\\n",
       "0             7.9          0.65             0.12           0.011   \n",
       "1              10           1.9             0.12           0.039   \n",
       "2             9.8           1.3             0.31            0.14   \n",
       "3              20          0.61             0.16           0.052   \n",
       "4             7.1          0.48             0.13           0.054   \n",
       "5              10          0.28             0.12           0.023   \n",
       "6              13          0.63             0.13           0.013   \n",
       "7              20          0.79             0.15           0.022   \n",
       "8             7.8          0.33             0.15           0.013   \n",
       "9              18          0.55              0.2           0.032   \n",
       "10             24           1.2             0.21           0.086   \n",
       "11             45           1.7             0.22           0.022   \n",
       "12             18           1.2             0.31            0.04   \n",
       "13             30           1.4             0.25           0.033   \n",
       "14             37           1.7             0.26           0.016   \n",
       "15             70           1.1             0.32           0.043   \n",
       "16             26          0.57             0.47           0.058   \n",
       "17             54           1.3             0.45           0.033   \n",
       "18             73           2.2             0.53            0.14   \n",
       "19        1.1e+02           8.8             0.28           0.047   \n",
       "\n",
       "   param_model__n_estimators param_pca__n_components  \\\n",
       "0                          4                       8   \n",
       "1                          4                      16   \n",
       "2                          4                      32   \n",
       "3                          4                      64   \n",
       "4                          8                       8   \n",
       "5                          8                      16   \n",
       "6                          8                      32   \n",
       "7                          8                      64   \n",
       "8                         16                       8   \n",
       "9                         16                      16   \n",
       "10                        16                      32   \n",
       "11                        16                      64   \n",
       "12                        32                       8   \n",
       "13                        32                      16   \n",
       "14                        32                      32   \n",
       "15                        32                      64   \n",
       "16                        64                       8   \n",
       "17                        64                      16   \n",
       "18                        64                      32   \n",
       "19                        64                      64   \n",
       "\n",
       "                                               params  split0_test_score  \\\n",
       "0   {'model__n_estimators': 4, 'pca__n_components'...                0.5   \n",
       "1   {'model__n_estimators': 4, 'pca__n_components'...                0.5   \n",
       "2   {'model__n_estimators': 4, 'pca__n_components'...                0.5   \n",
       "3   {'model__n_estimators': 4, 'pca__n_components'...                0.5   \n",
       "4   {'model__n_estimators': 8, 'pca__n_components'...                0.5   \n",
       "5   {'model__n_estimators': 8, 'pca__n_components'...                0.5   \n",
       "6   {'model__n_estimators': 8, 'pca__n_components'...                0.5   \n",
       "7   {'model__n_estimators': 8, 'pca__n_components'...                0.5   \n",
       "8   {'model__n_estimators': 16, 'pca__n_components...                0.5   \n",
       "9   {'model__n_estimators': 16, 'pca__n_components...                0.5   \n",
       "10  {'model__n_estimators': 16, 'pca__n_components...                0.5   \n",
       "11  {'model__n_estimators': 16, 'pca__n_components...                0.5   \n",
       "12  {'model__n_estimators': 32, 'pca__n_components...                0.5   \n",
       "13  {'model__n_estimators': 32, 'pca__n_components...                0.5   \n",
       "14  {'model__n_estimators': 32, 'pca__n_components...                0.5   \n",
       "15  {'model__n_estimators': 32, 'pca__n_components...                0.5   \n",
       "16  {'model__n_estimators': 64, 'pca__n_components...                0.5   \n",
       "17  {'model__n_estimators': 64, 'pca__n_components...                0.5   \n",
       "18  {'model__n_estimators': 64, 'pca__n_components...                0.5   \n",
       "19  {'model__n_estimators': 64, 'pca__n_components...                0.5   \n",
       "\n",
       "    split1_test_score  split2_test_score  split3_test_score  \\\n",
       "0                 0.5                0.5                0.5   \n",
       "1                 0.5                0.5                0.5   \n",
       "2                 0.5                0.5                0.5   \n",
       "3                 0.5                0.5                0.5   \n",
       "4                 0.5                0.5                0.5   \n",
       "5                 0.5                0.5                0.5   \n",
       "6                 0.5                0.5                0.5   \n",
       "7                 0.5                0.5                0.5   \n",
       "8                 0.5                0.5                0.5   \n",
       "9                 0.5                0.5                0.5   \n",
       "10                0.5                0.5                0.5   \n",
       "11                0.5                0.5                0.5   \n",
       "12                0.5                0.5                0.5   \n",
       "13                0.5                0.5                0.5   \n",
       "14                0.5                0.5                0.5   \n",
       "15                0.5                0.5                0.5   \n",
       "16                0.5                0.5                0.5   \n",
       "17                0.5                0.5                0.5   \n",
       "18                0.5                0.5                0.5   \n",
       "19                0.5                0.5                0.5   \n",
       "\n",
       "    split4_test_score  mean_test_score  std_test_score  rank_test_score  \n",
       "0                 0.5              0.5          0.0014                2  \n",
       "1                 0.5              0.5          0.0014                1  \n",
       "2                 0.5              0.5          0.0014                3  \n",
       "3                 0.5              0.5          0.0018                4  \n",
       "4                 0.5              0.5          0.0013                8  \n",
       "5                 0.5              0.5         0.00095                5  \n",
       "6                 0.5              0.5         0.00089                7  \n",
       "7                 0.5              0.5          0.0004                6  \n",
       "8                 0.5              0.5         0.00049               12  \n",
       "9                 0.5              0.5         0.00046               11  \n",
       "10                0.5              0.5         0.00042               10  \n",
       "11                0.5              0.5           2e-05               19  \n",
       "12                0.5              0.5         2.6e-05               20  \n",
       "13                0.5              0.5         0.00046                9  \n",
       "14                0.5              0.5         1.6e-05               18  \n",
       "15                0.5              0.5               0               13  \n",
       "16                0.5              0.5         1.6e-05               17  \n",
       "17                0.5              0.5               0               13  \n",
       "18                0.5              0.5               0               13  \n",
       "19                0.5              0.5               0               13  "
      ]
     },
     "metadata": {},
     "output_type": "display_data"
    }
   ],
   "source": [
    "print(f\"Best parameter (CV score: {CV_RFC_OHE .best_score_:.3f})\")\n",
    "print(CV_RFC_OHE.best_params_)\n",
    "cv_results_df = pd.DataFrame(CV_RFC_OHE .cv_results_)\n",
    "with pd.option_context(\"display.float_format\", \"{:.2g}\".format):\n",
    "    display(cv_results_df)"
   ]
  },
  {
   "cell_type": "markdown",
   "metadata": {
    "id": "YhUUQlTq2r11",
    "tags": []
   },
   "source": [
    "* **For 2 of the models** (at least 1 other than the proposed baseline):\n",
    "\n",
    "    * For different values of one of the hyperparameters, give the average `balanced_accuracy` of the cross-validation in the form of Boxplots (or bar graph with an error bar): see the example presented in the graph below.\n",
    "    \n",
    "    * Briefly explain what observations to draw concerning the stability of the predictions.\n",
    "\n",
    "![](img/boxplot-cv.png)"
   ]
  },
  {
   "cell_type": "code",
   "execution_count": 76,
   "metadata": {},
   "outputs": [
    {
     "data": {
      "image/png": "[encoded data removed]",
      "text/plain": [
       "<Figure size 640x480 with 1 Axes>"
      ]
     },
     "metadata": {},
     "output_type": "display_data"
    }
   ],
   "source": [
    "param = CV_GNB_OHE.cv_results_[\"param_pca__n_components\"]\n",
    "\n",
    "plt.bar(\n",
    "    CV_GNB_OHE.cv_results_[\"param_pca__n_components\"],\n",
    "    CV_GNB_OHE.cv_results_[\"mean_test_score\"],\n",
    "    yerr=CV_GNB_OHE.cv_results_[\"std_test_score\"],\n",
    "    width=0.8\n",
    "    * np.diff(CV_GNB_OHE.cv_results_[\"param_pca__n_components\"].data, prepend=0),\n",
    ")\n",
    "plt.show()"
   ]
  },
  {
   "cell_type": "code",
   "execution_count": 83,
   "metadata": {},
   "outputs": [
    {
     "data": {
      "image/png": "[encoded data removed]",
      "text/plain": [
       "<Figure size 640x480 with 1 Axes>"
      ]
     },
     "metadata": {},
     "output_type": "display_data"
    }
   ],
   "source": [
    "# Plot a bar plot (or boxplot) showing the different prediction scores\n",
    "# for each tested hyperparameter\n",
    "# (including the error bars if bar plots are chosen)\n",
    "\n",
    "param = CV_RFC_OHE.cv_results_[\"param_pca__n_components\"]\n",
    "\n",
    "plt.bar(\n",
    "    CV_RFC_OHE.cv_results_[\"param_pca__n_components\"],\n",
    "    CV_RFC_OHE.cv_results_[\"mean_test_score\"],\n",
    "    yerr=CV_RFC_OHE.cv_results_[\"std_test_score\"],\n",
    "    width=6\n",
    "    #* np.diff(CV_RFC_OHE.cv_results_[\"param_pca__n_components\"].data, prepend=0),\n",
    ")\n",
    "plt.show()"
   ]
  },
  {
   "cell_type": "markdown",
   "metadata": {
    "id": "bySiQdTN2r11",
    "tags": []
   },
   "source": [
    "* **For each of these 2 models, from the validation data created previously** (`x_valid`,` y_valid`):\n",
    "\n",
    "    * Measure the area under the ROC curve (AUC) using the Scikit-Learn (`roc_auc_score`) function and compare the models with their respective combination of hyperparameters giving the best result."
   ]
  },
  {
   "cell_type": "code",
   "execution_count": 85,
   "metadata": {},
   "outputs": [
    {
     "name": "stdout",
     "output_type": "stream",
     "text": [
      "AUC for GNB model: 0.6666022981734077\n",
      "AUC for RFC model: 0.5521822828449784\n"
     ]
    }
   ],
   "source": [
    "from sklearn.metrics import roc_auc_score\n",
    "\n",
    "data_x_valid = processData(\"onehot\", x_valid_CV)\n",
    "data_x_valid_gnb= decomposition.PCA(CV_GNB_OHE.best_params_[\"pca__n_components\"]).fit_transform(data_x_valid)\n",
    "model_gnb_cv_rocauc= GaussianNB().fit(decomposition.PCA(CV_GNB_OHE.best_params_[\"pca__n_components\"]).fit_transform(processData(\"onehot\",x_train_CV)), y_train_CV)\n",
    "gnb_roc_auc = roc_auc_score(y_valid_CV, model_gnb_cv_rocauc.predict_proba(data_x_valid_gnb)[:, 1])\n",
    "\n",
    "data_x_valid_rfc= decomposition.PCA(CV_RFC_OHE.best_params_[\"pca__n_components\"]).fit_transform(data_x_valid)\n",
    "model_RFC_cv_rocauc = ensemble.RandomForestClassifier(n_estimators=CV_RFC_OHE.best_params_[\"model__n_estimators\"]).fit(decomposition.PCA(CV_RFC_OHE.best_params_[\"pca__n_components\"]).fit_transform(processData(\"onehot\",x_train_CV)), y_train_CV)\n",
    "rfc_roc_auc = roc_auc_score(y_valid_CV, model_RFC_cv_rocauc.predict_proba(data_x_valid_rfc)[:, 1])\n",
    "\n",
    "print(\"AUC for GNB model:\",gnb_roc_auc)\n",
    "print(\"AUC for RFC model:\",rfc_roc_auc)\n"
   ]
  },
  {
   "cell_type": "markdown",
   "metadata": {
    "id": "_-aS0ecm2r11",
    "tags": []
   },
   "source": [
    "* **For the model and its combination of hyperparameters offering the best result**:\n",
    "\n",
    "    * Present the confusion matrix and describe it succinctly."
   ]
  },
  {
   "cell_type": "code",
   "execution_count": 86,
   "metadata": {},
   "outputs": [
    {
     "data": {
      "image/png": "[encoded data removed]",
      "text/plain": [
       "<Figure size 640x480 with 2 Axes>"
      ]
     },
     "metadata": {},
     "output_type": "display_data"
    }
   ],
   "source": [
    "\n",
    "disp = metrics.ConfusionMatrixDisplay.from_estimator(\n",
    "    model_gnb_cv_rocauc, data_x_valid_gnb, y_valid_CV, cmap=plt.cm.Blues\n",
    ")\n",
    "disp.figure_.suptitle(\"Confusion Matrix\")\n",
    "plt.show()"
   ]
  },
  {
   "cell_type": "markdown",
   "metadata": {
    "id": "yqP0OeMi2r11"
   },
   "source": [
    "### Code: Try to improve your score\n",
    "\n",
    "* Data augmentation (optional)\n",
    "\n",
    "Given the imbalance between the classes to predict (survive, died), we can hope to improve the score by rebalancing them. A typical approach is through data generation. One of the generation methods is [SMOTE](https://en.wikipedia.org/wiki/Oversampling_and_undersampling_in_data_analysis#SMOTE). For instance, it is implemented in the `imblearn` library.\n",
    "\n",
    "`imblearn` was developed to fit the `sklearn` API.\n",
    "In particular, it offers a version of the `pipeline` which allows integration with `sklearn`."
   ]
  },
  {
   "cell_type": "code",
   "execution_count": null,
   "metadata": {
    "colab": {
     "base_uri": "https://localhost:8080/"
    },
    "id": "sAKPvvM3iWBX",
    "outputId": "01738200-e1e6-4a49-e5d2-686f59cf5469"
   },
   "outputs": [
    {
     "data": {
      "text/plain": [
       "0    77202\n",
       "1     2797\n",
       "dtype: int64"
      ]
     },
     "execution_count": 65,
     "metadata": {},
     "output_type": "execute_result"
    }
   ],
   "source": [
    "ys.value_counts()"
   ]
  },
  {
   "cell_type": "code",
   "execution_count": null,
   "metadata": {
    "id": "hQ5lSERKiVYZ"
   },
   "outputs": [],
   "source": [
    "# to improve the score we have to deal with imbalanced dataset\n",
    "from imblearn.under_sampling import RandomUnderSampler\n",
    "\n",
    "# First, let us try under-sampling the larger group\n",
    "undersample = RandomUnderSampler(sampling_strategy='majority')\n",
    "# fit and apply the transform\n",
    "x_under, y_under = undersample.fit_resample(x_train, y_train)"
   ]
  },
  {
   "cell_type": "code",
   "execution_count": null,
   "metadata": {
    "colab": {
     "base_uri": "https://localhost:8080/"
    },
    "id": "_WueUamIlE5-",
    "outputId": "18e4979e-81be-4b95-ed0c-619eb93b339f"
   },
   "outputs": [
    {
     "name": "stdout",
     "output_type": "stream",
     "text": [
      "(4414, 10) (4414,)\n"
     ]
    }
   ],
   "source": [
    "print(np.shape(x_under),np.shape(y_under))"
   ]
  },
  {
   "cell_type": "code",
   "execution_count": null,
   "metadata": {
    "colab": {
     "base_uri": "https://localhost:8080/"
    },
    "id": "rGerwuG5lUru",
    "outputId": "20bc142c-2a69-42ea-fdee-99d36f704ffd"
   },
   "outputs": [
    {
     "name": "stdout",
     "output_type": "stream",
     "text": [
      "Balanced accuracy score: 0.598\n"
     ]
    }
   ],
   "source": [
    "# random forest\n",
    "model_rf_under = ensemble.RandomForestClassifier(n_estimators=10)\n",
    "model_rf_under.fit(x_under, y_under)  # training\n",
    "\n",
    "# random forest\n",
    "y_pred_rf_under = model_rf_under.predict(x_valid)  # predictions\n",
    "\n",
    "score_under = metrics.balanced_accuracy_score(y_valid, y_pred_rf_under)  # scoring\n",
    "\n",
    "print(f\"Balanced accuracy score: {score_under:.3g}\")"
   ]
  },
  {
   "cell_type": "code",
   "execution_count": null,
   "metadata": {},
   "outputs": [
    {
     "name": "stdout",
     "output_type": "stream",
     "text": [
      "Balanced accuracy score: 0.66\n"
     ]
    }
   ],
   "source": [
    "# SVM\n",
    "model_SVM_under = svm.SVC()\n",
    "model_SVM_under.fit(x_under, y_under)\n",
    "\n",
    "# SVM\n",
    "y_pred_SVM_under = model_SVM_under.predict(x_valid)  # predictions\n",
    "\n",
    "score_SVM_under = metrics.balanced_accuracy_score(y_valid, y_pred_SVM_under)  # scoring\n",
    "\n",
    "print(f\"Balanced accuracy score: {score_SVM_under:.3g}\")"
   ]
  },
  {
   "cell_type": "code",
   "execution_count": null,
   "metadata": {},
   "outputs": [
    {
     "data": {
      "text/plain": [
       "(4414, 10)"
      ]
     },
     "execution_count": 70,
     "metadata": {},
     "output_type": "execute_result"
    }
   ],
   "source": [
    "x_under.shape"
   ]
  },
  {
   "cell_type": "code",
   "execution_count": null,
   "metadata": {
    "colab": {
     "base_uri": "https://localhost:8080/"
    },
    "id": "u1Zv7vWLmE6P",
    "outputId": "ce267820-7354-4437-b2a6-5b07c57a81e4"
   },
   "outputs": [
    {
     "name": "stdout",
     "output_type": "stream",
     "text": [
      "Balanced accuracy score: 0.643\n"
     ]
    }
   ],
   "source": [
    "# GaussianNB\n",
    "model_gnb_under = GaussianNB()\n",
    "model_gnb_under.fit(x_under, y_under)\n",
    "\n",
    "\n",
    "y_pred_gnb_under = model_gnb_under.predict(x_valid)  # predictions\n",
    "\n",
    "score_gnb_under = metrics.balanced_accuracy_score(y_valid, y_pred_gnb_under)  # scoring\n",
    "\n",
    "print(f\"Balanced accuracy score: {score_gnb_under:.3g}\")"
   ]
  },
  {
   "cell_type": "code",
   "execution_count": null,
   "metadata": {
    "id": "1ylzZVcjni9Y"
   },
   "outputs": [],
   "source": [
    "# Let us try over-sampling\n",
    "from imblearn.over_sampling import RandomOverSampler\n",
    "from imblearn.over_sampling import SMOTE\n",
    "# fit and apply the transform\n",
    "sm = SMOTE(random_state=42)\n",
    "x_over, y_over = sm.fit_resample(x_train, y_train)\n"
   ]
  },
  {
   "cell_type": "code",
   "execution_count": null,
   "metadata": {
    "colab": {
     "base_uri": "https://localhost:8080/"
    },
    "id": "sEggBiLnnjCD",
    "outputId": "f234949b-5e41-4b2e-abe0-53260c9850f4"
   },
   "outputs": [
    {
     "name": "stdout",
     "output_type": "stream",
     "text": [
      "(123584, 10) (123584,)\n"
     ]
    }
   ],
   "source": [
    "print(np.shape(x_over),np.shape(y_over))"
   ]
  },
  {
   "cell_type": "code",
   "execution_count": null,
   "metadata": {
    "colab": {
     "base_uri": "https://localhost:8080/"
    },
    "id": "KPtEs0ffnjFj",
    "outputId": "8a681084-371c-4f80-deef-07e5e601c958"
   },
   "outputs": [
    {
     "name": "stdout",
     "output_type": "stream",
     "text": [
      "Balanced accuracy score: 0.53\n"
     ]
    }
   ],
   "source": [
    "# random forest\n",
    "model_rf_over = ensemble.RandomForestClassifier(n_estimators=10)\n",
    "model_rf_over.fit(x_over, y_over)  # training\n",
    "\n",
    "# random forest\n",
    "y_pred_rf_over = model_rf_over.predict(x_valid)  # predictions\n",
    "\n",
    "score_over = metrics.balanced_accuracy_score(y_valid, y_pred_rf_over)  # scoring\n",
    "\n",
    "print(f\"Balanced accuracy score: {score_over:.3g}\")"
   ]
  },
  {
   "cell_type": "code",
   "execution_count": null,
   "metadata": {
    "colab": {
     "base_uri": "https://localhost:8080/"
    },
    "id": "q1r89hYLnjIf",
    "outputId": "fc5ecbe4-8a60-4a03-a9f6-abd8bc0a1e87"
   },
   "outputs": [
    {
     "name": "stdout",
     "output_type": "stream",
     "text": [
      "Balanced accuracy score: 0.598\n"
     ]
    }
   ],
   "source": [
    "# SVM\n",
    "model_SVM_over = svm.SVC()\n",
    "model_SVM_over.fit(x_over, y_over)\n",
    "\n",
    "# SVM\n",
    "y_pred_SVM_over = model_SVM_over.predict(x_valid)  # predictions\n",
    "\n",
    "score_SVM_over = metrics.balanced_accuracy_score(y_valid, y_pred_SVM_over)  # scoring\n",
    "\n",
    "print(f\"Balanced accuracy score: {score_SVM_over:.3g}\")"
   ]
  },
  {
   "cell_type": "code",
   "execution_count": null,
   "metadata": {
    "colab": {
     "base_uri": "https://localhost:8080/"
    },
    "id": "ncSR8xhBpQy6",
    "outputId": "bcd6a750-b1f6-423e-9ecc-d1b4c3c42811"
   },
   "outputs": [
    {
     "name": "stdout",
     "output_type": "stream",
     "text": [
      "Balanced accuracy score: 0.608\n"
     ]
    }
   ],
   "source": [
    "# GaussianNB\n",
    "model_gnb_over = GaussianNB()\n",
    "model_gnb_over.fit(x_over, y_over)\n",
    "\n",
    "\n",
    "y_pred_gnb_over = model_gnb_over.predict(x_valid)  # predictions\n",
    "\n",
    "score_gnb_over = metrics.balanced_accuracy_score(y_valid, y_pred_gnb_over)  # scoring\n",
    "\n",
    "print(f\"Balanced accuracy score: {score_gnb_over:.3g}\")"
   ]
  },
  {
   "cell_type": "markdown",
   "metadata": {
    "id": "989bxJbK2r11"
   },
   "source": [
    "### Explanation of what you have achieved, conclusion and perspectives"
   ]
  },
  {
   "cell_type": "markdown",
   "metadata": {
    "id": "WF3LxhF22r11"
   },
   "source": [
    "Start by giving your best result obtained during your submissions\n",
    "\n",
    "Explain the path that led you there\n",
    "\n",
    "* What you tried:\n",
    "    * What worked\n",
    "    * What didn't work and how you fixed it\n",
    "* What method did you use to choose the hyperparameters?\n",
    "* Compare the training time of the main models you used?\n",
    "\n",
    "What would you have done if you had had more time?"
   ]
  },
  {
   "cell_type": "markdown",
   "metadata": {
    "id": "cq3Y1CWs2r12"
   },
   "source": [
    "## 7. Save the model predictions\n",
    "\n",
    "* Use the following code to make predictions and to save them as a ZIP file\n",
    "* Submit this ZIP file to [the challenge site](https://codalab.lisn.upsaclay.fr/competitions/328#participate-submit_results)\n",
    "(`Participate > Submit/View Results > Submit`)\n",
    "* The number of submissions is **limited** to **3 per day** and **30 in total!**\n",
    "* Try your best to be the ***first on the leaderboard!***"
   ]
  },
  {
   "cell_type": "markdown",
   "metadata": {
    "id": "YQcdvbWn2r12"
   },
   "source": [
    "<span style=\"color:red\">\n",
    "    !! Do not forget to modify the command of the prediction according to the data and models chosen !!\n",
    "</span>\n",
    "\n",
    "E.g.:\n",
    "\n",
    "* Data: `x_test_df` or `x_baseline_test_df`\n",
    "\n",
    "* Model : `model` or `search` (e.g., for `GridSearchCV`)"
   ]
  },
  {
   "cell_type": "code",
   "execution_count": null,
   "metadata": {
    "execution": {
     "iopub.execute_input": "2022-12-29T14:06:40.792499Z",
     "iopub.status.busy": "2022-12-29T14:06:40.791456Z",
     "iopub.status.idle": "2022-12-29T14:06:41.044801Z",
     "shell.execute_reply": "2022-12-29T14:06:41.043480Z",
     "shell.execute_reply.started": "2022-12-29T14:06:40.792458Z"
    },
    "id": "pPgiWXBp2r13",
    "outputId": "c2b61e54-3d06-428f-dc39-1b4ca6c0dcdf"
   },
   "outputs": [
    {
     "name": "stdout",
     "output_type": "stream",
     "text": [
      "The submission is ready: Submissions\\submission_2023-01-02T11-16-36.zip\n"
     ]
    }
   ],
   "source": [
    "testData = decomposition.PCA(n_components=10).fit_transform(processData(\"onehot\", x_test_df))\n",
    "predictions = model_SVM_under.predict(testData)\n",
    "\n",
    "#predictions = model_gnb.predict(x_test_df)  # compute predictions\n",
    "\n",
    "PRED_PATH.mkdir(parents=True, exist_ok=True)\n",
    "\n",
    "t_stamp = datetime.now().strftime(\"%Y-%m-%dT%H-%M-%S\")\n",
    "submission_fp = PRED_PATH / f\"submission_{t_stamp}.zip\"\n",
    "\n",
    "pred_fname = \"mimic_synthetic_test.csv\"\n",
    "compr_opts = dict(method=\"zip\", archive_name=pred_fname)\n",
    "\n",
    "pd.Series(predictions).to_csv(\n",
    "    submission_fp, compression=compr_opts, index=False, header=False\n",
    ")\n",
    "\n",
    "print(f\"The submission is ready: {submission_fp}\")"
   ]
  },
  {
   "cell_type": "markdown",
   "metadata": {
    "id": "IXu2zmW82r13"
   },
   "source": [
    "---"
   ]
  },
  {
   "cell_type": "markdown",
   "metadata": {
    "id": "k3EBV_Kv2r13"
   },
   "source": [
    "# Note on the dataset\n",
    "\n",
    "The dataset does not contain actual medical data. It is not allowed to share these **confidential data** from ICU patients. To avoid this problem, the data have been replaced with **artificial data**.\n",
    "\n",
    "To have credible data, they were generated using a generative adversarial network (**GAN**) Wasserstein.\n",
    "\n",
    "For more information: <br/>\n",
    "Andrew Yale, Saloni Dash, Ritik Dutta, Isabelle Guyon, Adrien Pavao, et al. [Privacy Preserving Synthetic Health Data](https://hal.inria.fr/hal-02160496/document). ESANN 2019 - European Symposium on Artificial Neural Networks, Computational Intelligence and Machine Learning, Apr 2019, Bruges, Belgium."
   ]
  },
  {
   "cell_type": "markdown",
   "metadata": {
    "id": "E1j4pzEK2r13"
   },
   "source": [
    "---"
   ]
  }
 ],
 "metadata": {
  "kernelspec": {
   "display_name": "Python 3 (ipykernel)",
   "language": "python",
   "name": "python3"
  },
  "language_info": {
   "codemirror_mode": {
    "name": "ipython",
    "version": 3
   },
   "file_extension": ".py",
   "mimetype": "text/x-python",
   "name": "python",
   "nbconvert_exporter": "python",
   "pygments_lexer": "ipython3",
   "version": "3.9.12"
  },
  "vscode": {
   "interpreter": {
    "hash": "d9e76c1e49b899298af97003d3c1d674f8bbe32c2b68f54707634978c08ea076"
   }
  }
 },
 "nbformat": 4,
 "nbformat_minor": 4
}
